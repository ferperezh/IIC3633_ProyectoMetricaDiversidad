{
  "cells": [
    {
      "cell_type": "markdown",
      "metadata": {
        "id": "view-in-github",
        "colab_type": "text"
      },
      "source": [
        "<a href=\"https://colab.research.google.com/github/ferperezh/IIC3633_ProyectoMetricaDiversidad/blob/main/restaurante/restaurante_metrica_diversidad.ipynb\" target=\"_parent\"><img src=\"https://colab.research.google.com/assets/colab-badge.svg\" alt=\"Open In Colab\"/></a>"
      ]
    },
    {
      "cell_type": "markdown",
      "id": "958a07b8",
      "metadata": {
        "id": "958a07b8"
      },
      "source": [
        "# Métrica Diversidad de Usuario en los Restaurante\n",
        "\n",
        "Importa los datos ya procesados de los restuarantes primero debes subir el archivo llamado `data_restaurante_user_filtrado.zip` y descomprimirlo. Luego obtenemos la tabla de los usuarios con ratings y con generos.\n"
      ]
    },
    {
      "cell_type": "code",
      "source": [
        "# Instalar gdown si no está disponible\n",
        "!pip install gdown"
      ],
      "metadata": {
        "colab": {
          "base_uri": "https://localhost:8080/"
        },
        "id": "hLfvEj1pqOYn",
        "outputId": "dbdb65be-dbed-40fc-f139-dc7e7e0edca5"
      },
      "id": "hLfvEj1pqOYn",
      "execution_count": 2,
      "outputs": [
        {
          "output_type": "stream",
          "name": "stdout",
          "text": [
            "Requirement already satisfied: gdown in /usr/local/lib/python3.10/dist-packages (5.2.0)\n",
            "Requirement already satisfied: beautifulsoup4 in /usr/local/lib/python3.10/dist-packages (from gdown) (4.12.3)\n",
            "Requirement already satisfied: filelock in /usr/local/lib/python3.10/dist-packages (from gdown) (3.16.1)\n",
            "Requirement already satisfied: requests[socks] in /usr/local/lib/python3.10/dist-packages (from gdown) (2.32.3)\n",
            "Requirement already satisfied: tqdm in /usr/local/lib/python3.10/dist-packages (from gdown) (4.66.6)\n",
            "Requirement already satisfied: soupsieve>1.2 in /usr/local/lib/python3.10/dist-packages (from beautifulsoup4->gdown) (2.6)\n",
            "Requirement already satisfied: charset-normalizer<4,>=2 in /usr/local/lib/python3.10/dist-packages (from requests[socks]->gdown) (3.4.0)\n",
            "Requirement already satisfied: idna<4,>=2.5 in /usr/local/lib/python3.10/dist-packages (from requests[socks]->gdown) (3.10)\n",
            "Requirement already satisfied: urllib3<3,>=1.21.1 in /usr/local/lib/python3.10/dist-packages (from requests[socks]->gdown) (2.2.3)\n",
            "Requirement already satisfied: certifi>=2017.4.17 in /usr/local/lib/python3.10/dist-packages (from requests[socks]->gdown) (2024.8.30)\n",
            "Requirement already satisfied: PySocks!=1.5.7,>=1.5.6 in /usr/local/lib/python3.10/dist-packages (from requests[socks]->gdown) (1.7.1)\n"
          ]
        }
      ]
    },
    {
      "cell_type": "code",
      "source": [
        "!pip install fastFM\n",
        "!pip install tensorflow"
      ],
      "metadata": {
        "id": "jiNBMM3g00y9",
        "outputId": "70ab99ec-25be-4669-bb0e-5b118fb29dcf",
        "colab": {
          "base_uri": "https://localhost:8080/"
        }
      },
      "id": "jiNBMM3g00y9",
      "execution_count": 20,
      "outputs": [
        {
          "output_type": "stream",
          "name": "stdout",
          "text": [
            "Collecting fastFM\n",
            "  Downloading fastFM-0.2.10.tar.gz (1.6 MB)\n",
            "\u001b[2K     \u001b[90m━━━━━━━━━━━━━━━━━━━━━━━━━━━━━━━━━━━━━━━━\u001b[0m \u001b[32m1.6/1.6 MB\u001b[0m \u001b[31m25.4 MB/s\u001b[0m eta \u001b[36m0:00:00\u001b[0m\n",
            "\u001b[?25h  Preparing metadata (setup.py) ... \u001b[?25l\u001b[?25hdone\n",
            "Requirement already satisfied: numpy in /usr/local/lib/python3.10/dist-packages (from fastFM) (1.26.4)\n",
            "Requirement already satisfied: scikit-learn in /usr/local/lib/python3.10/dist-packages (from fastFM) (1.5.2)\n",
            "Requirement already satisfied: scipy in /usr/local/lib/python3.10/dist-packages (from fastFM) (1.13.1)\n",
            "Requirement already satisfied: cython in /usr/local/lib/python3.10/dist-packages (from fastFM) (3.0.11)\n",
            "Requirement already satisfied: joblib>=1.2.0 in /usr/local/lib/python3.10/dist-packages (from scikit-learn->fastFM) (1.4.2)\n",
            "Requirement already satisfied: threadpoolctl>=3.1.0 in /usr/local/lib/python3.10/dist-packages (from scikit-learn->fastFM) (3.5.0)\n",
            "Building wheels for collected packages: fastFM\n",
            "  Building wheel for fastFM (setup.py) ... \u001b[?25l\u001b[?25hdone\n",
            "  Created wheel for fastFM: filename=fastFM-0.2.10-cp310-cp310-linux_x86_64.whl size=591779 sha256=92f7ba568108985ec09b0bcd59dd7b9f7e87bbb84d9442d1a869a03e51d1a514\n",
            "  Stored in directory: /root/.cache/pip/wheels/93/92/52/2da7997fcb7a7ce9042ff3b33836ef0c2fd47aa95382d7a113\n",
            "Successfully built fastFM\n",
            "Installing collected packages: fastFM\n",
            "Successfully installed fastFM-0.2.10\n",
            "Requirement already satisfied: tensorflow in /usr/local/lib/python3.10/dist-packages (2.17.1)\n",
            "Requirement already satisfied: absl-py>=1.0.0 in /usr/local/lib/python3.10/dist-packages (from tensorflow) (1.4.0)\n",
            "Requirement already satisfied: astunparse>=1.6.0 in /usr/local/lib/python3.10/dist-packages (from tensorflow) (1.6.3)\n",
            "Requirement already satisfied: flatbuffers>=24.3.25 in /usr/local/lib/python3.10/dist-packages (from tensorflow) (24.3.25)\n",
            "Requirement already satisfied: gast!=0.5.0,!=0.5.1,!=0.5.2,>=0.2.1 in /usr/local/lib/python3.10/dist-packages (from tensorflow) (0.6.0)\n",
            "Requirement already satisfied: google-pasta>=0.1.1 in /usr/local/lib/python3.10/dist-packages (from tensorflow) (0.2.0)\n",
            "Requirement already satisfied: h5py>=3.10.0 in /usr/local/lib/python3.10/dist-packages (from tensorflow) (3.12.1)\n",
            "Requirement already satisfied: libclang>=13.0.0 in /usr/local/lib/python3.10/dist-packages (from tensorflow) (18.1.1)\n",
            "Requirement already satisfied: ml-dtypes<0.5.0,>=0.3.1 in /usr/local/lib/python3.10/dist-packages (from tensorflow) (0.4.1)\n",
            "Requirement already satisfied: opt-einsum>=2.3.2 in /usr/local/lib/python3.10/dist-packages (from tensorflow) (3.4.0)\n",
            "Requirement already satisfied: packaging in /usr/local/lib/python3.10/dist-packages (from tensorflow) (24.2)\n",
            "Requirement already satisfied: protobuf!=4.21.0,!=4.21.1,!=4.21.2,!=4.21.3,!=4.21.4,!=4.21.5,<5.0.0dev,>=3.20.3 in /usr/local/lib/python3.10/dist-packages (from tensorflow) (4.25.5)\n",
            "Requirement already satisfied: requests<3,>=2.21.0 in /usr/local/lib/python3.10/dist-packages (from tensorflow) (2.32.3)\n",
            "Requirement already satisfied: setuptools in /usr/local/lib/python3.10/dist-packages (from tensorflow) (75.1.0)\n",
            "Requirement already satisfied: six>=1.12.0 in /usr/local/lib/python3.10/dist-packages (from tensorflow) (1.16.0)\n",
            "Requirement already satisfied: termcolor>=1.1.0 in /usr/local/lib/python3.10/dist-packages (from tensorflow) (2.5.0)\n",
            "Requirement already satisfied: typing-extensions>=3.6.6 in /usr/local/lib/python3.10/dist-packages (from tensorflow) (4.12.2)\n",
            "Requirement already satisfied: wrapt>=1.11.0 in /usr/local/lib/python3.10/dist-packages (from tensorflow) (1.17.0)\n",
            "Requirement already satisfied: grpcio<2.0,>=1.24.3 in /usr/local/lib/python3.10/dist-packages (from tensorflow) (1.68.1)\n",
            "Requirement already satisfied: tensorboard<2.18,>=2.17 in /usr/local/lib/python3.10/dist-packages (from tensorflow) (2.17.1)\n",
            "Requirement already satisfied: keras>=3.2.0 in /usr/local/lib/python3.10/dist-packages (from tensorflow) (3.5.0)\n",
            "Requirement already satisfied: tensorflow-io-gcs-filesystem>=0.23.1 in /usr/local/lib/python3.10/dist-packages (from tensorflow) (0.37.1)\n",
            "Requirement already satisfied: numpy<2.0.0,>=1.23.5 in /usr/local/lib/python3.10/dist-packages (from tensorflow) (1.26.4)\n",
            "Requirement already satisfied: wheel<1.0,>=0.23.0 in /usr/local/lib/python3.10/dist-packages (from astunparse>=1.6.0->tensorflow) (0.45.1)\n",
            "Requirement already satisfied: rich in /usr/local/lib/python3.10/dist-packages (from keras>=3.2.0->tensorflow) (13.9.4)\n",
            "Requirement already satisfied: namex in /usr/local/lib/python3.10/dist-packages (from keras>=3.2.0->tensorflow) (0.0.8)\n",
            "Requirement already satisfied: optree in /usr/local/lib/python3.10/dist-packages (from keras>=3.2.0->tensorflow) (0.13.1)\n",
            "Requirement already satisfied: charset-normalizer<4,>=2 in /usr/local/lib/python3.10/dist-packages (from requests<3,>=2.21.0->tensorflow) (3.4.0)\n",
            "Requirement already satisfied: idna<4,>=2.5 in /usr/local/lib/python3.10/dist-packages (from requests<3,>=2.21.0->tensorflow) (3.10)\n",
            "Requirement already satisfied: urllib3<3,>=1.21.1 in /usr/local/lib/python3.10/dist-packages (from requests<3,>=2.21.0->tensorflow) (2.2.3)\n",
            "Requirement already satisfied: certifi>=2017.4.17 in /usr/local/lib/python3.10/dist-packages (from requests<3,>=2.21.0->tensorflow) (2024.8.30)\n",
            "Requirement already satisfied: markdown>=2.6.8 in /usr/local/lib/python3.10/dist-packages (from tensorboard<2.18,>=2.17->tensorflow) (3.7)\n",
            "Requirement already satisfied: tensorboard-data-server<0.8.0,>=0.7.0 in /usr/local/lib/python3.10/dist-packages (from tensorboard<2.18,>=2.17->tensorflow) (0.7.2)\n",
            "Requirement already satisfied: werkzeug>=1.0.1 in /usr/local/lib/python3.10/dist-packages (from tensorboard<2.18,>=2.17->tensorflow) (3.1.3)\n",
            "Requirement already satisfied: MarkupSafe>=2.1.1 in /usr/local/lib/python3.10/dist-packages (from werkzeug>=1.0.1->tensorboard<2.18,>=2.17->tensorflow) (3.0.2)\n",
            "Requirement already satisfied: markdown-it-py>=2.2.0 in /usr/local/lib/python3.10/dist-packages (from rich->keras>=3.2.0->tensorflow) (3.0.0)\n",
            "Requirement already satisfied: pygments<3.0.0,>=2.13.0 in /usr/local/lib/python3.10/dist-packages (from rich->keras>=3.2.0->tensorflow) (2.18.0)\n",
            "Requirement already satisfied: mdurl~=0.1 in /usr/local/lib/python3.10/dist-packages (from markdown-it-py>=2.2.0->rich->keras>=3.2.0->tensorflow) (0.1.2)\n"
          ]
        }
      ]
    },
    {
      "cell_type": "code",
      "source": [
        "# Enlace del archivo en Google Drive\n",
        "file_url = \"https://drive.google.com/uc?id=1RmqpqmpziTegxlBcs1RxsSecdVthV9qU\""
      ],
      "metadata": {
        "id": "yVyRJzKjqQ1X"
      },
      "id": "yVyRJzKjqQ1X",
      "execution_count": 3,
      "outputs": []
    },
    {
      "cell_type": "code",
      "source": [
        "# Nombre del archivo descargado\n",
        "output_name = \"data_restaurante_user_filtrado.csv\""
      ],
      "metadata": {
        "id": "waldKJ6eqTN9"
      },
      "id": "waldKJ6eqTN9",
      "execution_count": 4,
      "outputs": []
    },
    {
      "cell_type": "code",
      "source": [
        "# Descargar el archivo\n",
        "!gdown {file_url} -O {output_name}\n",
        "\n",
        "print(f\"Archivo descargado como: {output_name}\")"
      ],
      "metadata": {
        "colab": {
          "base_uri": "https://localhost:8080/"
        },
        "id": "0CIMglCHqZVG",
        "outputId": "719e1902-e785-40c5-f735-71847f700faf"
      },
      "id": "0CIMglCHqZVG",
      "execution_count": 5,
      "outputs": [
        {
          "output_type": "stream",
          "name": "stdout",
          "text": [
            "Downloading...\n",
            "From (original): https://drive.google.com/uc?id=1RmqpqmpziTegxlBcs1RxsSecdVthV9qU\n",
            "From (redirected): https://drive.google.com/uc?id=1RmqpqmpziTegxlBcs1RxsSecdVthV9qU&confirm=t&uuid=89605ee4-e865-417c-8578-e7a2bf5021d2\n",
            "To: /content/data_restaurante_user_filtrado.csv\n",
            "100% 2.21G/2.21G [00:48<00:00, 46.0MB/s]\n",
            "Archivo descargado como: data_restaurante_user_filtrado.csv\n"
          ]
        }
      ]
    },
    {
      "cell_type": "code",
      "execution_count": 6,
      "id": "nTNBvR5d_bTf",
      "metadata": {
        "colab": {
          "base_uri": "https://localhost:8080/"
        },
        "id": "nTNBvR5d_bTf",
        "outputId": "7a37bcaf-a3f5-4d5e-b1b5-a83b05f7f2fb"
      },
      "outputs": [
        {
          "output_type": "stream",
          "name": "stdout",
          "text": [
            "data_restaurante_user_filtrado.csv  sample_data\n"
          ]
        }
      ],
      "source": [
        "!ls"
      ]
    },
    {
      "cell_type": "code",
      "execution_count": 7,
      "id": "f6faad89",
      "metadata": {
        "collapsed": true,
        "id": "f6faad89"
      },
      "outputs": [],
      "source": [
        "import pandas as pd\n",
        "import numpy as np\n",
        "import matplotlib.pyplot as plt\n",
        "\n",
        "# Cargar el dataset filtrado\n",
        "data_path = 'data_restaurante_user_filtrado.csv'\n",
        "data_restaurante_user_filtrado = pd.read_csv(data_path)"
      ]
    },
    {
      "cell_type": "code",
      "source": [
        "data_restaurante_user_filtrado.head()"
      ],
      "metadata": {
        "colab": {
          "base_uri": "https://localhost:8080/",
          "height": 643
        },
        "id": "NxAVdNVSAlC7",
        "outputId": "ea8d6114-77e4-46b7-9b3e-4705836abda5",
        "collapsed": true
      },
      "id": "NxAVdNVSAlC7",
      "execution_count": 8,
      "outputs": [
        {
          "output_type": "execute_result",
          "data": {
            "text/plain": [
              "                  user_id             business_id  stars_x  \\\n",
              "0  _7bHUi9Uuf5__HHc_Q8guQ  kxX2SOes4o-D3ZQBkiMRfA      5.0   \n",
              "1  bcjbaE6dDog4jkNY91ncLQ  e4Vwtrqf-wpJfwesgvdgxQ      4.0   \n",
              "2  eUta8W_HdHMXPzLBBZhL1A  04UD14gamNjLY0IDYVhHJg      1.0   \n",
              "3  yfFzsLmaWF2d4Sr0UNbBgg  LHSTtnW3YHCeUkRDGyJOyw      5.0   \n",
              "4  9OAtfnWag-ajVxRbUTGIyg  lj-E32x9_FA7GmUrBGBEWg      4.0   \n",
              "\n",
              "                                                text                 date  \\\n",
              "0  Wow!  Yummy, different,  delicious.   Our favo...  2015-01-04 00:01:03   \n",
              "1  Cute interior and owner (?) gave us tour of up...  2017-01-14 20:54:15   \n",
              "2  I am a long term frequent customer of this est...  2015-09-23 23:10:31   \n",
              "3  Amazingly amazing wings and homemade bleu chee...  2015-08-07 02:29:16   \n",
              "4  Love going here for happy hour or dinner!  Gre...  2014-06-27 22:44:01   \n",
              "\n",
              "                  name                                         categories  \\\n",
              "0                Zaika              Halal, Pakistani, Restaurants, Indian   \n",
              "1                 Melt  Sandwiches, Beer, Wine & Spirits, Bars, Food, ...   \n",
              "2             Dmitri's         Mediterranean, Restaurants, Seafood, Greek   \n",
              "3      Fries Rebellion  Beer Bar, Bars, American (New), Gastropubs, Re...   \n",
              "4  Brio Italian Grille  Bars, Pizza, Nightlife, Cocktail Bars, Italian...   \n",
              "\n",
              "              relevant_category  mean_stars  \n",
              "0  Vegetarian & Specialty Diets         4.8  \n",
              "1              American Cuisine         3.0  \n",
              "2              European Cuisine         1.0  \n",
              "3              American Cuisine         5.0  \n",
              "4              European Cuisine         4.0  "
            ],
            "text/html": [
              "\n",
              "  <div id=\"df-e037a2cd-39e8-428f-b9bf-4bb64712b574\" class=\"colab-df-container\">\n",
              "    <div>\n",
              "<style scoped>\n",
              "    .dataframe tbody tr th:only-of-type {\n",
              "        vertical-align: middle;\n",
              "    }\n",
              "\n",
              "    .dataframe tbody tr th {\n",
              "        vertical-align: top;\n",
              "    }\n",
              "\n",
              "    .dataframe thead th {\n",
              "        text-align: right;\n",
              "    }\n",
              "</style>\n",
              "<table border=\"1\" class=\"dataframe\">\n",
              "  <thead>\n",
              "    <tr style=\"text-align: right;\">\n",
              "      <th></th>\n",
              "      <th>user_id</th>\n",
              "      <th>business_id</th>\n",
              "      <th>stars_x</th>\n",
              "      <th>text</th>\n",
              "      <th>date</th>\n",
              "      <th>name</th>\n",
              "      <th>categories</th>\n",
              "      <th>relevant_category</th>\n",
              "      <th>mean_stars</th>\n",
              "    </tr>\n",
              "  </thead>\n",
              "  <tbody>\n",
              "    <tr>\n",
              "      <th>0</th>\n",
              "      <td>_7bHUi9Uuf5__HHc_Q8guQ</td>\n",
              "      <td>kxX2SOes4o-D3ZQBkiMRfA</td>\n",
              "      <td>5.0</td>\n",
              "      <td>Wow!  Yummy, different,  delicious.   Our favo...</td>\n",
              "      <td>2015-01-04 00:01:03</td>\n",
              "      <td>Zaika</td>\n",
              "      <td>Halal, Pakistani, Restaurants, Indian</td>\n",
              "      <td>Vegetarian &amp; Specialty Diets</td>\n",
              "      <td>4.8</td>\n",
              "    </tr>\n",
              "    <tr>\n",
              "      <th>1</th>\n",
              "      <td>bcjbaE6dDog4jkNY91ncLQ</td>\n",
              "      <td>e4Vwtrqf-wpJfwesgvdgxQ</td>\n",
              "      <td>4.0</td>\n",
              "      <td>Cute interior and owner (?) gave us tour of up...</td>\n",
              "      <td>2017-01-14 20:54:15</td>\n",
              "      <td>Melt</td>\n",
              "      <td>Sandwiches, Beer, Wine &amp; Spirits, Bars, Food, ...</td>\n",
              "      <td>American Cuisine</td>\n",
              "      <td>3.0</td>\n",
              "    </tr>\n",
              "    <tr>\n",
              "      <th>2</th>\n",
              "      <td>eUta8W_HdHMXPzLBBZhL1A</td>\n",
              "      <td>04UD14gamNjLY0IDYVhHJg</td>\n",
              "      <td>1.0</td>\n",
              "      <td>I am a long term frequent customer of this est...</td>\n",
              "      <td>2015-09-23 23:10:31</td>\n",
              "      <td>Dmitri's</td>\n",
              "      <td>Mediterranean, Restaurants, Seafood, Greek</td>\n",
              "      <td>European Cuisine</td>\n",
              "      <td>1.0</td>\n",
              "    </tr>\n",
              "    <tr>\n",
              "      <th>3</th>\n",
              "      <td>yfFzsLmaWF2d4Sr0UNbBgg</td>\n",
              "      <td>LHSTtnW3YHCeUkRDGyJOyw</td>\n",
              "      <td>5.0</td>\n",
              "      <td>Amazingly amazing wings and homemade bleu chee...</td>\n",
              "      <td>2015-08-07 02:29:16</td>\n",
              "      <td>Fries Rebellion</td>\n",
              "      <td>Beer Bar, Bars, American (New), Gastropubs, Re...</td>\n",
              "      <td>American Cuisine</td>\n",
              "      <td>5.0</td>\n",
              "    </tr>\n",
              "    <tr>\n",
              "      <th>4</th>\n",
              "      <td>9OAtfnWag-ajVxRbUTGIyg</td>\n",
              "      <td>lj-E32x9_FA7GmUrBGBEWg</td>\n",
              "      <td>4.0</td>\n",
              "      <td>Love going here for happy hour or dinner!  Gre...</td>\n",
              "      <td>2014-06-27 22:44:01</td>\n",
              "      <td>Brio Italian Grille</td>\n",
              "      <td>Bars, Pizza, Nightlife, Cocktail Bars, Italian...</td>\n",
              "      <td>European Cuisine</td>\n",
              "      <td>4.0</td>\n",
              "    </tr>\n",
              "  </tbody>\n",
              "</table>\n",
              "</div>\n",
              "    <div class=\"colab-df-buttons\">\n",
              "\n",
              "  <div class=\"colab-df-container\">\n",
              "    <button class=\"colab-df-convert\" onclick=\"convertToInteractive('df-e037a2cd-39e8-428f-b9bf-4bb64712b574')\"\n",
              "            title=\"Convert this dataframe to an interactive table.\"\n",
              "            style=\"display:none;\">\n",
              "\n",
              "  <svg xmlns=\"http://www.w3.org/2000/svg\" height=\"24px\" viewBox=\"0 -960 960 960\">\n",
              "    <path d=\"M120-120v-720h720v720H120Zm60-500h600v-160H180v160Zm220 220h160v-160H400v160Zm0 220h160v-160H400v160ZM180-400h160v-160H180v160Zm440 0h160v-160H620v160ZM180-180h160v-160H180v160Zm440 0h160v-160H620v160Z\"/>\n",
              "  </svg>\n",
              "    </button>\n",
              "\n",
              "  <style>\n",
              "    .colab-df-container {\n",
              "      display:flex;\n",
              "      gap: 12px;\n",
              "    }\n",
              "\n",
              "    .colab-df-convert {\n",
              "      background-color: #E8F0FE;\n",
              "      border: none;\n",
              "      border-radius: 50%;\n",
              "      cursor: pointer;\n",
              "      display: none;\n",
              "      fill: #1967D2;\n",
              "      height: 32px;\n",
              "      padding: 0 0 0 0;\n",
              "      width: 32px;\n",
              "    }\n",
              "\n",
              "    .colab-df-convert:hover {\n",
              "      background-color: #E2EBFA;\n",
              "      box-shadow: 0px 1px 2px rgba(60, 64, 67, 0.3), 0px 1px 3px 1px rgba(60, 64, 67, 0.15);\n",
              "      fill: #174EA6;\n",
              "    }\n",
              "\n",
              "    .colab-df-buttons div {\n",
              "      margin-bottom: 4px;\n",
              "    }\n",
              "\n",
              "    [theme=dark] .colab-df-convert {\n",
              "      background-color: #3B4455;\n",
              "      fill: #D2E3FC;\n",
              "    }\n",
              "\n",
              "    [theme=dark] .colab-df-convert:hover {\n",
              "      background-color: #434B5C;\n",
              "      box-shadow: 0px 1px 3px 1px rgba(0, 0, 0, 0.15);\n",
              "      filter: drop-shadow(0px 1px 2px rgba(0, 0, 0, 0.3));\n",
              "      fill: #FFFFFF;\n",
              "    }\n",
              "  </style>\n",
              "\n",
              "    <script>\n",
              "      const buttonEl =\n",
              "        document.querySelector('#df-e037a2cd-39e8-428f-b9bf-4bb64712b574 button.colab-df-convert');\n",
              "      buttonEl.style.display =\n",
              "        google.colab.kernel.accessAllowed ? 'block' : 'none';\n",
              "\n",
              "      async function convertToInteractive(key) {\n",
              "        const element = document.querySelector('#df-e037a2cd-39e8-428f-b9bf-4bb64712b574');\n",
              "        const dataTable =\n",
              "          await google.colab.kernel.invokeFunction('convertToInteractive',\n",
              "                                                    [key], {});\n",
              "        if (!dataTable) return;\n",
              "\n",
              "        const docLinkHtml = 'Like what you see? Visit the ' +\n",
              "          '<a target=\"_blank\" href=https://colab.research.google.com/notebooks/data_table.ipynb>data table notebook</a>'\n",
              "          + ' to learn more about interactive tables.';\n",
              "        element.innerHTML = '';\n",
              "        dataTable['output_type'] = 'display_data';\n",
              "        await google.colab.output.renderOutput(dataTable, element);\n",
              "        const docLink = document.createElement('div');\n",
              "        docLink.innerHTML = docLinkHtml;\n",
              "        element.appendChild(docLink);\n",
              "      }\n",
              "    </script>\n",
              "  </div>\n",
              "\n",
              "\n",
              "<div id=\"df-4a0653f8-6c68-4e98-9f28-15c0682ba336\">\n",
              "  <button class=\"colab-df-quickchart\" onclick=\"quickchart('df-4a0653f8-6c68-4e98-9f28-15c0682ba336')\"\n",
              "            title=\"Suggest charts\"\n",
              "            style=\"display:none;\">\n",
              "\n",
              "<svg xmlns=\"http://www.w3.org/2000/svg\" height=\"24px\"viewBox=\"0 0 24 24\"\n",
              "     width=\"24px\">\n",
              "    <g>\n",
              "        <path d=\"M19 3H5c-1.1 0-2 .9-2 2v14c0 1.1.9 2 2 2h14c1.1 0 2-.9 2-2V5c0-1.1-.9-2-2-2zM9 17H7v-7h2v7zm4 0h-2V7h2v10zm4 0h-2v-4h2v4z\"/>\n",
              "    </g>\n",
              "</svg>\n",
              "  </button>\n",
              "\n",
              "<style>\n",
              "  .colab-df-quickchart {\n",
              "      --bg-color: #E8F0FE;\n",
              "      --fill-color: #1967D2;\n",
              "      --hover-bg-color: #E2EBFA;\n",
              "      --hover-fill-color: #174EA6;\n",
              "      --disabled-fill-color: #AAA;\n",
              "      --disabled-bg-color: #DDD;\n",
              "  }\n",
              "\n",
              "  [theme=dark] .colab-df-quickchart {\n",
              "      --bg-color: #3B4455;\n",
              "      --fill-color: #D2E3FC;\n",
              "      --hover-bg-color: #434B5C;\n",
              "      --hover-fill-color: #FFFFFF;\n",
              "      --disabled-bg-color: #3B4455;\n",
              "      --disabled-fill-color: #666;\n",
              "  }\n",
              "\n",
              "  .colab-df-quickchart {\n",
              "    background-color: var(--bg-color);\n",
              "    border: none;\n",
              "    border-radius: 50%;\n",
              "    cursor: pointer;\n",
              "    display: none;\n",
              "    fill: var(--fill-color);\n",
              "    height: 32px;\n",
              "    padding: 0;\n",
              "    width: 32px;\n",
              "  }\n",
              "\n",
              "  .colab-df-quickchart:hover {\n",
              "    background-color: var(--hover-bg-color);\n",
              "    box-shadow: 0 1px 2px rgba(60, 64, 67, 0.3), 0 1px 3px 1px rgba(60, 64, 67, 0.15);\n",
              "    fill: var(--button-hover-fill-color);\n",
              "  }\n",
              "\n",
              "  .colab-df-quickchart-complete:disabled,\n",
              "  .colab-df-quickchart-complete:disabled:hover {\n",
              "    background-color: var(--disabled-bg-color);\n",
              "    fill: var(--disabled-fill-color);\n",
              "    box-shadow: none;\n",
              "  }\n",
              "\n",
              "  .colab-df-spinner {\n",
              "    border: 2px solid var(--fill-color);\n",
              "    border-color: transparent;\n",
              "    border-bottom-color: var(--fill-color);\n",
              "    animation:\n",
              "      spin 1s steps(1) infinite;\n",
              "  }\n",
              "\n",
              "  @keyframes spin {\n",
              "    0% {\n",
              "      border-color: transparent;\n",
              "      border-bottom-color: var(--fill-color);\n",
              "      border-left-color: var(--fill-color);\n",
              "    }\n",
              "    20% {\n",
              "      border-color: transparent;\n",
              "      border-left-color: var(--fill-color);\n",
              "      border-top-color: var(--fill-color);\n",
              "    }\n",
              "    30% {\n",
              "      border-color: transparent;\n",
              "      border-left-color: var(--fill-color);\n",
              "      border-top-color: var(--fill-color);\n",
              "      border-right-color: var(--fill-color);\n",
              "    }\n",
              "    40% {\n",
              "      border-color: transparent;\n",
              "      border-right-color: var(--fill-color);\n",
              "      border-top-color: var(--fill-color);\n",
              "    }\n",
              "    60% {\n",
              "      border-color: transparent;\n",
              "      border-right-color: var(--fill-color);\n",
              "    }\n",
              "    80% {\n",
              "      border-color: transparent;\n",
              "      border-right-color: var(--fill-color);\n",
              "      border-bottom-color: var(--fill-color);\n",
              "    }\n",
              "    90% {\n",
              "      border-color: transparent;\n",
              "      border-bottom-color: var(--fill-color);\n",
              "    }\n",
              "  }\n",
              "</style>\n",
              "\n",
              "  <script>\n",
              "    async function quickchart(key) {\n",
              "      const quickchartButtonEl =\n",
              "        document.querySelector('#' + key + ' button');\n",
              "      quickchartButtonEl.disabled = true;  // To prevent multiple clicks.\n",
              "      quickchartButtonEl.classList.add('colab-df-spinner');\n",
              "      try {\n",
              "        const charts = await google.colab.kernel.invokeFunction(\n",
              "            'suggestCharts', [key], {});\n",
              "      } catch (error) {\n",
              "        console.error('Error during call to suggestCharts:', error);\n",
              "      }\n",
              "      quickchartButtonEl.classList.remove('colab-df-spinner');\n",
              "      quickchartButtonEl.classList.add('colab-df-quickchart-complete');\n",
              "    }\n",
              "    (() => {\n",
              "      let quickchartButtonEl =\n",
              "        document.querySelector('#df-4a0653f8-6c68-4e98-9f28-15c0682ba336 button');\n",
              "      quickchartButtonEl.style.display =\n",
              "        google.colab.kernel.accessAllowed ? 'block' : 'none';\n",
              "    })();\n",
              "  </script>\n",
              "</div>\n",
              "\n",
              "    </div>\n",
              "  </div>\n"
            ],
            "application/vnd.google.colaboratory.intrinsic+json": {
              "type": "dataframe",
              "variable_name": "data_restaurante_user_filtrado"
            }
          },
          "metadata": {},
          "execution_count": 8
        }
      ]
    },
    {
      "cell_type": "code",
      "source": [
        "# Cantidad de filas data_restaurante_user_filtrado\n",
        "data_restaurante_user_filtrado.shape[0], data_restaurante_user_filtrado['user_id'].nunique()"
      ],
      "metadata": {
        "colab": {
          "base_uri": "https://localhost:8080/"
        },
        "id": "MkPbfVKkB4Fh",
        "outputId": "12260e7e-a8f3-4895-cccb-667a9c23e8d0"
      },
      "id": "MkPbfVKkB4Fh",
      "execution_count": 9,
      "outputs": [
        {
          "output_type": "execute_result",
          "data": {
            "text/plain": [
              "(3252880, 1437290)"
            ]
          },
          "metadata": {},
          "execution_count": 9
        }
      ]
    },
    {
      "cell_type": "code",
      "source": [
        "user_ids = data_restaurante_user_filtrado['user_id'].value_counts()\n",
        "\n",
        "\n",
        "# Ordenar de mayor a menor el count\n",
        "user_ids = user_ids.sort_values(ascending=False)\n",
        "\n",
        "user_ids.head()"
      ],
      "metadata": {
        "colab": {
          "base_uri": "https://localhost:8080/",
          "height": 272
        },
        "id": "vwGPDmV2qg3Z",
        "outputId": "8bb7600e-8554-49fc-e762-73e93f4e65ba"
      },
      "id": "vwGPDmV2qg3Z",
      "execution_count": 10,
      "outputs": [
        {
          "output_type": "execute_result",
          "data": {
            "text/plain": [
              "user_id\n",
              "_BcWyKQL16ndpBdggh2kNA    983\n",
              "1HM81n6n4iPIFU5d2Lokhw    854\n",
              "ET8n-r7glWYqZhuR6GcdNw    849\n",
              "fr1Hz2acAb3OaL3l6DyKNg    831\n",
              "-G7Zkl1wIWBBmD0KRy_sCw    729\n",
              "Name: count, dtype: int64"
            ],
            "text/html": [
              "<div>\n",
              "<style scoped>\n",
              "    .dataframe tbody tr th:only-of-type {\n",
              "        vertical-align: middle;\n",
              "    }\n",
              "\n",
              "    .dataframe tbody tr th {\n",
              "        vertical-align: top;\n",
              "    }\n",
              "\n",
              "    .dataframe thead th {\n",
              "        text-align: right;\n",
              "    }\n",
              "</style>\n",
              "<table border=\"1\" class=\"dataframe\">\n",
              "  <thead>\n",
              "    <tr style=\"text-align: right;\">\n",
              "      <th></th>\n",
              "      <th>count</th>\n",
              "    </tr>\n",
              "    <tr>\n",
              "      <th>user_id</th>\n",
              "      <th></th>\n",
              "    </tr>\n",
              "  </thead>\n",
              "  <tbody>\n",
              "    <tr>\n",
              "      <th>_BcWyKQL16ndpBdggh2kNA</th>\n",
              "      <td>983</td>\n",
              "    </tr>\n",
              "    <tr>\n",
              "      <th>1HM81n6n4iPIFU5d2Lokhw</th>\n",
              "      <td>854</td>\n",
              "    </tr>\n",
              "    <tr>\n",
              "      <th>ET8n-r7glWYqZhuR6GcdNw</th>\n",
              "      <td>849</td>\n",
              "    </tr>\n",
              "    <tr>\n",
              "      <th>fr1Hz2acAb3OaL3l6DyKNg</th>\n",
              "      <td>831</td>\n",
              "    </tr>\n",
              "    <tr>\n",
              "      <th>-G7Zkl1wIWBBmD0KRy_sCw</th>\n",
              "      <td>729</td>\n",
              "    </tr>\n",
              "  </tbody>\n",
              "</table>\n",
              "</div><br><label><b>dtype:</b> int64</label>"
            ]
          },
          "metadata": {},
          "execution_count": 10
        }
      ]
    },
    {
      "cell_type": "code",
      "source": [
        "# Obtener el 1% de los user_ids\n",
        "k = int(len(user_ids)* 0.01)\n",
        "k"
      ],
      "metadata": {
        "colab": {
          "base_uri": "https://localhost:8080/"
        },
        "id": "TXqNOxlZrArH",
        "outputId": "cdc647ef-7287-4f06-9367-45d672ce4ef5"
      },
      "id": "TXqNOxlZrArH",
      "execution_count": 11,
      "outputs": [
        {
          "output_type": "execute_result",
          "data": {
            "text/plain": [
              "14372"
            ]
          },
          "metadata": {},
          "execution_count": 11
        }
      ]
    },
    {
      "cell_type": "code",
      "source": [
        "user_ids_top = user_ids.head(k)\n",
        "user_ids_top"
      ],
      "metadata": {
        "colab": {
          "base_uri": "https://localhost:8080/",
          "height": 490
        },
        "id": "7NmouctCrFBw",
        "outputId": "1d28a231-6a1e-4a41-ad7e-9af87d34916f"
      },
      "id": "7NmouctCrFBw",
      "execution_count": 12,
      "outputs": [
        {
          "output_type": "execute_result",
          "data": {
            "text/plain": [
              "user_id\n",
              "_BcWyKQL16ndpBdggh2kNA    983\n",
              "1HM81n6n4iPIFU5d2Lokhw    854\n",
              "ET8n-r7glWYqZhuR6GcdNw    849\n",
              "fr1Hz2acAb3OaL3l6DyKNg    831\n",
              "-G7Zkl1wIWBBmD0KRy_sCw    729\n",
              "                         ... \n",
              "4PI1QmjBSR30NX5FdUxGKw     20\n",
              "OqEP5BAqe599Fxra7Xe_bw     20\n",
              "gkjzvW_tjriBUV3_bvOs2w     20\n",
              "fDW5Z24ugc_WvUP5WcnkQw     20\n",
              "21XzpmxpSTXEzqxiq1r1mQ     20\n",
              "Name: count, Length: 14372, dtype: int64"
            ],
            "text/html": [
              "<div>\n",
              "<style scoped>\n",
              "    .dataframe tbody tr th:only-of-type {\n",
              "        vertical-align: middle;\n",
              "    }\n",
              "\n",
              "    .dataframe tbody tr th {\n",
              "        vertical-align: top;\n",
              "    }\n",
              "\n",
              "    .dataframe thead th {\n",
              "        text-align: right;\n",
              "    }\n",
              "</style>\n",
              "<table border=\"1\" class=\"dataframe\">\n",
              "  <thead>\n",
              "    <tr style=\"text-align: right;\">\n",
              "      <th></th>\n",
              "      <th>count</th>\n",
              "    </tr>\n",
              "    <tr>\n",
              "      <th>user_id</th>\n",
              "      <th></th>\n",
              "    </tr>\n",
              "  </thead>\n",
              "  <tbody>\n",
              "    <tr>\n",
              "      <th>_BcWyKQL16ndpBdggh2kNA</th>\n",
              "      <td>983</td>\n",
              "    </tr>\n",
              "    <tr>\n",
              "      <th>1HM81n6n4iPIFU5d2Lokhw</th>\n",
              "      <td>854</td>\n",
              "    </tr>\n",
              "    <tr>\n",
              "      <th>ET8n-r7glWYqZhuR6GcdNw</th>\n",
              "      <td>849</td>\n",
              "    </tr>\n",
              "    <tr>\n",
              "      <th>fr1Hz2acAb3OaL3l6DyKNg</th>\n",
              "      <td>831</td>\n",
              "    </tr>\n",
              "    <tr>\n",
              "      <th>-G7Zkl1wIWBBmD0KRy_sCw</th>\n",
              "      <td>729</td>\n",
              "    </tr>\n",
              "    <tr>\n",
              "      <th>...</th>\n",
              "      <td>...</td>\n",
              "    </tr>\n",
              "    <tr>\n",
              "      <th>4PI1QmjBSR30NX5FdUxGKw</th>\n",
              "      <td>20</td>\n",
              "    </tr>\n",
              "    <tr>\n",
              "      <th>OqEP5BAqe599Fxra7Xe_bw</th>\n",
              "      <td>20</td>\n",
              "    </tr>\n",
              "    <tr>\n",
              "      <th>gkjzvW_tjriBUV3_bvOs2w</th>\n",
              "      <td>20</td>\n",
              "    </tr>\n",
              "    <tr>\n",
              "      <th>fDW5Z24ugc_WvUP5WcnkQw</th>\n",
              "      <td>20</td>\n",
              "    </tr>\n",
              "    <tr>\n",
              "      <th>21XzpmxpSTXEzqxiq1r1mQ</th>\n",
              "      <td>20</td>\n",
              "    </tr>\n",
              "  </tbody>\n",
              "</table>\n",
              "<p>14372 rows × 1 columns</p>\n",
              "</div><br><label><b>dtype:</b> int64</label>"
            ]
          },
          "metadata": {},
          "execution_count": 12
        }
      ]
    },
    {
      "cell_type": "code",
      "source": [
        "# filtramos por solo estos users_ids_top\n",
        "data_rest_sample = data_restaurante_user_filtrado[data_restaurante_user_filtrado['user_id'].isin(user_ids_top.index)]\n",
        "data_rest_sample = data_rest_sample[['user_id', 'business_id', 'name', 'relevant_category']]\n",
        "data_rest_sample.head()"
      ],
      "metadata": {
        "colab": {
          "base_uri": "https://localhost:8080/",
          "height": 206
        },
        "id": "bOJ_ZlcrrZvl",
        "outputId": "4acaedd1-1f5c-4479-e096-939382b49621"
      },
      "id": "bOJ_ZlcrrZvl",
      "execution_count": 13,
      "outputs": [
        {
          "output_type": "execute_result",
          "data": {
            "text/plain": [
              "                   user_id             business_id                     name  \\\n",
              "1   bcjbaE6dDog4jkNY91ncLQ  e4Vwtrqf-wpJfwesgvdgxQ                     Melt   \n",
              "5   smOvOajNG0lS4Pq7d8g4JQ  RZtGWDLCAtuipwaZ-UfjmQ                LaScala's   \n",
              "8   j2wlzrntrbKwyOcOiB3l3w  rBdG_23USc7DletfZ11xGA                     Olio   \n",
              "9   IQsF3Rc6IgCzjVV9DE8KXg  eFvzHawVJofxSnD7TgbZtg          Good Karma Cafe   \n",
              "10  RreNy--tOmXMl1en0wiBOg  cPepkJeRMtHapc_b2Oe_dw  Naked Tchopstix Express   \n",
              "\n",
              "       relevant_category  \n",
              "1       American Cuisine  \n",
              "5       European Cuisine  \n",
              "8       European Cuisine  \n",
              "9   Beverages & Desserts  \n",
              "10         Asian Cuisine  "
            ],
            "text/html": [
              "\n",
              "  <div id=\"df-92c5e6ec-ce01-4ef2-8747-82d5ed022d88\" class=\"colab-df-container\">\n",
              "    <div>\n",
              "<style scoped>\n",
              "    .dataframe tbody tr th:only-of-type {\n",
              "        vertical-align: middle;\n",
              "    }\n",
              "\n",
              "    .dataframe tbody tr th {\n",
              "        vertical-align: top;\n",
              "    }\n",
              "\n",
              "    .dataframe thead th {\n",
              "        text-align: right;\n",
              "    }\n",
              "</style>\n",
              "<table border=\"1\" class=\"dataframe\">\n",
              "  <thead>\n",
              "    <tr style=\"text-align: right;\">\n",
              "      <th></th>\n",
              "      <th>user_id</th>\n",
              "      <th>business_id</th>\n",
              "      <th>name</th>\n",
              "      <th>relevant_category</th>\n",
              "    </tr>\n",
              "  </thead>\n",
              "  <tbody>\n",
              "    <tr>\n",
              "      <th>1</th>\n",
              "      <td>bcjbaE6dDog4jkNY91ncLQ</td>\n",
              "      <td>e4Vwtrqf-wpJfwesgvdgxQ</td>\n",
              "      <td>Melt</td>\n",
              "      <td>American Cuisine</td>\n",
              "    </tr>\n",
              "    <tr>\n",
              "      <th>5</th>\n",
              "      <td>smOvOajNG0lS4Pq7d8g4JQ</td>\n",
              "      <td>RZtGWDLCAtuipwaZ-UfjmQ</td>\n",
              "      <td>LaScala's</td>\n",
              "      <td>European Cuisine</td>\n",
              "    </tr>\n",
              "    <tr>\n",
              "      <th>8</th>\n",
              "      <td>j2wlzrntrbKwyOcOiB3l3w</td>\n",
              "      <td>rBdG_23USc7DletfZ11xGA</td>\n",
              "      <td>Olio</td>\n",
              "      <td>European Cuisine</td>\n",
              "    </tr>\n",
              "    <tr>\n",
              "      <th>9</th>\n",
              "      <td>IQsF3Rc6IgCzjVV9DE8KXg</td>\n",
              "      <td>eFvzHawVJofxSnD7TgbZtg</td>\n",
              "      <td>Good Karma Cafe</td>\n",
              "      <td>Beverages &amp; Desserts</td>\n",
              "    </tr>\n",
              "    <tr>\n",
              "      <th>10</th>\n",
              "      <td>RreNy--tOmXMl1en0wiBOg</td>\n",
              "      <td>cPepkJeRMtHapc_b2Oe_dw</td>\n",
              "      <td>Naked Tchopstix Express</td>\n",
              "      <td>Asian Cuisine</td>\n",
              "    </tr>\n",
              "  </tbody>\n",
              "</table>\n",
              "</div>\n",
              "    <div class=\"colab-df-buttons\">\n",
              "\n",
              "  <div class=\"colab-df-container\">\n",
              "    <button class=\"colab-df-convert\" onclick=\"convertToInteractive('df-92c5e6ec-ce01-4ef2-8747-82d5ed022d88')\"\n",
              "            title=\"Convert this dataframe to an interactive table.\"\n",
              "            style=\"display:none;\">\n",
              "\n",
              "  <svg xmlns=\"http://www.w3.org/2000/svg\" height=\"24px\" viewBox=\"0 -960 960 960\">\n",
              "    <path d=\"M120-120v-720h720v720H120Zm60-500h600v-160H180v160Zm220 220h160v-160H400v160Zm0 220h160v-160H400v160ZM180-400h160v-160H180v160Zm440 0h160v-160H620v160ZM180-180h160v-160H180v160Zm440 0h160v-160H620v160Z\"/>\n",
              "  </svg>\n",
              "    </button>\n",
              "\n",
              "  <style>\n",
              "    .colab-df-container {\n",
              "      display:flex;\n",
              "      gap: 12px;\n",
              "    }\n",
              "\n",
              "    .colab-df-convert {\n",
              "      background-color: #E8F0FE;\n",
              "      border: none;\n",
              "      border-radius: 50%;\n",
              "      cursor: pointer;\n",
              "      display: none;\n",
              "      fill: #1967D2;\n",
              "      height: 32px;\n",
              "      padding: 0 0 0 0;\n",
              "      width: 32px;\n",
              "    }\n",
              "\n",
              "    .colab-df-convert:hover {\n",
              "      background-color: #E2EBFA;\n",
              "      box-shadow: 0px 1px 2px rgba(60, 64, 67, 0.3), 0px 1px 3px 1px rgba(60, 64, 67, 0.15);\n",
              "      fill: #174EA6;\n",
              "    }\n",
              "\n",
              "    .colab-df-buttons div {\n",
              "      margin-bottom: 4px;\n",
              "    }\n",
              "\n",
              "    [theme=dark] .colab-df-convert {\n",
              "      background-color: #3B4455;\n",
              "      fill: #D2E3FC;\n",
              "    }\n",
              "\n",
              "    [theme=dark] .colab-df-convert:hover {\n",
              "      background-color: #434B5C;\n",
              "      box-shadow: 0px 1px 3px 1px rgba(0, 0, 0, 0.15);\n",
              "      filter: drop-shadow(0px 1px 2px rgba(0, 0, 0, 0.3));\n",
              "      fill: #FFFFFF;\n",
              "    }\n",
              "  </style>\n",
              "\n",
              "    <script>\n",
              "      const buttonEl =\n",
              "        document.querySelector('#df-92c5e6ec-ce01-4ef2-8747-82d5ed022d88 button.colab-df-convert');\n",
              "      buttonEl.style.display =\n",
              "        google.colab.kernel.accessAllowed ? 'block' : 'none';\n",
              "\n",
              "      async function convertToInteractive(key) {\n",
              "        const element = document.querySelector('#df-92c5e6ec-ce01-4ef2-8747-82d5ed022d88');\n",
              "        const dataTable =\n",
              "          await google.colab.kernel.invokeFunction('convertToInteractive',\n",
              "                                                    [key], {});\n",
              "        if (!dataTable) return;\n",
              "\n",
              "        const docLinkHtml = 'Like what you see? Visit the ' +\n",
              "          '<a target=\"_blank\" href=https://colab.research.google.com/notebooks/data_table.ipynb>data table notebook</a>'\n",
              "          + ' to learn more about interactive tables.';\n",
              "        element.innerHTML = '';\n",
              "        dataTable['output_type'] = 'display_data';\n",
              "        await google.colab.output.renderOutput(dataTable, element);\n",
              "        const docLink = document.createElement('div');\n",
              "        docLink.innerHTML = docLinkHtml;\n",
              "        element.appendChild(docLink);\n",
              "      }\n",
              "    </script>\n",
              "  </div>\n",
              "\n",
              "\n",
              "<div id=\"df-9fe60b11-865c-472a-b47c-c8e9d2f8aa19\">\n",
              "  <button class=\"colab-df-quickchart\" onclick=\"quickchart('df-9fe60b11-865c-472a-b47c-c8e9d2f8aa19')\"\n",
              "            title=\"Suggest charts\"\n",
              "            style=\"display:none;\">\n",
              "\n",
              "<svg xmlns=\"http://www.w3.org/2000/svg\" height=\"24px\"viewBox=\"0 0 24 24\"\n",
              "     width=\"24px\">\n",
              "    <g>\n",
              "        <path d=\"M19 3H5c-1.1 0-2 .9-2 2v14c0 1.1.9 2 2 2h14c1.1 0 2-.9 2-2V5c0-1.1-.9-2-2-2zM9 17H7v-7h2v7zm4 0h-2V7h2v10zm4 0h-2v-4h2v4z\"/>\n",
              "    </g>\n",
              "</svg>\n",
              "  </button>\n",
              "\n",
              "<style>\n",
              "  .colab-df-quickchart {\n",
              "      --bg-color: #E8F0FE;\n",
              "      --fill-color: #1967D2;\n",
              "      --hover-bg-color: #E2EBFA;\n",
              "      --hover-fill-color: #174EA6;\n",
              "      --disabled-fill-color: #AAA;\n",
              "      --disabled-bg-color: #DDD;\n",
              "  }\n",
              "\n",
              "  [theme=dark] .colab-df-quickchart {\n",
              "      --bg-color: #3B4455;\n",
              "      --fill-color: #D2E3FC;\n",
              "      --hover-bg-color: #434B5C;\n",
              "      --hover-fill-color: #FFFFFF;\n",
              "      --disabled-bg-color: #3B4455;\n",
              "      --disabled-fill-color: #666;\n",
              "  }\n",
              "\n",
              "  .colab-df-quickchart {\n",
              "    background-color: var(--bg-color);\n",
              "    border: none;\n",
              "    border-radius: 50%;\n",
              "    cursor: pointer;\n",
              "    display: none;\n",
              "    fill: var(--fill-color);\n",
              "    height: 32px;\n",
              "    padding: 0;\n",
              "    width: 32px;\n",
              "  }\n",
              "\n",
              "  .colab-df-quickchart:hover {\n",
              "    background-color: var(--hover-bg-color);\n",
              "    box-shadow: 0 1px 2px rgba(60, 64, 67, 0.3), 0 1px 3px 1px rgba(60, 64, 67, 0.15);\n",
              "    fill: var(--button-hover-fill-color);\n",
              "  }\n",
              "\n",
              "  .colab-df-quickchart-complete:disabled,\n",
              "  .colab-df-quickchart-complete:disabled:hover {\n",
              "    background-color: var(--disabled-bg-color);\n",
              "    fill: var(--disabled-fill-color);\n",
              "    box-shadow: none;\n",
              "  }\n",
              "\n",
              "  .colab-df-spinner {\n",
              "    border: 2px solid var(--fill-color);\n",
              "    border-color: transparent;\n",
              "    border-bottom-color: var(--fill-color);\n",
              "    animation:\n",
              "      spin 1s steps(1) infinite;\n",
              "  }\n",
              "\n",
              "  @keyframes spin {\n",
              "    0% {\n",
              "      border-color: transparent;\n",
              "      border-bottom-color: var(--fill-color);\n",
              "      border-left-color: var(--fill-color);\n",
              "    }\n",
              "    20% {\n",
              "      border-color: transparent;\n",
              "      border-left-color: var(--fill-color);\n",
              "      border-top-color: var(--fill-color);\n",
              "    }\n",
              "    30% {\n",
              "      border-color: transparent;\n",
              "      border-left-color: var(--fill-color);\n",
              "      border-top-color: var(--fill-color);\n",
              "      border-right-color: var(--fill-color);\n",
              "    }\n",
              "    40% {\n",
              "      border-color: transparent;\n",
              "      border-right-color: var(--fill-color);\n",
              "      border-top-color: var(--fill-color);\n",
              "    }\n",
              "    60% {\n",
              "      border-color: transparent;\n",
              "      border-right-color: var(--fill-color);\n",
              "    }\n",
              "    80% {\n",
              "      border-color: transparent;\n",
              "      border-right-color: var(--fill-color);\n",
              "      border-bottom-color: var(--fill-color);\n",
              "    }\n",
              "    90% {\n",
              "      border-color: transparent;\n",
              "      border-bottom-color: var(--fill-color);\n",
              "    }\n",
              "  }\n",
              "</style>\n",
              "\n",
              "  <script>\n",
              "    async function quickchart(key) {\n",
              "      const quickchartButtonEl =\n",
              "        document.querySelector('#' + key + ' button');\n",
              "      quickchartButtonEl.disabled = true;  // To prevent multiple clicks.\n",
              "      quickchartButtonEl.classList.add('colab-df-spinner');\n",
              "      try {\n",
              "        const charts = await google.colab.kernel.invokeFunction(\n",
              "            'suggestCharts', [key], {});\n",
              "      } catch (error) {\n",
              "        console.error('Error during call to suggestCharts:', error);\n",
              "      }\n",
              "      quickchartButtonEl.classList.remove('colab-df-spinner');\n",
              "      quickchartButtonEl.classList.add('colab-df-quickchart-complete');\n",
              "    }\n",
              "    (() => {\n",
              "      let quickchartButtonEl =\n",
              "        document.querySelector('#df-9fe60b11-865c-472a-b47c-c8e9d2f8aa19 button');\n",
              "      quickchartButtonEl.style.display =\n",
              "        google.colab.kernel.accessAllowed ? 'block' : 'none';\n",
              "    })();\n",
              "  </script>\n",
              "</div>\n",
              "\n",
              "    </div>\n",
              "  </div>\n"
            ],
            "application/vnd.google.colaboratory.intrinsic+json": {
              "type": "dataframe",
              "variable_name": "data_rest_sample"
            }
          },
          "metadata": {},
          "execution_count": 13
        }
      ]
    },
    {
      "cell_type": "code",
      "source": [
        "data_rest_sample.shape[0], data_rest_sample['user_id'].nunique()"
      ],
      "metadata": {
        "colab": {
          "base_uri": "https://localhost:8080/"
        },
        "id": "q-J97nPArier",
        "outputId": "4eb9b139-a455-476d-efbe-d2ad7747f793"
      },
      "id": "q-J97nPArier",
      "execution_count": 14,
      "outputs": [
        {
          "output_type": "execute_result",
          "data": {
            "text/plain": [
              "(634525, 14372)"
            ]
          },
          "metadata": {},
          "execution_count": 14
        }
      ]
    },
    {
      "cell_type": "code",
      "source": [
        "from sklearn.model_selection import train_test_split\n",
        "\n",
        "data_rest_train, data_rest_test = train_test_split(\n",
        "    data_rest_sample,\n",
        "    test_size=0.2,\n",
        "    stratify=data_rest_sample['user_id'],  # Stratificar por `user_id`\n",
        "    random_state=42\n",
        ")"
      ],
      "metadata": {
        "id": "x-2hcq_Aru8m"
      },
      "id": "x-2hcq_Aru8m",
      "execution_count": 15,
      "outputs": []
    },
    {
      "cell_type": "markdown",
      "id": "hdSlCulR5O9C",
      "metadata": {
        "id": "hdSlCulR5O9C"
      },
      "source": [
        "# Generar Recomendaciones\n",
        "\n",
        "Se probará con diferentes métodos de recomendación para evaluar los resultados del modelo:\n"
      ]
    },
    {
      "cell_type": "markdown",
      "id": "MNjDXXBx-bB6",
      "metadata": {
        "id": "MNjDXXBx-bB6"
      },
      "source": [
        "## Método Most Popular:\n",
        "Recomienda los restaurante más escuchadas en el conjunto global de datos de entrenamiento.\n",
        "- Cuenta y ordena los restaurante según número de apariciones\n",
        "- Selecciona los `k restaurantes` más populares\n",
        "- Alta probabilidad de recomendar contenido con hartas visualizaciones\n",
        "- Mismo resultado para todos los usuarios\n",
        "- Baja diversidad de recomendaciones"
      ]
    },
    {
      "cell_type": "markdown",
      "id": "XjUP0xz1-gQ3",
      "metadata": {
        "id": "XjUP0xz1-gQ3"
      },
      "source": [
        "### Procesamiento de Datos para Most Popular\n",
        "Usar el metodo Most popular tomaremos las canciones descargadas/escuhadas por cada usuario como las canciones que quieren cada usaurio. Por lo que agregamos una columna llamada `Popularity` a la tabla de canciones que seria la cantidad de usaurios o veces que se descarga una cancion. Para luego recomendar canciones a cada usuario."
      ]
    },
    {
      "cell_type": "code",
      "source": [
        "def get_top_k_categories(df, k):\n",
        "    # Crear un subconjunto con los usuarios y categorías relevantes\n",
        "    user_category_df = df[['user_id', 'relevant_category']]\n",
        "\n",
        "    # Calcular las k categorías más frecuentes por cada usuario\n",
        "    top_k_categories = (\n",
        "        user_category_df.groupby(['user_id', 'relevant_category'])\n",
        "        .size()  # Contar ocurrencias de cada categoría por usuario\n",
        "        .reset_index(name='count')  # Resetear índice y nombrar la columna de conteo\n",
        "        .sort_values(['user_id', 'count'], ascending=[True, False])  # Ordenar por usuario y conteo descendente\n",
        "        .groupby('user_id')  # Agrupar por usuario\n",
        "        .head(k)  # Tomar las K categorías más frecuentes por usuario\n",
        "    )\n",
        "\n",
        "    return top_k_categories\n"
      ],
      "metadata": {
        "id": "xs1RpgCoDJyv"
      },
      "id": "xs1RpgCoDJyv",
      "execution_count": 16,
      "outputs": []
    },
    {
      "cell_type": "markdown",
      "source": [
        "### Recomendación de Most Popular\n",
        "\n",
        "Recomienda los restaurantes más escuchadas en el conjunto global de datos de entrenamiento.\n",
        "- Cuenta y ordena los restaurantes según número de reproducciones\n",
        "- Selecciona los `k restaurantes` más populares\n",
        "- Alta probabilidad de recomendar contenido con hartas visualizaciones\n",
        "- Mismo resultado para todos los usuarios\n",
        "- Baja diversidad de recomendaciones"
      ],
      "metadata": {
        "id": "92QMew9ADolT"
      },
      "id": "92QMew9ADolT"
    },
    {
      "cell_type": "code",
      "source": [
        "# Función para recomendar los restaurantes más populares\n",
        "def recommend_most_popular(user, data_train, k=10):\n",
        "    # Agrupar por business_id contando apariciones\n",
        "    data_business_count = data_train.groupby('business_id')['business_id'].count().reset_index(name='popularity')\n",
        "    # Mapear nombres de restaurantes\n",
        "    data_business_count['name'] = data_business_count['business_id'].map(dict(zip(data_train['business_id'], data_train['name'])))\n",
        "    # Ordenar por popularidad y obtener los k más populares\n",
        "    data_business_count = data_business_count.sort_values('popularity', ascending=False)\n",
        "    top_k_popular_business = data_business_count.head(k)\n",
        "    return top_k_popular_business['name'].tolist()"
      ],
      "metadata": {
        "id": "lm-DTgabDldW"
      },
      "id": "lm-DTgabDldW",
      "execution_count": 17,
      "outputs": []
    },
    {
      "cell_type": "markdown",
      "source": [
        "## Método Random\n",
        "Recomienda restaurantes de manera aleatoria del conjunto de entrenamiento.\n",
        "- Selecciona `k` restaurantes aleatorias\n",
        "- Usado como baseline para comparaciones\n",
        "- Debiese mostrar un aumento en la diversidad de las recomendaciones"
      ],
      "metadata": {
        "id": "H3kR-D1-Ek5C"
      },
      "id": "H3kR-D1-Ek5C"
    },
    {
      "cell_type": "code",
      "source": [
        "import random\n",
        "# Función para recomendar restaurantes aleatorios\n",
        "def recommend_random(user, data_train, k=10):\n",
        "    # Obtener restaurantes únicos\n",
        "    unique_businesses = data_train['business_id'].unique()\n",
        "    # Seleccionar k aleatorios\n",
        "    random_businesses = random.sample(list(unique_businesses), min(k, len(unique_businesses)))\n",
        "    # Obtener nombres de restaurantes\n",
        "    random_business_names = [data_train[data_train['business_id'] == business_id]['name'].iloc[0] for business_id in random_businesses]\n",
        "    return random_business_names"
      ],
      "metadata": {
        "id": "kiB312FMEfyR"
      },
      "id": "kiB312FMEfyR",
      "execution_count": 18,
      "outputs": []
    },
    {
      "cell_type": "markdown",
      "metadata": {
        "id": "IUmxpwoIt1P0"
      },
      "source": [
        "## Método FastFM\n",
        "FastFM es un modelo basado en Factorization Machines, utilizado para generar recomendaciones. Este enfoque:\n",
        "\n",
        "- Aprende interacciones latentes entre usuarios y canciones a partir de datos dispersos.\n",
        "- Es especialmente eficaz para integrar tanto características del usuario como del contenido, además de las interacciones implícitas.\n",
        "- Emplea técnicas de factorización matricial y optimización eficiente para manejar grandes conjuntos de datos."
      ],
      "id": "IUmxpwoIt1P0"
    },
    {
      "cell_type": "code",
      "execution_count": 22,
      "metadata": {
        "id": "gIVYwiltt1P2"
      },
      "outputs": [],
      "source": [
        "from fastFM import sgd\n",
        "from scipy import sparse\n",
        "\n",
        "\n",
        "def recommend_fastfm(user, data_train, k=10):\n",
        "# COLUMNAS: Username,\tartist_song, \tgenre, \tuser_id, \tartist_song_id\n",
        "  # Creamos matriz de interacción\n",
        "  us_matrix = pd.pivot_table(\n",
        "    data_train,\n",
        "    index='user_id',\n",
        "    columns='artist_song',\n",
        "    values='artist_song_id',\n",
        "    aggfunc='count',\n",
        "    fill_value=0\n",
        "  )\n",
        "  # Expandir matriz en formato largo\n",
        "  interaction_data = us_matrix.stack().reset_index()\n",
        "  interaction_data.columns = ['user_id', 'artist_song', 'interaction']\n",
        "  interaction_data['interaction'] = (interaction_data['interaction'] > 0).astype(int)  # Binarización\n",
        "\n",
        "  # Crear matriz dispersa para características\n",
        "  X = sparse.csc_matrix(pd.get_dummies(interaction_data[['user_id', 'artist_song']], sparse=True).values)\n",
        "\n",
        "  # Etiquetas (1 si hubo interacción, 0 si no)\n",
        "  y = interaction_data['interaction'].values\n",
        "\n",
        "  # Creamos el modelo de FastFM fit con primera columna de objetivo.\n",
        "  ffm = sgd.FMRegression(n_iter=100, rank=2)\n",
        "  ffm.fit(X, y)\n",
        "\n",
        "  # Obtener vector del usuario para predicciones\n",
        "  user_songs = us_matrix.loc[user]\n",
        "  unseen_songs = user_songs[user_songs == 0].index  # Canciones no escuchadas\n",
        "  user_data = pd.DataFrame({'user_id': [user] * len(unseen_songs), 'artist_song': unseen_songs})\n",
        "\n",
        "  # Matriz dispersa para predicciones\n",
        "  feature_columns = pd.get_dummies(interaction_data[['user_id', 'artist_song']], sparse=True).columns\n",
        "  X_user = sparse.csc_matrix(pd.get_dummies(user_data, sparse=True).reindex(columns=feature_columns).fillna(0).values)\n",
        "  predicted_ratings = ffm.predict(X_user)\n",
        "\n",
        "  # Ordenar y seleccionar las mejores recomendaciones\n",
        "  user_data['predicted_rating'] = predicted_ratings\n",
        "  top_recommendations = user_data.sort_values('predicted_rating', ascending=False).head(k)['artist_song'].tolist()\n",
        "\n",
        "  return top_recommendations\n"
      ],
      "id": "gIVYwiltt1P2"
    },
    {
      "cell_type": "markdown",
      "source": [
        "## Método DeepFM\n",
        "DeepFM es un modelo avanzado para sistemas de recomendación que combina lo mejor de las Factorization Machines (FMs) y las redes neuronales profundas (Deep Learning) para capturar interacciones complejas entre características. Este enfoque:\n",
        "\n",
        "- Factorization Machines (FMs): Capturan de manera eficiente las interacciones de segundo orden entre características, como usuario y canción, especialmente en datos dispersos.\n",
        "- Redes neuronales profundas: Aprenden interacciones de mayor nivel (no lineales) entre características, mejorando la capacidad del modelo para capturar patrones complejos.\n",
        "- Integra ambos componentes en un solo modelo, compartiendo los mismos embeddings para reducir la redundancia y optimizar el aprendizaje."
      ],
      "metadata": {
        "id": "KwyHZrrXPLBB"
      },
      "id": "KwyHZrrXPLBB"
    },
    {
      "cell_type": "code",
      "source": [
        "from tensorflow import keras\n",
        "import tensorflow as tf\n",
        "import random\n",
        "\n",
        "# Creamos el modelo de DeepFM\n",
        "def build_deepfm(input_dim):\n",
        "    # Componente FM\n",
        "    input_movie = keras.layers.Input(shape=(input_dim,))\n",
        "    fm_linear = keras.layers.Dense(1)(input_movie)\n",
        "\n",
        "    # Componente Deep\n",
        "    deep = keras.layers.Dense(256, activation='relu')(input_movie)\n",
        "    deep = keras.layers.Dropout(0.2)(deep)\n",
        "    deep = keras.layers.Dense(128, activation='relu')(deep)\n",
        "    deep = keras.layers.Dense(64, activation='relu')(deep)\n",
        "    deep = keras.layers.Dense(1)(deep)\n",
        "\n",
        "    # Combinar Componentes\n",
        "    fm_deep = keras.layers.Concatenate()([fm_linear, deep])\n",
        "\n",
        "    # Combinar Componentes\n",
        "    output = keras.layers.Add()([fm_linear, deep])\n",
        "\n",
        "    # Modelo\n",
        "    model = keras.Model(inputs=input_movie, outputs=output)\n",
        "    model.compile(optimizer='adam', loss='mse')\n",
        "    return model\n",
        "\n",
        "def recommend_deepfm(user, data_train, k=10):\n",
        "  # Generamos subset de datos para evaluar interacción usuario-canción\n",
        "  # COLUMNAS: userId, movieId, title, relevant_relevant_genre\n",
        "  user_movie = data_train[['userId', 'title', 'relevant_genre']]\n",
        "\n",
        "  # Creamos matriz de interacción\n",
        "  us_matrix = pd.pivot_table(\n",
        "    user_movie,\n",
        "    values='relevant_genre',           # Género es el valor de interacción\n",
        "    index='userId',\n",
        "    columns='title',\n",
        "    aggfunc='count',\n",
        "    fill_value=0\n",
        "  )\n",
        "\n",
        "  # Preparar datos para DeepFM\n",
        "  X = us_matrix.values\n",
        "  input_dim = X.shape[1]\n",
        "  y = us_matrix.iloc[:,0].values\n",
        "\n",
        "  # Entrenamos el modelo\n",
        "  model = build_deepfm(input_dim)\n",
        "  model.fit(X, y, epochs=5, batch_size=32, verbose=0)\n",
        "\n",
        "  # Calcular las recomendaciones para el usuario\n",
        "  user_vector = us_matrix.loc[user].values.reshape(1, -1)\n",
        "  predictions = model.predict(user_vector).flatten()\n",
        "\n",
        "  # Seleccionar las Top-K canciones\n",
        "  movie_ids = us_matrix.columns\n",
        "  already_heard = set(user_movie[user_movie['userId'] == user]['title'])\n",
        "\n",
        "  # Filtrar y ordenar las recomendaciones\n",
        "  candidate_movie = [(movie, score) for movie, score in zip(movie_ids, predictions)\n",
        "                    if movie not in already_heard]\n",
        "  # Si no encuentra candidatos, entones se usan las recomendaciones originales\n",
        "  if not candidate_movie:\n",
        "      candidate_movie = [(movie, score) for movie, score in zip(movie_ids, predictions)]\n",
        "\n",
        "  candidate_movie.sort(key=lambda x: x[1], reverse=True)\n",
        "\n",
        "  # Asegurarse de que hayan k recomendaciones\n",
        "  if len(candidate_movie) < k:\n",
        "      # Rellenar con canciones aleatorias si es necesario\n",
        "      available_movie = list(set(movie_ids) - set(movie for movie, _ in candidate_movie))\n",
        "      if available_movie:\n",
        "        padding = random.sample(available_movie, min(k - len(candidate_movie), len(available_movie)))\n",
        "        candidate_movie.extend([(movie, 0.0) for movie in padding])\n",
        "\n",
        "  # Retornar las k recomendaciones\n",
        "  recommendations = [movie for movie, _ in candidate_movie[:k]]\n",
        "\n",
        "  return recommendations\n"
      ],
      "metadata": {
        "id": "EFiY50W8PS-K"
      },
      "execution_count": 23,
      "outputs": [],
      "id": "EFiY50W8PS-K"
    },
    {
      "cell_type": "markdown",
      "source": [
        "# Calculamos Métricas:\n",
        "\n",
        "## Metricas de Precisión\n",
        "- MAP\n",
        "- NDCG@5\n",
        "- Precision@10\n",
        "- Recall@10"
      ],
      "metadata": {
        "id": "fNN8YLxOFS_k"
      },
      "id": "fNN8YLxOFS_k"
    },
    {
      "cell_type": "code",
      "source": [
        "def mean_average_precision(y_true, y_pred, k):\n",
        "    aps = []\n",
        "    for true, pred in zip(y_true, y_pred):\n",
        "        relevant = 0\n",
        "        precision_sum = 0\n",
        "        for i in range(min(k, len(pred))):\n",
        "            if pred[i] in true:\n",
        "                relevant += 1\n",
        "                precision_sum += relevant / (i + 1)\n",
        "        aps.append(precision_sum / len(true) if true else 0)\n",
        "    return sum(aps) / len(aps)\n"
      ],
      "metadata": {
        "id": "B32jyG6cFjwQ"
      },
      "id": "B32jyG6cFjwQ",
      "execution_count": 24,
      "outputs": []
    },
    {
      "cell_type": "code",
      "source": [
        "def ndcg_at_k(y_true, y_pred, k):\n",
        "    ndcgs = []\n",
        "    for true, pred in zip(y_true, y_pred):\n",
        "        dcg = sum([int(pred[i] in true) / np.log2(i + 2) for i in range(min(k, len(pred)))])\n",
        "        idcg = sum([1 / np.log2(i + 2) for i in range(min(k, len(true)))])\n",
        "        ndcgs.append(dcg / idcg if idcg > 0 else 0)\n",
        "    return sum(ndcgs) / len(ndcgs)\n"
      ],
      "metadata": {
        "id": "y5NzeC1QFrUo"
      },
      "id": "y5NzeC1QFrUo",
      "execution_count": 25,
      "outputs": []
    },
    {
      "cell_type": "code",
      "source": [
        "def precision_at_k(y_true, y_pred, k):\n",
        "    precisions = []\n",
        "    for true, pred in zip(y_true, y_pred):\n",
        "        relevant = sum([1 for i in pred[:k] if i in true])\n",
        "        precisions.append(relevant / k)\n",
        "    return sum(precisions) / len(precisions)\n",
        "\n",
        "def recall_at_k(y_true, y_pred, k):\n",
        "    recalls = []\n",
        "    for true, pred in zip(y_true, y_pred):\n",
        "        relevant = sum([1 for i in pred[:k] if i in true])\n",
        "        recalls.append(relevant / len(true) if true else 0)\n",
        "    return sum(recalls) / len(recalls)\n"
      ],
      "metadata": {
        "id": "JCe2Uf46FwC_"
      },
      "id": "JCe2Uf46FwC_",
      "execution_count": 26,
      "outputs": []
    },
    {
      "cell_type": "markdown",
      "source": [
        "## Métricas de Diversidad: ¡Enfoque del Estudio!\n",
        "- **User Diversity**: Métrica propuesta por la investigación\n",
        "- Long Tail\n",
        "- Shannon Entropy\n",
        "- Intra List Diversity\n",
        "- Diversity Coverage\n",
        "- Inverse Propensity Score"
      ],
      "metadata": {
        "id": "rglfPPn-FY9m"
      },
      "id": "rglfPPn-FY9m"
    },
    {
      "cell_type": "markdown",
      "source": [
        "### Definición de **USER DIVERSITY**, la métrica de la investigación.\n",
        "1. `UD = 1 - (|∑{j=1...k}[(R_j/R)*log(R_j/R)]| / log(k))`\n",
        "2. `k`: número de categorías para un usuario.\n",
        "3. `R`: número total de recomendaciones.\n",
        "4. `(R_j/R)`: Proporción de recomendaciones del usuario que pertenecen a la categoría `j`\n",
        "5. `log(...)`: para penalizar concentración excesiva en una sola categoría.\n",
        "6. `/ log(k)`: normaliza el valor.\n",
        "7. `1 - `: Valor resultante entre 0 y 1.\n",
        "8. *Valor alto*: alta diversidad en las recomendaciones recibidas por el usuario (pertenecen a varias categorías favoritas)"
      ],
      "metadata": {
        "id": "oXevyS22FdZP"
      },
      "id": "oXevyS22FdZP"
    },
    {
      "cell_type": "code",
      "source": [
        "def user_diversity(recommendations, category_map, k):\n",
        "    user_diversities = []\n",
        "    for user_recommendations in recommendations:\n",
        "        category_counts = {}\n",
        "        for item in user_recommendations[:k]:\n",
        "            category = category_map.get(item, None)\n",
        "            if category:\n",
        "                category_counts[category] = category_counts.get(category, 0) + 1\n",
        "\n",
        "        R = sum(category_counts.values())\n",
        "        UD = 0\n",
        "        for Rj in category_counts.values():\n",
        "            if Rj > 0:\n",
        "                UD += (Rj / R) * np.log(Rj / R)\n",
        "        UD = -UD / np.log(k) if k > 1 else 0\n",
        "        user_diversities.append(1 - UD)\n",
        "    return sum(user_diversities) / len(user_diversities)\n"
      ],
      "metadata": {
        "id": "OE-i-H7jF1Cg"
      },
      "id": "OE-i-H7jF1Cg",
      "execution_count": 27,
      "outputs": []
    },
    {
      "cell_type": "markdown",
      "source": [
        "### **Long Tail**:\n",
        "Mide que tan diversas son las recomendaciones en términos de popularidad de los items.\n",
        "1.  Equación: `LT = |Intersection(Rec, TailItems)| / |Rec|`\n",
        "2. Parametro `beta=0.4`: define umbral para considerar item como parte de la cola larga.\n",
        "3. *Valor alto*: se recomiendan más items poco populares\n",
        "\n"
      ],
      "metadata": {
        "id": "w_wn0BFUF9tt"
      },
      "id": "w_wn0BFUF9tt"
    },
    {
      "cell_type": "code",
      "source": [
        "def long_tail(recommendations, popularity_map, threshold):\n",
        "    long_tail_items = [item for item, pop in popularity_map.items() if pop <= threshold]\n",
        "    long_tail_recommendations = sum([item in long_tail_items for recs in recommendations for item in recs])\n",
        "    total_recommendations = sum([len(recs) for recs in recommendations])\n",
        "    return long_tail_recommendations / total_recommendations\n"
      ],
      "metadata": {
        "id": "ZKqsJOzAF4ME"
      },
      "id": "ZKqsJOzAF4ME",
      "execution_count": 28,
      "outputs": []
    },
    {
      "cell_type": "markdown",
      "source": [
        "### **Entropía de Shannon**:\n",
        "Mide la incertidumbre o aleatoriedad de la distribución de recomendaciones.\n",
        "1. `H = -∑(pi*log2(pi)) / log2(n)`\n",
        "2. `pi`: probabilidad de cada item en las recomendaciones\n",
        "3. *Valor alto*: mayor aleatoriedad/diversidad en las recomendaciones.\n"
      ],
      "metadata": {
        "id": "H988V2gnGL3u"
      },
      "id": "H988V2gnGL3u"
    },
    {
      "cell_type": "code",
      "source": [
        "def shannon_entropy(recommendations, category_map):\n",
        "    entropies = []\n",
        "    for user_recommendations in recommendations:\n",
        "        category_counts = {}\n",
        "        for item in user_recommendations:\n",
        "            category = category_map.get(item, None)\n",
        "            if category:\n",
        "                category_counts[category] = category_counts.get(category, 0) + 1\n",
        "        total = sum(category_counts.values())\n",
        "        entropy = -sum([(count / total) * np.log2(count / total) for count in category_counts.values() if count > 0])\n",
        "        entropies.append(entropy)\n",
        "    return sum(entropies) / len(entropies)\n"
      ],
      "metadata": {
        "id": "I9LbuRC3GAVq"
      },
      "id": "I9LbuRC3GAVq",
      "execution_count": 29,
      "outputs": []
    },
    {
      "cell_type": "markdown",
      "source": [
        "### **Intra List Diversity**:\n",
        "Calcula diversidad basándose en la similitud entre los items.\n",
        "1. `ILD = ∑∑(d(i,j)) / (n*(n-1)/2)`\n",
        "2. `d(i,j)`: es la distancia entre los items `i` y `j`, usando coseno\n",
        "3. *Valor alto*: mayor diversidad entre los items recomendados.\n"
      ],
      "metadata": {
        "id": "OC1QiOy-GOpk"
      },
      "id": "OC1QiOy-GOpk"
    },
    {
      "cell_type": "code",
      "source": [
        "def intra_list_diversity(recommendations, category_map):\n",
        "    ild_scores = []\n",
        "    for user_recommendations in recommendations:\n",
        "        categories = [category_map.get(item, None) for item in user_recommendations]\n",
        "        unique_categories = set(categories)\n",
        "        ild = len(unique_categories) / len(categories) if categories else 0\n",
        "        ild_scores.append(ild)\n",
        "    return sum(ild_scores) / len(ild_scores)\n"
      ],
      "metadata": {
        "id": "PYe7KOy1GCPk"
      },
      "id": "PYe7KOy1GCPk",
      "execution_count": 30,
      "outputs": []
    },
    {
      "cell_type": "markdown",
      "source": [
        "### **Diversity Coverage**:\n",
        "Mide la cobertura como la proporción de items únicos recomendados respceto al total de items posibles.\n",
        "1. `DC = |Unique_Rec| / |All Items|`\n",
        "2. *Valor alto*: se están recomendando items de todo el catálogo"
      ],
      "metadata": {
        "id": "j8vR3OIGGROa"
      },
      "id": "j8vR3OIGGROa"
    },
    {
      "cell_type": "code",
      "source": [
        "def diversity_coverage(recommendations, category_map):\n",
        "    all_categories = set(category_map.values())\n",
        "    recommended_categories = set(category_map[item] for recs in recommendations for item in recs if item in category_map)\n",
        "    return len(recommended_categories) / len(all_categories)\n"
      ],
      "metadata": {
        "id": "JFFUY5bxGFVN"
      },
      "id": "JFFUY5bxGFVN",
      "execution_count": 31,
      "outputs": []
    },
    {
      "cell_type": "markdown",
      "source": [
        "### **Inverse Propensity Score** (IPS):\n",
        "Penaliza la recomendación de items muy populares\n",
        "1. `IPS = (1/p(i))`\n",
        "2. Parametro `lambda` para suavizar la propensidad\n",
        "3. `p(i)`: probabilidad que el item `i` sea seleccionado\n",
        "4. *Valor alto*: se están recomendando más items poco probables."
      ],
      "metadata": {
        "id": "I_3z1_6MGUAS"
      },
      "id": "I_3z1_6MGUAS"
    },
    {
      "cell_type": "code",
      "source": [
        "def inverse_propensity_score(recommendations, propensity_map):\n",
        "    ips_scores = []\n",
        "    for user_recommendations in recommendations:\n",
        "        scores = [1 / propensity_map[item] for item in user_recommendations if item in propensity_map]\n",
        "        ips_scores.append(sum(scores) / len(scores) if scores else 0)\n",
        "    return sum(ips_scores) / len(ips_scores)\n"
      ],
      "metadata": {
        "id": "0B9vR74kGG9X"
      },
      "id": "0B9vR74kGG9X",
      "execution_count": 32,
      "outputs": []
    },
    {
      "cell_type": "markdown",
      "source": [
        "# Ejecución de Métodos\n",
        "\n",
        "Creamos una función para ejecutar el modelo con parametros modificables correspondientes a:\n",
        "- `test_data`: Datos para testeo del modelo\n",
        "- `train_data`: Datos para entrenamiento del modelo\n",
        "- `top_n`: Para recommendación *Modelo* (Most Popular, Random, Collaborative, Hibrido)\n",
        "- `k`: Cuantos clusters de géneros se considerarán para los usuarios\n",
        "- `beta_lt`: Parametro beta de métrica *Long Tail*, define umbral para considerar un item como parte de la *Long Tail*\n",
        "- `lambda_ips`: Parámetro de métrica *Inverse Propensity Score*, sirve para suavizar el resultado."
      ],
      "metadata": {
        "id": "lQrboMT4G6ST"
      },
      "id": "lQrboMT4G6ST"
    },
    {
      "cell_type": "code",
      "source": [
        "def most_popular_metrics(test_data, train_data, top_n, k, beta_lt=0.4, lambda_ips=0.5):\n",
        "    map_sum = 0\n",
        "    ndcg_sum = 0\n",
        "    precision_sum = 0\n",
        "    recall_sum = 0\n",
        "    diversity_sum = 0\n",
        "    lt_sum = 0\n",
        "    entropy_sum = 0\n",
        "    ild_sum = 0\n",
        "    dc_sum = 0\n",
        "    ips_sum = 0\n",
        "    user_count = 0\n",
        "\n",
        "    # Obtener las categorías principales de prueba\n",
        "    top_k_categories_data = get_top_k_categories(test_data, k)\n",
        "\n",
        "    # Crear mapa de categorías (business_id -> relevant_category)\n",
        "    category_map = dict(zip(train_data['business_id'], train_data['relevant_category']))\n",
        "\n",
        "    for userid in test_data['user_id'].unique():\n",
        "        # Generar la lista de recomendaciones para el usuario actual\n",
        "        recommend_list = recommend_most_popular(userid, train_data, top_n)\n",
        "\n",
        "        # Calcular métricas para el usuario\n",
        "        map_user = mean_average_precision([test_data[test_data['user_id'] == userid]['business_id'].tolist()], [recommend_list], top_n)\n",
        "        ndcg_user = ndcg_at_k([test_data[test_data['user_id'] == userid]['business_id'].tolist()], [recommend_list], top_n)\n",
        "        precision_user = precision_at_k([test_data[test_data['user_id'] == userid]['business_id'].tolist()], [recommend_list], top_n)\n",
        "        recall_user = recall_at_k([test_data[test_data['user_id'] == userid]['business_id'].tolist()], [recommend_list], top_n)\n",
        "        diversity_user = user_diversity([recommend_list], category_map, k)\n",
        "        lt_user = long_tail([recommend_list], dict(train_data['business_id'].value_counts()), beta_lt)\n",
        "        entropy_user = shannon_entropy([recommend_list], category_map)\n",
        "        ild_user = intra_list_diversity([recommend_list], category_map)\n",
        "        dc_user = diversity_coverage([recommend_list], category_map)\n",
        "        ips_user = inverse_propensity_score([recommend_list], dict(train_data['business_id'].value_counts(normalize=True)))\n",
        "\n",
        "        # Sumar las métricas\n",
        "        map_sum += map_user\n",
        "        ndcg_sum += ndcg_user\n",
        "        precision_sum += precision_user\n",
        "        recall_sum += recall_user\n",
        "        diversity_sum += diversity_user\n",
        "        lt_sum += lt_user\n",
        "        entropy_sum += entropy_user\n",
        "        ild_sum += ild_user\n",
        "        dc_sum += dc_user\n",
        "        ips_sum += ips_user\n",
        "        user_count += 1\n",
        "\n",
        "    # Promedio de métricas\n",
        "    return {\n",
        "        \"MAP\": map_sum / user_count,\n",
        "        \"nDCG\": ndcg_sum / user_count,\n",
        "        \"Precision\": precision_sum / user_count,\n",
        "        \"Recall\": recall_sum / user_count,\n",
        "        \"User_Diversity\": diversity_sum / user_count,\n",
        "        \"Long_Tail\": lt_sum / user_count,\n",
        "        \"Shannon_Entropy\": entropy_sum / user_count,\n",
        "        \"Intra_List_Diversity\": ild_sum / user_count,\n",
        "        \"Diversity_Coverage\": dc_sum / user_count,\n",
        "        \"Inverse_Propensity_Score\": ips_sum / user_count\n",
        "    }\n"
      ],
      "metadata": {
        "id": "MKBc56JuGrH_"
      },
      "id": "MKBc56JuGrH_",
      "execution_count": 33,
      "outputs": []
    },
    {
      "cell_type": "markdown",
      "source": [
        "## Metodo Random"
      ],
      "metadata": {
        "id": "Atcg9aIsHnVX"
      },
      "id": "Atcg9aIsHnVX"
    },
    {
      "cell_type": "code",
      "source": [
        "def random_metrics(test_data, train_data, top_n, k, beta_lt=0.4, lambda_ips=0.5):\n",
        "    map_sum = 0\n",
        "    ndcg_sum = 0\n",
        "    precision_sum = 0\n",
        "    recall_sum = 0\n",
        "    diversity_sum = 0\n",
        "    lt_sum = 0\n",
        "    entropy_sum = 0\n",
        "    ild_sum = 0\n",
        "    dc_sum = 0\n",
        "    ips_sum = 0\n",
        "    user_count = 0\n",
        "\n",
        "    # Obtener las categorías principales de prueba\n",
        "    top_k_categories_data = get_top_k_categories(test_data, k)\n",
        "\n",
        "    # Crear mapa de categorías (business_id -> relevant_category)\n",
        "    category_map = dict(zip(train_data['business_id'], train_data['relevant_category']))\n",
        "\n",
        "    for userid in test_data['user_id'].unique():\n",
        "        # Generar la lista de recomendaciones para el usuario actual\n",
        "        recommend_list = recommend_random(userid, train_data, top_n)\n",
        "\n",
        "        # Calcular métricas para el usuario\n",
        "        map_user = mean_average_precision([test_data[test_data['user_id'] == userid]['business_id'].tolist()], [recommend_list], top_n)\n",
        "        ndcg_user = ndcg_at_k([test_data[test_data['user_id'] == userid]['business_id'].tolist()], [recommend_list], top_n)\n",
        "        precision_user = precision_at_k([test_data[test_data['user_id'] == userid]['business_id'].tolist()], [recommend_list], top_n)\n",
        "        recall_user = recall_at_k([test_data[test_data['user_id'] == userid]['business_id'].tolist()], [recommend_list], top_n)\n",
        "        diversity_user = user_diversity([recommend_list], category_map, k)\n",
        "        lt_user = long_tail([recommend_list], dict(train_data['business_id'].value_counts()), beta_lt)\n",
        "        entropy_user = shannon_entropy([recommend_list], category_map)\n",
        "        ild_user = intra_list_diversity([recommend_list], category_map)\n",
        "        dc_user = diversity_coverage([recommend_list], category_map)\n",
        "        ips_user = inverse_propensity_score([recommend_list], dict(train_data['business_id'].value_counts(normalize=True)))\n",
        "\n",
        "        # Sumar las métricas\n",
        "        map_sum += map_user\n",
        "        ndcg_sum += ndcg_user\n",
        "        precision_sum += precision_user\n",
        "        recall_sum += recall_user\n",
        "        diversity_sum += diversity_user\n",
        "        lt_sum += lt_user\n",
        "        entropy_sum += entropy_user\n",
        "        ild_sum += ild_user\n",
        "        dc_sum += dc_user\n",
        "        ips_sum += ips_user\n",
        "        user_count += 1\n",
        "\n",
        "    # Promedio de métricas\n",
        "    return {\n",
        "        \"MAP\": map_sum / user_count,\n",
        "        \"nDCG\": ndcg_sum / user_count,\n",
        "        \"Precision\": precision_sum / user_count,\n",
        "        \"Recall\": recall_sum / user_count,\n",
        "        \"User_Diversity\": diversity_sum / user_count,\n",
        "        \"Long_Tail\": lt_sum / user_count,\n",
        "        \"Shannon_Entropy\": entropy_sum / user_count,\n",
        "        \"Intra_List_Diversity\": ild_sum / user_count,\n",
        "        \"Diversity_Coverage\": dc_sum / user_count,\n",
        "        \"Inverse_Propensity_Score\": ips_sum / user_count\n",
        "    }\n"
      ],
      "metadata": {
        "id": "doUGhmC0HhXW"
      },
      "id": "doUGhmC0HhXW",
      "execution_count": 34,
      "outputs": []
    },
    {
      "cell_type": "markdown",
      "source": [
        "## Ejecución y obtención de métricas\n",
        "\n",
        "Ahora con las funciones definidas para obtener las metricas las ejecutamos para obtener las metrcicas con 10 recomendaciones por modelo, 5 clusters por usuario, es decir 3 top generos por usuario. La beta para el long tail es de 40% mientras que para ips es de 50%.\n",
        "\n",
        "### Método Most Popular"
      ],
      "metadata": {
        "id": "2IpNHQGSHZWw"
      },
      "id": "2IpNHQGSHZWw"
    },
    {
      "cell_type": "code",
      "source": [
        "metric_results = most_popular_metrics(data_rest_test, data_rest_train, 10, 3, beta_lt=0.4, lambda_ips=0.5)\n",
        "print(f\"MAP: {metric_results['MAP']}\")\n",
        "print(f\"nDCG: {metric_results['nDCG']}\")\n",
        "print(f\"Precision: {metric_results['Precision']}\")\n",
        "print(f\"Recall: {metric_results['Recall']}\")\n",
        "print(f\"User_Diversity: {metric_results['User_Diversity']}\")\n",
        "print(f\"Long_Tail: {metric_results['Long_Tail']}\")\n",
        "print(f\"Shannon_Entropy: {metric_results['Shannon_Entropy']}\")\n",
        "print(f\"Intra_List_Diversity: {metric_results['Intra_List_Diversity']}\")\n",
        "print(f\"Diversity_Coverage: {metric_results['Diversity_Coverage']}\")\n",
        "print(f\"Inverse_Propensity_Score: {metric_results['Inverse_Propensity_Score']}\")"
      ],
      "metadata": {
        "id": "YeD8rlx4Hdnf"
      },
      "id": "YeD8rlx4Hdnf",
      "execution_count": null,
      "outputs": []
    },
    {
      "cell_type": "markdown",
      "source": [
        "## Metodo Random"
      ],
      "metadata": {
        "id": "juGQKDLGHseC"
      },
      "id": "juGQKDLGHseC"
    },
    {
      "cell_type": "code",
      "source": [
        "metric_results_random = random_metrics(data_rest_test, data_rest_train, 10, 3, beta_lt=0.4, lambda_ips=0.5)\n",
        "print(f\"MAP: {metric_results_random['MAP']}\")\n",
        "print(f\"nDCG: {metric_results_random['nDCG']}\")\n",
        "print(f\"Precision: {metric_results_random['Precision']}\")\n",
        "print(f\"Recall: {metric_results_random['Recall']}\")\n",
        "print(f\"User_Diversity: {metric_results_random['User_Diversity']}\")\n",
        "print(f\"Long_Tail: {metric_results_random['Long_Tail']}\")\n",
        "print(f\"Shannon_Entropy: {metric_results_random['Shannon_Entropy']}\")\n",
        "print(f\"Intra_List_Diversity: {metric_results_random['Intra_List_Diversity']}\")\n",
        "print(f\"Diversity_Coverage: {metric_results_random['Diversity_Coverage']}\")\n",
        "print(f\"Inverse_Propensity_Score: {metric_results_random['Inverse_Propensity_Score']}\")"
      ],
      "metadata": {
        "id": "Y2deuAwRHqVE"
      },
      "id": "Y2deuAwRHqVE",
      "execution_count": null,
      "outputs": []
    }
  ],
  "metadata": {
    "colab": {
      "provenance": [],
      "include_colab_link": true
    },
    "kernelspec": {
      "display_name": "Python 3",
      "name": "python3"
    },
    "language_info": {
      "name": "python"
    }
  },
  "nbformat": 4,
  "nbformat_minor": 5
}