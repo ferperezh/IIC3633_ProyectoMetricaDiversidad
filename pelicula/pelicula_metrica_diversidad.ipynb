{
  "cells": [
    {
      "cell_type": "markdown",
      "metadata": {
        "id": "view-in-github",
        "colab_type": "text"
      },
      "source": [
        "<a href=\"https://colab.research.google.com/github/ferperezh/IIC3633_ProyectoMetricaDiversidad/blob/IKNN/pelicula/pelicula_metrica_diversidad.ipynb\" target=\"_parent\"><img src=\"https://colab.research.google.com/assets/colab-badge.svg\" alt=\"Open In Colab\"/></a>"
      ]
    },
    {
      "cell_type": "markdown",
      "metadata": {
        "id": "YlgUktzAgpDd"
      },
      "source": [
        "# Métrica **Diversidad de Usuario** en la Película"
      ]
    },
    {
      "cell_type": "markdown",
      "metadata": {
        "id": "SZGEvrNhg04J"
      },
      "source": [
        "## Importar los datos\n",
        "Es necesario agregar el archivo \"kaggle.json\" disponible en el repositorio al entorno de archivos del Colab:\n",
        "- https://github.com/ferperezh/IIC3633_ProyectoMetricaDiversidad/blob/main/kaggle.json"
      ]
    },
    {
      "cell_type": "code",
      "execution_count": 1,
      "metadata": {
        "id": "cyOa1v13lzbj",
        "colab": {
          "base_uri": "https://localhost:8080/"
        },
        "outputId": "73347591-4613-4fb5-c309-ebe41b5e09f5"
      },
      "outputs": [
        {
          "output_type": "stream",
          "name": "stdout",
          "text": [
            "cp: cannot stat 'kaggle.json': No such file or directory\n",
            "chmod: cannot access '/root/.kaggle/kaggle.json': No such file or directory\n"
          ]
        }
      ],
      "source": [
        "# Crear el directorio .kaggle en Colab\n",
        "!mkdir -p ~/.kaggle\n",
        "\n",
        "# Mover el archivo kaggle.json al directorio .kaggle\n",
        "!cp kaggle.json ~/.kaggle/\n",
        "\n",
        "# Cambiar los permisos del archivo kaggle.json para asegurar privacidad\n",
        "!chmod 600 ~/.kaggle/kaggle.json"
      ]
    },
    {
      "cell_type": "code",
      "execution_count": 2,
      "metadata": {
        "colab": {
          "base_uri": "https://localhost:8080/"
        },
        "id": "voZmyq50pPvk",
        "outputId": "2bad9d6e-0ef7-4f3d-f921-561e44d09da3"
      },
      "outputs": [
        {
          "output_type": "stream",
          "name": "stdout",
          "text": [
            "Requirement already satisfied: kaggle in /usr/local/lib/python3.10/dist-packages (1.6.17)\n",
            "Requirement already satisfied: six>=1.10 in /usr/local/lib/python3.10/dist-packages (from kaggle) (1.16.0)\n",
            "Requirement already satisfied: certifi>=2023.7.22 in /usr/local/lib/python3.10/dist-packages (from kaggle) (2024.8.30)\n",
            "Requirement already satisfied: python-dateutil in /usr/local/lib/python3.10/dist-packages (from kaggle) (2.8.2)\n",
            "Requirement already satisfied: requests in /usr/local/lib/python3.10/dist-packages (from kaggle) (2.32.3)\n",
            "Requirement already satisfied: tqdm in /usr/local/lib/python3.10/dist-packages (from kaggle) (4.66.6)\n",
            "Requirement already satisfied: python-slugify in /usr/local/lib/python3.10/dist-packages (from kaggle) (8.0.4)\n",
            "Requirement already satisfied: urllib3 in /usr/local/lib/python3.10/dist-packages (from kaggle) (2.2.3)\n",
            "Requirement already satisfied: bleach in /usr/local/lib/python3.10/dist-packages (from kaggle) (6.2.0)\n",
            "Requirement already satisfied: webencodings in /usr/local/lib/python3.10/dist-packages (from bleach->kaggle) (0.5.1)\n",
            "Requirement already satisfied: text-unidecode>=1.3 in /usr/local/lib/python3.10/dist-packages (from python-slugify->kaggle) (1.3)\n",
            "Requirement already satisfied: charset-normalizer<4,>=2 in /usr/local/lib/python3.10/dist-packages (from requests->kaggle) (3.4.0)\n",
            "Requirement already satisfied: idna<4,>=2.5 in /usr/local/lib/python3.10/dist-packages (from requests->kaggle) (3.10)\n",
            "Requirement already satisfied: fastFM in /usr/local/lib/python3.10/dist-packages (0.2.10)\n",
            "Requirement already satisfied: numpy in /usr/local/lib/python3.10/dist-packages (from fastFM) (1.26.4)\n",
            "Requirement already satisfied: scikit-learn in /usr/local/lib/python3.10/dist-packages (from fastFM) (1.5.2)\n",
            "Requirement already satisfied: scipy in /usr/local/lib/python3.10/dist-packages (from fastFM) (1.13.1)\n",
            "Requirement already satisfied: cython in /usr/local/lib/python3.10/dist-packages (from fastFM) (3.0.11)\n",
            "Requirement already satisfied: joblib>=1.2.0 in /usr/local/lib/python3.10/dist-packages (from scikit-learn->fastFM) (1.4.2)\n",
            "Requirement already satisfied: threadpoolctl>=3.1.0 in /usr/local/lib/python3.10/dist-packages (from scikit-learn->fastFM) (3.5.0)\n",
            "Requirement already satisfied: tensorflow in /usr/local/lib/python3.10/dist-packages (2.17.1)\n",
            "Requirement already satisfied: absl-py>=1.0.0 in /usr/local/lib/python3.10/dist-packages (from tensorflow) (1.4.0)\n",
            "Requirement already satisfied: astunparse>=1.6.0 in /usr/local/lib/python3.10/dist-packages (from tensorflow) (1.6.3)\n",
            "Requirement already satisfied: flatbuffers>=24.3.25 in /usr/local/lib/python3.10/dist-packages (from tensorflow) (24.3.25)\n",
            "Requirement already satisfied: gast!=0.5.0,!=0.5.1,!=0.5.2,>=0.2.1 in /usr/local/lib/python3.10/dist-packages (from tensorflow) (0.6.0)\n",
            "Requirement already satisfied: google-pasta>=0.1.1 in /usr/local/lib/python3.10/dist-packages (from tensorflow) (0.2.0)\n",
            "Requirement already satisfied: h5py>=3.10.0 in /usr/local/lib/python3.10/dist-packages (from tensorflow) (3.12.1)\n",
            "Requirement already satisfied: libclang>=13.0.0 in /usr/local/lib/python3.10/dist-packages (from tensorflow) (18.1.1)\n",
            "Requirement already satisfied: ml-dtypes<0.5.0,>=0.3.1 in /usr/local/lib/python3.10/dist-packages (from tensorflow) (0.4.1)\n",
            "Requirement already satisfied: opt-einsum>=2.3.2 in /usr/local/lib/python3.10/dist-packages (from tensorflow) (3.4.0)\n",
            "Requirement already satisfied: packaging in /usr/local/lib/python3.10/dist-packages (from tensorflow) (24.2)\n",
            "Requirement already satisfied: protobuf!=4.21.0,!=4.21.1,!=4.21.2,!=4.21.3,!=4.21.4,!=4.21.5,<5.0.0dev,>=3.20.3 in /usr/local/lib/python3.10/dist-packages (from tensorflow) (4.25.5)\n",
            "Requirement already satisfied: requests<3,>=2.21.0 in /usr/local/lib/python3.10/dist-packages (from tensorflow) (2.32.3)\n",
            "Requirement already satisfied: setuptools in /usr/local/lib/python3.10/dist-packages (from tensorflow) (75.1.0)\n",
            "Requirement already satisfied: six>=1.12.0 in /usr/local/lib/python3.10/dist-packages (from tensorflow) (1.16.0)\n",
            "Requirement already satisfied: termcolor>=1.1.0 in /usr/local/lib/python3.10/dist-packages (from tensorflow) (2.5.0)\n",
            "Requirement already satisfied: typing-extensions>=3.6.6 in /usr/local/lib/python3.10/dist-packages (from tensorflow) (4.12.2)\n",
            "Requirement already satisfied: wrapt>=1.11.0 in /usr/local/lib/python3.10/dist-packages (from tensorflow) (1.17.0)\n",
            "Requirement already satisfied: grpcio<2.0,>=1.24.3 in /usr/local/lib/python3.10/dist-packages (from tensorflow) (1.68.1)\n",
            "Requirement already satisfied: tensorboard<2.18,>=2.17 in /usr/local/lib/python3.10/dist-packages (from tensorflow) (2.17.1)\n",
            "Requirement already satisfied: keras>=3.2.0 in /usr/local/lib/python3.10/dist-packages (from tensorflow) (3.5.0)\n",
            "Requirement already satisfied: tensorflow-io-gcs-filesystem>=0.23.1 in /usr/local/lib/python3.10/dist-packages (from tensorflow) (0.37.1)\n",
            "Requirement already satisfied: numpy<2.0.0,>=1.23.5 in /usr/local/lib/python3.10/dist-packages (from tensorflow) (1.26.4)\n",
            "Requirement already satisfied: wheel<1.0,>=0.23.0 in /usr/local/lib/python3.10/dist-packages (from astunparse>=1.6.0->tensorflow) (0.45.1)\n",
            "Requirement already satisfied: rich in /usr/local/lib/python3.10/dist-packages (from keras>=3.2.0->tensorflow) (13.9.4)\n",
            "Requirement already satisfied: namex in /usr/local/lib/python3.10/dist-packages (from keras>=3.2.0->tensorflow) (0.0.8)\n",
            "Requirement already satisfied: optree in /usr/local/lib/python3.10/dist-packages (from keras>=3.2.0->tensorflow) (0.13.1)\n",
            "Requirement already satisfied: charset-normalizer<4,>=2 in /usr/local/lib/python3.10/dist-packages (from requests<3,>=2.21.0->tensorflow) (3.4.0)\n",
            "Requirement already satisfied: idna<4,>=2.5 in /usr/local/lib/python3.10/dist-packages (from requests<3,>=2.21.0->tensorflow) (3.10)\n",
            "Requirement already satisfied: urllib3<3,>=1.21.1 in /usr/local/lib/python3.10/dist-packages (from requests<3,>=2.21.0->tensorflow) (2.2.3)\n",
            "Requirement already satisfied: certifi>=2017.4.17 in /usr/local/lib/python3.10/dist-packages (from requests<3,>=2.21.0->tensorflow) (2024.8.30)\n",
            "Requirement already satisfied: markdown>=2.6.8 in /usr/local/lib/python3.10/dist-packages (from tensorboard<2.18,>=2.17->tensorflow) (3.7)\n",
            "Requirement already satisfied: tensorboard-data-server<0.8.0,>=0.7.0 in /usr/local/lib/python3.10/dist-packages (from tensorboard<2.18,>=2.17->tensorflow) (0.7.2)\n",
            "Requirement already satisfied: werkzeug>=1.0.1 in /usr/local/lib/python3.10/dist-packages (from tensorboard<2.18,>=2.17->tensorflow) (3.1.3)\n",
            "Requirement already satisfied: MarkupSafe>=2.1.1 in /usr/local/lib/python3.10/dist-packages (from werkzeug>=1.0.1->tensorboard<2.18,>=2.17->tensorflow) (3.0.2)\n",
            "Requirement already satisfied: markdown-it-py>=2.2.0 in /usr/local/lib/python3.10/dist-packages (from rich->keras>=3.2.0->tensorflow) (3.0.0)\n",
            "Requirement already satisfied: pygments<3.0.0,>=2.13.0 in /usr/local/lib/python3.10/dist-packages (from rich->keras>=3.2.0->tensorflow) (2.18.0)\n",
            "Requirement already satisfied: mdurl~=0.1 in /usr/local/lib/python3.10/dist-packages (from markdown-it-py>=2.2.0->rich->keras>=3.2.0->tensorflow) (0.1.2)\n"
          ]
        }
      ],
      "source": [
        "!pip install kaggle\n",
        "!pip install fastFM\n",
        "!pip install tensorflow"
      ]
    },
    {
      "cell_type": "code",
      "execution_count": 3,
      "metadata": {
        "colab": {
          "base_uri": "https://localhost:8080/"
        },
        "id": "OtEW04WVpTUP",
        "outputId": "d10d701f-68fa-4f76-b33c-28e8044c18cb"
      },
      "outputs": [
        {
          "output_type": "stream",
          "name": "stdout",
          "text": [
            "Dataset URL: https://www.kaggle.com/datasets/grouplens/movielens-20m-dataset\n",
            "License(s): unknown\n",
            "movielens-20m-dataset.zip: Skipping, found more recently modified local copy (use --force to force download)\n",
            "Path to dataset files: movielens-20m-dataset\n"
          ]
        }
      ],
      "source": [
        "# Descargar el dataset\n",
        "!kaggle datasets download -d grouplens/movielens-20m-dataset\n",
        "\n",
        "# Descomprimir el archivo zip descargado\n",
        "import zipfile\n",
        "with zipfile.ZipFile(\"movielens-20m-dataset.zip\", 'r') as zip_ref:\n",
        "    zip_ref.extractall(\"movielens-20m-dataset\")\n",
        "\n",
        "print(\"Path to dataset files: movielens-20m-dataset\")"
      ]
    },
    {
      "cell_type": "markdown",
      "metadata": {
        "id": "am1WAVqMhLyb"
      },
      "source": [
        "## Procesamiento de Datasets Peliculas\n",
        "Consideramos la tabla `ratings` para tener los ratings que un usuario le da a una pelicula dad. Por lo que obetenemos el promedio de rating que da cada usuario y luego consideramos solo las peliculas que estan sobre el promedio de cada usario. Esas vamos a considerar como las peliculas del usuario. Para luego hacer el join con `movie` mara obtener la metadata."
      ]
    },
    {
      "cell_type": "code",
      "execution_count": 4,
      "metadata": {
        "id": "baklulfhpbjD"
      },
      "outputs": [],
      "source": [
        "import pandas as pd\n",
        "\n",
        "genome_scores = pd.read_csv('movielens-20m-dataset/genome_scores.csv')\n",
        "genome_tags = pd.read_csv('movielens-20m-dataset/genome_tags.csv')\n",
        "links = pd.read_csv('movielens-20m-dataset/link.csv')\n",
        "movies = pd.read_csv('movielens-20m-dataset/movie.csv')\n",
        "ratings = pd.read_csv('movielens-20m-dataset/rating.csv')\n",
        "tags = pd.read_csv('movielens-20m-dataset/tag.csv')"
      ]
    },
    {
      "cell_type": "markdown",
      "source": [
        "Extraer muestra de ratings y movies"
      ],
      "metadata": {
        "id": "J-iJDEa7TbsR"
      }
    },
    {
      "cell_type": "code",
      "execution_count": 5,
      "metadata": {
        "id": "dWO3XS7oaaC3"
      },
      "outputs": [],
      "source": [
        "#Merge de ratings con movies\n",
        "movies_data = pd.merge(ratings, movies, on='movieId', how='inner')"
      ]
    },
    {
      "cell_type": "code",
      "source": [
        "movies_data['userId'].nunique(), movies_data['movieId'].nunique()"
      ],
      "metadata": {
        "colab": {
          "base_uri": "https://localhost:8080/"
        },
        "id": "GH-BSZYLWQ5x",
        "outputId": "615256a0-57fd-4e8b-f334-7fcb9288cc5e"
      },
      "execution_count": 6,
      "outputs": [
        {
          "output_type": "execute_result",
          "data": {
            "text/plain": [
              "(138493, 26744)"
            ]
          },
          "metadata": {},
          "execution_count": 6
        }
      ]
    },
    {
      "cell_type": "code",
      "source": [
        "movies_data['userId'].value_counts().min()"
      ],
      "metadata": {
        "colab": {
          "base_uri": "https://localhost:8080/"
        },
        "id": "pK4BDN35Y5NB",
        "outputId": "6f91b878-caa1-4ce1-82a4-89c1c2d35df8"
      },
      "execution_count": 7,
      "outputs": [
        {
          "output_type": "execute_result",
          "data": {
            "text/plain": [
              "20"
            ]
          },
          "metadata": {},
          "execution_count": 7
        }
      ]
    },
    {
      "cell_type": "code",
      "source": [
        "movies_data.shape[0], movies_data.columns"
      ],
      "metadata": {
        "id": "LvuEd78UTf88",
        "outputId": "a6a00792-28d9-4448-d8a4-6dbb3ef2801d",
        "colab": {
          "base_uri": "https://localhost:8080/"
        }
      },
      "execution_count": 8,
      "outputs": [
        {
          "output_type": "execute_result",
          "data": {
            "text/plain": [
              "(20000263,\n",
              " Index(['userId', 'movieId', 'rating', 'timestamp', 'title', 'genres'], dtype='object'))"
            ]
          },
          "metadata": {},
          "execution_count": 8
        }
      ]
    },
    {
      "cell_type": "code",
      "source": [
        "# Dividir ratings para obtener el 0.1% de los userId\n",
        "from sklearn.model_selection import train_test_split\n",
        "\n",
        "user_ids = movies_data['userId'].unique()\n",
        "train_user_ids, test_user_ids = train_test_split(user_ids, test_size=0.001, random_state=42)\n"
      ],
      "metadata": {
        "id": "T_9d9dpCZ4EN"
      },
      "execution_count": 9,
      "outputs": []
    },
    {
      "cell_type": "code",
      "source": [
        "train_user_ids.shape[0], test_user_ids.shape[0]"
      ],
      "metadata": {
        "colab": {
          "base_uri": "https://localhost:8080/"
        },
        "id": "iM0pq_lcaVHr",
        "outputId": "e85836e4-3938-45f7-c336-c5985781df67"
      },
      "execution_count": 10,
      "outputs": [
        {
          "output_type": "execute_result",
          "data": {
            "text/plain": [
              "(138354, 139)"
            ]
          },
          "metadata": {},
          "execution_count": 10
        }
      ]
    },
    {
      "cell_type": "code",
      "source": [
        "movies_data_sample = movies_data[movies_data['userId'].isin(test_user_ids)]"
      ],
      "metadata": {
        "id": "ljbq4tghaerS"
      },
      "execution_count": 11,
      "outputs": []
    },
    {
      "cell_type": "code",
      "source": [
        "movies_data_sample.shape[0], movies_data_sample['userId'].value_counts().min()"
      ],
      "metadata": {
        "id": "pyGI20SkUbxk",
        "outputId": "a2c623b1-68ad-42ae-b334-94cb340d0271",
        "colab": {
          "base_uri": "https://localhost:8080/"
        }
      },
      "execution_count": 12,
      "outputs": [
        {
          "output_type": "execute_result",
          "data": {
            "text/plain": [
              "(22848, 20)"
            ]
          },
          "metadata": {},
          "execution_count": 12
        }
      ]
    },
    {
      "cell_type": "code",
      "execution_count": 13,
      "metadata": {
        "id": "HTopHB3oaEoF",
        "colab": {
          "base_uri": "https://localhost:8080/"
        },
        "outputId": "484d3586-bcc1-490b-dfbf-64fd945aa15c"
      },
      "outputs": [
        {
          "output_type": "stream",
          "name": "stderr",
          "text": [
            "<ipython-input-13-703c3a7f694c>:8: SettingWithCopyWarning: \n",
            "A value is trying to be set on a copy of a slice from a DataFrame.\n",
            "Try using .loc[row_indexer,col_indexer] = value instead\n",
            "\n",
            "See the caveats in the documentation: https://pandas.pydata.org/pandas-docs/stable/user_guide/indexing.html#returning-a-view-versus-a-copy\n",
            "  movies_data_sample['rating_mean'] = movies_data_sample['userId'].map(ratings_por_usuario)\n"
          ]
        }
      ],
      "source": [
        "# Agrupar por usuario la tabla raitings para tener el rating promedio que le da a las peliculas\n",
        "ratings_por_usuario = movies_data_sample.groupby('userId')['rating'].mean()\n",
        "# Hacemos un round a la decima\n",
        "ratings_por_usuario = ratings_por_usuario.round(1)\n",
        "ratings_por_usuario\n",
        "\n",
        "# Ahora agregamos la columna rating_mean a la tabla rating con esta informacion\n",
        "movies_data_sample['rating_mean'] = movies_data_sample['userId'].map(ratings_por_usuario)"
      ]
    },
    {
      "cell_type": "code",
      "execution_count": 14,
      "metadata": {
        "id": "STDj83WdaFvq"
      },
      "outputs": [],
      "source": [
        "# Filtramos por todos los ratings que son mayor o igual al rating_mean\n",
        "movies_data_filtrados = movies_data_sample[movies_data_sample['rating'] >= movies_data_sample['rating_mean']]"
      ]
    },
    {
      "cell_type": "code",
      "source": [
        "movies_data_filtrados['userId'].value_counts().min(), movies_data_filtrados.shape[0]"
      ],
      "metadata": {
        "colab": {
          "base_uri": "https://localhost:8080/"
        },
        "id": "tCT4x6YHaIEn",
        "outputId": "49a5d496-246a-4b51-ebf9-946d4a214233"
      },
      "execution_count": 15,
      "outputs": [
        {
          "output_type": "execute_result",
          "data": {
            "text/plain": [
              "(4, 12650)"
            ]
          },
          "metadata": {},
          "execution_count": 15
        }
      ]
    },
    {
      "cell_type": "code",
      "source": [
        "# Filtrar por todos los userId que tengan mas de 30 movies\n",
        "movies_data_filtrados = movies_data_filtrados.groupby('userId').filter(lambda x: len(x) >= 30)"
      ],
      "metadata": {
        "id": "lTKCjVuYaURZ"
      },
      "execution_count": 16,
      "outputs": []
    },
    {
      "cell_type": "code",
      "source": [
        "movies_data_filtrados['userId'].value_counts().min(), movies_data_filtrados.shape[0]"
      ],
      "metadata": {
        "colab": {
          "base_uri": "https://localhost:8080/"
        },
        "id": "FgpHju2_amkW",
        "outputId": "5260f7b5-4ed3-4355-b80a-f51139ddfd6c"
      },
      "execution_count": 17,
      "outputs": [
        {
          "output_type": "execute_result",
          "data": {
            "text/plain": [
              "(30, 11596)"
            ]
          },
          "metadata": {},
          "execution_count": 17
        }
      ]
    },
    {
      "cell_type": "markdown",
      "metadata": {
        "id": "kbTYnKFCaTL4"
      },
      "source": [
        "Ahora las conectamos `ratings_filtrados` con la metada"
      ]
    },
    {
      "cell_type": "code",
      "execution_count": 18,
      "metadata": {
        "id": "gzXHFjL-apNe",
        "colab": {
          "base_uri": "https://localhost:8080/"
        },
        "outputId": "1fc07607-7806-46f1-bb6c-5ac4befedb2d"
      },
      "outputs": [
        {
          "output_type": "execute_result",
          "data": {
            "text/plain": [
              "30"
            ]
          },
          "metadata": {},
          "execution_count": 18
        }
      ],
      "source": [
        "movies_data_filtrados['userId'].value_counts().min()"
      ]
    },
    {
      "cell_type": "markdown",
      "metadata": {
        "id": "FJ2AjqFqanfV"
      },
      "source": [
        "Vemos que por pelicula tenemos varios generos separados por | . Pero consideremos todos los genermos por separados todos esos generos representan el genero de la pelicula."
      ]
    },
    {
      "cell_type": "markdown",
      "source": [
        "Tomamos el genero relevante como el primero que parece de la lista"
      ],
      "metadata": {
        "id": "_-JX1QlfJ36B"
      }
    },
    {
      "cell_type": "code",
      "source": [
        "movies_data_filtrados.shape[0]"
      ],
      "metadata": {
        "colab": {
          "base_uri": "https://localhost:8080/"
        },
        "id": "2wEhx_BFLGpV",
        "outputId": "d22399b7-c631-475f-e5c6-8757b80cb56a"
      },
      "execution_count": 19,
      "outputs": [
        {
          "output_type": "execute_result",
          "data": {
            "text/plain": [
              "11596"
            ]
          },
          "metadata": {},
          "execution_count": 19
        }
      ]
    },
    {
      "cell_type": "code",
      "source": [
        "movies_data_filtrados['relevant_genre'] = movies_data_filtrados['genres'].str.split('|').str[0]"
      ],
      "metadata": {
        "id": "nBa6Gzv-J7Uf"
      },
      "execution_count": 20,
      "outputs": []
    },
    {
      "cell_type": "code",
      "source": [
        "movies_data_filtrados"
      ],
      "metadata": {
        "colab": {
          "base_uri": "https://localhost:8080/",
          "height": 774
        },
        "id": "5wA-dA7SL5hW",
        "outputId": "854d4698-cd61-456a-d274-940b76f838c5"
      },
      "execution_count": 21,
      "outputs": [
        {
          "output_type": "execute_result",
          "data": {
            "text/plain": [
              "          userId  movieId  rating            timestamp  \\\n",
              "487654      3288        1     4.0  2003-02-20 18:42:56   \n",
              "487655      3288       10     4.0  2003-02-21 04:43:37   \n",
              "487657      3288       50     5.0  2003-02-09 22:56:16   \n",
              "487658      3288       62     4.5  2004-01-03 19:07:57   \n",
              "487659      3288      110     3.5  2004-01-03 19:08:24   \n",
              "...          ...      ...     ...                  ...   \n",
              "19973026  138289    45722     5.0  2007-03-12 22:12:22   \n",
              "19973029  138289    47610     5.0  2007-03-13 02:39:50   \n",
              "19973031  138289    48780     4.5  2007-03-13 02:36:26   \n",
              "19973032  138289    49272     5.0  2007-03-12 21:59:55   \n",
              "19973033  138289    51080     4.5  2007-03-13 02:30:20   \n",
              "\n",
              "                                                      title  \\\n",
              "487654                                     Toy Story (1995)   \n",
              "487655                                     GoldenEye (1995)   \n",
              "487657                           Usual Suspects, The (1995)   \n",
              "487658                            Mr. Holland's Opus (1995)   \n",
              "487659                                    Braveheart (1995)   \n",
              "...                                                     ...   \n",
              "19973026  Pirates of the Caribbean: Dead Man's Chest (2006)   \n",
              "19973029                            Illusionist, The (2006)   \n",
              "19973031                               Prestige, The (2006)   \n",
              "19973032                               Casino Royale (2006)   \n",
              "19973033                                      Breach (2007)   \n",
              "\n",
              "                                               genres  rating_mean  \\\n",
              "487654    Adventure|Animation|Children|Comedy|Fantasy          3.5   \n",
              "487655                      Action|Adventure|Thriller          3.5   \n",
              "487657                         Crime|Mystery|Thriller          3.5   \n",
              "487658                                          Drama          3.5   \n",
              "487659                               Action|Drama|War          3.5   \n",
              "...                                               ...          ...   \n",
              "19973026                     Action|Adventure|Fantasy          4.1   \n",
              "19973029                Drama|Fantasy|Mystery|Romance          4.1   \n",
              "19973031                Drama|Mystery|Sci-Fi|Thriller          4.1   \n",
              "19973032                    Action|Adventure|Thriller          4.1   \n",
              "19973033                               Drama|Thriller          4.1   \n",
              "\n",
              "         relevant_genre  \n",
              "487654        Adventure  \n",
              "487655           Action  \n",
              "487657            Crime  \n",
              "487658            Drama  \n",
              "487659           Action  \n",
              "...                 ...  \n",
              "19973026         Action  \n",
              "19973029          Drama  \n",
              "19973031          Drama  \n",
              "19973032         Action  \n",
              "19973033          Drama  \n",
              "\n",
              "[11596 rows x 8 columns]"
            ],
            "text/html": [
              "\n",
              "  <div id=\"df-b884318b-d5d0-47ce-8b43-b9ac44f3e843\" class=\"colab-df-container\">\n",
              "    <div>\n",
              "<style scoped>\n",
              "    .dataframe tbody tr th:only-of-type {\n",
              "        vertical-align: middle;\n",
              "    }\n",
              "\n",
              "    .dataframe tbody tr th {\n",
              "        vertical-align: top;\n",
              "    }\n",
              "\n",
              "    .dataframe thead th {\n",
              "        text-align: right;\n",
              "    }\n",
              "</style>\n",
              "<table border=\"1\" class=\"dataframe\">\n",
              "  <thead>\n",
              "    <tr style=\"text-align: right;\">\n",
              "      <th></th>\n",
              "      <th>userId</th>\n",
              "      <th>movieId</th>\n",
              "      <th>rating</th>\n",
              "      <th>timestamp</th>\n",
              "      <th>title</th>\n",
              "      <th>genres</th>\n",
              "      <th>rating_mean</th>\n",
              "      <th>relevant_genre</th>\n",
              "    </tr>\n",
              "  </thead>\n",
              "  <tbody>\n",
              "    <tr>\n",
              "      <th>487654</th>\n",
              "      <td>3288</td>\n",
              "      <td>1</td>\n",
              "      <td>4.0</td>\n",
              "      <td>2003-02-20 18:42:56</td>\n",
              "      <td>Toy Story (1995)</td>\n",
              "      <td>Adventure|Animation|Children|Comedy|Fantasy</td>\n",
              "      <td>3.5</td>\n",
              "      <td>Adventure</td>\n",
              "    </tr>\n",
              "    <tr>\n",
              "      <th>487655</th>\n",
              "      <td>3288</td>\n",
              "      <td>10</td>\n",
              "      <td>4.0</td>\n",
              "      <td>2003-02-21 04:43:37</td>\n",
              "      <td>GoldenEye (1995)</td>\n",
              "      <td>Action|Adventure|Thriller</td>\n",
              "      <td>3.5</td>\n",
              "      <td>Action</td>\n",
              "    </tr>\n",
              "    <tr>\n",
              "      <th>487657</th>\n",
              "      <td>3288</td>\n",
              "      <td>50</td>\n",
              "      <td>5.0</td>\n",
              "      <td>2003-02-09 22:56:16</td>\n",
              "      <td>Usual Suspects, The (1995)</td>\n",
              "      <td>Crime|Mystery|Thriller</td>\n",
              "      <td>3.5</td>\n",
              "      <td>Crime</td>\n",
              "    </tr>\n",
              "    <tr>\n",
              "      <th>487658</th>\n",
              "      <td>3288</td>\n",
              "      <td>62</td>\n",
              "      <td>4.5</td>\n",
              "      <td>2004-01-03 19:07:57</td>\n",
              "      <td>Mr. Holland's Opus (1995)</td>\n",
              "      <td>Drama</td>\n",
              "      <td>3.5</td>\n",
              "      <td>Drama</td>\n",
              "    </tr>\n",
              "    <tr>\n",
              "      <th>487659</th>\n",
              "      <td>3288</td>\n",
              "      <td>110</td>\n",
              "      <td>3.5</td>\n",
              "      <td>2004-01-03 19:08:24</td>\n",
              "      <td>Braveheart (1995)</td>\n",
              "      <td>Action|Drama|War</td>\n",
              "      <td>3.5</td>\n",
              "      <td>Action</td>\n",
              "    </tr>\n",
              "    <tr>\n",
              "      <th>...</th>\n",
              "      <td>...</td>\n",
              "      <td>...</td>\n",
              "      <td>...</td>\n",
              "      <td>...</td>\n",
              "      <td>...</td>\n",
              "      <td>...</td>\n",
              "      <td>...</td>\n",
              "      <td>...</td>\n",
              "    </tr>\n",
              "    <tr>\n",
              "      <th>19973026</th>\n",
              "      <td>138289</td>\n",
              "      <td>45722</td>\n",
              "      <td>5.0</td>\n",
              "      <td>2007-03-12 22:12:22</td>\n",
              "      <td>Pirates of the Caribbean: Dead Man's Chest (2006)</td>\n",
              "      <td>Action|Adventure|Fantasy</td>\n",
              "      <td>4.1</td>\n",
              "      <td>Action</td>\n",
              "    </tr>\n",
              "    <tr>\n",
              "      <th>19973029</th>\n",
              "      <td>138289</td>\n",
              "      <td>47610</td>\n",
              "      <td>5.0</td>\n",
              "      <td>2007-03-13 02:39:50</td>\n",
              "      <td>Illusionist, The (2006)</td>\n",
              "      <td>Drama|Fantasy|Mystery|Romance</td>\n",
              "      <td>4.1</td>\n",
              "      <td>Drama</td>\n",
              "    </tr>\n",
              "    <tr>\n",
              "      <th>19973031</th>\n",
              "      <td>138289</td>\n",
              "      <td>48780</td>\n",
              "      <td>4.5</td>\n",
              "      <td>2007-03-13 02:36:26</td>\n",
              "      <td>Prestige, The (2006)</td>\n",
              "      <td>Drama|Mystery|Sci-Fi|Thriller</td>\n",
              "      <td>4.1</td>\n",
              "      <td>Drama</td>\n",
              "    </tr>\n",
              "    <tr>\n",
              "      <th>19973032</th>\n",
              "      <td>138289</td>\n",
              "      <td>49272</td>\n",
              "      <td>5.0</td>\n",
              "      <td>2007-03-12 21:59:55</td>\n",
              "      <td>Casino Royale (2006)</td>\n",
              "      <td>Action|Adventure|Thriller</td>\n",
              "      <td>4.1</td>\n",
              "      <td>Action</td>\n",
              "    </tr>\n",
              "    <tr>\n",
              "      <th>19973033</th>\n",
              "      <td>138289</td>\n",
              "      <td>51080</td>\n",
              "      <td>4.5</td>\n",
              "      <td>2007-03-13 02:30:20</td>\n",
              "      <td>Breach (2007)</td>\n",
              "      <td>Drama|Thriller</td>\n",
              "      <td>4.1</td>\n",
              "      <td>Drama</td>\n",
              "    </tr>\n",
              "  </tbody>\n",
              "</table>\n",
              "<p>11596 rows × 8 columns</p>\n",
              "</div>\n",
              "    <div class=\"colab-df-buttons\">\n",
              "\n",
              "  <div class=\"colab-df-container\">\n",
              "    <button class=\"colab-df-convert\" onclick=\"convertToInteractive('df-b884318b-d5d0-47ce-8b43-b9ac44f3e843')\"\n",
              "            title=\"Convert this dataframe to an interactive table.\"\n",
              "            style=\"display:none;\">\n",
              "\n",
              "  <svg xmlns=\"http://www.w3.org/2000/svg\" height=\"24px\" viewBox=\"0 -960 960 960\">\n",
              "    <path d=\"M120-120v-720h720v720H120Zm60-500h600v-160H180v160Zm220 220h160v-160H400v160Zm0 220h160v-160H400v160ZM180-400h160v-160H180v160Zm440 0h160v-160H620v160ZM180-180h160v-160H180v160Zm440 0h160v-160H620v160Z\"/>\n",
              "  </svg>\n",
              "    </button>\n",
              "\n",
              "  <style>\n",
              "    .colab-df-container {\n",
              "      display:flex;\n",
              "      gap: 12px;\n",
              "    }\n",
              "\n",
              "    .colab-df-convert {\n",
              "      background-color: #E8F0FE;\n",
              "      border: none;\n",
              "      border-radius: 50%;\n",
              "      cursor: pointer;\n",
              "      display: none;\n",
              "      fill: #1967D2;\n",
              "      height: 32px;\n",
              "      padding: 0 0 0 0;\n",
              "      width: 32px;\n",
              "    }\n",
              "\n",
              "    .colab-df-convert:hover {\n",
              "      background-color: #E2EBFA;\n",
              "      box-shadow: 0px 1px 2px rgba(60, 64, 67, 0.3), 0px 1px 3px 1px rgba(60, 64, 67, 0.15);\n",
              "      fill: #174EA6;\n",
              "    }\n",
              "\n",
              "    .colab-df-buttons div {\n",
              "      margin-bottom: 4px;\n",
              "    }\n",
              "\n",
              "    [theme=dark] .colab-df-convert {\n",
              "      background-color: #3B4455;\n",
              "      fill: #D2E3FC;\n",
              "    }\n",
              "\n",
              "    [theme=dark] .colab-df-convert:hover {\n",
              "      background-color: #434B5C;\n",
              "      box-shadow: 0px 1px 3px 1px rgba(0, 0, 0, 0.15);\n",
              "      filter: drop-shadow(0px 1px 2px rgba(0, 0, 0, 0.3));\n",
              "      fill: #FFFFFF;\n",
              "    }\n",
              "  </style>\n",
              "\n",
              "    <script>\n",
              "      const buttonEl =\n",
              "        document.querySelector('#df-b884318b-d5d0-47ce-8b43-b9ac44f3e843 button.colab-df-convert');\n",
              "      buttonEl.style.display =\n",
              "        google.colab.kernel.accessAllowed ? 'block' : 'none';\n",
              "\n",
              "      async function convertToInteractive(key) {\n",
              "        const element = document.querySelector('#df-b884318b-d5d0-47ce-8b43-b9ac44f3e843');\n",
              "        const dataTable =\n",
              "          await google.colab.kernel.invokeFunction('convertToInteractive',\n",
              "                                                    [key], {});\n",
              "        if (!dataTable) return;\n",
              "\n",
              "        const docLinkHtml = 'Like what you see? Visit the ' +\n",
              "          '<a target=\"_blank\" href=https://colab.research.google.com/notebooks/data_table.ipynb>data table notebook</a>'\n",
              "          + ' to learn more about interactive tables.';\n",
              "        element.innerHTML = '';\n",
              "        dataTable['output_type'] = 'display_data';\n",
              "        await google.colab.output.renderOutput(dataTable, element);\n",
              "        const docLink = document.createElement('div');\n",
              "        docLink.innerHTML = docLinkHtml;\n",
              "        element.appendChild(docLink);\n",
              "      }\n",
              "    </script>\n",
              "  </div>\n",
              "\n",
              "\n",
              "<div id=\"df-e0e51427-6625-4662-94b2-8f913eee8abe\">\n",
              "  <button class=\"colab-df-quickchart\" onclick=\"quickchart('df-e0e51427-6625-4662-94b2-8f913eee8abe')\"\n",
              "            title=\"Suggest charts\"\n",
              "            style=\"display:none;\">\n",
              "\n",
              "<svg xmlns=\"http://www.w3.org/2000/svg\" height=\"24px\"viewBox=\"0 0 24 24\"\n",
              "     width=\"24px\">\n",
              "    <g>\n",
              "        <path d=\"M19 3H5c-1.1 0-2 .9-2 2v14c0 1.1.9 2 2 2h14c1.1 0 2-.9 2-2V5c0-1.1-.9-2-2-2zM9 17H7v-7h2v7zm4 0h-2V7h2v10zm4 0h-2v-4h2v4z\"/>\n",
              "    </g>\n",
              "</svg>\n",
              "  </button>\n",
              "\n",
              "<style>\n",
              "  .colab-df-quickchart {\n",
              "      --bg-color: #E8F0FE;\n",
              "      --fill-color: #1967D2;\n",
              "      --hover-bg-color: #E2EBFA;\n",
              "      --hover-fill-color: #174EA6;\n",
              "      --disabled-fill-color: #AAA;\n",
              "      --disabled-bg-color: #DDD;\n",
              "  }\n",
              "\n",
              "  [theme=dark] .colab-df-quickchart {\n",
              "      --bg-color: #3B4455;\n",
              "      --fill-color: #D2E3FC;\n",
              "      --hover-bg-color: #434B5C;\n",
              "      --hover-fill-color: #FFFFFF;\n",
              "      --disabled-bg-color: #3B4455;\n",
              "      --disabled-fill-color: #666;\n",
              "  }\n",
              "\n",
              "  .colab-df-quickchart {\n",
              "    background-color: var(--bg-color);\n",
              "    border: none;\n",
              "    border-radius: 50%;\n",
              "    cursor: pointer;\n",
              "    display: none;\n",
              "    fill: var(--fill-color);\n",
              "    height: 32px;\n",
              "    padding: 0;\n",
              "    width: 32px;\n",
              "  }\n",
              "\n",
              "  .colab-df-quickchart:hover {\n",
              "    background-color: var(--hover-bg-color);\n",
              "    box-shadow: 0 1px 2px rgba(60, 64, 67, 0.3), 0 1px 3px 1px rgba(60, 64, 67, 0.15);\n",
              "    fill: var(--button-hover-fill-color);\n",
              "  }\n",
              "\n",
              "  .colab-df-quickchart-complete:disabled,\n",
              "  .colab-df-quickchart-complete:disabled:hover {\n",
              "    background-color: var(--disabled-bg-color);\n",
              "    fill: var(--disabled-fill-color);\n",
              "    box-shadow: none;\n",
              "  }\n",
              "\n",
              "  .colab-df-spinner {\n",
              "    border: 2px solid var(--fill-color);\n",
              "    border-color: transparent;\n",
              "    border-bottom-color: var(--fill-color);\n",
              "    animation:\n",
              "      spin 1s steps(1) infinite;\n",
              "  }\n",
              "\n",
              "  @keyframes spin {\n",
              "    0% {\n",
              "      border-color: transparent;\n",
              "      border-bottom-color: var(--fill-color);\n",
              "      border-left-color: var(--fill-color);\n",
              "    }\n",
              "    20% {\n",
              "      border-color: transparent;\n",
              "      border-left-color: var(--fill-color);\n",
              "      border-top-color: var(--fill-color);\n",
              "    }\n",
              "    30% {\n",
              "      border-color: transparent;\n",
              "      border-left-color: var(--fill-color);\n",
              "      border-top-color: var(--fill-color);\n",
              "      border-right-color: var(--fill-color);\n",
              "    }\n",
              "    40% {\n",
              "      border-color: transparent;\n",
              "      border-right-color: var(--fill-color);\n",
              "      border-top-color: var(--fill-color);\n",
              "    }\n",
              "    60% {\n",
              "      border-color: transparent;\n",
              "      border-right-color: var(--fill-color);\n",
              "    }\n",
              "    80% {\n",
              "      border-color: transparent;\n",
              "      border-right-color: var(--fill-color);\n",
              "      border-bottom-color: var(--fill-color);\n",
              "    }\n",
              "    90% {\n",
              "      border-color: transparent;\n",
              "      border-bottom-color: var(--fill-color);\n",
              "    }\n",
              "  }\n",
              "</style>\n",
              "\n",
              "  <script>\n",
              "    async function quickchart(key) {\n",
              "      const quickchartButtonEl =\n",
              "        document.querySelector('#' + key + ' button');\n",
              "      quickchartButtonEl.disabled = true;  // To prevent multiple clicks.\n",
              "      quickchartButtonEl.classList.add('colab-df-spinner');\n",
              "      try {\n",
              "        const charts = await google.colab.kernel.invokeFunction(\n",
              "            'suggestCharts', [key], {});\n",
              "      } catch (error) {\n",
              "        console.error('Error during call to suggestCharts:', error);\n",
              "      }\n",
              "      quickchartButtonEl.classList.remove('colab-df-spinner');\n",
              "      quickchartButtonEl.classList.add('colab-df-quickchart-complete');\n",
              "    }\n",
              "    (() => {\n",
              "      let quickchartButtonEl =\n",
              "        document.querySelector('#df-e0e51427-6625-4662-94b2-8f913eee8abe button');\n",
              "      quickchartButtonEl.style.display =\n",
              "        google.colab.kernel.accessAllowed ? 'block' : 'none';\n",
              "    })();\n",
              "  </script>\n",
              "</div>\n",
              "\n",
              "  <div id=\"id_66bc4626-ad34-4842-b718-ffeee57ccb6f\">\n",
              "    <style>\n",
              "      .colab-df-generate {\n",
              "        background-color: #E8F0FE;\n",
              "        border: none;\n",
              "        border-radius: 50%;\n",
              "        cursor: pointer;\n",
              "        display: none;\n",
              "        fill: #1967D2;\n",
              "        height: 32px;\n",
              "        padding: 0 0 0 0;\n",
              "        width: 32px;\n",
              "      }\n",
              "\n",
              "      .colab-df-generate:hover {\n",
              "        background-color: #E2EBFA;\n",
              "        box-shadow: 0px 1px 2px rgba(60, 64, 67, 0.3), 0px 1px 3px 1px rgba(60, 64, 67, 0.15);\n",
              "        fill: #174EA6;\n",
              "      }\n",
              "\n",
              "      [theme=dark] .colab-df-generate {\n",
              "        background-color: #3B4455;\n",
              "        fill: #D2E3FC;\n",
              "      }\n",
              "\n",
              "      [theme=dark] .colab-df-generate:hover {\n",
              "        background-color: #434B5C;\n",
              "        box-shadow: 0px 1px 3px 1px rgba(0, 0, 0, 0.15);\n",
              "        filter: drop-shadow(0px 1px 2px rgba(0, 0, 0, 0.3));\n",
              "        fill: #FFFFFF;\n",
              "      }\n",
              "    </style>\n",
              "    <button class=\"colab-df-generate\" onclick=\"generateWithVariable('movies_data_filtrados')\"\n",
              "            title=\"Generate code using this dataframe.\"\n",
              "            style=\"display:none;\">\n",
              "\n",
              "  <svg xmlns=\"http://www.w3.org/2000/svg\" height=\"24px\"viewBox=\"0 0 24 24\"\n",
              "       width=\"24px\">\n",
              "    <path d=\"M7,19H8.4L18.45,9,17,7.55,7,17.6ZM5,21V16.75L18.45,3.32a2,2,0,0,1,2.83,0l1.4,1.43a1.91,1.91,0,0,1,.58,1.4,1.91,1.91,0,0,1-.58,1.4L9.25,21ZM18.45,9,17,7.55Zm-12,3A5.31,5.31,0,0,0,4.9,8.1,5.31,5.31,0,0,0,1,6.5,5.31,5.31,0,0,0,4.9,4.9,5.31,5.31,0,0,0,6.5,1,5.31,5.31,0,0,0,8.1,4.9,5.31,5.31,0,0,0,12,6.5,5.46,5.46,0,0,0,6.5,12Z\"/>\n",
              "  </svg>\n",
              "    </button>\n",
              "    <script>\n",
              "      (() => {\n",
              "      const buttonEl =\n",
              "        document.querySelector('#id_66bc4626-ad34-4842-b718-ffeee57ccb6f button.colab-df-generate');\n",
              "      buttonEl.style.display =\n",
              "        google.colab.kernel.accessAllowed ? 'block' : 'none';\n",
              "\n",
              "      buttonEl.onclick = () => {\n",
              "        google.colab.notebook.generateWithVariable('movies_data_filtrados');\n",
              "      }\n",
              "      })();\n",
              "    </script>\n",
              "  </div>\n",
              "\n",
              "    </div>\n",
              "  </div>\n"
            ],
            "application/vnd.google.colaboratory.intrinsic+json": {
              "type": "dataframe",
              "variable_name": "movies_data_filtrados",
              "repr_error": "0"
            }
          },
          "metadata": {},
          "execution_count": 21
        }
      ]
    },
    {
      "cell_type": "markdown",
      "metadata": {
        "id": "mGslOVr2dCPw"
      },
      "source": [
        "Luego generemos un dicionario para contar con la lista de generos por pelicula. Donde contamos por usario que categorias son y cuantas. Pero el código demora mucha en correr por lo que se cuardar en el colab.  "
      ]
    },
    {
      "cell_type": "markdown",
      "metadata": {
        "id": "88iV9RoQc4zN"
      },
      "source": [
        "Debes hacer una conexion con tu colab"
      ]
    },
    {
      "cell_type": "markdown",
      "metadata": {
        "id": "BMFEX6zypmto"
      },
      "source": [
        "## Categorización de cada usuario\n",
        "Obtenemos el top k=5 de categorias de cada usuario"
      ]
    },
    {
      "cell_type": "code",
      "execution_count": 22,
      "metadata": {
        "colab": {
          "base_uri": "https://localhost:8080/",
          "height": 143
        },
        "id": "RzAFpTE9pr7O",
        "outputId": "9f4a9121-e414-48cd-bcf7-9d60eca601d9"
      },
      "outputs": [
        {
          "output_type": "execute_result",
          "data": {
            "text/plain": [
              "' # Calcular las k categorías más vistas por cada usuario\\nk = 5\\ntop_k_genres_data = []\\n\\n# Itera sobre cada usuario en user\\nfor user_id, genres in user_genre_counts.items():\\n  # Ordenar los los géneros por el conteo en orden descendente y tomar los k más altos\\n   sorted_genres = sorted(genres.items(), key=lambda x: x[1], reverse=True)[:k]\\n   for genre, _ in sorted_genres:\\n    top_k_genres_data.append({\\n        \\'userId\\': user_id,\\n        \\'genre_principal\\': genre,\\n        \\'count\\': genres[genre]\\n    })\\n\\n\\ntop_k_5_categories_total = pd.DataFrame(top_k_genres_data)\\n\\n# Mostrar los resultados\\nprint(\"Top k = 5 géneros más vistos por usuario:\")\\ntop_k_5_categories_total '"
            ],
            "application/vnd.google.colaboratory.intrinsic+json": {
              "type": "string"
            }
          },
          "metadata": {},
          "execution_count": 22
        }
      ],
      "source": [
        "''' # Calcular las k categorías más vistas por cada usuario\n",
        "k = 5\n",
        "top_k_genres_data = []\n",
        "\n",
        "# Itera sobre cada usuario en user\n",
        "for user_id, genres in user_genre_counts.items():\n",
        "  # Ordenar los los géneros por el conteo en orden descendente y tomar los k más altos\n",
        "   sorted_genres = sorted(genres.items(), key=lambda x: x[1], reverse=True)[:k]\n",
        "   for genre, _ in sorted_genres:\n",
        "    top_k_genres_data.append({\n",
        "        'userId': user_id,\n",
        "        'genre_principal': genre,\n",
        "        'count': genres[genre]\n",
        "    })\n",
        "\n",
        "\n",
        "top_k_5_categories_total = pd.DataFrame(top_k_genres_data)\n",
        "\n",
        "# Mostrar los resultados\n",
        "print(\"Top k = 5 géneros más vistos por usuario:\")\n",
        "top_k_5_categories_total '''"
      ]
    },
    {
      "cell_type": "markdown",
      "metadata": {
        "id": "Rofvl7IXiKfH"
      },
      "source": [
        "# Generar Recomendaciones\n",
        "\n",
        "Se probará con diferentes métodos de recomendación para evaluar los resultados del modelo:\n"
      ]
    },
    {
      "cell_type": "markdown",
      "metadata": {
        "id": "TE9RoNZUvFxt"
      },
      "source": [
        "## Método Most Popular:\n",
        "Recomienda las peliculas más vistas o mejor rankeadas en el conjunto global de datos de entrenamiento.\n",
        "- Cuenta y ordena las peliculas según número de reproducciones\n",
        "- Selecciona las `k peliculas` más populares\n",
        "- Alta probabilidad de recomendar contenido con hartas visualizaciones\n",
        "- Mismo resultado para todos los usuarios\n",
        "- Baja diversidad de recomendaciones"
      ]
    },
    {
      "cell_type": "code",
      "execution_count": 23,
      "metadata": {
        "colab": {
          "base_uri": "https://localhost:8080/"
        },
        "id": "ff216W1UgoxT",
        "outputId": "db48ef28-694f-4a2c-89bd-a8ba1e301710"
      },
      "outputs": [
        {
          "output_type": "execute_result",
          "data": {
            "text/plain": [
              "Index(['userId', 'movieId', 'rating', 'timestamp', 'title', 'genres',\n",
              "       'rating_mean', 'relevant_genre'],\n",
              "      dtype='object')"
            ]
          },
          "metadata": {},
          "execution_count": 23
        }
      ],
      "source": [
        "movies_data_filtrados.columns"
      ]
    },
    {
      "cell_type": "code",
      "execution_count": 24,
      "metadata": {
        "id": "irOe5VtQgvkv"
      },
      "outputs": [],
      "source": [
        "data_movie = movies_data_filtrados[['userId', 'movieId', 'title', 'relevant_genre']]"
      ]
    },
    {
      "cell_type": "code",
      "execution_count": 25,
      "metadata": {
        "colab": {
          "base_uri": "https://localhost:8080/"
        },
        "id": "NR7XUSqzlj4V",
        "outputId": "fe3abc68-0731-4287-8b48-dff29e5259c0"
      },
      "outputs": [
        {
          "output_type": "execute_result",
          "data": {
            "text/plain": [
              "83"
            ]
          },
          "metadata": {},
          "execution_count": 25
        }
      ],
      "source": [
        "data_movie['userId'].nunique()"
      ]
    },
    {
      "cell_type": "code",
      "source": [
        "data_movie['userId'].value_counts().min()"
      ],
      "metadata": {
        "colab": {
          "base_uri": "https://localhost:8080/"
        },
        "id": "_XwiWki6P2wy",
        "outputId": "33dc508c-1ae6-418a-9c43-29883214dfe0"
      },
      "execution_count": 26,
      "outputs": [
        {
          "output_type": "execute_result",
          "data": {
            "text/plain": [
              "30"
            ]
          },
          "metadata": {},
          "execution_count": 26
        }
      ]
    },
    {
      "cell_type": "code",
      "source": [
        "# Obtener de la data_movie todos los movieId, title, relevant_genre\n",
        "meta_movies = data_movie[['movieId', 'title', 'relevant_genre']]\n",
        "\n",
        "# Eliminar los movieId duplicados\n",
        "meta_movies = meta_movies.drop_duplicates(subset='movieId')\n",
        "\n",
        "meta_movies\n"
      ],
      "metadata": {
        "colab": {
          "base_uri": "https://localhost:8080/",
          "height": 424
        },
        "id": "xKaRI1csUnbg",
        "outputId": "fbf1ca17-00cb-49e5-9209-c8f44a0aedbd"
      },
      "execution_count": 27,
      "outputs": [
        {
          "output_type": "execute_result",
          "data": {
            "text/plain": [
              "          movieId                       title relevant_genre\n",
              "487654          1            Toy Story (1995)      Adventure\n",
              "487655         10            GoldenEye (1995)         Action\n",
              "487657         50  Usual Suspects, The (1995)          Crime\n",
              "487658         62   Mr. Holland's Opus (1995)          Drama\n",
              "487659        110           Braveheart (1995)         Action\n",
              "...           ...                         ...            ...\n",
              "19972996    26425         In-Laws, The (1979)         Action\n",
              "19972998    26488    Star Chamber, The (1983)         Action\n",
              "19973005    32596               Sahara (2005)         Action\n",
              "19973016    40959     Ice Harvest, The (2005)         Action\n",
              "19973022    43921       Running Scared (2006)         Action\n",
              "\n",
              "[3843 rows x 3 columns]"
            ],
            "text/html": [
              "\n",
              "  <div id=\"df-0a8d1d93-7f04-47c9-a65c-1c62e6a99415\" class=\"colab-df-container\">\n",
              "    <div>\n",
              "<style scoped>\n",
              "    .dataframe tbody tr th:only-of-type {\n",
              "        vertical-align: middle;\n",
              "    }\n",
              "\n",
              "    .dataframe tbody tr th {\n",
              "        vertical-align: top;\n",
              "    }\n",
              "\n",
              "    .dataframe thead th {\n",
              "        text-align: right;\n",
              "    }\n",
              "</style>\n",
              "<table border=\"1\" class=\"dataframe\">\n",
              "  <thead>\n",
              "    <tr style=\"text-align: right;\">\n",
              "      <th></th>\n",
              "      <th>movieId</th>\n",
              "      <th>title</th>\n",
              "      <th>relevant_genre</th>\n",
              "    </tr>\n",
              "  </thead>\n",
              "  <tbody>\n",
              "    <tr>\n",
              "      <th>487654</th>\n",
              "      <td>1</td>\n",
              "      <td>Toy Story (1995)</td>\n",
              "      <td>Adventure</td>\n",
              "    </tr>\n",
              "    <tr>\n",
              "      <th>487655</th>\n",
              "      <td>10</td>\n",
              "      <td>GoldenEye (1995)</td>\n",
              "      <td>Action</td>\n",
              "    </tr>\n",
              "    <tr>\n",
              "      <th>487657</th>\n",
              "      <td>50</td>\n",
              "      <td>Usual Suspects, The (1995)</td>\n",
              "      <td>Crime</td>\n",
              "    </tr>\n",
              "    <tr>\n",
              "      <th>487658</th>\n",
              "      <td>62</td>\n",
              "      <td>Mr. Holland's Opus (1995)</td>\n",
              "      <td>Drama</td>\n",
              "    </tr>\n",
              "    <tr>\n",
              "      <th>487659</th>\n",
              "      <td>110</td>\n",
              "      <td>Braveheart (1995)</td>\n",
              "      <td>Action</td>\n",
              "    </tr>\n",
              "    <tr>\n",
              "      <th>...</th>\n",
              "      <td>...</td>\n",
              "      <td>...</td>\n",
              "      <td>...</td>\n",
              "    </tr>\n",
              "    <tr>\n",
              "      <th>19972996</th>\n",
              "      <td>26425</td>\n",
              "      <td>In-Laws, The (1979)</td>\n",
              "      <td>Action</td>\n",
              "    </tr>\n",
              "    <tr>\n",
              "      <th>19972998</th>\n",
              "      <td>26488</td>\n",
              "      <td>Star Chamber, The (1983)</td>\n",
              "      <td>Action</td>\n",
              "    </tr>\n",
              "    <tr>\n",
              "      <th>19973005</th>\n",
              "      <td>32596</td>\n",
              "      <td>Sahara (2005)</td>\n",
              "      <td>Action</td>\n",
              "    </tr>\n",
              "    <tr>\n",
              "      <th>19973016</th>\n",
              "      <td>40959</td>\n",
              "      <td>Ice Harvest, The (2005)</td>\n",
              "      <td>Action</td>\n",
              "    </tr>\n",
              "    <tr>\n",
              "      <th>19973022</th>\n",
              "      <td>43921</td>\n",
              "      <td>Running Scared (2006)</td>\n",
              "      <td>Action</td>\n",
              "    </tr>\n",
              "  </tbody>\n",
              "</table>\n",
              "<p>3843 rows × 3 columns</p>\n",
              "</div>\n",
              "    <div class=\"colab-df-buttons\">\n",
              "\n",
              "  <div class=\"colab-df-container\">\n",
              "    <button class=\"colab-df-convert\" onclick=\"convertToInteractive('df-0a8d1d93-7f04-47c9-a65c-1c62e6a99415')\"\n",
              "            title=\"Convert this dataframe to an interactive table.\"\n",
              "            style=\"display:none;\">\n",
              "\n",
              "  <svg xmlns=\"http://www.w3.org/2000/svg\" height=\"24px\" viewBox=\"0 -960 960 960\">\n",
              "    <path d=\"M120-120v-720h720v720H120Zm60-500h600v-160H180v160Zm220 220h160v-160H400v160Zm0 220h160v-160H400v160ZM180-400h160v-160H180v160Zm440 0h160v-160H620v160ZM180-180h160v-160H180v160Zm440 0h160v-160H620v160Z\"/>\n",
              "  </svg>\n",
              "    </button>\n",
              "\n",
              "  <style>\n",
              "    .colab-df-container {\n",
              "      display:flex;\n",
              "      gap: 12px;\n",
              "    }\n",
              "\n",
              "    .colab-df-convert {\n",
              "      background-color: #E8F0FE;\n",
              "      border: none;\n",
              "      border-radius: 50%;\n",
              "      cursor: pointer;\n",
              "      display: none;\n",
              "      fill: #1967D2;\n",
              "      height: 32px;\n",
              "      padding: 0 0 0 0;\n",
              "      width: 32px;\n",
              "    }\n",
              "\n",
              "    .colab-df-convert:hover {\n",
              "      background-color: #E2EBFA;\n",
              "      box-shadow: 0px 1px 2px rgba(60, 64, 67, 0.3), 0px 1px 3px 1px rgba(60, 64, 67, 0.15);\n",
              "      fill: #174EA6;\n",
              "    }\n",
              "\n",
              "    .colab-df-buttons div {\n",
              "      margin-bottom: 4px;\n",
              "    }\n",
              "\n",
              "    [theme=dark] .colab-df-convert {\n",
              "      background-color: #3B4455;\n",
              "      fill: #D2E3FC;\n",
              "    }\n",
              "\n",
              "    [theme=dark] .colab-df-convert:hover {\n",
              "      background-color: #434B5C;\n",
              "      box-shadow: 0px 1px 3px 1px rgba(0, 0, 0, 0.15);\n",
              "      filter: drop-shadow(0px 1px 2px rgba(0, 0, 0, 0.3));\n",
              "      fill: #FFFFFF;\n",
              "    }\n",
              "  </style>\n",
              "\n",
              "    <script>\n",
              "      const buttonEl =\n",
              "        document.querySelector('#df-0a8d1d93-7f04-47c9-a65c-1c62e6a99415 button.colab-df-convert');\n",
              "      buttonEl.style.display =\n",
              "        google.colab.kernel.accessAllowed ? 'block' : 'none';\n",
              "\n",
              "      async function convertToInteractive(key) {\n",
              "        const element = document.querySelector('#df-0a8d1d93-7f04-47c9-a65c-1c62e6a99415');\n",
              "        const dataTable =\n",
              "          await google.colab.kernel.invokeFunction('convertToInteractive',\n",
              "                                                    [key], {});\n",
              "        if (!dataTable) return;\n",
              "\n",
              "        const docLinkHtml = 'Like what you see? Visit the ' +\n",
              "          '<a target=\"_blank\" href=https://colab.research.google.com/notebooks/data_table.ipynb>data table notebook</a>'\n",
              "          + ' to learn more about interactive tables.';\n",
              "        element.innerHTML = '';\n",
              "        dataTable['output_type'] = 'display_data';\n",
              "        await google.colab.output.renderOutput(dataTable, element);\n",
              "        const docLink = document.createElement('div');\n",
              "        docLink.innerHTML = docLinkHtml;\n",
              "        element.appendChild(docLink);\n",
              "      }\n",
              "    </script>\n",
              "  </div>\n",
              "\n",
              "\n",
              "<div id=\"df-6ed75196-6e78-4a11-8301-12884e3d5de6\">\n",
              "  <button class=\"colab-df-quickchart\" onclick=\"quickchart('df-6ed75196-6e78-4a11-8301-12884e3d5de6')\"\n",
              "            title=\"Suggest charts\"\n",
              "            style=\"display:none;\">\n",
              "\n",
              "<svg xmlns=\"http://www.w3.org/2000/svg\" height=\"24px\"viewBox=\"0 0 24 24\"\n",
              "     width=\"24px\">\n",
              "    <g>\n",
              "        <path d=\"M19 3H5c-1.1 0-2 .9-2 2v14c0 1.1.9 2 2 2h14c1.1 0 2-.9 2-2V5c0-1.1-.9-2-2-2zM9 17H7v-7h2v7zm4 0h-2V7h2v10zm4 0h-2v-4h2v4z\"/>\n",
              "    </g>\n",
              "</svg>\n",
              "  </button>\n",
              "\n",
              "<style>\n",
              "  .colab-df-quickchart {\n",
              "      --bg-color: #E8F0FE;\n",
              "      --fill-color: #1967D2;\n",
              "      --hover-bg-color: #E2EBFA;\n",
              "      --hover-fill-color: #174EA6;\n",
              "      --disabled-fill-color: #AAA;\n",
              "      --disabled-bg-color: #DDD;\n",
              "  }\n",
              "\n",
              "  [theme=dark] .colab-df-quickchart {\n",
              "      --bg-color: #3B4455;\n",
              "      --fill-color: #D2E3FC;\n",
              "      --hover-bg-color: #434B5C;\n",
              "      --hover-fill-color: #FFFFFF;\n",
              "      --disabled-bg-color: #3B4455;\n",
              "      --disabled-fill-color: #666;\n",
              "  }\n",
              "\n",
              "  .colab-df-quickchart {\n",
              "    background-color: var(--bg-color);\n",
              "    border: none;\n",
              "    border-radius: 50%;\n",
              "    cursor: pointer;\n",
              "    display: none;\n",
              "    fill: var(--fill-color);\n",
              "    height: 32px;\n",
              "    padding: 0;\n",
              "    width: 32px;\n",
              "  }\n",
              "\n",
              "  .colab-df-quickchart:hover {\n",
              "    background-color: var(--hover-bg-color);\n",
              "    box-shadow: 0 1px 2px rgba(60, 64, 67, 0.3), 0 1px 3px 1px rgba(60, 64, 67, 0.15);\n",
              "    fill: var(--button-hover-fill-color);\n",
              "  }\n",
              "\n",
              "  .colab-df-quickchart-complete:disabled,\n",
              "  .colab-df-quickchart-complete:disabled:hover {\n",
              "    background-color: var(--disabled-bg-color);\n",
              "    fill: var(--disabled-fill-color);\n",
              "    box-shadow: none;\n",
              "  }\n",
              "\n",
              "  .colab-df-spinner {\n",
              "    border: 2px solid var(--fill-color);\n",
              "    border-color: transparent;\n",
              "    border-bottom-color: var(--fill-color);\n",
              "    animation:\n",
              "      spin 1s steps(1) infinite;\n",
              "  }\n",
              "\n",
              "  @keyframes spin {\n",
              "    0% {\n",
              "      border-color: transparent;\n",
              "      border-bottom-color: var(--fill-color);\n",
              "      border-left-color: var(--fill-color);\n",
              "    }\n",
              "    20% {\n",
              "      border-color: transparent;\n",
              "      border-left-color: var(--fill-color);\n",
              "      border-top-color: var(--fill-color);\n",
              "    }\n",
              "    30% {\n",
              "      border-color: transparent;\n",
              "      border-left-color: var(--fill-color);\n",
              "      border-top-color: var(--fill-color);\n",
              "      border-right-color: var(--fill-color);\n",
              "    }\n",
              "    40% {\n",
              "      border-color: transparent;\n",
              "      border-right-color: var(--fill-color);\n",
              "      border-top-color: var(--fill-color);\n",
              "    }\n",
              "    60% {\n",
              "      border-color: transparent;\n",
              "      border-right-color: var(--fill-color);\n",
              "    }\n",
              "    80% {\n",
              "      border-color: transparent;\n",
              "      border-right-color: var(--fill-color);\n",
              "      border-bottom-color: var(--fill-color);\n",
              "    }\n",
              "    90% {\n",
              "      border-color: transparent;\n",
              "      border-bottom-color: var(--fill-color);\n",
              "    }\n",
              "  }\n",
              "</style>\n",
              "\n",
              "  <script>\n",
              "    async function quickchart(key) {\n",
              "      const quickchartButtonEl =\n",
              "        document.querySelector('#' + key + ' button');\n",
              "      quickchartButtonEl.disabled = true;  // To prevent multiple clicks.\n",
              "      quickchartButtonEl.classList.add('colab-df-spinner');\n",
              "      try {\n",
              "        const charts = await google.colab.kernel.invokeFunction(\n",
              "            'suggestCharts', [key], {});\n",
              "      } catch (error) {\n",
              "        console.error('Error during call to suggestCharts:', error);\n",
              "      }\n",
              "      quickchartButtonEl.classList.remove('colab-df-spinner');\n",
              "      quickchartButtonEl.classList.add('colab-df-quickchart-complete');\n",
              "    }\n",
              "    (() => {\n",
              "      let quickchartButtonEl =\n",
              "        document.querySelector('#df-6ed75196-6e78-4a11-8301-12884e3d5de6 button');\n",
              "      quickchartButtonEl.style.display =\n",
              "        google.colab.kernel.accessAllowed ? 'block' : 'none';\n",
              "    })();\n",
              "  </script>\n",
              "</div>\n",
              "\n",
              "  <div id=\"id_0f042b29-f59f-4bbe-87b4-24c24dc577f3\">\n",
              "    <style>\n",
              "      .colab-df-generate {\n",
              "        background-color: #E8F0FE;\n",
              "        border: none;\n",
              "        border-radius: 50%;\n",
              "        cursor: pointer;\n",
              "        display: none;\n",
              "        fill: #1967D2;\n",
              "        height: 32px;\n",
              "        padding: 0 0 0 0;\n",
              "        width: 32px;\n",
              "      }\n",
              "\n",
              "      .colab-df-generate:hover {\n",
              "        background-color: #E2EBFA;\n",
              "        box-shadow: 0px 1px 2px rgba(60, 64, 67, 0.3), 0px 1px 3px 1px rgba(60, 64, 67, 0.15);\n",
              "        fill: #174EA6;\n",
              "      }\n",
              "\n",
              "      [theme=dark] .colab-df-generate {\n",
              "        background-color: #3B4455;\n",
              "        fill: #D2E3FC;\n",
              "      }\n",
              "\n",
              "      [theme=dark] .colab-df-generate:hover {\n",
              "        background-color: #434B5C;\n",
              "        box-shadow: 0px 1px 3px 1px rgba(0, 0, 0, 0.15);\n",
              "        filter: drop-shadow(0px 1px 2px rgba(0, 0, 0, 0.3));\n",
              "        fill: #FFFFFF;\n",
              "      }\n",
              "    </style>\n",
              "    <button class=\"colab-df-generate\" onclick=\"generateWithVariable('meta_movies')\"\n",
              "            title=\"Generate code using this dataframe.\"\n",
              "            style=\"display:none;\">\n",
              "\n",
              "  <svg xmlns=\"http://www.w3.org/2000/svg\" height=\"24px\"viewBox=\"0 0 24 24\"\n",
              "       width=\"24px\">\n",
              "    <path d=\"M7,19H8.4L18.45,9,17,7.55,7,17.6ZM5,21V16.75L18.45,3.32a2,2,0,0,1,2.83,0l1.4,1.43a1.91,1.91,0,0,1,.58,1.4,1.91,1.91,0,0,1-.58,1.4L9.25,21ZM18.45,9,17,7.55Zm-12,3A5.31,5.31,0,0,0,4.9,8.1,5.31,5.31,0,0,0,1,6.5,5.31,5.31,0,0,0,4.9,4.9,5.31,5.31,0,0,0,6.5,1,5.31,5.31,0,0,0,8.1,4.9,5.31,5.31,0,0,0,12,6.5,5.46,5.46,0,0,0,6.5,12Z\"/>\n",
              "  </svg>\n",
              "    </button>\n",
              "    <script>\n",
              "      (() => {\n",
              "      const buttonEl =\n",
              "        document.querySelector('#id_0f042b29-f59f-4bbe-87b4-24c24dc577f3 button.colab-df-generate');\n",
              "      buttonEl.style.display =\n",
              "        google.colab.kernel.accessAllowed ? 'block' : 'none';\n",
              "\n",
              "      buttonEl.onclick = () => {\n",
              "        google.colab.notebook.generateWithVariable('meta_movies');\n",
              "      }\n",
              "      })();\n",
              "    </script>\n",
              "  </div>\n",
              "\n",
              "    </div>\n",
              "  </div>\n"
            ],
            "application/vnd.google.colaboratory.intrinsic+json": {
              "type": "dataframe",
              "variable_name": "meta_movies",
              "summary": "{\n  \"name\": \"meta_movies\",\n  \"rows\": 3843,\n  \"fields\": [\n    {\n      \"column\": \"movieId\",\n      \"properties\": {\n        \"dtype\": \"number\",\n        \"std\": 27590,\n        \"min\": 1,\n        \"max\": 118696,\n        \"num_unique_values\": 3843,\n        \"samples\": [\n          2575,\n          70562,\n          94\n        ],\n        \"semantic_type\": \"\",\n        \"description\": \"\"\n      }\n    },\n    {\n      \"column\": \"title\",\n      \"properties\": {\n        \"dtype\": \"string\",\n        \"num_unique_values\": 3843,\n        \"samples\": [\n          \"Dreamlife of Angels, The (Vie r\\u00eav\\u00e9e des anges, La) (1998)\",\n          \"Ramen Girl, The (2008)\",\n          \"Beautiful Girls (1996)\"\n        ],\n        \"semantic_type\": \"\",\n        \"description\": \"\"\n      }\n    },\n    {\n      \"column\": \"relevant_genre\",\n      \"properties\": {\n        \"dtype\": \"category\",\n        \"num_unique_values\": 18,\n        \"samples\": [\n          \"Adventure\",\n          \"Action\",\n          \"Mystery\"\n        ],\n        \"semantic_type\": \"\",\n        \"description\": \"\"\n      }\n    }\n  ]\n}"
            }
          },
          "metadata": {},
          "execution_count": 27
        }
      ]
    },
    {
      "cell_type": "code",
      "execution_count": 28,
      "metadata": {
        "id": "Rmy66VM13nB0"
      },
      "outputs": [],
      "source": [
        "from sklearn.model_selection import train_test_split\n",
        "\n",
        "data_movie_train, data_movie_test = train_test_split(\n",
        "    data_movie,\n",
        "    test_size=0.2,\n",
        "    stratify=data_movie['userId'],  # Stratificar por `userId`\n",
        "    random_state=42\n",
        ")"
      ]
    },
    {
      "cell_type": "code",
      "source": [
        "data_movie_train['userId'].nunique(), data_movie_train.shape[0]"
      ],
      "metadata": {
        "id": "yQI89xWVnSXb",
        "outputId": "5a4cbac5-c2d8-4359-eb9c-466b22cd3588",
        "colab": {
          "base_uri": "https://localhost:8080/"
        }
      },
      "execution_count": 29,
      "outputs": [
        {
          "output_type": "execute_result",
          "data": {
            "text/plain": [
              "(83, 9276)"
            ]
          },
          "metadata": {},
          "execution_count": 29
        }
      ]
    },
    {
      "cell_type": "code",
      "execution_count": 30,
      "metadata": {
        "colab": {
          "base_uri": "https://localhost:8080/"
        },
        "id": "q3sVRhbCgR-i",
        "outputId": "9cfbe17a-8cc2-47dc-8cbf-ce46e9fb3eb2"
      },
      "outputs": [
        {
          "output_type": "execute_result",
          "data": {
            "text/plain": [
              "(83, 2320)"
            ]
          },
          "metadata": {},
          "execution_count": 30
        }
      ],
      "source": [
        "data_movie_test['userId'].nunique(), data_movie_test.shape[0]"
      ]
    },
    {
      "cell_type": "code",
      "source": [
        "# Contar la cantidad de recomendaciones por userId\n",
        "data_movie_train['userId'].value_counts().min(), data_movie_test['userId'].value_counts().min()"
      ],
      "metadata": {
        "id": "CyV0bmSonhEx",
        "outputId": "66d9e0da-066d-4178-bab7-7fae97d8df66",
        "colab": {
          "base_uri": "https://localhost:8080/"
        }
      },
      "execution_count": 31,
      "outputs": [
        {
          "output_type": "execute_result",
          "data": {
            "text/plain": [
              "(24, 6)"
            ]
          },
          "metadata": {},
          "execution_count": 31
        }
      ]
    },
    {
      "cell_type": "markdown",
      "metadata": {
        "id": "AK0GMu3qzn6P"
      },
      "source": [
        "### Obtención de Top K Categorías"
      ]
    },
    {
      "cell_type": "code",
      "source": [
        "def get_top_k_categories(df, k):\n",
        "  user_genre_df = df[['userId', 'relevant_genre']]\n",
        "\n",
        "  # Calcular las k categorías más escuchadas por cada usuario\n",
        "  top_k_categories = (\n",
        "      user_genre_df.groupby(['userId', 'relevant_genre'])\n",
        "      .size()  # Contar ocurrencias de cada género por usuario\n",
        "      .reset_index(name='count')  # Resetear índice y nombrar la columna de conteo\n",
        "      .sort_values(['userId', 'count'], ascending=[True, False])  # Ordenar por usuario y luego por conteo descendente\n",
        "      .groupby('userId')  # Agrupar por usuario para obtener los top-k\n",
        "      .head(k)  # Tomar los K géneros más escuchados por usuario\n",
        "  )\n",
        "\n",
        "  return top_k_categories"
      ],
      "metadata": {
        "id": "4cOv9yicNwWI"
      },
      "execution_count": 32,
      "outputs": []
    },
    {
      "cell_type": "code",
      "source": [
        "top_k_5_categories_total = get_top_k_categories(data_movie_test, 5)\n",
        "top_k_5_categories_total"
      ],
      "metadata": {
        "colab": {
          "base_uri": "https://localhost:8080/",
          "height": 424
        },
        "id": "JtMPRz14MNbE",
        "outputId": "6cb4b4f0-5fb0-4def-f847-ce2be5cd6cfc"
      },
      "execution_count": 33,
      "outputs": [
        {
          "output_type": "execute_result",
          "data": {
            "text/plain": [
              "     userId relevant_genre  count\n",
              "0      3288         Action     13\n",
              "1      3288      Adventure      5\n",
              "4      3288          Drama      5\n",
              "3      3288          Crime      3\n",
              "2      3288       Children      1\n",
              "..      ...            ...    ...\n",
              "490  138289         Action     25\n",
              "491  138289      Adventure      2\n",
              "492  138289          Crime      1\n",
              "493  138289         Horror      1\n",
              "494  138289        Romance      1\n",
              "\n",
              "[379 rows x 3 columns]"
            ],
            "text/html": [
              "\n",
              "  <div id=\"df-6f2239b4-a914-4473-b2b1-3df087dee142\" class=\"colab-df-container\">\n",
              "    <div>\n",
              "<style scoped>\n",
              "    .dataframe tbody tr th:only-of-type {\n",
              "        vertical-align: middle;\n",
              "    }\n",
              "\n",
              "    .dataframe tbody tr th {\n",
              "        vertical-align: top;\n",
              "    }\n",
              "\n",
              "    .dataframe thead th {\n",
              "        text-align: right;\n",
              "    }\n",
              "</style>\n",
              "<table border=\"1\" class=\"dataframe\">\n",
              "  <thead>\n",
              "    <tr style=\"text-align: right;\">\n",
              "      <th></th>\n",
              "      <th>userId</th>\n",
              "      <th>relevant_genre</th>\n",
              "      <th>count</th>\n",
              "    </tr>\n",
              "  </thead>\n",
              "  <tbody>\n",
              "    <tr>\n",
              "      <th>0</th>\n",
              "      <td>3288</td>\n",
              "      <td>Action</td>\n",
              "      <td>13</td>\n",
              "    </tr>\n",
              "    <tr>\n",
              "      <th>1</th>\n",
              "      <td>3288</td>\n",
              "      <td>Adventure</td>\n",
              "      <td>5</td>\n",
              "    </tr>\n",
              "    <tr>\n",
              "      <th>4</th>\n",
              "      <td>3288</td>\n",
              "      <td>Drama</td>\n",
              "      <td>5</td>\n",
              "    </tr>\n",
              "    <tr>\n",
              "      <th>3</th>\n",
              "      <td>3288</td>\n",
              "      <td>Crime</td>\n",
              "      <td>3</td>\n",
              "    </tr>\n",
              "    <tr>\n",
              "      <th>2</th>\n",
              "      <td>3288</td>\n",
              "      <td>Children</td>\n",
              "      <td>1</td>\n",
              "    </tr>\n",
              "    <tr>\n",
              "      <th>...</th>\n",
              "      <td>...</td>\n",
              "      <td>...</td>\n",
              "      <td>...</td>\n",
              "    </tr>\n",
              "    <tr>\n",
              "      <th>490</th>\n",
              "      <td>138289</td>\n",
              "      <td>Action</td>\n",
              "      <td>25</td>\n",
              "    </tr>\n",
              "    <tr>\n",
              "      <th>491</th>\n",
              "      <td>138289</td>\n",
              "      <td>Adventure</td>\n",
              "      <td>2</td>\n",
              "    </tr>\n",
              "    <tr>\n",
              "      <th>492</th>\n",
              "      <td>138289</td>\n",
              "      <td>Crime</td>\n",
              "      <td>1</td>\n",
              "    </tr>\n",
              "    <tr>\n",
              "      <th>493</th>\n",
              "      <td>138289</td>\n",
              "      <td>Horror</td>\n",
              "      <td>1</td>\n",
              "    </tr>\n",
              "    <tr>\n",
              "      <th>494</th>\n",
              "      <td>138289</td>\n",
              "      <td>Romance</td>\n",
              "      <td>1</td>\n",
              "    </tr>\n",
              "  </tbody>\n",
              "</table>\n",
              "<p>379 rows × 3 columns</p>\n",
              "</div>\n",
              "    <div class=\"colab-df-buttons\">\n",
              "\n",
              "  <div class=\"colab-df-container\">\n",
              "    <button class=\"colab-df-convert\" onclick=\"convertToInteractive('df-6f2239b4-a914-4473-b2b1-3df087dee142')\"\n",
              "            title=\"Convert this dataframe to an interactive table.\"\n",
              "            style=\"display:none;\">\n",
              "\n",
              "  <svg xmlns=\"http://www.w3.org/2000/svg\" height=\"24px\" viewBox=\"0 -960 960 960\">\n",
              "    <path d=\"M120-120v-720h720v720H120Zm60-500h600v-160H180v160Zm220 220h160v-160H400v160Zm0 220h160v-160H400v160ZM180-400h160v-160H180v160Zm440 0h160v-160H620v160ZM180-180h160v-160H180v160Zm440 0h160v-160H620v160Z\"/>\n",
              "  </svg>\n",
              "    </button>\n",
              "\n",
              "  <style>\n",
              "    .colab-df-container {\n",
              "      display:flex;\n",
              "      gap: 12px;\n",
              "    }\n",
              "\n",
              "    .colab-df-convert {\n",
              "      background-color: #E8F0FE;\n",
              "      border: none;\n",
              "      border-radius: 50%;\n",
              "      cursor: pointer;\n",
              "      display: none;\n",
              "      fill: #1967D2;\n",
              "      height: 32px;\n",
              "      padding: 0 0 0 0;\n",
              "      width: 32px;\n",
              "    }\n",
              "\n",
              "    .colab-df-convert:hover {\n",
              "      background-color: #E2EBFA;\n",
              "      box-shadow: 0px 1px 2px rgba(60, 64, 67, 0.3), 0px 1px 3px 1px rgba(60, 64, 67, 0.15);\n",
              "      fill: #174EA6;\n",
              "    }\n",
              "\n",
              "    .colab-df-buttons div {\n",
              "      margin-bottom: 4px;\n",
              "    }\n",
              "\n",
              "    [theme=dark] .colab-df-convert {\n",
              "      background-color: #3B4455;\n",
              "      fill: #D2E3FC;\n",
              "    }\n",
              "\n",
              "    [theme=dark] .colab-df-convert:hover {\n",
              "      background-color: #434B5C;\n",
              "      box-shadow: 0px 1px 3px 1px rgba(0, 0, 0, 0.15);\n",
              "      filter: drop-shadow(0px 1px 2px rgba(0, 0, 0, 0.3));\n",
              "      fill: #FFFFFF;\n",
              "    }\n",
              "  </style>\n",
              "\n",
              "    <script>\n",
              "      const buttonEl =\n",
              "        document.querySelector('#df-6f2239b4-a914-4473-b2b1-3df087dee142 button.colab-df-convert');\n",
              "      buttonEl.style.display =\n",
              "        google.colab.kernel.accessAllowed ? 'block' : 'none';\n",
              "\n",
              "      async function convertToInteractive(key) {\n",
              "        const element = document.querySelector('#df-6f2239b4-a914-4473-b2b1-3df087dee142');\n",
              "        const dataTable =\n",
              "          await google.colab.kernel.invokeFunction('convertToInteractive',\n",
              "                                                    [key], {});\n",
              "        if (!dataTable) return;\n",
              "\n",
              "        const docLinkHtml = 'Like what you see? Visit the ' +\n",
              "          '<a target=\"_blank\" href=https://colab.research.google.com/notebooks/data_table.ipynb>data table notebook</a>'\n",
              "          + ' to learn more about interactive tables.';\n",
              "        element.innerHTML = '';\n",
              "        dataTable['output_type'] = 'display_data';\n",
              "        await google.colab.output.renderOutput(dataTable, element);\n",
              "        const docLink = document.createElement('div');\n",
              "        docLink.innerHTML = docLinkHtml;\n",
              "        element.appendChild(docLink);\n",
              "      }\n",
              "    </script>\n",
              "  </div>\n",
              "\n",
              "\n",
              "<div id=\"df-49031658-9e2a-43e4-a5aa-2caffcce656a\">\n",
              "  <button class=\"colab-df-quickchart\" onclick=\"quickchart('df-49031658-9e2a-43e4-a5aa-2caffcce656a')\"\n",
              "            title=\"Suggest charts\"\n",
              "            style=\"display:none;\">\n",
              "\n",
              "<svg xmlns=\"http://www.w3.org/2000/svg\" height=\"24px\"viewBox=\"0 0 24 24\"\n",
              "     width=\"24px\">\n",
              "    <g>\n",
              "        <path d=\"M19 3H5c-1.1 0-2 .9-2 2v14c0 1.1.9 2 2 2h14c1.1 0 2-.9 2-2V5c0-1.1-.9-2-2-2zM9 17H7v-7h2v7zm4 0h-2V7h2v10zm4 0h-2v-4h2v4z\"/>\n",
              "    </g>\n",
              "</svg>\n",
              "  </button>\n",
              "\n",
              "<style>\n",
              "  .colab-df-quickchart {\n",
              "      --bg-color: #E8F0FE;\n",
              "      --fill-color: #1967D2;\n",
              "      --hover-bg-color: #E2EBFA;\n",
              "      --hover-fill-color: #174EA6;\n",
              "      --disabled-fill-color: #AAA;\n",
              "      --disabled-bg-color: #DDD;\n",
              "  }\n",
              "\n",
              "  [theme=dark] .colab-df-quickchart {\n",
              "      --bg-color: #3B4455;\n",
              "      --fill-color: #D2E3FC;\n",
              "      --hover-bg-color: #434B5C;\n",
              "      --hover-fill-color: #FFFFFF;\n",
              "      --disabled-bg-color: #3B4455;\n",
              "      --disabled-fill-color: #666;\n",
              "  }\n",
              "\n",
              "  .colab-df-quickchart {\n",
              "    background-color: var(--bg-color);\n",
              "    border: none;\n",
              "    border-radius: 50%;\n",
              "    cursor: pointer;\n",
              "    display: none;\n",
              "    fill: var(--fill-color);\n",
              "    height: 32px;\n",
              "    padding: 0;\n",
              "    width: 32px;\n",
              "  }\n",
              "\n",
              "  .colab-df-quickchart:hover {\n",
              "    background-color: var(--hover-bg-color);\n",
              "    box-shadow: 0 1px 2px rgba(60, 64, 67, 0.3), 0 1px 3px 1px rgba(60, 64, 67, 0.15);\n",
              "    fill: var(--button-hover-fill-color);\n",
              "  }\n",
              "\n",
              "  .colab-df-quickchart-complete:disabled,\n",
              "  .colab-df-quickchart-complete:disabled:hover {\n",
              "    background-color: var(--disabled-bg-color);\n",
              "    fill: var(--disabled-fill-color);\n",
              "    box-shadow: none;\n",
              "  }\n",
              "\n",
              "  .colab-df-spinner {\n",
              "    border: 2px solid var(--fill-color);\n",
              "    border-color: transparent;\n",
              "    border-bottom-color: var(--fill-color);\n",
              "    animation:\n",
              "      spin 1s steps(1) infinite;\n",
              "  }\n",
              "\n",
              "  @keyframes spin {\n",
              "    0% {\n",
              "      border-color: transparent;\n",
              "      border-bottom-color: var(--fill-color);\n",
              "      border-left-color: var(--fill-color);\n",
              "    }\n",
              "    20% {\n",
              "      border-color: transparent;\n",
              "      border-left-color: var(--fill-color);\n",
              "      border-top-color: var(--fill-color);\n",
              "    }\n",
              "    30% {\n",
              "      border-color: transparent;\n",
              "      border-left-color: var(--fill-color);\n",
              "      border-top-color: var(--fill-color);\n",
              "      border-right-color: var(--fill-color);\n",
              "    }\n",
              "    40% {\n",
              "      border-color: transparent;\n",
              "      border-right-color: var(--fill-color);\n",
              "      border-top-color: var(--fill-color);\n",
              "    }\n",
              "    60% {\n",
              "      border-color: transparent;\n",
              "      border-right-color: var(--fill-color);\n",
              "    }\n",
              "    80% {\n",
              "      border-color: transparent;\n",
              "      border-right-color: var(--fill-color);\n",
              "      border-bottom-color: var(--fill-color);\n",
              "    }\n",
              "    90% {\n",
              "      border-color: transparent;\n",
              "      border-bottom-color: var(--fill-color);\n",
              "    }\n",
              "  }\n",
              "</style>\n",
              "\n",
              "  <script>\n",
              "    async function quickchart(key) {\n",
              "      const quickchartButtonEl =\n",
              "        document.querySelector('#' + key + ' button');\n",
              "      quickchartButtonEl.disabled = true;  // To prevent multiple clicks.\n",
              "      quickchartButtonEl.classList.add('colab-df-spinner');\n",
              "      try {\n",
              "        const charts = await google.colab.kernel.invokeFunction(\n",
              "            'suggestCharts', [key], {});\n",
              "      } catch (error) {\n",
              "        console.error('Error during call to suggestCharts:', error);\n",
              "      }\n",
              "      quickchartButtonEl.classList.remove('colab-df-spinner');\n",
              "      quickchartButtonEl.classList.add('colab-df-quickchart-complete');\n",
              "    }\n",
              "    (() => {\n",
              "      let quickchartButtonEl =\n",
              "        document.querySelector('#df-49031658-9e2a-43e4-a5aa-2caffcce656a button');\n",
              "      quickchartButtonEl.style.display =\n",
              "        google.colab.kernel.accessAllowed ? 'block' : 'none';\n",
              "    })();\n",
              "  </script>\n",
              "</div>\n",
              "\n",
              "  <div id=\"id_f6d90389-3702-4a68-9f72-573be1c52231\">\n",
              "    <style>\n",
              "      .colab-df-generate {\n",
              "        background-color: #E8F0FE;\n",
              "        border: none;\n",
              "        border-radius: 50%;\n",
              "        cursor: pointer;\n",
              "        display: none;\n",
              "        fill: #1967D2;\n",
              "        height: 32px;\n",
              "        padding: 0 0 0 0;\n",
              "        width: 32px;\n",
              "      }\n",
              "\n",
              "      .colab-df-generate:hover {\n",
              "        background-color: #E2EBFA;\n",
              "        box-shadow: 0px 1px 2px rgba(60, 64, 67, 0.3), 0px 1px 3px 1px rgba(60, 64, 67, 0.15);\n",
              "        fill: #174EA6;\n",
              "      }\n",
              "\n",
              "      [theme=dark] .colab-df-generate {\n",
              "        background-color: #3B4455;\n",
              "        fill: #D2E3FC;\n",
              "      }\n",
              "\n",
              "      [theme=dark] .colab-df-generate:hover {\n",
              "        background-color: #434B5C;\n",
              "        box-shadow: 0px 1px 3px 1px rgba(0, 0, 0, 0.15);\n",
              "        filter: drop-shadow(0px 1px 2px rgba(0, 0, 0, 0.3));\n",
              "        fill: #FFFFFF;\n",
              "      }\n",
              "    </style>\n",
              "    <button class=\"colab-df-generate\" onclick=\"generateWithVariable('top_k_5_categories_total')\"\n",
              "            title=\"Generate code using this dataframe.\"\n",
              "            style=\"display:none;\">\n",
              "\n",
              "  <svg xmlns=\"http://www.w3.org/2000/svg\" height=\"24px\"viewBox=\"0 0 24 24\"\n",
              "       width=\"24px\">\n",
              "    <path d=\"M7,19H8.4L18.45,9,17,7.55,7,17.6ZM5,21V16.75L18.45,3.32a2,2,0,0,1,2.83,0l1.4,1.43a1.91,1.91,0,0,1,.58,1.4,1.91,1.91,0,0,1-.58,1.4L9.25,21ZM18.45,9,17,7.55Zm-12,3A5.31,5.31,0,0,0,4.9,8.1,5.31,5.31,0,0,0,1,6.5,5.31,5.31,0,0,0,4.9,4.9,5.31,5.31,0,0,0,6.5,1,5.31,5.31,0,0,0,8.1,4.9,5.31,5.31,0,0,0,12,6.5,5.46,5.46,0,0,0,6.5,12Z\"/>\n",
              "  </svg>\n",
              "    </button>\n",
              "    <script>\n",
              "      (() => {\n",
              "      const buttonEl =\n",
              "        document.querySelector('#id_f6d90389-3702-4a68-9f72-573be1c52231 button.colab-df-generate');\n",
              "      buttonEl.style.display =\n",
              "        google.colab.kernel.accessAllowed ? 'block' : 'none';\n",
              "\n",
              "      buttonEl.onclick = () => {\n",
              "        google.colab.notebook.generateWithVariable('top_k_5_categories_total');\n",
              "      }\n",
              "      })();\n",
              "    </script>\n",
              "  </div>\n",
              "\n",
              "    </div>\n",
              "  </div>\n"
            ],
            "application/vnd.google.colaboratory.intrinsic+json": {
              "type": "dataframe",
              "variable_name": "top_k_5_categories_total",
              "summary": "{\n  \"name\": \"top_k_5_categories_total\",\n  \"rows\": 379,\n  \"fields\": [\n    {\n      \"column\": \"userId\",\n      \"properties\": {\n        \"dtype\": \"number\",\n        \"std\": 40530,\n        \"min\": 3288,\n        \"max\": 138289,\n        \"num_unique_values\": 83,\n        \"samples\": [\n          50366,\n          3288,\n          31964\n        ],\n        \"semantic_type\": \"\",\n        \"description\": \"\"\n      }\n    },\n    {\n      \"column\": \"relevant_genre\",\n      \"properties\": {\n        \"dtype\": \"category\",\n        \"num_unique_values\": 14,\n        \"samples\": [\n          \"Musical\",\n          \"Sci-Fi\",\n          \"Action\"\n        ],\n        \"semantic_type\": \"\",\n        \"description\": \"\"\n      }\n    },\n    {\n      \"column\": \"count\",\n      \"properties\": {\n        \"dtype\": \"number\",\n        \"std\": 9,\n        \"min\": 1,\n        \"max\": 114,\n        \"num_unique_values\": 31,\n        \"samples\": [\n          114,\n          19,\n          20\n        ],\n        \"semantic_type\": \"\",\n        \"description\": \"\"\n      }\n    }\n  ]\n}"
            }
          },
          "metadata": {},
          "execution_count": 33
        }
      ]
    },
    {
      "cell_type": "code",
      "source": [
        "# Revisar que top_k_5_categories_total todos los usuarios tiene 5 relevant_genre\n",
        "top_k_5_categories_total['userId'].value_counts().min()\n"
      ],
      "metadata": {
        "colab": {
          "base_uri": "https://localhost:8080/"
        },
        "id": "9PYPyLwzNs4L",
        "outputId": "075b8c45-6111-4008-c953-bc0d07dc8808"
      },
      "execution_count": 34,
      "outputs": [
        {
          "output_type": "execute_result",
          "data": {
            "text/plain": [
              "1"
            ]
          },
          "metadata": {},
          "execution_count": 34
        }
      ]
    },
    {
      "cell_type": "markdown",
      "metadata": {
        "id": "LQ7B5xYiztSV"
      },
      "source": [
        "### Recomendación de Most Popular"
      ]
    },
    {
      "cell_type": "code",
      "execution_count": 35,
      "metadata": {
        "id": "BI2wF-vQbvv-"
      },
      "outputs": [],
      "source": [
        "list_recomendation = None\n",
        "\n",
        "def recommend_most_popular(user, data_train, k=10):\n",
        "  global list_recomendation\n",
        "  if list_recomendation is not None:\n",
        "    return list_recomendation\n",
        "  # Agrugar por pelicula contando la cantidad de apariciones\n",
        "  data_movie_count = data_train.groupby('movieId')['movieId'].count().reset_index(name='popularity')\n",
        "\n",
        "  # Ordenar por popularity\n",
        "  data_movie_count = data_movie_count.sort_values('popularity', ascending=False)\n",
        "  top_k_popular_movie = data_movie_count.head(k)\n",
        "\n",
        "  top_k_popular_movie = top_k_popular_movie['movieId'].tolist()\n",
        "\n",
        "  list_recomendation = top_k_popular_movie\n",
        "\n",
        "  return top_k_popular_movie\n",
        "\n"
      ]
    },
    {
      "cell_type": "markdown",
      "metadata": {
        "id": "A-Rzlv7UvY_r"
      },
      "source": [
        "## Método Random\n",
        "Recomienda peliculas de manera aleatoria del conjunto de entrenamiento.\n",
        "- Selecciona `k` peliculas aleatorias\n",
        "- Usado como baseline para comparaciones\n",
        "- Debiese mostrar un aumento en la diversidad de las recomendaciones"
      ]
    },
    {
      "cell_type": "code",
      "execution_count": 36,
      "metadata": {
        "id": "G3X_e8PZyyoU"
      },
      "outputs": [],
      "source": [
        "import random\n",
        "\n",
        "def recommend_random(user, data_train, k=10):\n",
        "  # Obtener todas las peliculas unicas\n",
        "  unique_movies = data_train['movieId'].unique()\n",
        "\n",
        "  # Seleccionar k peliculas aleatorias\n",
        "  random_movies = random.sample(list(unique_movies), min(k, len(unique_movies)))\n",
        "\n",
        "  return random_movies\n",
        "\n"
      ]
    },
    {
      "cell_type": "markdown",
      "source": [
        "## Método FastFM\n",
        "FastFM es un modelo basado en Factorization Machines, utilizado para generar recomendaciones. Este enfoque:\n",
        "\n",
        "- Aprende interacciones latentes entre usuarios y canciones a partir de datos dispersos.\n",
        "- Es especialmente eficaz para integrar tanto características del usuario como del contenido, además de las interacciones implícitas.\n",
        "- Emplea técnicas de factorización matricial y optimización eficiente para manejar grandes conjuntos de datos."
      ],
      "metadata": {
        "id": "niodAzFSOffD"
      }
    },
    {
      "cell_type": "code",
      "source": [
        "from fastFM import sgd\n",
        "from scipy import sparse\n",
        "\n",
        "\n",
        "def recommend_fastfm(user, data_train, k=10):\n",
        "# COLUMNAS: userId, movieId, title, relevant_genre\n",
        "  # Creamos matriz de interacción\n",
        "  us_matrix = pd.pivot_table(\n",
        "    data_train,\n",
        "    index='userId',\n",
        "    columns='title',\n",
        "    values='movieId',\n",
        "    aggfunc='count',\n",
        "    fill_value=0\n",
        "  )\n",
        "  # Expandir matriz en formato largo\n",
        "  interaction_data = us_matrix.stack().reset_index()\n",
        "  interaction_data.columns = ['userId', 'title', 'interaction']\n",
        "  interaction_data['interaction'] = (interaction_data['interaction'] > 0).astype(int)  # Binarización\n",
        "\n",
        "  # Crear matriz dispersa para características\n",
        "  X = sparse.csc_matrix(pd.get_dummies(interaction_data[['userId', 'title']], sparse=True).values)\n",
        "\n",
        "  # Etiquetas (1 si hubo interacción, 0 si no)\n",
        "  y = interaction_data['interaction'].values\n",
        "\n",
        "  # Creamos el modelo de FastFM fit con primera columna de objetivo.\n",
        "  ffm = sgd.FMRegression(n_iter=100, rank=2)\n",
        "  ffm.fit(X, y)\n",
        "\n",
        "  # Obtener vector del usuario para predicciones\n",
        "  user_movie = us_matrix.loc[user]\n",
        "  unseen_movie = user_movie[user_movie == 0].index  # Canciones no escuchadas\n",
        "  user_data = pd.DataFrame({'userId': [user] * len(unseen_movie), 'title': unseen_movie})\n",
        "\n",
        "  # Matriz dispersa para predicciones\n",
        "  feature_columns = pd.get_dummies(interaction_data[['userId', 'title']], sparse=True).columns\n",
        "  X_user = sparse.csc_matrix(pd.get_dummies(user_data, sparse=True).reindex(columns=feature_columns).fillna(0).values)\n",
        "  predicted_ratings = ffm.predict(X_user)\n",
        "\n",
        "  # Ordenar y seleccionar las mejores recomendaciones\n",
        "  user_data['predicted_rating'] = predicted_ratings\n",
        "  top_recommendations = user_data.sort_values('predicted_rating', ascending=False).head(k)['title'].tolist()\n",
        "\n",
        "  return top_recommendations\n"
      ],
      "metadata": {
        "id": "FTZKizPNORS-"
      },
      "execution_count": 37,
      "outputs": []
    },
    {
      "cell_type": "markdown",
      "source": [
        "## Método DeepFM\n",
        "DeepFM es un modelo avanzado para sistemas de recomendación que combina lo mejor de las Factorization Machines (FMs) y las redes neuronales profundas (Deep Learning) para capturar interacciones complejas entre características. Este enfoque:\n",
        "\n",
        "- Factorization Machines (FMs): Capturan de manera eficiente las interacciones de segundo orden entre características, como usuario y canción, especialmente en datos dispersos.\n",
        "- Redes neuronales profundas: Aprenden interacciones de mayor nivel (no lineales) entre características, mejorando la capacidad del modelo para capturar patrones complejos.\n",
        "- Integra ambos componentes en un solo modelo, compartiendo los mismos embeddings para reducir la redundancia y optimizar el aprendizaje."
      ],
      "metadata": {
        "id": "KwyHZrrXPLBB"
      }
    },
    {
      "cell_type": "code",
      "source": [
        "from tensorflow import keras\n",
        "import tensorflow as tf\n",
        "import random\n",
        "\n",
        "# Creamos el modelo de DeepFM\n",
        "def build_deepfm(input_dim):\n",
        "    # Componente FM\n",
        "    input_movie = keras.layers.Input(shape=(input_dim,))\n",
        "    fm_linear = keras.layers.Dense(1)(input_movie)\n",
        "\n",
        "    # Componente Deep\n",
        "    deep = keras.layers.Dense(256, activation='relu')(input_movie)\n",
        "    deep = keras.layers.Dropout(0.2)(deep)\n",
        "    deep = keras.layers.Dense(128, activation='relu')(deep)\n",
        "    deep = keras.layers.Dense(64, activation='relu')(deep)\n",
        "    deep = keras.layers.Dense(1)(deep)\n",
        "\n",
        "    # Combinar Componentes\n",
        "    fm_deep = keras.layers.Concatenate()([fm_linear, deep])\n",
        "\n",
        "    # Combinar Componentes\n",
        "    output = keras.layers.Add()([fm_linear, deep])\n",
        "\n",
        "    # Modelo\n",
        "    model = keras.Model(inputs=input_movie, outputs=output)\n",
        "    model.compile(optimizer='adam', loss='mse')\n",
        "    return model\n",
        "\n",
        "def recommend_deepfm(user, data_train, k=10):\n",
        "  # Generamos subset de datos para evaluar interacción usuario-canción\n",
        "  # COLUMNAS: userId, movieId, title, relevant_relevant_genre\n",
        "  user_movie = data_train[['userId', 'title', 'relevant_genre']]\n",
        "\n",
        "  # Creamos matriz de interacción\n",
        "  us_matrix = pd.pivot_table(\n",
        "    user_movie,\n",
        "    values='relevant_genre',           # Género es el valor de interacción\n",
        "    index='userId',\n",
        "    columns='title',\n",
        "    aggfunc='count',\n",
        "    fill_value=0\n",
        "  )\n",
        "\n",
        "  # Preparar datos para DeepFM\n",
        "  X = us_matrix.values\n",
        "  input_dim = X.shape[1]\n",
        "  y = us_matrix.iloc[:,0].values\n",
        "\n",
        "  # Entrenamos el modelo\n",
        "  model = build_deepfm(input_dim)\n",
        "  model.fit(X, y, epochs=5, batch_size=32, verbose=0)\n",
        "\n",
        "  # Calcular las recomendaciones para el usuario\n",
        "  user_vector = us_matrix.loc[user].values.reshape(1, -1)\n",
        "  predictions = model.predict(user_vector).flatten()\n",
        "\n",
        "  # Seleccionar las Top-K canciones\n",
        "  movie_ids = us_matrix.columns\n",
        "  already_heard = set(user_movie[user_movie['userId'] == user]['title'])\n",
        "\n",
        "  # Filtrar y ordenar las recomendaciones\n",
        "  candidate_movie = [(movie, score) for movie, score in zip(movie_ids, predictions)\n",
        "                    if movie not in already_heard]\n",
        "  # Si no encuentra candidatos, entones se usan las recomendaciones originales\n",
        "  if not candidate_movie:\n",
        "      candidate_movie = [(movie, score) for movie, score in zip(movie_ids, predictions)]\n",
        "\n",
        "  candidate_movie.sort(key=lambda x: x[1], reverse=True)\n",
        "\n",
        "  # Asegurarse de que hayan k recomendaciones\n",
        "  if len(candidate_movie) < k:\n",
        "      # Rellenar con canciones aleatorias si es necesario\n",
        "      available_movie = list(set(movie_ids) - set(movie for movie, _ in candidate_movie))\n",
        "      if available_movie:\n",
        "        padding = random.sample(available_movie, min(k - len(candidate_movie), len(available_movie)))\n",
        "        candidate_movie.extend([(movie, 0.0) for movie in padding])\n",
        "\n",
        "  # Retornar las k recomendaciones\n",
        "  recommendations = [movie for movie, _ in candidate_movie[:k]]\n",
        "\n",
        "  return recommendations\n"
      ],
      "metadata": {
        "id": "EFiY50W8PS-K"
      },
      "execution_count": 38,
      "outputs": []
    },
    {
      "cell_type": "markdown",
      "metadata": {
        "id": "N9pOcjT_vgFs"
      },
      "source": [
        "## Método IKNN\n",
        " Recomienda películas usando filtrado colaborativo basado en usuarios (IKNN - Item K-Nearest Neighbors).\n",
        "\n",
        " - Calcula la similitud entre usuarios basada en las películas que han visto\n",
        " - Usa `similitud coseno` para encontrar los k usuarios más similares\n",
        " - Recomienda películas que los usuarios similares han visto pero el usuario actual no"
      ]
    },
    {
      "cell_type": "code",
      "execution_count": 39,
      "metadata": {
        "id": "VWGNdIiF0H65"
      },
      "outputs": [],
      "source": [
        "import numpy as np\n",
        "import pandas as pd\n",
        "from scipy.sparse import csr_matrix\n",
        "from sklearn.metrics.pairwise import cosine_similarity\n",
        "\n",
        "class MovieIKNN:\n",
        "    def __init__(self, k=20):\n",
        "        self.k = k\n",
        "        self.item_similarity = None\n",
        "        self.item_ids = None\n",
        "        self.user_ids = None\n",
        "\n",
        "    def _create_user_item_matrix(self, df):\n",
        "        \"\"\"\n",
        "        Crea matriz usuario-item a partir del dataframe\n",
        "        \"\"\"\n",
        "        # Crear mapeos de IDs únicos\n",
        "        unique_users = df['userId'].unique()\n",
        "        unique_items = df['movieId'].unique()\n",
        "        self.user_ids = {user: idx for idx, user in enumerate(unique_users)}\n",
        "        self.item_ids = {item: idx for idx, item in enumerate(unique_items)}\n",
        "\n",
        "        # Crear matriz de interacciones\n",
        "        rows = []\n",
        "        cols = []\n",
        "        data = []\n",
        "\n",
        "        for _, row in df.iterrows():\n",
        "            user_idx = self.user_ids[row['userId']]\n",
        "            item_idx = self.item_ids[row['movieId']]\n",
        "            rows.append(user_idx)\n",
        "            cols.append(item_idx)\n",
        "            data.append(1)  # 1 para indicar interacción\n",
        "\n",
        "        return csr_matrix((data, (rows, cols)),\n",
        "                         shape=(len(unique_users), len(unique_items)))\n",
        "\n",
        "    def fit(self, df):\n",
        "        \"\"\"\n",
        "        Entrena el modelo con el dataframe de interacciones\n",
        "        \"\"\"\n",
        "        # Crear matriz usuario-item\n",
        "        self.user_item_matrix = self._create_user_item_matrix(df)\n",
        "\n",
        "        # Calcular similitud entre items\n",
        "        self.item_similarity = cosine_similarity(self.user_item_matrix.T)\n",
        "        # Evitar que la similitud consigo mismo sea 1\n",
        "        np.fill_diagonal(self.item_similarity, 0)\n",
        "\n",
        "        return self\n",
        "\n",
        "    def recommend(self, username, df, n_recommendations=10):\n",
        "        \"\"\"\n",
        "        Genera recomendaciones para un usuario\n",
        "        \"\"\"\n",
        "        if username not in self.user_ids:\n",
        "            print(f\"Usuario {username} no encontrado en el dataset\")\n",
        "            return []\n",
        "\n",
        "        # Obtener índice del usuario\n",
        "        user_idx = self.user_ids[username]\n",
        "\n",
        "        # Obtener vector de interacciones del usuario\n",
        "        user_vector = self.user_item_matrix[user_idx].toarray().flatten()\n",
        "\n",
        "        # Calcular predicciones\n",
        "        predictions = self._predict(user_vector)\n",
        "\n",
        "        # Poner -inf en items ya escuchados\n",
        "        predictions[user_vector > 0] = float('-inf')\n",
        "\n",
        "        # Obtener top N recomendaciones\n",
        "        top_idx = np.argsort(predictions)[::-1][:n_recommendations]\n",
        "\n",
        "        # Convertir índices a nombres de canciones\n",
        "        reverse_item_ids = {v: k for k, v in self.item_ids.items()}\n",
        "        recommendations = [reverse_item_ids[idx] for idx in top_idx]\n",
        "\n",
        "        return recommendations\n",
        "\n",
        "    def _predict(self, user_vector):\n",
        "        \"\"\"\n",
        "        Genera predicciones para un vector de usuario\n",
        "        \"\"\"\n",
        "        # Calcular predicciones usando similitud de items\n",
        "        predictions = np.dot(self.item_similarity, user_vector)\n",
        "\n",
        "        # Normalizar predicciones\n",
        "        sim_sums = np.sum(np.abs(self.item_similarity), axis=0)\n",
        "        sim_sums[sim_sums == 0] = 1  # Evitar división por cero\n",
        "        predictions = predictions / sim_sums\n",
        "\n",
        "        return predictions"
      ]
    },
    {
      "cell_type": "markdown",
      "metadata": {
        "id": "SMSdxrY_viR4"
      },
      "source": [
        "## Método Híbrido\n",
        "Método híbrido que combina popularidad con similtud de géneros según parámetro `alpha`.\n",
        "\n",
        "Basado parcialmente en el [Siguiente Articulo](https://marketsy.ai/blog/hybrid-recommender-systems-beginners-guide).\n",
        "\n",
        "- `alpha`: Parámetro para balancear entre popularidad global (`1-alpha`) y preferencias de género del usuario (`alpha`)\n",
        "- Balance entre descubrimiento y relevancia de la recomendación\n",
        "\n"
      ]
    },
    {
      "cell_type": "code",
      "source": [
        "def recommend_hybrid(user, data_train, k=10, alpha=0.5):\n",
        "    \"\"\"\n",
        "    Genera recomendaciones híbridas para un usuario basado en popularidad y género preferido.\n",
        "\n",
        "    Args:\n",
        "        user: ID del usuario para quien se generan las recomendaciones.\n",
        "        data_train: DataFrame de entrenamiento con las columnas: userId, movieId, title, relevant_relevant_genre.\n",
        "        k: Número de recomendaciones a retornar.\n",
        "        alpha: Peso entre popularidad (1-alpha) y preferencia de género (alpha).\n",
        "\n",
        "    Returns:\n",
        "        Lista de títulos de películas recomendadas.\n",
        "    \"\"\"\n",
        "    # Calcular los scores de popularidad de películas\n",
        "    popularity_scores = data_train.groupby('movieId')['userId'].count().to_dict()\n",
        "    max_popularity = max(popularity_scores.values())\n",
        "    normalized_popularity = {movie: count / max_popularity for movie, count in popularity_scores.items()}\n",
        "\n",
        "    # Obtener los géneros preferidos del usuario\n",
        "    user_movies = data_train[data_train['userId'] == user]\n",
        "    user_genres = user_movies['relevant_genre'].value_counts().to_dict()\n",
        "    total_user_movies = sum(user_genres.values())\n",
        "    preferred_user_genres = {genre: count / total_user_movies for genre, count in user_genres.items()}\n",
        "\n",
        "    # Calcular el score combinado híbrido\n",
        "    hybrid_scores = {}\n",
        "    for movie in data_train['movieId'].unique():\n",
        "        # Score de popularidad\n",
        "        movie_popularity = normalized_popularity.get(movie, 0)\n",
        "\n",
        "        # Score de género\n",
        "        movie_genre = data_train[data_train['movieId'] == movie]['relevant_genre'].iloc[0]\n",
        "        genre_score = preferred_user_genres.get(movie_genre, 0)\n",
        "\n",
        "        # Combinar Scores de popularidad y género\n",
        "        hybrid_scores[movie] = (1 - alpha) * movie_popularity + alpha * genre_score\n",
        "\n",
        "    # Filtrar las películas ya vistas por el usuario\n",
        "    user_watched = set(user_movies['movieId'])\n",
        "    hybrid_scores = {movie: score for movie, score in hybrid_scores.items() if movie not in user_watched}\n",
        "\n",
        "    # Retornar las top k películas recomendadas\n",
        "    top_recommendations = sorted(hybrid_scores.items(), key=lambda x: x[1], reverse=True)\n",
        "    recommended_movie_ids = [movie for movie, _ in top_recommendations[:k]]\n",
        "\n",
        "    # Obtener los títulos de las películas recomendadas\n",
        "    recommended_movies = data_train[data_train['movieId'].isin(recommended_movie_ids)]['title'].unique()\n",
        "    return list(recommended_movies)\n"
      ],
      "metadata": {
        "id": "rvp207zOlsAC"
      },
      "execution_count": 40,
      "outputs": []
    },
    {
      "cell_type": "code",
      "execution_count": 41,
      "metadata": {
        "id": "zUO7PL1CARHb",
        "colab": {
          "base_uri": "https://localhost:8080/",
          "height": 196
        },
        "outputId": "32979a4a-129c-4cb2-cb03-040138eb5286"
      },
      "outputs": [
        {
          "output_type": "execute_result",
          "data": {
            "text/plain": [
              "\"\\ndef recommend_hybrid(user, data_train, k=10, alpha=0.5):\\n    # Calcular los scores de popularidad de películas\\n    popularity_scores = data_train['movieId'].value_counts().to_dict()\\n    max_popularity = max(popularity_scores.values())\\n    normalized_popularity = {movie: count / max_popularity for movie, count in popularity_scores.items()}\\n\\n    # Obtener los géneros preferidos del usuario\\n    user_movies = data_train[data_train['userId'] == user]\\n    user_genres = defaultdict(int)\\n\\n    for _, row in user_movies.iterrows():\\n        for genre in row['genre_list']:\\n            user_genres[genre] += 1\\n\\n    # Normalizamos los géneros según las frecuencias de películas\\n    total_user_movies = sum(user_genres.values())\\n    prefered_user_genres = {genre: count / total_user_movies for genre, count in user_genres.items()}\\n\\n    # Calcular el score combinado híbrido\\n    hybrid_scores = {}\\n    for _, row in data_train.iterrows():\\n        movie = row['movieId']\\n        genres = row['genre_list']\\n\\n        # Score de popularidad\\n        movie_popularity = normalized_popularity.get(movie, 0)\\n\\n        # Score de géneros\\n        genre_score = sum(prefered_user_genres.get(genre, 0) for genre in genres)\\n\\n        # Combinar scores de popularidad y género\\n        hybrid_scores[movie] = (1 - alpha) * movie_popularity + alpha * genre_score\\n\\n    # Filtrar las películas ya vistas por el usuario\\n    user_watched = set(user_movies['movieId'])\\n    hybrid_scores = {movie: score for movie, score in hybrid_scores.items() if movie not in user_watched}\\n\\n    # Retornar las top k películas recomendadas\\n    top_recommendations = sorted(hybrid_scores.items(), key=lambda x: x[1], reverse=True)\\n    return [movie for movie, _ in top_recommendations[:k]] \""
            ],
            "application/vnd.google.colaboratory.intrinsic+json": {
              "type": "string"
            }
          },
          "metadata": {},
          "execution_count": 41
        }
      ],
      "source": [
        "'''\n",
        "def recommend_hybrid(user, data_train, k=10, alpha=0.5):\n",
        "    # Calcular los scores de popularidad de películas\n",
        "    popularity_scores = data_train['movieId'].value_counts().to_dict()\n",
        "    max_popularity = max(popularity_scores.values())\n",
        "    normalized_popularity = {movie: count / max_popularity for movie, count in popularity_scores.items()}\n",
        "\n",
        "    # Obtener los géneros preferidos del usuario\n",
        "    user_movies = data_train[data_train['userId'] == user]\n",
        "    user_genres = defaultdict(int)\n",
        "\n",
        "    for _, row in user_movies.iterrows():\n",
        "        for genre in row['genre_list']:\n",
        "            user_genres[genre] += 1\n",
        "\n",
        "    # Normalizamos los géneros según las frecuencias de películas\n",
        "    total_user_movies = sum(user_genres.values())\n",
        "    prefered_user_genres = {genre: count / total_user_movies for genre, count in user_genres.items()}\n",
        "\n",
        "    # Calcular el score combinado híbrido\n",
        "    hybrid_scores = {}\n",
        "    for _, row in data_train.iterrows():\n",
        "        movie = row['movieId']\n",
        "        genres = row['genre_list']\n",
        "\n",
        "        # Score de popularidad\n",
        "        movie_popularity = normalized_popularity.get(movie, 0)\n",
        "\n",
        "        # Score de géneros\n",
        "        genre_score = sum(prefered_user_genres.get(genre, 0) for genre in genres)\n",
        "\n",
        "        # Combinar scores de popularidad y género\n",
        "        hybrid_scores[movie] = (1 - alpha) * movie_popularity + alpha * genre_score\n",
        "\n",
        "    # Filtrar las películas ya vistas por el usuario\n",
        "    user_watched = set(user_movies['movieId'])\n",
        "    hybrid_scores = {movie: score for movie, score in hybrid_scores.items() if movie not in user_watched}\n",
        "\n",
        "    # Retornar las top k películas recomendadas\n",
        "    top_recommendations = sorted(hybrid_scores.items(), key=lambda x: x[1], reverse=True)\n",
        "    return [movie for movie, _ in top_recommendations[:k]] '''\n"
      ]
    },
    {
      "cell_type": "markdown",
      "metadata": {
        "id": "US6Y_qaNiNfu"
      },
      "source": [
        "# Calculamos Métricas:\n"
      ]
    },
    {
      "cell_type": "markdown",
      "metadata": {
        "id": "OEPdt3u5WVXr"
      },
      "source": [
        "## Metricas de Precisión\n",
        "- MAP\n",
        "- NDCG@5\n",
        "- Precision@10\n",
        "- Recall@10"
      ]
    },
    {
      "cell_type": "code",
      "execution_count": 42,
      "metadata": {
        "id": "pdzLUr2bC6dN"
      },
      "outputs": [],
      "source": [
        "def calculate_map(test_data, user_recommendation, user):\n",
        "  relevant_items = test_data[test_data['userId'] == user]['movieId'].tolist()\n",
        "\n",
        "  # Inicializar variables\n",
        "  precision_sum = 0\n",
        "  relevant_count = 0\n",
        "\n",
        "  for i, item in enumerate(user_recommendation, start=1):\n",
        "    if item in relevant_items:\n",
        "      relevant_count += 1\n",
        "      precision_sum += relevant_count / i\n",
        "\n",
        "  if relevant_count > 0:\n",
        "    map_value = precision_sum / relevant_count\n",
        "  else:\n",
        "    map_value = 0\n",
        "\n",
        "  return map_value\n"
      ]
    },
    {
      "cell_type": "code",
      "execution_count": 43,
      "metadata": {
        "id": "7p1J8piDERMQ"
      },
      "outputs": [],
      "source": [
        "import math\n",
        "\n",
        "def calculate_ndcg(test_data, user_recommendation, user):\n",
        "  relevant_items = test_data[test_data['userId'] == user]['movieId'].tolist()\n",
        "\n",
        "  # Calcular DCG e IDCG\n",
        "  dcg = 0\n",
        "  idcg = 0\n",
        "  for i, item in enumerate(user_recommendation, start=1):\n",
        "    if item in relevant_items:\n",
        "      dcg += 1 / math.log2(i + 1)\n",
        "    idcg += 1 / math.log2(i + 1)\n",
        "\n",
        "  # Calcular NDCG\n",
        "  if idcg > 0:\n",
        "    ndcg_value = dcg / idcg\n",
        "  else:\n",
        "    ndcg_value = 0\n",
        "\n",
        "  return ndcg_value\n"
      ]
    },
    {
      "cell_type": "code",
      "execution_count": 44,
      "metadata": {
        "id": "0YV8xhO-aLPG"
      },
      "outputs": [],
      "source": [
        "def calculate_precision_at_k(test_data, user_recommendation, user):\n",
        "  relevant_items = test_data[test_data['userId'] == user]['movieId'].tolist()\n",
        "\n",
        "  relevant_count = 0\n",
        "  for item in user_recommendation:\n",
        "    if item in relevant_items:\n",
        "      relevant_count += 1\n",
        "\n",
        "  precision_at_k = relevant_count / len(user_recommendation)\n",
        "\n",
        "  return precision_at_k"
      ]
    },
    {
      "cell_type": "code",
      "execution_count": 45,
      "metadata": {
        "id": "1n6oA1mzacnn"
      },
      "outputs": [],
      "source": [
        "def calculate_recall_at_k(test_data, user_recommendation, user):\n",
        "  relevant_items = test_data[test_data['userId'] == user]['movieId'].tolist()\n",
        "\n",
        "  relevant_count = 0\n",
        "  for item in user_recommendation:\n",
        "    if item in relevant_items:\n",
        "      relevant_count += 1\n",
        "\n",
        "  recall_at_k = relevant_count / len(relevant_items)\n",
        "\n",
        "  return recall_at_k"
      ]
    },
    {
      "cell_type": "markdown",
      "metadata": {
        "id": "5c3T-7RzWcS6"
      },
      "source": [
        "\n",
        "## Métricas de Diversidad: ¡Enfoque del Estudio!\n",
        "- **User Diversity**: Métrica propuesta por la investigación\n",
        "- Long Tail\n",
        "- Shannon Entropy\n",
        "- Intra List Diversity\n",
        "- Diversity Coverage\n",
        "- Inverse Propensity Score"
      ]
    },
    {
      "cell_type": "markdown",
      "metadata": {
        "id": "DYfcGlSqJcMK"
      },
      "source": [
        "### Definición de **USER DIVERSITY**, la métrica de la investigación.\n",
        "1. `UD = 1 - (|∑{j=1...k}[(R_j/R)*log(R_j/R)]| / log(k))`\n",
        "2. `k`: número de categorías para un usuario.\n",
        "3. `R`: número total de recomendaciones.\n",
        "4. `(R_j/R)`: Proporción de recomendaciones del usuario que pertenecen a la categoría `j`\n",
        "5. `log(...)`: para penalizar concentración excesiva en una sola categoría.\n",
        "6. `/ log(k)`: normaliza el valor.\n",
        "7. `1 - `: Valor resultante entre 0 y 1.\n",
        "8. *Valor alto*: alta diversidad en las recomendaciones recibidas por el usuario (pertenecen a varias categorías favoritas)"
      ]
    },
    {
      "cell_type": "code",
      "source": [
        "import math\n",
        "\n",
        "def calculate_user_diversity(user_top_categories, user_recommendation, user_id, k=5):\n",
        "    # Obtener las top k categorías del usuario\n",
        "    categories_user = user_top_categories[user_top_categories['userId'] == user_id]['relevant_genre'].tolist()[:k]\n",
        "\n",
        "    # Filtrar recomendaciones para géneros relevantes\n",
        "    filtered_recommendations = [\n",
        "        rec for rec in user_recommendation\n",
        "        if rec in data_movie[data_movie['relevant_genre'].isin(categories_user)]['movieId'].tolist()\n",
        "    ]\n",
        "\n",
        "    # Total de recomendaciones relevantes\n",
        "    r = len(filtered_recommendations)\n",
        "    if r == 0:\n",
        "        return 0.0  # Si no hay recomendaciones relevantes, diversidad es 0.\n",
        "\n",
        "    # Filtrar datos de movies para las peliculas recomendadas relevantes\n",
        "    filtered_data = meta_movies[meta_movies['movieId'].isin(filtered_recommendations)]\n",
        "\n",
        "\n",
        "    # Calcular sum_diversity\n",
        "    sum_diversity = 0\n",
        "    for genre in categories_user:\n",
        "        recommended_movies_genre = filtered_data[filtered_data['relevant_genre'] == genre]\n",
        "        r_j = len(recommended_movies_genre)\n",
        "\n",
        "\n",
        "        if r_j > 0:\n",
        "            proportion = r_j / r\n",
        "            contribution = proportion * math.log(proportion)\n",
        "            sum_diversity += contribution\n",
        "\n",
        "    # Normalizar con log(k)\n",
        "    max_diversity = math.log(k) if k > 1 else 1.0\n",
        "    # Ponemos en valor absoluto sum_diversity\n",
        "    sum_diversity = abs(sum_diversity)\n",
        "\n",
        "    if max_diversity == 0:\n",
        "        return 0.0  # Si k <= 1, diversidad no tiene sentido\n",
        "\n",
        "    # Calcular diversidad final\n",
        "    diversity = 1 - (sum_diversity / max_diversity)\n",
        "\n",
        "    # Depuración adicional\n",
        "    return diversity\n"
      ],
      "metadata": {
        "id": "BwA1HtYxmY6c"
      },
      "execution_count": 46,
      "outputs": []
    },
    {
      "cell_type": "code",
      "execution_count": 47,
      "metadata": {
        "id": "GFRa6xoowmqk",
        "colab": {
          "base_uri": "https://localhost:8080/",
          "height": 196
        },
        "outputId": "873a137a-cade-481d-b17d-131767d091c6"
      },
      "outputs": [
        {
          "output_type": "execute_result",
          "data": {
            "text/plain": [
              "\" import math\\n\\ndef calculate_user_diversity(user_top_categories, user_recommendation, user_id, k=5):\\n    # Obtener las top k categorías del usuario\\n    categories_user = user_top_categories[user_top_categories['userId'] == user_id]['relevant_genre'].tolist()[:k]\\n\\n    # Filtrar recomendaciones para géneros relevantes\\n    filtered_recommendations = []\\n    for rec in user_recommendation:\\n      genre_list = movies.copy()\\n      genre_list = genre_list[genre_list['movieId'] == rec]\\n      genre_list['genres_list'] = genre_list['genres'].str.split('|')\\n      genre_list = genre_list['genres_list'].tolist()\\n      genre_list_total = []\\n      for genre in genre_list:\\n        genre_list_total.extend(genre)\\n      if rec in genre_list_total:\\n        filtered_recommendations.append(rec)\\n\\n\\n    # Total de recomendaciones relevantes\\n    r = len(filtered_recommendations)\\n    if r == 0:\\n        return 0.0  # Si no hay recomendaciones relevantes, diversidad es 0.\\n\\n    # Filtrar datos de movie para las peliculas recomendadas relevantes\\n    filtered_data = data_movie[data_movie['movieId'].isin(filtered_recommendations)]\\n\\n    # Calcular sum_diversity\\n    sum_diversity = 0\\n    for genre in categories_user:\\n        recommended_movie_genre = filtered_data[filtered_data['genre_list'].apply(lambda x: genre in x)]['movieId'].tolist()\\n        r_j = len(recommended_movie_genre)\\n\\n        if r_j > 0:\\n            proportion = r_j / r\\n            contribution = proportion * math.log(proportion)\\n            sum_diversity += contribution\\n\\n    # Normalizar con log(k)\\n    max_diversity = math.log(k) if k > 1 else 1.0\\n    # Ponemos en valor absoluto sum_diversity\\n    sum_diversity = abs(sum_diversity)\\n\\n    if max_diversity == 0:\\n        return 0.0  # Si k <= 1, diversidad no tiene sentido\\n\\n    # Calcular diversidad final\\n    diversity = 1 - (sum_diversity / max_diversity)\\n\\n    # Depuración adicional\\n    return diversity\\n \""
            ],
            "application/vnd.google.colaboratory.intrinsic+json": {
              "type": "string"
            }
          },
          "metadata": {},
          "execution_count": 47
        }
      ],
      "source": [
        "''' import math\n",
        "\n",
        "def calculate_user_diversity(user_top_categories, user_recommendation, user_id, k=5):\n",
        "    # Obtener las top k categorías del usuario\n",
        "    categories_user = user_top_categories[user_top_categories['userId'] == user_id]['relevant_genre'].tolist()[:k]\n",
        "\n",
        "    # Filtrar recomendaciones para géneros relevantes\n",
        "    filtered_recommendations = []\n",
        "    for rec in user_recommendation:\n",
        "      genre_list = movies.copy()\n",
        "      genre_list = genre_list[genre_list['movieId'] == rec]\n",
        "      genre_list['genres_list'] = genre_list['genres'].str.split('|')\n",
        "      genre_list = genre_list['genres_list'].tolist()\n",
        "      genre_list_total = []\n",
        "      for genre in genre_list:\n",
        "        genre_list_total.extend(genre)\n",
        "      if rec in genre_list_total:\n",
        "        filtered_recommendations.append(rec)\n",
        "\n",
        "\n",
        "    # Total de recomendaciones relevantes\n",
        "    r = len(filtered_recommendations)\n",
        "    if r == 0:\n",
        "        return 0.0  # Si no hay recomendaciones relevantes, diversidad es 0.\n",
        "\n",
        "    # Filtrar datos de movie para las peliculas recomendadas relevantes\n",
        "    filtered_data = data_movie[data_movie['movieId'].isin(filtered_recommendations)]\n",
        "\n",
        "    # Calcular sum_diversity\n",
        "    sum_diversity = 0\n",
        "    for genre in categories_user:\n",
        "        recommended_movie_genre = filtered_data[filtered_data['genre_list'].apply(lambda x: genre in x)]['movieId'].tolist()\n",
        "        r_j = len(recommended_movie_genre)\n",
        "\n",
        "        if r_j > 0:\n",
        "            proportion = r_j / r\n",
        "            contribution = proportion * math.log(proportion)\n",
        "            sum_diversity += contribution\n",
        "\n",
        "    # Normalizar con log(k)\n",
        "    max_diversity = math.log(k) if k > 1 else 1.0\n",
        "    # Ponemos en valor absoluto sum_diversity\n",
        "    sum_diversity = abs(sum_diversity)\n",
        "\n",
        "    if max_diversity == 0:\n",
        "        return 0.0  # Si k <= 1, diversidad no tiene sentido\n",
        "\n",
        "    # Calcular diversidad final\n",
        "    diversity = 1 - (sum_diversity / max_diversity)\n",
        "\n",
        "    # Depuración adicional\n",
        "    return diversity\n",
        " '''"
      ]
    },
    {
      "cell_type": "markdown",
      "metadata": {
        "id": "nZEaHnChqo0j"
      },
      "source": [
        "### **Long Tail**:\n",
        "Mide que tan diversas son las recomendaciones en términos de popularidad de los items.\n",
        "1.  Equación: `LT = |Intersection(Rec, TailItems)| / |Rec|`\n",
        "2. Parametro `beta=0.4`: define umbral para considerar item como parte de la cola larga.\n",
        "3. *Valor alto*: se recomiendan más items poco populares\n",
        "\n"
      ]
    },
    {
      "cell_type": "code",
      "execution_count": 48,
      "metadata": {
        "id": "JSxWcIUbJ1Ux"
      },
      "outputs": [],
      "source": [
        "def calculate_long_tail(test_data, user_recommendation, user_id, beta_value=0.4):\n",
        "    # Total de recomendaciones relevantes\n",
        "    r = len(user_recommendation)\n",
        "    if r == 0:\n",
        "        return 0.0  # Si no hay recomendaciones relevantes, diversidad es 0.\n",
        "\n",
        "    # Procesamos las recomendaciones para obtener la popularidad de los items:\n",
        "    item_popularity = test_data['movieId'].value_counts().to_dict()\n",
        "\n",
        "    # Ordenamos los items por popularidad\n",
        "    sorted_items = sorted(item_popularity.items(), key=lambda x: x[1], reverse=True)\n",
        "    n_items = len(sorted_items)\n",
        "    tail_max = int(beta_value * n_items)\n",
        "\n",
        "    # Identificamos los items en la LT\n",
        "    long_tail = set(item for item, _ in sorted_items[tail_max:])\n",
        "\n",
        "    # Calculamos la proporcion de items recomendades nen la cola larga\n",
        "    longtail_recommendation = sum(1 for item in user_recommendation if item in long_tail)\n",
        "\n",
        "    return longtail_recommendation / r\n"
      ]
    },
    {
      "cell_type": "markdown",
      "metadata": {
        "id": "FmJOSk-xqs_J"
      },
      "source": [
        "### **Entropía de Shannon**:\n",
        "Mide la incertidumbre o aleatoriedad de la distribución de recomendaciones.\n",
        "1. `H = -∑(pi*log2(pi)) / log2(n)`\n",
        "2. `pi`: probabilidad de cada item en las recomendaciones\n",
        "3. *Valor alto*: mayor aleatoriedad/diversidad en las recomendaciones.\n",
        "\n"
      ]
    },
    {
      "cell_type": "code",
      "source": [
        "def calculate_shannon_entropy(test_data, user_recommendation, user_id):\n",
        "    # Total de recomendaciones relevantes\n",
        "    r = len(user_recommendation)\n",
        "    if r == 0:\n",
        "        return 0.0  # Si no hay recomendaciones relevantes, diversidad es 0.\n",
        "\n",
        "    # Obtener genero de las peliculas recomendadas\n",
        "    rec_genres = [\n",
        "        test_data[test_data['movieId'] == rec]['relevant_genre'].iloc[0]\n",
        "        for rec in user_recommendation\n",
        "        if len(test_data[test_data['movieId'] == rec]) > 0\n",
        "    ]\n",
        "\n",
        "    # Si no hay generos recomendados, devolver 0\n",
        "    if len(rec_genres) == 0:\n",
        "        return 0.0\n",
        "\n",
        "    # Contar la frecuencia de cada genero\n",
        "    genre_counts = {genre: rec_genres.count(genre) for genre in set(rec_genres)}\n",
        "    frecuencies = [count/r for count in genre_counts.values()]\n",
        "\n",
        "    # Calcular la entropia\n",
        "    entropy = -sum(p * math.log(p, 2) for p in frecuencies)\n",
        "\n",
        "    # Normalizar con log(r)\n",
        "    max_entropy = math.log(r) if r > 1 else 1.0\n",
        "    entropy /= max_entropy\n",
        "\n",
        "    return entropy"
      ],
      "metadata": {
        "id": "jdwB_BIoYlnh"
      },
      "execution_count": 49,
      "outputs": []
    },
    {
      "cell_type": "code",
      "execution_count": 50,
      "metadata": {
        "id": "tugWz76tKi9-",
        "colab": {
          "base_uri": "https://localhost:8080/",
          "height": 196
        },
        "outputId": "3bc0b357-66e3-4a5a-f2e9-ae66a92e2c71"
      },
      "outputs": [
        {
          "output_type": "execute_result",
          "data": {
            "text/plain": [
              "\" import math\\n\\ndef calculate_shannon_entropy(test_data, user_recommendation, user_id):\\n    # Total de recomendaciones relevantes\\n    r = len(user_recommendation)\\n    if r == 0:\\n        return 0.0  # Si no hay recomendaciones, entropía es 0.\\n\\n    # Obtener géneros de las películas recomendadas\\n    rec_genres = []\\n    for rec in user_recommendation:\\n        movie_genres = test_data[test_data['movieId'] == rec]['relevant_genre']\\n\\n        if not movie_genres.empty:\\n            rec_genres.extend(movie_genres.iloc[0])  # Añadir los géneros de la película\\n\\n    # Si no hay géneros recomendados, devolver 0\\n    if len(rec_genres) == 0:\\n        return 0.0\\n\\n    # Contar la frecuencia de cada género\\n    genre_counts = {genre: rec_genres.count(genre) for genre in set(rec_genres)}\\n    frequencies = [count / r for count in genre_counts.values()]\\n\\n    # Calcular la entropía\\n    entropy = -sum(p * math.log(p, 2) for p in frequencies if p > 0)\\n\\n    # Normalizar con log(r)\\n    max_entropy = math.log(r, 2) if r > 1 else 1.0\\n    entropy /= max_entropy\\n\\n    return entropy \""
            ],
            "application/vnd.google.colaboratory.intrinsic+json": {
              "type": "string"
            }
          },
          "metadata": {},
          "execution_count": 50
        }
      ],
      "source": [
        "''' import math\n",
        "\n",
        "def calculate_shannon_entropy(test_data, user_recommendation, user_id):\n",
        "    # Total de recomendaciones relevantes\n",
        "    r = len(user_recommendation)\n",
        "    if r == 0:\n",
        "        return 0.0  # Si no hay recomendaciones, entropía es 0.\n",
        "\n",
        "    # Obtener géneros de las películas recomendadas\n",
        "    rec_genres = []\n",
        "    for rec in user_recommendation:\n",
        "        movie_genres = test_data[test_data['movieId'] == rec]['relevant_genre']\n",
        "\n",
        "        if not movie_genres.empty:\n",
        "            rec_genres.extend(movie_genres.iloc[0])  # Añadir los géneros de la película\n",
        "\n",
        "    # Si no hay géneros recomendados, devolver 0\n",
        "    if len(rec_genres) == 0:\n",
        "        return 0.0\n",
        "\n",
        "    # Contar la frecuencia de cada género\n",
        "    genre_counts = {genre: rec_genres.count(genre) for genre in set(rec_genres)}\n",
        "    frequencies = [count / r for count in genre_counts.values()]\n",
        "\n",
        "    # Calcular la entropía\n",
        "    entropy = -sum(p * math.log(p, 2) for p in frequencies if p > 0)\n",
        "\n",
        "    # Normalizar con log(r)\n",
        "    max_entropy = math.log(r, 2) if r > 1 else 1.0\n",
        "    entropy /= max_entropy\n",
        "\n",
        "    return entropy '''\n"
      ]
    },
    {
      "cell_type": "markdown",
      "metadata": {
        "id": "t9KGJFp8qwYp"
      },
      "source": [
        "### **Intra List Diversity**:\n",
        "Calcula diversidad basándose en la similitud entre los items.\n",
        "1. `ILD = ∑∑(d(i,j)) / (n*(n-1)/2)`\n",
        "2. `d(i,j)`: es la distancia entre los items `i` y `j`, usando coseno\n",
        "3. *Valor alto*: mayor diversidad entre los items recomendados.\n",
        "\n"
      ]
    },
    {
      "cell_type": "code",
      "source": [
        "import numpy as np\n",
        "def calculate_intra_list_diversity(test_data, user_recommendation, user_id):\n",
        "    # Total de recomendaciones relevantes\n",
        "    r = len(user_recommendation)\n",
        "    if r < 2:\n",
        "        return 0.0\n",
        "\n",
        "    # Crear one-hot-encoding de caracteristicas basados en generos\n",
        "    unique_genres = test_data['relevant_genre'].unique()\n",
        "    one_genres = {genre: id_genre for id_genre, genre in enumerate(unique_genres)}\n",
        "\n",
        "    # Creamos los vectores one_hot\n",
        "    genre_vectors = []\n",
        "    for movie in user_recommendation:\n",
        "        movie_data = test_data[test_data['movieId'] == movie]\n",
        "        if len(movie_data) > 0:\n",
        "            genre = movie_data['relevant_genre'].iloc[0]\n",
        "            one_hot = [1 if one_genres[genre] == i else 0 for i in range(len(unique_genres))]\n",
        "            genre_vectors.append(one_hot)\n",
        "\n",
        "    # Si no hay recomendaciones relevantes, devolver 0\n",
        "    if len(genre_vectors) < 2:\n",
        "        return 0.0\n",
        "\n",
        "    # Calcular matriz de distancias usando distancia coseno\n",
        "    feature_vectors = np.array(genre_vectors)\n",
        "    distances = np.dot(feature_vectors, feature_vectors.T)\n",
        "\n",
        "    # Calcular la diversidad intra-list, considerando la distancia coseno\n",
        "    n = len(feature_vectors)\n",
        "    comparisons = (n * (n - 1)) / 2\n",
        "    intra_list_diversity = np.sum(distances) / (2 * comparisons)\n",
        "\n",
        "    return intra_list_diversity"
      ],
      "metadata": {
        "id": "7z-2ZQc_ZPab"
      },
      "execution_count": 51,
      "outputs": []
    },
    {
      "cell_type": "code",
      "execution_count": 52,
      "metadata": {
        "id": "WVFAJiK5K58R",
        "colab": {
          "base_uri": "https://localhost:8080/",
          "height": 196
        },
        "outputId": "f1cb8c14-c0ae-483f-919b-0db501cefb37"
      },
      "outputs": [
        {
          "output_type": "execute_result",
          "data": {
            "text/plain": [
              "\" import numpy as np\\n\\ndef calculate_intra_list_diversity(test_data, user_recommendation, user_id):\\n    # Total de recomendaciones relevantes\\n    r = len(user_recommendation)\\n    if r < 2:\\n        return 0.0  # Diversidad no se puede calcular con menos de 2 recomendaciones\\n\\n    # Crear one-hot encoding de características basadas en géneros\\n    unique_genres = set(genre for genres in test_data['relevant_genre'] for genre in genres)\\n    genre_to_index = {genre: idx for idx, genre in enumerate(unique_genres)}\\n\\n    # Crear vectores one-hot para cada película recomendada\\n    genre_vectors = []\\n    for movie_id in user_recommendation:\\n        movie_data_df = test_data[test_data['movieId'] == movie_id]\\n        if not movie_data_df.empty:\\n            genres = movie_data_df.iloc[0]['relevant_genre']\\n            one_hot = [1 if genre_to_index[genre] in [genre_to_index[g] for g in genres] else 0\\n                       for genre in unique_genres]\\n            genre_vectors.append(one_hot)\\n\\n    # Si no hay recomendaciones relevantes, devolver 0\\n    if len(genre_vectors) < 2:\\n        return 0.0\\n\\n    # Convertir los vectores a una matriz\\n    feature_vectors = np.array(genre_vectors)\\n\\n    # Calcular matriz de similitud usando producto punto\\n    similarity_matrix = np.dot(feature_vectors, feature_vectors.T)\\n    n = len(feature_vectors)\\n\\n    # Calcular la diversidad intra-lista como la distancia coseno promedio\\n    total_similarity = np.sum(similarity_matrix) - np.sum(np.diag(similarity_matrix))\\n    comparisons = n * (n - 1)  # Total de pares únicos\\n    intra_list_diversity = 1 - (total_similarity / comparisons)\\n\\n    return intra_list_diversity\\n \""
            ],
            "application/vnd.google.colaboratory.intrinsic+json": {
              "type": "string"
            }
          },
          "metadata": {},
          "execution_count": 52
        }
      ],
      "source": [
        "''' import numpy as np\n",
        "\n",
        "def calculate_intra_list_diversity(test_data, user_recommendation, user_id):\n",
        "    # Total de recomendaciones relevantes\n",
        "    r = len(user_recommendation)\n",
        "    if r < 2:\n",
        "        return 0.0  # Diversidad no se puede calcular con menos de 2 recomendaciones\n",
        "\n",
        "    # Crear one-hot encoding de características basadas en géneros\n",
        "    unique_genres = set(genre for genres in test_data['relevant_genre'] for genre in genres)\n",
        "    genre_to_index = {genre: idx for idx, genre in enumerate(unique_genres)}\n",
        "\n",
        "    # Crear vectores one-hot para cada película recomendada\n",
        "    genre_vectors = []\n",
        "    for movie_id in user_recommendation:\n",
        "        movie_data_df = test_data[test_data['movieId'] == movie_id]\n",
        "        if not movie_data_df.empty:\n",
        "            genres = movie_data_df.iloc[0]['relevant_genre']\n",
        "            one_hot = [1 if genre_to_index[genre] in [genre_to_index[g] for g in genres] else 0\n",
        "                       for genre in unique_genres]\n",
        "            genre_vectors.append(one_hot)\n",
        "\n",
        "    # Si no hay recomendaciones relevantes, devolver 0\n",
        "    if len(genre_vectors) < 2:\n",
        "        return 0.0\n",
        "\n",
        "    # Convertir los vectores a una matriz\n",
        "    feature_vectors = np.array(genre_vectors)\n",
        "\n",
        "    # Calcular matriz de similitud usando producto punto\n",
        "    similarity_matrix = np.dot(feature_vectors, feature_vectors.T)\n",
        "    n = len(feature_vectors)\n",
        "\n",
        "    # Calcular la diversidad intra-lista como la distancia coseno promedio\n",
        "    total_similarity = np.sum(similarity_matrix) - np.sum(np.diag(similarity_matrix))\n",
        "    comparisons = n * (n - 1)  # Total de pares únicos\n",
        "    intra_list_diversity = 1 - (total_similarity / comparisons)\n",
        "\n",
        "    return intra_list_diversity\n",
        " '''\n"
      ]
    },
    {
      "cell_type": "markdown",
      "metadata": {
        "id": "deRuDWKOq0yr"
      },
      "source": [
        "### **Diversity Coverage**:\n",
        "Mide la cobertura como la proporción de items únicos recomendados respceto al total de items posibles.\n",
        "1. `DC = |Unique_Rec| / |All Items|`\n",
        "2. *Valor alto*: se están recomendando items de todo el catálogo\n",
        "\n"
      ]
    },
    {
      "cell_type": "code",
      "source": [
        "def calculate_diversity_coverage(test_data, user_recommendation, user_id):\n",
        "    # Total de recomendaciones relevantes\n",
        "    r = len(user_recommendation)\n",
        "    if r == 0:\n",
        "        return 0.0  # Si no hay recomendaciones relevantes, diversidad es 0.\n",
        "\n",
        "    # Obtener generos unicos de las peliculas recomendadas\n",
        "    rec_genres = set(\n",
        "        test_data[test_data['movieId'] == rec]['relevant_genre'].iloc[0]\n",
        "        for rec in user_recommendation\n",
        "        if len(test_data[test_data['movieId'] == rec]) > 0\n",
        "    )\n",
        "\n",
        "    # Si no hay generos recomendados, devolver 0\n",
        "    if len(rec_genres) == 0:\n",
        "        return 0.0\n",
        "\n",
        "    # Obtener todos los posibles generos\n",
        "    all_genres = set(test_data['relevant_genre'].unique())\n",
        "\n",
        "    # Calcular la cobertura de la diversidad\n",
        "    diversity_coverage = len(rec_genres) / len(all_genres)\n",
        "\n",
        "    return diversity_coverage"
      ],
      "metadata": {
        "id": "iLbala6lZsKy"
      },
      "execution_count": 53,
      "outputs": []
    },
    {
      "cell_type": "code",
      "execution_count": 54,
      "metadata": {
        "id": "FwVhP8vNLGPb",
        "colab": {
          "base_uri": "https://localhost:8080/",
          "height": 178
        },
        "outputId": "9771817c-0ba7-49b0-de18-21353d7dafa0"
      },
      "outputs": [
        {
          "output_type": "execute_result",
          "data": {
            "text/plain": [
              "\" def calculate_diversity_coverage(test_data, user_recommendation, user_id):\\n    # Total de recomendaciones relevantes\\n    r = len(user_recommendation)\\n    if r == 0:\\n        return 0.0  # Si no hay recomendaciones, cobertura es 0.\\n\\n    # Obtener géneros únicos de las películas recomendadas\\n    rec_genres = set()\\n    for rec in user_recommendation:\\n        movie_data = test_data[test_data['movieId'] == rec]\\n        if not movie_data.empty:\\n            rec_genres.update(movie_data.iloc[0]['relevant_genre'])\\n\\n    # Si no hay géneros recomendados, devolver 0\\n    if len(rec_genres) == 0:\\n        return 0.0\\n\\n    # Obtener todos los posibles géneros\\n    all_genres = set(genre for genres in test_data['relevant_genre'] for genre in genres)\\n\\n    # Calcular la cobertura de la diversidad\\n    diversity_coverage = len(rec_genres) / len(all_genres)\\n\\n    return diversity_coverage\\n \""
            ],
            "application/vnd.google.colaboratory.intrinsic+json": {
              "type": "string"
            }
          },
          "metadata": {},
          "execution_count": 54
        }
      ],
      "source": [
        "''' def calculate_diversity_coverage(test_data, user_recommendation, user_id):\n",
        "    # Total de recomendaciones relevantes\n",
        "    r = len(user_recommendation)\n",
        "    if r == 0:\n",
        "        return 0.0  # Si no hay recomendaciones, cobertura es 0.\n",
        "\n",
        "    # Obtener géneros únicos de las películas recomendadas\n",
        "    rec_genres = set()\n",
        "    for rec in user_recommendation:\n",
        "        movie_data = test_data[test_data['movieId'] == rec]\n",
        "        if not movie_data.empty:\n",
        "            rec_genres.update(movie_data.iloc[0]['relevant_genre'])\n",
        "\n",
        "    # Si no hay géneros recomendados, devolver 0\n",
        "    if len(rec_genres) == 0:\n",
        "        return 0.0\n",
        "\n",
        "    # Obtener todos los posibles géneros\n",
        "    all_genres = set(genre for genres in test_data['relevant_genre'] for genre in genres)\n",
        "\n",
        "    # Calcular la cobertura de la diversidad\n",
        "    diversity_coverage = len(rec_genres) / len(all_genres)\n",
        "\n",
        "    return diversity_coverage\n",
        " '''"
      ]
    },
    {
      "cell_type": "markdown",
      "metadata": {
        "id": "nuETWeMJq3NL"
      },
      "source": [
        "### **Inverse Propensity Score** (IPS):\n",
        "Penaliza la recomendación de items muy populares\n",
        "1. `IPS = (1/p(i))`\n",
        "2. Parametro `lambda` para suavizar la propensidad\n",
        "3. `p(i)`: probabilidad que el item `i` sea seleccionado\n",
        "4. *Valor alto*: se están recomendando más items poco probables."
      ]
    },
    {
      "cell_type": "code",
      "execution_count": 55,
      "metadata": {
        "id": "3Ec92UgBXkMX"
      },
      "outputs": [],
      "source": [
        "def calculate_inverse_propensity_score(test_data, user_recommendation, user_id, lambda_value=0.5):\n",
        "    # Total de recomendaciones relevantes\n",
        "    r = len(user_recommendation)\n",
        "    if r == 0:\n",
        "        return 0.0  # Si no hay recomendaciones, el IPS es 0.\n",
        "\n",
        "    # Calcular la popularidad de las películas\n",
        "    movie_popularity = test_data['movieId'].value_counts().to_dict()\n",
        "    interaction_count = sum(movie_popularity.values())\n",
        "\n",
        "    # Calcular Propensity Score\n",
        "    prop_score = {\n",
        "        movie: ((movie_popularity.get(movie, 0) + lambda_value) / (interaction_count + lambda_value))\n",
        "        for movie in test_data['movieId'].unique()\n",
        "    }\n",
        "\n",
        "    # Calcular el IPS promedio\n",
        "    ips = [1 / prop_score[movie] for movie in user_recommendation if movie in prop_score]\n",
        "    if len(ips) > 0:\n",
        "        ips_avg = sum(ips) / len(ips)\n",
        "        return ips_avg\n",
        "    else:\n",
        "        return 0.0\n"
      ]
    },
    {
      "cell_type": "markdown",
      "metadata": {
        "id": "MqwU42k6icty"
      },
      "source": [
        "# Ejecución Método Most Popular"
      ]
    },
    {
      "cell_type": "markdown",
      "metadata": {
        "id": "uLh-GFiMwFMB"
      },
      "source": [
        "Creamos una función para ejecutar el modelo con parametros modificables correspondientes a:\n",
        "- `test_data`: Datos para testeo del modelo\n",
        "- `train_data`: Datos para entrenamiento del modelo\n",
        "- `top_n`: Para recommendación *Most Popular*\n",
        "- `k`: Cuantos clusters de géneros se considerarán para los usuarios\n",
        "- `beta_lt`: Parametro beta de métrica *Long Tail*, define umbral para considerar un item como parte de la *Long Tail*\n",
        "- `lambda_ips`: Parámetro de métrica *Inverse Propensity Score*, sirve para suavizar el resultado.\n"
      ]
    },
    {
      "cell_type": "code",
      "execution_count": 56,
      "metadata": {
        "id": "fvZHOLECFVhb"
      },
      "outputs": [],
      "source": [
        "def most_popular_metrics(test_data, train_data, top_n, k, beta_lt=0.4, lambda_ips=0.5):\n",
        "  map_sum = 0\n",
        "  ndcg_sum = 0\n",
        "  precision_sum = 0\n",
        "  recall_sum = 0\n",
        "  diversity_sum = 0\n",
        "  lt_sum = 0\n",
        "  entropy_sum = 0\n",
        "  ild_sum = 0\n",
        "  dc_sum = 0\n",
        "  ips_sum = 0\n",
        "  user_count = 0\n",
        "\n",
        "\n",
        "  top_k_categories_data = get_top_k_categories(test_data, k)\n",
        "\n",
        "  for userid in test_data['userId'].unique():\n",
        "\n",
        "    recommend_list = recommend_most_popular(userid, train_data, top_n)\n",
        "\n",
        "    #print(f\"User: {userid} - Recommended: {recommend_list}\")\n",
        "\n",
        "    # Calcular Map y nDCG y User Diversity\n",
        "    map_user = calculate_map(test_data, recommend_list, userid)\n",
        "    ndcg_user = calculate_ndcg(test_data, recommend_list, userid)\n",
        "    precision_user = calculate_precision_at_k(test_data, recommend_list, userid)\n",
        "    recall_user = calculate_recall_at_k(test_data, recommend_list, userid)\n",
        "\n",
        "    diversity_user = calculate_user_diversity(top_k_categories_data, recommend_list, userid)\n",
        "    lt_user = calculate_long_tail(test_data, recommend_list, userid, beta_lt)\n",
        "    entropy_user = calculate_shannon_entropy(test_data, recommend_list, userid)\n",
        "    ild_user = calculate_intra_list_diversity(test_data, recommend_list, userid)\n",
        "    dc_user = calculate_diversity_coverage(test_data, recommend_list, userid)\n",
        "    ips_user = calculate_inverse_propensity_score(test_data, recommend_list, userid, lambda_ips)\n",
        "\n",
        "\n",
        "    map_sum += map_user\n",
        "    ndcg_sum += ndcg_user\n",
        "    precision_sum += precision_user\n",
        "    recall_sum += recall_user\n",
        "    diversity_sum += diversity_user\n",
        "    lt_sum += lt_user\n",
        "    entropy_sum += entropy_user\n",
        "    ild_sum += ild_user\n",
        "    dc_sum += dc_user\n",
        "    ips_sum += ips_user\n",
        "    user_count += 1\n",
        "\n",
        "  # Promedio de métricas\n",
        "  map_avg = map_sum / user_count\n",
        "  ndcg_avg = ndcg_sum / user_count\n",
        "  precision_avg = precision_sum / user_count\n",
        "  recall_avg = recall_sum / user_count\n",
        "  diversity_avg = diversity_sum / user_count\n",
        "  lt_avg = lt_sum / user_count\n",
        "  entropy_avg = entropy_sum / user_count\n",
        "  ild_avg = ild_sum / user_count\n",
        "  dc_avg = dc_sum / user_count\n",
        "  ips_avg = ips_sum / user_count\n",
        "\n",
        "  return {\n",
        "      \"MAP\": map_avg,\n",
        "      \"nDCG\": ndcg_avg,\n",
        "      \"Precision\": precision_avg,\n",
        "      \"Recall\": recall_avg,\n",
        "      \"User_Diversity\": diversity_avg,\n",
        "      \"Long_Tail\": lt_avg,\n",
        "      \"Shannon_Entropy\": entropy_avg,\n",
        "      \"Intra_List_Diversity\": ild_avg,\n",
        "      \"Diversity_Coverage\": dc_avg,\n",
        "      \"Inverse_Propensity_Score\": ips_avg\n",
        "  }\n"
      ]
    },
    {
      "cell_type": "markdown",
      "metadata": {
        "id": "3wHcux_JRJjE"
      },
      "source": [
        "# Ejecución Método Random"
      ]
    },
    {
      "cell_type": "code",
      "execution_count": 57,
      "metadata": {
        "id": "wFyUHSuVRJTu"
      },
      "outputs": [],
      "source": [
        "def random_metrcis(test_data, train_data, top_n, k, beta_lt=0.4, lambda_ips=0.5):\n",
        "  map_sum = 0\n",
        "  ndcg_sum = 0\n",
        "  precision_sum = 0\n",
        "  recall_sum = 0\n",
        "  diversity_sum = 0\n",
        "  lt_sum = 0\n",
        "  entropy_sum = 0\n",
        "  ild_sum = 0\n",
        "  dc_sum = 0\n",
        "  ips_sum = 0\n",
        "  user_count = 0\n",
        "\n",
        "\n",
        "  top_k_categories_data = get_top_k_categories(test_data, k)\n",
        "\n",
        "  for userid in test_data['userId'].unique():\n",
        "\n",
        "    recommend_list = recommend_random(userid, train_data, top_n)\n",
        "\n",
        "    #print(f\"User: {userid} - Recommended: {recommend_list}\")\n",
        "\n",
        "    # Calcular Map y nDCG y User Diversity\n",
        "    map_user = calculate_map(test_data, recommend_list, userid)\n",
        "    ndcg_user = calculate_ndcg(test_data, recommend_list, userid)\n",
        "    precision_user = calculate_precision_at_k(test_data, recommend_list, userid)\n",
        "    recall_user = calculate_recall_at_k(test_data, recommend_list, userid)\n",
        "    diversity_user = calculate_user_diversity(top_k_categories_data, recommend_list, userid)\n",
        "    lt_user = calculate_long_tail(test_data, recommend_list, userid, beta_lt)\n",
        "    entropy_user = calculate_shannon_entropy(test_data, recommend_list, userid)\n",
        "    ild_user = calculate_intra_list_diversity(test_data, recommend_list, userid)\n",
        "    dc_user = calculate_diversity_coverage(test_data, recommend_list, userid)\n",
        "    ips_user = calculate_inverse_propensity_score(test_data, recommend_list, userid, lambda_ips)\n",
        "\n",
        "    map_sum += map_user\n",
        "    ndcg_sum += ndcg_user\n",
        "    precision_sum += precision_user\n",
        "    recall_sum += recall_user\n",
        "    diversity_sum += diversity_user\n",
        "    lt_sum += lt_user\n",
        "    entropy_sum += entropy_user\n",
        "    ild_sum += ild_user\n",
        "    dc_sum += dc_user\n",
        "    ips_sum += ips_user\n",
        "    user_count += 1\n",
        "\n",
        "  # Promedio de métricas\n",
        "  map_avg = map_sum / user_count\n",
        "  ndcg_avg = ndcg_sum / user_count\n",
        "  precision_avg = precision_sum / user_count\n",
        "  recall_avg = recall_sum / user_count\n",
        "  diversity_avg = diversity_sum / user_count\n",
        "  lt_avg = lt_sum / user_count\n",
        "  entropy_avg = entropy_sum / user_count\n",
        "  ild_avg = ild_sum / user_count\n",
        "  dc_avg = dc_sum / user_count\n",
        "  ips_avg = ips_sum / user_count\n",
        "\n",
        "  return {\n",
        "      \"MAP\": map_avg,\n",
        "      \"nDCG\": ndcg_avg,\n",
        "      \"Precision\": precision_avg,\n",
        "      \"Recall\": recall_avg,\n",
        "      \"User_Diversity\": diversity_avg,\n",
        "      \"Long_Tail\": lt_avg,\n",
        "      \"Shannon_Entropy\": entropy_avg,\n",
        "      \"Intra_List_Diversity\": ild_avg,\n",
        "      \"Diversity_Coverage\": dc_avg,\n",
        "      \"Inverse_Propensity_Score\": ips_avg\n",
        "  }\n"
      ]
    },
    {
      "cell_type": "markdown",
      "metadata": {
        "id": "zIv6m1ndTAt3"
      },
      "source": [
        "# Ejecución de método IKNN"
      ]
    },
    {
      "cell_type": "code",
      "execution_count": 58,
      "metadata": {
        "id": "nNyNGhqmTGT6"
      },
      "outputs": [],
      "source": [
        "def IKNN_metrics(test_data, train_data, top_n, k, beta_lt=0.4, lambda_ips=0.5):\n",
        "  map_sum = 0\n",
        "  ndcg_sum = 0\n",
        "  precision_sum = 0\n",
        "  recall_sum = 0\n",
        "  diversity_sum = 0\n",
        "  lt_sum = 0\n",
        "  entropy_sum = 0\n",
        "  ild_sum = 0\n",
        "  dc_sum = 0\n",
        "  ips_sum = 0\n",
        "  user_count = 0\n",
        "\n",
        "\n",
        "  top_k_categories_data = get_top_k_categories(test_data, k)\n",
        "\n",
        "  for userid in test_data['userId'].unique():\n",
        "    model = MovieIKNN(k=20)\n",
        "    model.fit(train_data)\n",
        "\n",
        "    recommend_list = model.recommend(userid, train_data, top_n)\n",
        "\n",
        "    #print(f\"User: {userid} - Recommended: {recommend_list}\")\n",
        "\n",
        "    # Calcular Map y nDCG y User Diversity\n",
        "    map_user = calculate_map(test_data, recommend_list, userid)\n",
        "    ndcg_user = calculate_ndcg(test_data, recommend_list, userid)\n",
        "    precision_user = calculate_precision_at_k(test_data, recommend_list, userid)\n",
        "    recall_user = calculate_recall_at_k(test_data, recommend_list, userid)\n",
        "    diversity_user = calculate_user_diversity(top_k_categories_data, recommend_list, userid)\n",
        "    lt_user = calculate_long_tail(test_data, recommend_list, userid, beta_lt)\n",
        "    entropy_user = calculate_shannon_entropy(test_data, recommend_list, userid)\n",
        "    ild_user = calculate_intra_list_diversity(test_data, recommend_list, userid)\n",
        "    dc_user = calculate_diversity_coverage(test_data, recommend_list, userid)\n",
        "    ips_user = calculate_inverse_propensity_score(test_data, recommend_list, userid, lambda_ips)\n",
        "\n",
        "    map_sum += map_user\n",
        "    ndcg_sum += ndcg_user\n",
        "    precision_sum += precision_user\n",
        "    recall_sum += recall_user\n",
        "    diversity_sum += diversity_user\n",
        "    lt_sum += lt_user\n",
        "    entropy_sum += entropy_user\n",
        "    ild_sum += ild_user\n",
        "    dc_sum += dc_user\n",
        "    ips_sum += ips_user\n",
        "    user_count += 1\n",
        "\n",
        "  # Promedio de métricas\n",
        "  map_avg = map_sum / user_count\n",
        "  ndcg_avg = ndcg_sum / user_count\n",
        "  precision_avg = precision_sum / user_count\n",
        "  recall_avg = recall_sum / user_count\n",
        "  diversity_avg = diversity_sum / user_count\n",
        "  lt_avg = lt_sum / user_count\n",
        "  entropy_avg = entropy_sum / user_count\n",
        "  ild_avg = ild_sum / user_count\n",
        "  dc_avg = dc_sum / user_count\n",
        "  ips_avg = ips_sum / user_count\n",
        "\n",
        "  return {\n",
        "      \"MAP\": map_avg,\n",
        "      \"nDCG\": ndcg_avg,\n",
        "      \"Precision\": precision_avg,\n",
        "      \"Recall\": recall_avg,\n",
        "      \"User_Diversity\": diversity_avg,\n",
        "      \"Long_Tail\": lt_avg,\n",
        "      \"Shannon_Entropy\": entropy_avg,\n",
        "      \"Intra_List_Diversity\": ild_avg,\n",
        "      \"Diversity_Coverage\": dc_avg,\n",
        "      \"Inverse_Propensity_Score\": ips_avg\n",
        "  }\n"
      ]
    },
    {
      "cell_type": "markdown",
      "source": [
        "## Ejecución de metodo deepFM"
      ],
      "metadata": {
        "id": "f8Rl00gkq6dZ"
      }
    },
    {
      "cell_type": "code",
      "source": [
        "def deepfm_metrics(test_data, train_data, top_n, k, beta_lt=0.4, lambda_ips=0.5):\n",
        "  map_sum = 0\n",
        "  ndcg_sum = 0\n",
        "  precision_sum = 0\n",
        "  recall_sum = 0\n",
        "  diversity_sum = 0\n",
        "  lt_sum = 0\n",
        "  entropy_sum = 0\n",
        "  ild_sum = 0\n",
        "  dc_sum = 0\n",
        "  ips_sum = 0\n",
        "  user_count = 0\n",
        "\n",
        "\n",
        "  top_k_categories_data = get_top_k_categories(test_data, k)\n",
        "  for userid in test_data['userId'].unique():\n",
        "    recommend_list = recommend_deepfm(userid, train_data, top_n)\n",
        "\n",
        "    #print(f\"User: {userid} - Recommended: {recommend_list}\")\n",
        "\n",
        "    # Calcular Map y nDCG y User Diversity\n",
        "    map_user = calculate_map(test_data, recommend_list, userid)\n",
        "    ndcg_user = calculate_ndcg(test_data, recommend_list, userid)\n",
        "    precision_user = calculate_precision_at_k(test_data, recommend_list, userid)\n",
        "    recall_user = calculate_recall_at_k(test_data, recommend_list, userid)\n",
        "    diversity_user = calculate_user_diversity(top_k_categories_data, recommend_list, userid)\n",
        "    lt_user = calculate_long_tail(test_data, recommend_list, userid, beta_lt)\n",
        "    entropy_user = calculate_shannon_entropy(test_data, recommend_list, userid)\n",
        "    ild_user = calculate_intra_list_diversity(test_data, recommend_list, userid)\n",
        "    dc_user = calculate_diversity_coverage(test_data, recommend_list, userid)\n",
        "    ips_user = calculate_inverse_propensity_score(test_data, recommend_list, userid, lambda_ips)\n",
        "\n",
        "    map_sum += map_user\n",
        "    ndcg_sum += ndcg_user\n",
        "    precision_sum += precision_user\n",
        "    recall_sum += recall_user\n",
        "    diversity_sum += diversity_user\n",
        "    lt_sum += lt_user\n",
        "    entropy_sum += entropy_user\n",
        "    ild_sum += ild_user\n",
        "    dc_sum += dc_user\n",
        "    ips_sum += ips_user\n",
        "    user_count += 1\n",
        "\n",
        "  # Promedio de métricas\n",
        "  map_avg = map_sum / user_count\n",
        "  ndcg_avg = ndcg_sum / user_count\n",
        "  precision_avg = precision_sum / user_count\n",
        "  recall_avg = recall_sum / user_count\n",
        "  diversity_avg = diversity_sum / user_count\n",
        "  lt_avg = lt_sum / user_count\n",
        "  entropy_avg = entropy_sum / user_count\n",
        "  ild_avg = ild_sum / user_count\n",
        "  dc_avg = dc_sum / user_count\n",
        "  ips_avg = ips_sum / user_count\n",
        "\n",
        "  return {\n",
        "      \"MAP\": map_avg,\n",
        "      \"nDCG\": ndcg_avg,\n",
        "      \"Precision\": precision_avg,\n",
        "      \"Recall\": recall_avg,\n",
        "      \"User_Diversity\": diversity_avg,\n",
        "      \"Long_Tail\": lt_avg,\n",
        "      \"Shannon_Entropy\": entropy_avg,\n",
        "      \"Intra_List_Diversity\": ild_avg,\n",
        "      \"Diversity_Coverage\": dc_avg,\n",
        "      \"Inverse_Propensity_Score\": ips_avg\n",
        "  }\n"
      ],
      "metadata": {
        "id": "5FHi9UVZq-qv"
      },
      "execution_count": 59,
      "outputs": []
    },
    {
      "cell_type": "markdown",
      "source": [
        "## Ejecución de método FastFM"
      ],
      "metadata": {
        "id": "zNC-V749ralp"
      }
    },
    {
      "cell_type": "code",
      "source": [
        "def fastfm_metrics(test_data, train_data, top_n, k, beta_lt=0.4, lambda_ips=0.5):\n",
        "  map_sum = 0\n",
        "  ndcg_sum = 0\n",
        "  precision_sum = 0\n",
        "  recall_sum = 0\n",
        "  diversity_sum = 0\n",
        "  lt_sum = 0\n",
        "  entropy_sum = 0\n",
        "  ild_sum = 0\n",
        "  dc_sum = 0\n",
        "  ips_sum = 0\n",
        "  user_count = 0\n",
        "\n",
        "\n",
        "  top_k_categories_data = get_top_k_categories(test_data, k)\n",
        "  for userid in test_data['userId'].unique():\n",
        "    recommend_list = recommend_fastfm(userid, train_data, top_n)\n",
        "\n",
        "    #print(f\"User: {userid} - Recommended: {recommend_list}\")\n",
        "\n",
        "    # Calcular Map y nDCG y User Diversity\n",
        "    map_user = calculate_map(test_data, recommend_list, userid)\n",
        "    ndcg_user = calculate_ndcg(test_data, recommend_list, userid)\n",
        "    precision_user = calculate_precision_at_k(test_data, recommend_list, userid)\n",
        "    recall_user = calculate_recall_at_k(test_data, recommend_list, userid)\n",
        "    diversity_user = calculate_user_diversity(top_k_categories_data, recommend_list, userid)\n",
        "    lt_user = calculate_long_tail(test_data, recommend_list, userid, beta_lt)\n",
        "    entropy_user = calculate_shannon_entropy(test_data, recommend_list, userid)\n",
        "    ild_user = calculate_intra_list_diversity(test_data, recommend_list, userid)\n",
        "    dc_user = calculate_diversity_coverage(test_data, recommend_list, userid)\n",
        "    ips_user = calculate_inverse_propensity_score(test_data, recommend_list, userid, lambda_ips)\n",
        "\n",
        "    map_sum += map_user\n",
        "    ndcg_sum += ndcg_user\n",
        "    precision_sum += precision_user\n",
        "    recall_sum += recall_user\n",
        "    diversity_sum += diversity_user\n",
        "    lt_sum += lt_user\n",
        "    entropy_sum += entropy_user\n",
        "    ild_sum += ild_user\n",
        "    dc_sum += dc_user\n",
        "    ips_sum += ips_user\n",
        "    user_count += 1\n",
        "\n",
        "  # Promedio de métricas\n",
        "  map_avg = map_sum / user_count\n",
        "  ndcg_avg = ndcg_sum / user_count\n",
        "  precision_avg = precision_sum / user_count\n",
        "  recall_avg = recall_sum / user_count\n",
        "  diversity_avg = diversity_sum / user_count\n",
        "  lt_avg = lt_sum / user_count\n",
        "  entropy_avg = entropy_sum / user_count\n",
        "  ild_avg = ild_sum / user_count\n",
        "  dc_avg = dc_sum / user_count\n",
        "  ips_avg = ips_sum / user_count\n",
        "\n",
        "  return {\n",
        "      \"MAP\": map_avg,\n",
        "      \"nDCG\": ndcg_avg,\n",
        "      \"Precision\": precision_avg,\n",
        "      \"Recall\": recall_avg,\n",
        "      \"User_Diversity\": diversity_avg,\n",
        "      \"Long_Tail\": lt_avg,\n",
        "      \"Shannon_Entropy\": entropy_avg,\n",
        "      \"Intra_List_Diversity\": ild_avg,\n",
        "      \"Diversity_Coverage\": dc_avg,\n",
        "      \"Inverse_Propensity_Score\": ips_avg\n",
        "  }\n"
      ],
      "metadata": {
        "id": "wgYRjUJmrj0s"
      },
      "execution_count": 60,
      "outputs": []
    },
    {
      "cell_type": "markdown",
      "metadata": {
        "id": "4j9JMlI1Won2"
      },
      "source": [
        "# Ejecución de método hibrido"
      ]
    },
    {
      "cell_type": "code",
      "execution_count": 61,
      "metadata": {
        "id": "weIgdZN-YQkK"
      },
      "outputs": [],
      "source": [
        "def hybrid_metrics(test_data, train_data, top_n, k, alpha_hybrid=0.5, beta_lt=0.4, lambda_ips=0.5):\n",
        "  map_sum = 0\n",
        "  ndcg_sum = 0\n",
        "  precision_sum = 0\n",
        "  recall_sum = 0\n",
        "  diversity_sum = 0\n",
        "  lt_sum = 0\n",
        "  entropy_sum = 0\n",
        "  ild_sum = 0\n",
        "  dc_sum = 0\n",
        "  ips_sum = 0\n",
        "  user_count = 0\n",
        "\n",
        "  top_k_categories_data = get_top_k_categories(test_data, k)\n",
        "\n",
        "  for userid in test_data['userId'].unique():\n",
        "\n",
        "    recommend_list = recommend_hybrid(userid, train_data, top_n, alpha_hybrid)\n",
        "\n",
        "    #print(f\"User: {userid} - Recommended: {recommend_list}\")\n",
        "\n",
        "    # Calcular Map y nDCG y User Diversity\n",
        "    map_user = calculate_map(test_data, recommend_list, userid)\n",
        "    ndcg_user = calculate_ndcg(test_data, recommend_list, userid)\n",
        "    precision_user = calculate_precision_at_k(test_data, recommend_list, userid)\n",
        "    recall_user = calculate_recall_at_k(test_data, recommend_list, userid)\n",
        "    diversity_user = calculate_user_diversity(top_k_categories_data, recommend_list, userid)\n",
        "    lt_user = calculate_long_tail(test_data, recommend_list, userid, beta_lt)\n",
        "    entropy_user = calculate_shannon_entropy(test_data, recommend_list, userid)\n",
        "    ild_user = calculate_intra_list_diversity(test_data, recommend_list, userid)\n",
        "    dc_user = calculate_diversity_coverage(test_data, recommend_list, userid)\n",
        "    ips_user = calculate_inverse_propensity_score(test_data, recommend_list, userid, lambda_ips)\n",
        "\n",
        "    map_sum += map_user\n",
        "    ndcg_sum += ndcg_user\n",
        "    precision_sum += precision_user\n",
        "    recall_sum += recall_user\n",
        "    diversity_sum += diversity_user\n",
        "    lt_sum += lt_user\n",
        "    entropy_sum += entropy_user\n",
        "    ild_sum += ild_user\n",
        "    dc_sum += dc_user\n",
        "    ips_sum += ips_user\n",
        "    user_count += 1\n",
        "\n",
        "  # Promedio de métricas\n",
        "  map_avg = map_sum / user_count\n",
        "  ndcg_avg = ndcg_sum / user_count\n",
        "  precision_avg = precision_sum / user_count\n",
        "  recall_avg = recall_sum / user_count\n",
        "  diversity_avg = diversity_sum / user_count\n",
        "  lt_avg = lt_sum / user_count\n",
        "  entropy_avg = entropy_sum / user_count\n",
        "  ild_avg = ild_sum / user_count\n",
        "  dc_avg = dc_sum / user_count\n",
        "  ips_avg = ips_sum / user_count\n",
        "\n",
        "  return {\n",
        "      \"MAP\": map_avg,\n",
        "      \"nDCG\": ndcg_avg,\n",
        "      \"Precision\": precision_avg,\n",
        "      \"Recall\": recall_avg,\n",
        "      \"User_Diversity\": diversity_avg,\n",
        "      \"Long_Tail\": lt_avg,\n",
        "      \"Shannon_Entropy\": entropy_avg,\n",
        "      \"Intra_List_Diversity\": ild_avg,\n",
        "      \"Diversity_Coverage\": dc_avg,\n",
        "      \"Inverse_Propensity_Score\": ips_avg\n",
        "  }\n"
      ]
    },
    {
      "cell_type": "markdown",
      "metadata": {
        "id": "Wg-8ejrrx2Ih"
      },
      "source": [
        "# Ejecución y obtención de métricas\n",
        "\n",
        "### Metodo Most Popular"
      ]
    },
    {
      "cell_type": "code",
      "execution_count": null,
      "metadata": {
        "id": "t_lsMr2BGx2D",
        "outputId": "e4f9598b-d243-4e95-b736-8888833bcc6a",
        "colab": {
          "base_uri": "https://localhost:8080/"
        }
      },
      "outputs": [
        {
          "output_type": "stream",
          "name": "stdout",
          "text": [
            "MAP: 0.2122852314304756\n",
            "nDCG: 0.09535267060457382\n",
            "Precision: 0.09151670951156829\n",
            "Recall: 0.053959773043250565\n",
            "User_Diversity: 0.36030366189414115\n",
            "Long_Tail: 0.0\n",
            "Shannon_Entropy: 1.990941887139338\n",
            "Intra_List_Diversity: -1.2888888888888912\n",
            "Diversity_Coverage: 0.5\n",
            "Inverse_Propensity_Score: 290.16406461639986\n"
          ]
        }
      ],
      "source": [
        "metric_results = most_popular_metrics(data_movie_test, data_movie_train, 10, 5, beta_lt=0.4, lambda_ips=0.5)\n",
        "print(f\"MAP: {metric_results['MAP']}\")\n",
        "print(f\"nDCG: {metric_results['nDCG']}\")\n",
        "print(f\"Precision: {metric_results['Precision']}\")\n",
        "print(f\"Recall: {metric_results['Recall']}\")\n",
        "print(f\"User_Diversity: {metric_results['User_Diversity']}\")\n",
        "print(f\"Long_Tail: {metric_results['Long_Tail']}\")\n",
        "print(f\"Shannon_Entropy: {metric_results['Shannon_Entropy']}\")\n",
        "print(f\"Intra_List_Diversity: {metric_results['Intra_List_Diversity']}\")\n",
        "print(f\"Diversity_Coverage: {metric_results['Diversity_Coverage']}\")\n",
        "print(f\"Inverse_Propensity_Score: {metric_results['Inverse_Propensity_Score']}\")"
      ]
    },
    {
      "cell_type": "markdown",
      "metadata": {
        "id": "s55XJxjlRxIJ"
      },
      "source": [
        "### Método Random"
      ]
    },
    {
      "cell_type": "code",
      "execution_count": null,
      "metadata": {
        "id": "QjJPRu_rRu-Y",
        "colab": {
          "base_uri": "https://localhost:8080/"
        },
        "outputId": "7587114e-10f5-4852-ef85-1e09704054bd"
      },
      "outputs": [
        {
          "output_type": "stream",
          "name": "stdout",
          "text": [
            "MAP: 0.008577141224956132\n",
            "nDCG: 0.00321584508796055\n",
            "Precision: 0.00359897172236504\n",
            "Recall: 0.0013138375759688828\n",
            "User_Diversity: 0.38084439206842596\n",
            "Long_Tail: 0.2685089974293059\n",
            "Shannon_Entropy: 0.5717658154403101\n",
            "Intra_List_Diversity: 0.48641357571306076\n",
            "Diversity_Coverage: 0.19037417880605673\n",
            "Inverse_Propensity_Score: 7946.820348929581\n"
          ]
        }
      ],
      "source": [
        "metric_results_random = random_metrcis(data_movie_test, data_movie_train, 10, 5, beta_lt=0.4, lambda_ips=0.5)\n",
        "print(f\"MAP: {metric_results_random['MAP']}\")\n",
        "print(f\"nDCG: {metric_results_random['nDCG']}\")\n",
        "print(f\"Precision: {metric_results_random['Precision']}\")\n",
        "print(f\"Recall: {metric_results_random['Recall']}\")\n",
        "print(f\"User_Diversity: {metric_results_random['User_Diversity']}\")\n",
        "print(f\"Long_Tail: {metric_results_random['Long_Tail']}\")\n",
        "print(f\"Shannon_Entropy: {metric_results_random['Shannon_Entropy']}\")\n",
        "print(f\"Intra_List_Diversity: {metric_results_random['Intra_List_Diversity']}\")\n",
        "print(f\"Diversity_Coverage: {metric_results_random['Diversity_Coverage']}\")\n",
        "print(f\"Inverse_Propensity_Score: {metric_results_random['Inverse_Propensity_Score']}\")"
      ]
    },
    {
      "cell_type": "markdown",
      "metadata": {
        "id": "mdAdycuzSr4h"
      },
      "source": [
        "Método IKNN"
      ]
    },
    {
      "cell_type": "code",
      "execution_count": 62,
      "metadata": {
        "id": "W5zSjSBoSqPm",
        "colab": {
          "base_uri": "https://localhost:8080/"
        },
        "outputId": "748e026c-dc3c-4b76-f63e-ff9a5c41c674"
      },
      "outputs": [
        {
          "output_type": "stream",
          "name": "stdout",
          "text": [
            "MAP: 0.03659399502772997\n",
            "nDCG: 0.012656820761196154\n",
            "Precision: 0.012048192771084336\n",
            "Recall: 0.0030503604872046375\n",
            "User_Diversity: 0.38743398759707565\n",
            "Long_Tail: 0.1265060240963855\n",
            "Shannon_Entropy: 0.2615688024611386\n",
            "Intra_List_Diversity: 0.41741250717154327\n",
            "Diversity_Coverage: 0.09370816599732254\n",
            "Inverse_Propensity_Score: 1205.3159954102123\n"
          ]
        }
      ],
      "source": [
        "metric_results_iknn = IKNN_metrics(data_movie_test, data_movie_train, 10, 5, beta_lt=0.4, lambda_ips=0.5)\n",
        "print(f\"MAP: {metric_results_iknn['MAP']}\")\n",
        "print(f\"nDCG: {metric_results_iknn['nDCG']}\")\n",
        "print(f\"Precision: {metric_results_iknn['Precision']}\")\n",
        "print(f\"Recall: {metric_results_iknn['Recall']}\")\n",
        "print(f\"User_Diversity: {metric_results_iknn['User_Diversity']}\")\n",
        "print(f\"Long_Tail: {metric_results_iknn['Long_Tail']}\")\n",
        "print(f\"Shannon_Entropy: {metric_results_iknn['Shannon_Entropy']}\")\n",
        "print(f\"Intra_List_Diversity: {metric_results_iknn['Intra_List_Diversity']}\")\n",
        "print(f\"Diversity_Coverage: {metric_results_iknn['Diversity_Coverage']}\")\n",
        "print(f\"Inverse_Propensity_Score: {metric_results_iknn['Inverse_Propensity_Score']}\")"
      ]
    },
    {
      "cell_type": "markdown",
      "source": [
        "Método Deep FM"
      ],
      "metadata": {
        "id": "wzg1VHemsEbw"
      }
    },
    {
      "cell_type": "code",
      "source": [
        "metric_results_deepfm = deepfm_metrics(data_movie_test, data_movie_train, 10, 5, beta_lt=0.4, lambda_ips=0.5)\n",
        "print(f\"MAP: {metric_results_deepfm['MAP']}\")\n",
        "print(f\"nDCG: {metric_results_deepfm['nDCG']}\")\n",
        "print(f\"Precision: {metric_results_deepfm['Precision']}\")\n",
        "print(f\"Recall: {metric_results_deepfm['Recall']}\")\n",
        "print(f\"User_Diversity: {metric_results_deepfm['User_Diversity']}\")\n",
        "print(f\"Long_Tail: {metric_results_deepfm['Long_Tail']}\")\n",
        "print(f\"Shannon_Entropy: {metric_results_deepfm['Shannon_Entropy']}\")\n",
        "print(f\"Intra_List_Diversity: {metric_results_deepfm['Intra_List_Diversity']}\")\n",
        "print(f\"Diversity_Coverage: {metric_results_deepfm['Diversity_Coverage']}\")\n",
        "print(f\"Inverse_Propensity_Score: {metric_results_deepfm['Inverse_Propensity_Score']}\")"
      ],
      "metadata": {
        "id": "49Gm_MfMsHyr"
      },
      "execution_count": null,
      "outputs": []
    },
    {
      "cell_type": "markdown",
      "source": [
        "Método Fast FM"
      ],
      "metadata": {
        "id": "muHf7ivKsNXN"
      }
    },
    {
      "cell_type": "code",
      "source": [
        "metric_results_fastfm = fastfm_metrics(data_movie_test, data_movie_train, 10, 5, beta_lt=0.4, lambda_ips=0.5)\n",
        "print(f\"MAP: {metric_results_fastfm['MAP']}\")\n",
        "print(f\"nDCG: {metric_results_fastfm['nDCG']}\")\n",
        "print(f\"Precision: {metric_results_fastfm['Precision']}\")\n",
        "print(f\"Recall: {metric_results_fastfm['Recall']}\")\n",
        "print(f\"User_Diversity: {metric_results_fastfm['User_Diversity']}\")\n",
        "print(f\"Long_Tail: {metric_results_fastfm['Long_Tail']}\")\n",
        "print(f\"Shannon_Entropy: {metric_results_fastfm['Shannon_Entropy']}\")\n",
        "print(f\"Intra_List_Diversity: {metric_results_fastfm['Intra_List_Diversity']}\")\n",
        "print(f\"Diversity_Coverage: {metric_results_fastfm['Diversity_Coverage']}\")\n",
        "print(f\"Inverse_Propensity_Score: {metric_results_fastfm['Inverse_Propensity_Score']}\")"
      ],
      "metadata": {
        "id": "PypSxPrTsP_K",
        "colab": {
          "base_uri": "https://localhost:8080/"
        },
        "outputId": "7be03bc6-7e7a-4843-f014-3095e363b748"
      },
      "execution_count": null,
      "outputs": [
        {
          "output_type": "stream",
          "name": "stderr",
          "text": [
            "<ipython-input-37-2e0f7f25dded>:22: FutureWarning: Allowing arbitrary scalar fill_value in SparseDtype is deprecated. In a future version, the fill_value must be a valid value for the SparseDtype.subtype.\n",
            "  X = sparse.csc_matrix(pd.get_dummies(interaction_data[['userId', 'title']], sparse=True).values)\n"
          ]
        }
      ]
    },
    {
      "cell_type": "markdown",
      "source": [
        "Método Hybrid"
      ],
      "metadata": {
        "id": "jyF5FB1dsA3e"
      }
    },
    {
      "cell_type": "code",
      "execution_count": null,
      "metadata": {
        "id": "lrHLjXrKYsgq",
        "colab": {
          "base_uri": "https://localhost:8080/",
          "height": 1000
        },
        "outputId": "e534cffd-3ee8-4c62-f999-2c6bc91e9c77",
        "collapsed": true
      },
      "outputs": [
        {
          "output_type": "stream",
          "name": "stdout",
          "text": [
            "User: 88549 - Recommended: ['Lord of the Rings: The Return of the King, The (2003)', 'Star Wars: Episode VI - Return of the Jedi (1983)', 'Fight Club (1999)', 'Raiders of the Lost Ark (Indiana Jones and the Raiders of the Lost Ark) (1981)', \"One Flew Over the Cuckoo's Nest (1975)\", 'American Beauty (1999)', 'Jurassic Park (1993)', 'Toy Story (1995)', \"Schindler's List (1993)\", 'Good Will Hunting (1997)']\n",
            "User: 43269 - Recommended: ['Star Wars: Episode VI - Return of the Jedi (1983)', 'Fight Club (1999)', 'Star Wars: Episode V - The Empire Strikes Back (1980)', 'Raiders of the Lost Ark (Indiana Jones and the Raiders of the Lost Ark) (1981)', 'Matrix, The (1999)', 'Star Wars: Episode IV - A New Hope (1977)', 'American Beauty (1999)', 'Saving Private Ryan (1998)', \"Schindler's List (1993)\", 'Pulp Fiction (1994)']\n",
            "User: 4494 - Recommended: ['Lord of the Rings: The Return of the King, The (2003)', 'Terminator 2: Judgment Day (1991)', 'Fight Club (1999)', 'Usual Suspects, The (1995)', 'Star Wars: Episode IV - A New Hope (1977)', 'Saving Private Ryan (1998)', 'Forrest Gump (1994)', 'Princess Bride, The (1987)', 'Braveheart (1995)', 'Die Hard (1988)']\n",
            "User: 31681 - Recommended: ['Star Wars: Episode V - The Empire Strikes Back (1980)', 'Raiders of the Lost Ark (Indiana Jones and the Raiders of the Lost Ark) (1981)', 'Usual Suspects, The (1995)', 'Matrix, The (1999)', 'Shawshank Redemption, The (1994)', 'Star Wars: Episode IV - A New Hope (1977)', 'Forrest Gump (1994)', 'Braveheart (1995)', \"Schindler's List (1993)\", 'Sixth Sense, The (1999)']\n",
            "User: 19261 - Recommended: ['Fight Club (1999)', 'Raiders of the Lost Ark (Indiana Jones and the Raiders of the Lost Ark) (1981)', 'Matrix, The (1999)', 'Shawshank Redemption, The (1994)', 'American Beauty (1999)', 'Saving Private Ryan (1998)', 'Braveheart (1995)', 'Indiana Jones and the Last Crusade (1989)', 'Sixth Sense, The (1999)', 'Good Will Hunting (1997)']\n",
            "User: 85770 - Recommended: ['Terminator 2: Judgment Day (1991)', 'Raiders of the Lost Ark (Indiana Jones and the Raiders of the Lost Ark) (1981)', 'Usual Suspects, The (1995)', 'Star Wars: Episode IV - A New Hope (1977)', 'American Beauty (1999)', 'Jurassic Park (1993)', 'Saving Private Ryan (1998)', 'Princess Bride, The (1987)', 'Terminator, The (1984)', 'Die Hard (1988)']\n",
            "User: 96225 - Recommended: ['Independence Day (a.k.a. ID4) (1996)', 'Silence of the Lambs, The (1991)', 'Usual Suspects, The (1995)', 'American Beauty (1999)', 'Saving Private Ryan (1998)', 'Princess Bride, The (1987)', 'Crouching Tiger, Hidden Dragon (Wo hu cang long) (2000)', 'Fifth Element, The (1997)', \"Schindler's List (1993)\", 'Blade Runner (1982)']\n",
            "User: 12754 - Recommended: ['Star Wars: Episode VI - Return of the Jedi (1983)', 'Terminator 2: Judgment Day (1991)', 'Fight Club (1999)', 'Star Wars: Episode V - The Empire Strikes Back (1980)', 'Raiders of the Lost Ark (Indiana Jones and the Raiders of the Lost Ark) (1981)', 'Matrix, The (1999)', 'Star Wars: Episode IV - A New Hope (1977)', 'American Beauty (1999)', 'Forrest Gump (1994)', 'Sixth Sense, The (1999)']\n",
            "User: 131438 - Recommended: ['Terminator 2: Judgment Day (1991)', 'Star Wars: Episode V - The Empire Strikes Back (1980)', 'Raiders of the Lost Ark (Indiana Jones and the Raiders of the Lost Ark) (1981)', 'Silence of the Lambs, The (1991)', \"One Flew Over the Cuckoo's Nest (1975)\", 'Star Wars: Episode IV - A New Hope (1977)', 'Braveheart (1995)', 'Rain Man (1988)', 'Full Metal Jacket (1987)', 'Pulp Fiction (1994)']\n",
            "User: 103195 - Recommended: ['Star Wars: Episode V - The Empire Strikes Back (1980)', 'Raiders of the Lost Ark (Indiana Jones and the Raiders of the Lost Ark) (1981)', 'Silence of the Lambs, The (1991)', 'Star Wars: Episode IV - A New Hope (1977)', 'Forrest Gump (1994)', 'Braveheart (1995)', 'Full Metal Jacket (1987)', 'Groundhog Day (1993)', 'Edward Scissorhands (1990)', 'Sixth Sense, The (1999)']\n",
            "User: 64861 - Recommended: ['Silence of the Lambs, The (1991)', 'Matrix, The (1999)', 'Shawshank Redemption, The (1994)', \"One Flew Over the Cuckoo's Nest (1975)\", 'Fargo (1996)', 'American Beauty (1999)', 'Forrest Gump (1994)', \"Schindler's List (1993)\", 'Pulp Fiction (1994)', 'Sixth Sense, The (1999)']\n",
            "User: 83024 - Recommended: ['Usual Suspects, The (1995)', 'Shawshank Redemption, The (1994)', \"One Flew Over the Cuckoo's Nest (1975)\", 'Star Wars: Episode IV - A New Hope (1977)', 'Forrest Gump (1994)', 'Full Metal Jacket (1987)', \"Schindler's List (1993)\", 'Pulp Fiction (1994)', 'Sixth Sense, The (1999)', 'Good Will Hunting (1997)']\n",
            "User: 18998 - Recommended: ['Lord of the Rings: The Return of the King, The (2003)', 'Star Wars: Episode VI - Return of the Jedi (1983)', 'Terminator 2: Judgment Day (1991)', 'Aliens (1986)', 'Matrix, The (1999)', 'Forrest Gump (1994)', 'Princess Bride, The (1987)', 'Indiana Jones and the Last Crusade (1989)', 'Gladiator (2000)', 'Die Hard (1988)']\n",
            "User: 124318 - Recommended: ['Terminator 2: Judgment Day (1991)', 'Raiders of the Lost Ark (Indiana Jones and the Raiders of the Lost Ark) (1981)', 'Usual Suspects, The (1995)', 'Shawshank Redemption, The (1994)', 'American Beauty (1999)', 'Jurassic Park (1993)', 'Forrest Gump (1994)', 'Braveheart (1995)', 'Casablanca (1942)', 'Good Will Hunting (1997)']\n",
            "User: 59429 - Recommended: ['Star Wars: Episode VI - Return of the Jedi (1983)', 'Terminator 2: Judgment Day (1991)', 'Fight Club (1999)', 'Raiders of the Lost Ark (Indiana Jones and the Raiders of the Lost Ark) (1981)', 'Shawshank Redemption, The (1994)', 'Jurassic Park (1993)', 'Braveheart (1995)', 'Groundhog Day (1993)', \"Schindler's List (1993)\", 'Pulp Fiction (1994)']\n",
            "User: 42457 - Recommended: ['Star Wars: Episode V - The Empire Strikes Back (1980)', 'Silence of the Lambs, The (1991)', 'Matrix, The (1999)', 'Shawshank Redemption, The (1994)', 'Fargo (1996)', 'Star Wars: Episode IV - A New Hope (1977)', 'American Beauty (1999)', 'Forrest Gump (1994)', \"Schindler's List (1993)\", 'Pulp Fiction (1994)']\n",
            "User: 29934 - Recommended: ['Lord of the Rings: The Return of the King, The (2003)', 'Terminator 2: Judgment Day (1991)', 'Fight Club (1999)', 'Godfather, The (1972)', 'Raiders of the Lost Ark (Indiana Jones and the Raiders of the Lost Ark) (1981)', 'Shakespeare in Love (1998)', 'Braveheart (1995)', \"Amelie (Fabuleux destin d'Amélie Poulain, Le) (2001)\", \"Monty Python's Life of Brian (1979)\", 'Being John Malkovich (1999)']\n",
            "User: 64657 - Recommended: ['Terminator 2: Judgment Day (1991)', 'Fight Club (1999)', 'Matrix, The (1999)', 'Shawshank Redemption, The (1994)', \"One Flew Over the Cuckoo's Nest (1975)\", 'American Beauty (1999)', 'Braveheart (1995)', 'Groundhog Day (1993)', 'Sixth Sense, The (1999)', 'Dr. Strangelove or: How I Learned to Stop Worrying and Love the Bomb (1964)']\n",
            "User: 36073 - Recommended: ['Star Wars: Episode VI - Return of the Jedi (1983)', 'Terminator 2: Judgment Day (1991)', 'Star Wars: Episode V - The Empire Strikes Back (1980)', 'Raiders of the Lost Ark (Indiana Jones and the Raiders of the Lost Ark) (1981)', 'Silence of the Lambs, The (1991)', 'Matrix, The (1999)', 'Star Wars: Episode IV - A New Hope (1977)', 'Forrest Gump (1994)', 'Braveheart (1995)', \"Schindler's List (1993)\"]\n",
            "User: 51601 - Recommended: ['Star Wars: Episode V - The Empire Strikes Back (1980)', 'Raiders of the Lost Ark (Indiana Jones and the Raiders of the Lost Ark) (1981)', 'Shawshank Redemption, The (1994)', 'Star Wars: Episode IV - A New Hope (1977)', 'Jurassic Park (1993)', 'Saving Private Ryan (1998)', 'Forrest Gump (1994)', 'Braveheart (1995)', \"Schindler's List (1993)\", 'Pulp Fiction (1994)']\n",
            "User: 76843 - Recommended: ['Star Wars: Episode VI - Return of the Jedi (1983)', 'Terminator 2: Judgment Day (1991)', 'Fight Club (1999)', 'Star Wars: Episode V - The Empire Strikes Back (1980)', 'Shawshank Redemption, The (1994)', 'Star Wars: Episode IV - A New Hope (1977)', 'Jurassic Park (1993)', 'Saving Private Ryan (1998)', 'Forrest Gump (1994)', 'Braveheart (1995)']\n",
            "User: 104787 - Recommended: ['Star Wars: Episode VI - Return of the Jedi (1983)', 'Terminator 2: Judgment Day (1991)', 'Fight Club (1999)', 'Matrix, The (1999)', 'Braveheart (1995)', 'Pulp Fiction (1994)', \"Amelie (Fabuleux destin d'Amélie Poulain, Le) (2001)\", 'Sixth Sense, The (1999)', 'Being John Malkovich (1999)', 'Dr. Strangelove or: How I Learned to Stop Worrying and Love the Bomb (1964)']\n",
            "User: 2349 - Recommended: ['Star Wars: Episode VI - Return of the Jedi (1983)', 'Terminator 2: Judgment Day (1991)', 'Fight Club (1999)', 'Silence of the Lambs, The (1991)', 'Matrix, The (1999)', 'Jurassic Park (1993)', 'Braveheart (1995)', 'Groundhog Day (1993)', \"Schindler's List (1993)\", 'Sixth Sense, The (1999)']\n",
            "User: 18907 - Recommended: ['Lord of the Rings: The Return of the King, The (2003)', 'Star Wars: Episode VI - Return of the Jedi (1983)', 'Star Wars: Episode V - The Empire Strikes Back (1980)', 'Léon: The Professional (a.k.a. The Professional) (Léon) (1994)', 'Raiders of the Lost Ark (Indiana Jones and the Raiders of the Lost Ark) (1981)', 'Star Wars: Episode IV - A New Hope (1977)', 'Jurassic Park (1993)', 'Saving Private Ryan (1998)', 'Princess Bride, The (1987)', 'Terminator, The (1984)']\n",
            "User: 71374 - Recommended: ['Star Wars: Episode V - The Empire Strikes Back (1980)', 'Raiders of the Lost Ark (Indiana Jones and the Raiders of the Lost Ark) (1981)', 'Silence of the Lambs, The (1991)', 'Usual Suspects, The (1995)', 'Shawshank Redemption, The (1994)', 'Star Wars: Episode IV - A New Hope (1977)', 'American Beauty (1999)', 'Braveheart (1995)', 'Groundhog Day (1993)', 'Sixth Sense, The (1999)']\n",
            "User: 135385 - Recommended: ['Terminator 2: Judgment Day (1991)', 'Star Wars: Episode V - The Empire Strikes Back (1980)', 'Raiders of the Lost Ark (Indiana Jones and the Raiders of the Lost Ark) (1981)', 'Silence of the Lambs, The (1991)', 'Matrix, The (1999)', 'Shawshank Redemption, The (1994)', 'Star Wars: Episode IV - A New Hope (1977)', 'Forrest Gump (1994)', 'Braveheart (1995)', 'Pulp Fiction (1994)']\n",
            "User: 124193 - Recommended: ['Star Wars: Episode VI - Return of the Jedi (1983)', 'Fight Club (1999)', 'Godfather, The (1972)', 'Shawshank Redemption, The (1994)', 'Jurassic Park (1993)', 'Saving Private Ryan (1998)', 'Princess Bride, The (1987)', 'Indiana Jones and the Last Crusade (1989)', \"Schindler's List (1993)\", 'Die Hard (1988)']\n",
            "User: 106179 - Recommended: ['Star Wars: Episode V - The Empire Strikes Back (1980)', 'Silence of the Lambs, The (1991)', 'Usual Suspects, The (1995)', 'Matrix, The (1999)', 'Fargo (1996)', 'Star Wars: Episode IV - A New Hope (1977)', 'Forrest Gump (1994)', 'Toy Story (1995)', 'Pulp Fiction (1994)', 'Sixth Sense, The (1999)']\n",
            "User: 21322 - Recommended: ['Terminator 2: Judgment Day (1991)', 'Fight Club (1999)', 'Raiders of the Lost Ark (Indiana Jones and the Raiders of the Lost Ark) (1981)', 'Matrix, The (1999)', 'Shawshank Redemption, The (1994)', 'Star Wars: Episode IV - A New Hope (1977)', 'American Beauty (1999)', 'Braveheart (1995)', 'Truman Show, The (1998)', 'Sixth Sense, The (1999)']\n",
            "User: 31217 - Recommended: ['Star Wars: Episode VI - Return of the Jedi (1983)', 'Terminator 2: Judgment Day (1991)', 'Star Wars: Episode V - The Empire Strikes Back (1980)', 'Matrix, The (1999)', 'Shawshank Redemption, The (1994)', 'Star Wars: Episode IV - A New Hope (1977)', 'Forrest Gump (1994)', 'Braveheart (1995)', \"Schindler's List (1993)\", 'Sixth Sense, The (1999)']\n",
            "User: 121793 - Recommended: ['Terminator 2: Judgment Day (1991)', 'Godfather, The (1972)', 'Star Wars: Episode V - The Empire Strikes Back (1980)', 'Raiders of the Lost Ark (Indiana Jones and the Raiders of the Lost Ark) (1981)', 'Silence of the Lambs, The (1991)', 'Shawshank Redemption, The (1994)', 'Fargo (1996)', 'Star Wars: Episode IV - A New Hope (1977)', 'Groundhog Day (1993)', 'Dr. Strangelove or: How I Learned to Stop Worrying and Love the Bomb (1964)']\n",
            "User: 14421 - Recommended: ['Lord of the Rings: The Return of the King, The (2003)', 'Terminator 2: Judgment Day (1991)', 'Star Wars: Episode V - The Empire Strikes Back (1980)', 'Raiders of the Lost Ark (Indiana Jones and the Raiders of the Lost Ark) (1981)', 'Matrix, The (1999)', 'Shawshank Redemption, The (1994)', 'Jurassic Park (1993)', 'Saving Private Ryan (1998)', 'Gladiator (2000)', 'Sixth Sense, The (1999)']\n",
            "User: 136485 - Recommended: ['Star Wars: Episode VI - Return of the Jedi (1983)', 'Fight Club (1999)', 'Star Wars: Episode V - The Empire Strikes Back (1980)', 'Aliens (1986)', 'Raiders of the Lost Ark (Indiana Jones and the Raiders of the Lost Ark) (1981)', 'Silence of the Lambs, The (1991)', 'Star Wars: Episode IV - A New Hope (1977)', 'Saving Private Ryan (1998)', 'Princess Bride, The (1987)', 'Die Hard (1988)']\n",
            "User: 136047 - Recommended: ['Star Wars: Episode V - The Empire Strikes Back (1980)', 'Raiders of the Lost Ark (Indiana Jones and the Raiders of the Lost Ark) (1981)', 'Usual Suspects, The (1995)', 'Fargo (1996)', 'Star Wars: Episode IV - A New Hope (1977)', 'Forrest Gump (1994)', 'Full Metal Jacket (1987)', 'Groundhog Day (1993)', 'Pulp Fiction (1994)', 'Dr. Strangelove or: How I Learned to Stop Worrying and Love the Bomb (1964)']\n",
            "User: 25665 - Recommended: ['Back to the Future (1985)', 'Lord of the Rings: The Fellowship of the Ring, The (2001)', 'Monty Python and the Holy Grail (1975)', 'Matrix, The (1999)', 'Shawshank Redemption, The (1994)', 'Apollo 13 (1995)', 'Star Wars: Episode IV - A New Hope (1977)', 'Toy Story (1995)', 'Pulp Fiction (1994)', 'Lord of the Rings: The Two Towers, The (2002)']\n",
            "User: 35313 - Recommended: ['Terminator 2: Judgment Day (1991)', 'Independence Day (a.k.a. ID4) (1996)', 'Pirates of the Caribbean: The Curse of the Black Pearl (2003)', 'Aliens (1986)', 'Star Wars: Episode IV - A New Hope (1977)', 'Saving Private Ryan (1998)', 'Princess Bride, The (1987)', 'Gladiator (2000)', 'Die Hard (1988)', 'Men in Black (a.k.a. MIB) (1997)']\n",
            "User: 125622 - Recommended: ['Star Wars: Episode VI - Return of the Jedi (1983)', 'Star Wars: Episode V - The Empire Strikes Back (1980)', 'Raiders of the Lost Ark (Indiana Jones and the Raiders of the Lost Ark) (1981)', 'Silence of the Lambs, The (1991)', 'Shawshank Redemption, The (1994)', 'Star Wars: Episode IV - A New Hope (1977)', 'Jurassic Park (1993)', 'Forrest Gump (1994)', 'Braveheart (1995)', \"Schindler's List (1993)\"]\n",
            "User: 27854 - Recommended: ['Terminator 2: Judgment Day (1991)', 'Fight Club (1999)', 'Raiders of the Lost Ark (Indiana Jones and the Raiders of the Lost Ark) (1981)', 'Fargo (1996)', 'Jurassic Park (1993)', 'Saving Private Ryan (1998)', 'Forrest Gump (1994)', 'Princess Bride, The (1987)', 'Indiana Jones and the Last Crusade (1989)', 'Sixth Sense, The (1999)']\n",
            "User: 62180 - Recommended: ['Silence of the Lambs, The (1991)', 'Matrix, The (1999)', 'Shawshank Redemption, The (1994)', 'Fargo (1996)', 'Star Wars: Episode IV - A New Hope (1977)', 'American Beauty (1999)', 'Forrest Gump (1994)', \"Schindler's List (1993)\", 'Pulp Fiction (1994)', 'Sixth Sense, The (1999)']\n",
            "User: 19691 - Recommended: ['Terminator 2: Judgment Day (1991)', 'Fight Club (1999)', 'Silence of the Lambs, The (1991)', 'Matrix, The (1999)', 'Shawshank Redemption, The (1994)', 'American Beauty (1999)', 'Jurassic Park (1993)', 'Forrest Gump (1994)', 'Braveheart (1995)', 'Pulp Fiction (1994)']\n",
            "User: 89385 - Recommended: ['Star Wars: Episode VI - Return of the Jedi (1983)', 'Terminator 2: Judgment Day (1991)', 'Star Wars: Episode V - The Empire Strikes Back (1980)', 'Raiders of the Lost Ark (Indiana Jones and the Raiders of the Lost Ark) (1981)', 'Silence of the Lambs, The (1991)', 'Matrix, The (1999)', 'Shawshank Redemption, The (1994)', 'Star Wars: Episode IV - A New Hope (1977)', 'Braveheart (1995)', 'Pulp Fiction (1994)']\n",
            "User: 87134 - Recommended: ['Star Wars: Episode VI - Return of the Jedi (1983)', 'Terminator 2: Judgment Day (1991)', 'Fight Club (1999)', 'Star Wars: Episode V - The Empire Strikes Back (1980)', 'Raiders of the Lost Ark (Indiana Jones and the Raiders of the Lost Ark) (1981)', 'Matrix, The (1999)', 'Jurassic Park (1993)', 'Forrest Gump (1994)', 'Braveheart (1995)', 'Pulp Fiction (1994)']\n",
            "User: 34670 - Recommended: ['Fight Club (1999)', 'Star Wars: Episode V - The Empire Strikes Back (1980)', 'Shawshank Redemption, The (1994)', 'Saving Private Ryan (1998)', 'Forrest Gump (1994)', 'Princess Bride, The (1987)', 'Braveheart (1995)', \"Schindler's List (1993)\", 'Die Hard (1988)', 'Pulp Fiction (1994)']\n",
            "User: 13465 - Recommended: ['Star Wars: Episode VI - Return of the Jedi (1983)', 'Terminator 2: Judgment Day (1991)', 'Fight Club (1999)', 'Star Wars: Episode V - The Empire Strikes Back (1980)', 'Raiders of the Lost Ark (Indiana Jones and the Raiders of the Lost Ark) (1981)', 'Matrix, The (1999)', 'Star Wars: Episode IV - A New Hope (1977)', 'Forrest Gump (1994)', \"Schindler's List (1993)\", 'Pulp Fiction (1994)']\n",
            "User: 131762 - Recommended: ['Terminator 2: Judgment Day (1991)', 'Fight Club (1999)', 'Raiders of the Lost Ark (Indiana Jones and the Raiders of the Lost Ark) (1981)', 'Shawshank Redemption, The (1994)', 'Fargo (1996)', 'American Beauty (1999)', 'Forrest Gump (1994)', 'Braveheart (1995)', \"Schindler's List (1993)\", 'Pulp Fiction (1994)']\n",
            "User: 18901 - Recommended: ['Lord of the Rings: The Return of the King, The (2003)', 'Fight Club (1999)', 'Godfather, The (1972)', 'American Beauty (1999)', 'Jurassic Park (1993)', 'Saving Private Ryan (1998)', 'Gladiator (2000)', 'Sixth Sense, The (1999)', 'Lord of the Rings: The Two Towers, The (2002)', 'Blade Runner (1982)']\n",
            "User: 107861 - Recommended: ['Lord of the Rings: The Return of the King, The (2003)', 'Terminator 2: Judgment Day (1991)', 'Fight Club (1999)', 'Silence of the Lambs, The (1991)', 'Usual Suspects, The (1995)', 'Fargo (1996)', 'American Beauty (1999)', 'Groundhog Day (1993)', \"Schindler's List (1993)\", 'Pulp Fiction (1994)']\n",
            "User: 118847 - Recommended: ['Matrix, The (1999)', \"One Flew Over the Cuckoo's Nest (1975)\", 'Jurassic Park (1993)', 'Forrest Gump (1994)', 'Braveheart (1995)', 'Rain Man (1988)', 'Truman Show, The (1998)', 'Groundhog Day (1993)', 'Good Will Hunting (1997)', 'Dr. Strangelove or: How I Learned to Stop Worrying and Love the Bomb (1964)']\n",
            "User: 97261 - Recommended: ['Fight Club (1999)', 'Godfather, The (1972)', 'Raiders of the Lost Ark (Indiana Jones and the Raiders of the Lost Ark) (1981)', 'Usual Suspects, The (1995)', 'American Beauty (1999)', 'Saving Private Ryan (1998)', 'Braveheart (1995)', 'Indiana Jones and the Last Crusade (1989)', 'Toy Story (1995)', 'Pulp Fiction (1994)']\n",
            "User: 89893 - Recommended: ['Lord of the Rings: The Return of the King, The (2003)', 'Léon: The Professional (a.k.a. The Professional) (Léon) (1994)', 'Matrix, The (1999)', 'Shawshank Redemption, The (1994)', 'Forrest Gump (1994)', 'Braveheart (1995)', 'Indiana Jones and the Last Crusade (1989)', 'Gladiator (2000)', 'Pulp Fiction (1994)', 'Blade Runner (1982)']\n",
            "User: 13736 - Recommended: ['Lord of the Rings: The Return of the King, The (2003)', 'Terminator 2: Judgment Day (1991)', 'Fight Club (1999)', 'Aliens (1986)', 'Matrix, The (1999)', 'Saving Private Ryan (1998)', 'Forrest Gump (1994)', 'Princess Bride, The (1987)', 'Gladiator (2000)', 'Pulp Fiction (1994)']\n",
            "User: 42860 - Recommended: ['Silence of the Lambs, The (1991)', 'Shakespeare in Love (1998)', 'Shawshank Redemption, The (1994)', 'Fargo (1996)', 'American Beauty (1999)', 'Forrest Gump (1994)', 'Pulp Fiction (1994)', \"Amelie (Fabuleux destin d'Amélie Poulain, Le) (2001)\", \"Monty Python's Life of Brian (1979)\", 'Being John Malkovich (1999)']\n",
            "User: 120350 - Recommended: ['Star Wars: Episode VI - Return of the Jedi (1983)', 'Star Wars: Episode V - The Empire Strikes Back (1980)', 'Raiders of the Lost Ark (Indiana Jones and the Raiders of the Lost Ark) (1981)', 'Silence of the Lambs, The (1991)', 'Usual Suspects, The (1995)', 'Star Wars: Episode IV - A New Hope (1977)', 'Jurassic Park (1993)', 'Saving Private Ryan (1998)', 'Indiana Jones and the Last Crusade (1989)', \"Schindler's List (1993)\"]\n",
            "User: 137309 - Recommended: ['Lord of the Rings: The Return of the King, The (2003)', 'Star Wars: Episode VI - Return of the Jedi (1983)', 'Terminator 2: Judgment Day (1991)', 'Jurassic Park (1993)', 'Saving Private Ryan (1998)', 'Princess Bride, The (1987)', 'Braveheart (1995)', 'Indiana Jones and the Last Crusade (1989)', 'Pulp Fiction (1994)', 'Sixth Sense, The (1999)']\n",
            "User: 68562 - Recommended: ['Lord of the Rings: The Return of the King, The (2003)', 'Terminator 2: Judgment Day (1991)', 'Star Wars: Episode V - The Empire Strikes Back (1980)', 'Shakespeare in Love (1998)', 'Clerks (1994)', 'Groundhog Day (1993)', \"Ferris Bueller's Day Off (1986)\", \"Amelie (Fabuleux destin d'Amélie Poulain, Le) (2001)\", 'Sixth Sense, The (1999)', 'Being John Malkovich (1999)']\n",
            "User: 62974 - Recommended: ['Star Wars: Episode VI - Return of the Jedi (1983)', 'Silence of the Lambs, The (1991)', 'Shawshank Redemption, The (1994)', 'Jurassic Park (1993)', 'Saving Private Ryan (1998)', 'Braveheart (1995)', 'Indiana Jones and the Last Crusade (1989)', 'Terminator, The (1984)', 'Die Hard (1988)', 'Blade Runner (1982)']\n",
            "User: 24696 - Recommended: ['Star Wars: Episode VI - Return of the Jedi (1983)', 'Terminator 2: Judgment Day (1991)', 'Godfather, The (1972)', 'Star Wars: Episode V - The Empire Strikes Back (1980)', 'Raiders of the Lost Ark (Indiana Jones and the Raiders of the Lost Ark) (1981)', 'Matrix, The (1999)', 'Star Wars: Episode IV - A New Hope (1977)', 'Jurassic Park (1993)', 'Forrest Gump (1994)', 'Braveheart (1995)']\n",
            "User: 123327 - Recommended: ['Almost Famous (2000)', 'Usual Suspects, The (1995)', 'Contact (1997)', 'Matrix, The (1999)', \"One Flew Over the Cuckoo's Nest (1975)\", 'Star Wars: Episode IV - A New Hope (1977)', 'Full Metal Jacket (1987)', 'Dead Poets Society (1989)', 'Donnie Darko (2001)', 'Titanic (1997)']\n",
            "User: 27531 - Recommended: ['Star Wars: Episode VI - Return of the Jedi (1983)', 'Independence Day (a.k.a. ID4) (1996)', 'Pirates of the Caribbean: The Curse of the Black Pearl (2003)', 'Godfather, The (1972)', 'Aliens (1986)', 'Léon: The Professional (a.k.a. The Professional) (Léon) (1994)', 'Matrix, The (1999)', 'Fargo (1996)', 'American Beauty (1999)', 'Jurassic Park (1993)']\n",
            "User: 58213 - Recommended: ['Lord of the Rings: The Return of the King, The (2003)', 'Star Wars: Episode VI - Return of the Jedi (1983)', 'Star Wars: Episode V - The Empire Strikes Back (1980)', \"One Flew Over the Cuckoo's Nest (1975)\", 'Jurassic Park (1993)', 'Princess Bride, The (1987)', 'Toy Story (1995)', 'Die Hard (1988)', 'Casablanca (1942)', 'Sixth Sense, The (1999)']\n",
            "User: 50857 - Recommended: ['Star Wars: Episode VI - Return of the Jedi (1983)', 'Terminator 2: Judgment Day (1991)', 'Usual Suspects, The (1995)', 'Matrix, The (1999)', 'Shawshank Redemption, The (1994)', 'Jurassic Park (1993)', 'Forrest Gump (1994)', 'Braveheart (1995)', \"Schindler's List (1993)\", 'Sixth Sense, The (1999)']\n",
            "User: 134728 - Recommended: ['Reservoir Dogs (1992)', 'Aliens (1986)', \"One Flew Over the Cuckoo's Nest (1975)\", 'Apollo 13 (1995)', 'Star Wars: Episode IV - A New Hope (1977)', 'Jurassic Park (1993)', 'Toy Story (1995)', 'Terminator, The (1984)', \"Schindler's List (1993)\", 'Pulp Fiction (1994)']\n",
            "User: 63843 - Recommended: ['Star Wars: Episode V - The Empire Strikes Back (1980)', 'Raiders of the Lost Ark (Indiana Jones and the Raiders of the Lost Ark) (1981)', 'Silence of the Lambs, The (1991)', 'Shawshank Redemption, The (1994)', 'Fargo (1996)', 'American Beauty (1999)', 'Forrest Gump (1994)', 'Groundhog Day (1993)', \"Schindler's List (1993)\", 'Pulp Fiction (1994)']\n",
            "User: 137619 - Recommended: ['Fight Club (1999)', 'Independence Day (a.k.a. ID4) (1996)', 'Hunt for Red October, The (1990)', 'Léon: The Professional (a.k.a. The Professional) (Léon) (1994)', 'Usual Suspects, The (1995)', 'Jurassic Park (1993)', 'Princess Bride, The (1987)', 'Fifth Element, The (1997)', \"Schindler's List (1993)\", 'Blade Runner (1982)']\n",
            "User: 97602 - Recommended: ['Matrix, The (1999)', 'Jurassic Park (1993)', 'Saving Private Ryan (1998)', 'Toy Story (1995)', 'Full Metal Jacket (1987)', 'Truman Show, The (1998)', \"Schindler's List (1993)\", \"Monty Python's Life of Brian (1979)\", 'Good Will Hunting (1997)', 'Dr. Strangelove or: How I Learned to Stop Worrying and Love the Bomb (1964)']\n",
            "User: 66836 - Recommended: ['Terminator 2: Judgment Day (1991)', 'Fight Club (1999)', 'Godfather, The (1972)', 'Usual Suspects, The (1995)', 'Shawshank Redemption, The (1994)', 'Jurassic Park (1993)', 'Forrest Gump (1994)', 'Braveheart (1995)', \"Schindler's List (1993)\", 'Sixth Sense, The (1999)']\n",
            "User: 93733 - Recommended: ['Star Wars: Episode VI - Return of the Jedi (1983)', 'Raiders of the Lost Ark (Indiana Jones and the Raiders of the Lost Ark) (1981)', 'Silence of the Lambs, The (1991)', 'Usual Suspects, The (1995)', 'Matrix, The (1999)', 'Fargo (1996)', 'Star Wars: Episode IV - A New Hope (1977)', 'Braveheart (1995)', \"Schindler's List (1993)\", 'Pulp Fiction (1994)']\n",
            "User: 106680 - Recommended: ['Fight Club (1999)', 'Star Wars: Episode V - The Empire Strikes Back (1980)', 'Usual Suspects, The (1995)', 'Fargo (1996)', 'American Beauty (1999)', 'Princess Bride, The (1987)', 'Braveheart (1995)', 'Terminator, The (1984)', 'Pulp Fiction (1994)', 'Blade Runner (1982)']\n",
            "User: 57931 - Recommended: ['Star Wars: Episode V - The Empire Strikes Back (1980)', 'Silence of the Lambs, The (1991)', 'Matrix, The (1999)', 'Shawshank Redemption, The (1994)', 'Fargo (1996)', 'Star Wars: Episode IV - A New Hope (1977)', 'American Beauty (1999)', 'Braveheart (1995)', \"Schindler's List (1993)\", 'Pulp Fiction (1994)']\n",
            "User: 75131 - Recommended: ['Star Wars: Episode VI - Return of the Jedi (1983)', 'Terminator 2: Judgment Day (1991)', 'Fight Club (1999)', 'Star Wars: Episode V - The Empire Strikes Back (1980)', 'Raiders of the Lost Ark (Indiana Jones and the Raiders of the Lost Ark) (1981)', 'Usual Suspects, The (1995)', 'Star Wars: Episode IV - A New Hope (1977)', 'Jurassic Park (1993)', 'Braveheart (1995)', 'Pulp Fiction (1994)']\n",
            "User: 24136 - Recommended: ['Terminator 2: Judgment Day (1991)', 'Star Wars: Episode V - The Empire Strikes Back (1980)', 'Shawshank Redemption, The (1994)', \"One Flew Over the Cuckoo's Nest (1975)\", 'Fargo (1996)', 'Star Wars: Episode IV - A New Hope (1977)', 'Forrest Gump (1994)', 'Groundhog Day (1993)', \"Schindler's List (1993)\", 'Pulp Fiction (1994)']\n",
            "User: 109745 - Recommended: ['Star Wars: Episode VI - Return of the Jedi (1983)', 'Fight Club (1999)', 'Godfather, The (1972)', 'Raiders of the Lost Ark (Indiana Jones and the Raiders of the Lost Ark) (1981)', 'Matrix, The (1999)', 'Shawshank Redemption, The (1994)', 'American Beauty (1999)', 'Jurassic Park (1993)', 'Full Metal Jacket (1987)', 'Good Will Hunting (1997)']\n",
            "User: 15882 - Recommended: ['Terminator 2: Judgment Day (1991)', 'Fight Club (1999)', 'Godfather, The (1972)', 'Raiders of the Lost Ark (Indiana Jones and the Raiders of the Lost Ark) (1981)', 'Silence of the Lambs, The (1991)', 'Matrix, The (1999)', 'Shawshank Redemption, The (1994)', 'Forrest Gump (1994)', 'Full Metal Jacket (1987)', 'Groundhog Day (1993)']\n",
            "User: 101275 - Recommended: ['Terminator 2: Judgment Day (1991)', 'Heat (1995)', 'Dark Knight, The (2008)', 'Aliens (1986)', 'Fargo (1996)', 'Forrest Gump (1994)', 'Crouching Tiger, Hidden Dragon (Wo hu cang long) (2000)', 'Pulp Fiction (1994)', 'Lord of the Rings: The Two Towers, The (2002)', 'Speed (1994)']\n",
            "User: 69596 - Recommended: ['Terminator 2: Judgment Day (1991)', 'Godfather, The (1972)', 'Raiders of the Lost Ark (Indiana Jones and the Raiders of the Lost Ark) (1981)', 'American Beauty (1999)', 'Jurassic Park (1993)', 'Saving Private Ryan (1998)', 'Forrest Gump (1994)', 'Pulp Fiction (1994)', 'Being John Malkovich (1999)', 'Dr. Strangelove or: How I Learned to Stop Worrying and Love the Bomb (1964)']\n",
            "User: 126525 - Recommended: ['Star Wars: Episode VI - Return of the Jedi (1983)', 'Fight Club (1999)', 'Star Wars: Episode V - The Empire Strikes Back (1980)', 'Matrix, The (1999)', 'Shawshank Redemption, The (1994)', 'American Beauty (1999)', 'Forrest Gump (1994)', 'Braveheart (1995)', \"Schindler's List (1993)\", 'Pulp Fiction (1994)']\n",
            "User: 129306 - Recommended: ['Star Wars: Episode VI - Return of the Jedi (1983)', 'Godfather, The (1972)', 'Usual Suspects, The (1995)', 'Shawshank Redemption, The (1994)', 'Forrest Gump (1994)', 'Rain Man (1988)', \"Schindler's List (1993)\", 'Pulp Fiction (1994)', 'Sixth Sense, The (1999)', 'Good Will Hunting (1997)']\n",
            "User: 124663 - Recommended: ['Star Wars: Episode VI - Return of the Jedi (1983)', 'Fight Club (1999)', 'Star Wars: Episode V - The Empire Strikes Back (1980)', 'Raiders of the Lost Ark (Indiana Jones and the Raiders of the Lost Ark) (1981)', 'Matrix, The (1999)', 'Shawshank Redemption, The (1994)', 'Star Wars: Episode IV - A New Hope (1977)', 'American Beauty (1999)', 'Jurassic Park (1993)', 'Saving Private Ryan (1998)']\n",
            "User: 109299 - Recommended: ['Star Wars: Episode VI - Return of the Jedi (1983)', 'Star Wars: Episode V - The Empire Strikes Back (1980)', 'Raiders of the Lost Ark (Indiana Jones and the Raiders of the Lost Ark) (1981)', 'Silence of the Lambs, The (1991)', 'Star Wars: Episode IV - A New Hope (1977)', 'Jurassic Park (1993)', 'Saving Private Ryan (1998)', 'Indiana Jones and the Last Crusade (1989)', 'Pulp Fiction (1994)', 'Sixth Sense, The (1999)']\n",
            "User: 128722 - Recommended: ['Lord of the Rings: The Return of the King, The (2003)', 'Star Wars: Episode VI - Return of the Jedi (1983)', 'Fight Club (1999)', 'Star Wars: Episode V - The Empire Strikes Back (1980)', 'Matrix, The (1999)', 'Star Wars: Episode IV - A New Hope (1977)', 'American Beauty (1999)', 'Braveheart (1995)', \"Schindler's List (1993)\", 'Pulp Fiction (1994)']\n",
            "User: 49602 - Recommended: ['Star Wars: Episode VI - Return of the Jedi (1983)', 'Terminator 2: Judgment Day (1991)', 'Star Wars: Episode V - The Empire Strikes Back (1980)', 'Raiders of the Lost Ark (Indiana Jones and the Raiders of the Lost Ark) (1981)', 'Matrix, The (1999)', 'Shawshank Redemption, The (1994)', 'Star Wars: Episode IV - A New Hope (1977)', 'Jurassic Park (1993)', 'Indiana Jones and the Last Crusade (1989)', \"Schindler's List (1993)\"]\n",
            "User: 20684 - Recommended: ['Star Wars: Episode VI - Return of the Jedi (1983)', 'Fight Club (1999)', 'Hunt for Red October, The (1990)', 'Léon: The Professional (a.k.a. The Professional) (Léon) (1994)', 'Silence of the Lambs, The (1991)', 'Shawshank Redemption, The (1994)', 'Princess Bride, The (1987)', \"Schindler's List (1993)\", 'Pulp Fiction (1994)', 'Blade Runner (1982)']\n",
            "User: 69747 - Recommended: ['Lord of the Rings: The Return of the King, The (2003)', 'Terminator 2: Judgment Day (1991)', 'Fight Club (1999)', 'Silence of the Lambs, The (1991)', 'Matrix, The (1999)', 'Star Wars: Episode IV - A New Hope (1977)', 'Jurassic Park (1993)', 'Saving Private Ryan (1998)', 'Forrest Gump (1994)', \"Schindler's List (1993)\"]\n",
            "User: 59407 - Recommended: ['Fight Club (1999)', 'Godfather, The (1972)', 'Star Wars: Episode V - The Empire Strikes Back (1980)', 'Raiders of the Lost Ark (Indiana Jones and the Raiders of the Lost Ark) (1981)', 'Usual Suspects, The (1995)', 'Fargo (1996)', 'Braveheart (1995)', 'Gladiator (2000)', 'Pulp Fiction (1994)', 'Blade Runner (1982)']\n",
            "User: 8090 - Recommended: ['Star Wars: Episode V - The Empire Strikes Back (1980)', 'Raiders of the Lost Ark (Indiana Jones and the Raiders of the Lost Ark) (1981)', 'Usual Suspects, The (1995)', 'Matrix, The (1999)', 'Star Wars: Episode IV - A New Hope (1977)', 'American Beauty (1999)', 'Braveheart (1995)', \"Schindler's List (1993)\", 'Pulp Fiction (1994)', 'Sixth Sense, The (1999)']\n",
            "User: 79075 - Recommended: ['Silence of the Lambs, The (1991)', 'Usual Suspects, The (1995)', 'Matrix, The (1999)', 'Star Wars: Episode IV - A New Hope (1977)', 'American Beauty (1999)', 'Forrest Gump (1994)', 'Groundhog Day (1993)', \"Schindler's List (1993)\", 'Pulp Fiction (1994)', 'Sixth Sense, The (1999)']\n",
            "User: 137280 - Recommended: ['Terminator 2: Judgment Day (1991)', 'Silence of the Lambs, The (1991)', 'Usual Suspects, The (1995)', 'Shawshank Redemption, The (1994)', \"One Flew Over the Cuckoo's Nest (1975)\", 'Star Wars: Episode IV - A New Hope (1977)', 'American Beauty (1999)', 'Forrest Gump (1994)', 'Braveheart (1995)', 'Sixth Sense, The (1999)']\n",
            "User: 24848 - Recommended: ['Terminator 2: Judgment Day (1991)', 'Star Wars: Episode V - The Empire Strikes Back (1980)', 'Raiders of the Lost Ark (Indiana Jones and the Raiders of the Lost Ark) (1981)', 'Silence of the Lambs, The (1991)', 'Fargo (1996)', 'Star Wars: Episode IV - A New Hope (1977)', 'Forrest Gump (1994)', 'Braveheart (1995)', \"Schindler's List (1993)\", 'Pulp Fiction (1994)']\n",
            "User: 75618 - Recommended: ['Terminator 2: Judgment Day (1991)', 'Fight Club (1999)', 'Star Wars: Episode V - The Empire Strikes Back (1980)', 'Matrix, The (1999)', 'Fargo (1996)', 'Princess Bride, The (1987)', 'Braveheart (1995)', 'Terminator, The (1984)', 'Gladiator (2000)', 'Blade Runner (1982)']\n",
            "User: 67258 - Recommended: ['Terminator 2: Judgment Day (1991)', 'Star Wars: Episode V - The Empire Strikes Back (1980)', 'Matrix, The (1999)', 'Shawshank Redemption, The (1994)', 'Fargo (1996)', 'Star Wars: Episode IV - A New Hope (1977)', 'American Beauty (1999)', 'Braveheart (1995)', 'Groundhog Day (1993)', 'Pulp Fiction (1994)']\n",
            "User: 128003 - Recommended: ['Terminator 2: Judgment Day (1991)', 'Silence of the Lambs, The (1991)', 'Usual Suspects, The (1995)', 'Matrix, The (1999)', 'Star Wars: Episode IV - A New Hope (1977)', 'American Beauty (1999)', 'Forrest Gump (1994)', 'Braveheart (1995)', 'Pulp Fiction (1994)', 'Sixth Sense, The (1999)']\n",
            "User: 56977 - Recommended: ['Terminator 2: Judgment Day (1991)', 'Fight Club (1999)', 'Silence of the Lambs, The (1991)', 'Usual Suspects, The (1995)', 'Shawshank Redemption, The (1994)', 'Fargo (1996)', 'American Beauty (1999)', 'Jurassic Park (1993)', 'Forrest Gump (1994)', 'Groundhog Day (1993)']\n",
            "User: 123487 - Recommended: ['Star Wars: Episode VI - Return of the Jedi (1983)', 'Fight Club (1999)', 'Star Wars: Episode V - The Empire Strikes Back (1980)', 'Usual Suspects, The (1995)', 'Matrix, The (1999)', 'Star Wars: Episode IV - A New Hope (1977)', 'American Beauty (1999)', 'Braveheart (1995)', \"Schindler's List (1993)\", 'Sixth Sense, The (1999)']\n",
            "User: 27287 - Recommended: ['Star Wars: Episode VI - Return of the Jedi (1983)', 'Terminator 2: Judgment Day (1991)', 'Fight Club (1999)', 'Star Wars: Episode V - The Empire Strikes Back (1980)', 'Usual Suspects, The (1995)', 'Star Wars: Episode IV - A New Hope (1977)', 'Saving Private Ryan (1998)', 'Forrest Gump (1994)', 'Indiana Jones and the Last Crusade (1989)', 'Pulp Fiction (1994)']\n",
            "User: 128339 - Recommended: ['Godfather, The (1972)', 'Star Wars: Episode V - The Empire Strikes Back (1980)', 'Matrix, The (1999)', 'Shawshank Redemption, The (1994)', \"One Flew Over the Cuckoo's Nest (1975)\", 'Fargo (1996)', 'Star Wars: Episode IV - A New Hope (1977)', 'Forrest Gump (1994)', \"Schindler's List (1993)\", 'Good Will Hunting (1997)']\n",
            "User: 137037 - Recommended: ['Fight Club (1999)', 'Godfather, The (1972)', 'Toy Story (1995)', \"Ferris Bueller's Day Off (1986)\", 'Die Hard (1988)', 'Pulp Fiction (1994)', \"Amelie (Fabuleux destin d'Amélie Poulain, Le) (2001)\", 'Sixth Sense, The (1999)', \"Monty Python's Life of Brian (1979)\", 'Blade Runner (1982)']\n",
            "User: 16213 - Recommended: ['Silence of the Lambs, The (1991)', 'Matrix, The (1999)', 'Shawshank Redemption, The (1994)', 'Fargo (1996)', 'American Beauty (1999)', 'Forrest Gump (1994)', 'Braveheart (1995)', \"Schindler's List (1993)\", 'Pulp Fiction (1994)', 'Sixth Sense, The (1999)']\n",
            "User: 73865 - Recommended: ['Lord of the Rings: The Return of the King, The (2003)', 'Hunt for Red October, The (1990)', 'Léon: The Professional (a.k.a. The Professional) (Léon) (1994)', 'Silence of the Lambs, The (1991)', 'Matrix, The (1999)', 'Saving Private Ryan (1998)', 'Forrest Gump (1994)', 'Princess Bride, The (1987)', 'Fifth Element, The (1997)', 'Blade Runner (1982)']\n",
            "User: 101021 - Recommended: ['Fight Club (1999)', 'Star Wars: Episode V - The Empire Strikes Back (1980)', 'Raiders of the Lost Ark (Indiana Jones and the Raiders of the Lost Ark) (1981)', 'Usual Suspects, The (1995)', 'Matrix, The (1999)', 'Shawshank Redemption, The (1994)', 'Star Wars: Episode IV - A New Hope (1977)', 'Jurassic Park (1993)', 'Forrest Gump (1994)', 'Braveheart (1995)']\n",
            "User: 12860 - Recommended: ['Pirates of the Caribbean: The Curse of the Black Pearl (2003)', 'Godfather, The (1972)', 'Raiders of the Lost Ark (Indiana Jones and the Raiders of the Lost Ark) (1981)', 'Forrest Gump (1994)', 'Princess Bride, The (1987)', 'Fifth Element, The (1997)', \"Schindler's List (1993)\", 'Men in Black (a.k.a. MIB) (1997)', 'Sixth Sense, The (1999)', 'Blade Runner (1982)']\n",
            "User: 135652 - Recommended: ['Lord of the Rings: The Return of the King, The (2003)', 'Pirates of the Caribbean: The Curse of the Black Pearl (2003)', 'Aliens (1986)', 'Raiders of the Lost Ark (Indiana Jones and the Raiders of the Lost Ark) (1981)', 'Silence of the Lambs, The (1991)', 'Usual Suspects, The (1995)', 'Shawshank Redemption, The (1994)', 'American Beauty (1999)', 'Forrest Gump (1994)', 'Gladiator (2000)']\n",
            "User: 28194 - Recommended: ['Star Wars: Episode V - The Empire Strikes Back (1980)', 'Raiders of the Lost Ark (Indiana Jones and the Raiders of the Lost Ark) (1981)', 'Silence of the Lambs, The (1991)', 'Star Wars: Episode IV - A New Hope (1977)', 'American Beauty (1999)', 'Forrest Gump (1994)', 'Toy Story (1995)', 'Groundhog Day (1993)', 'Pulp Fiction (1994)', 'Sixth Sense, The (1999)']\n",
            "User: 124257 - Recommended: ['Terminator 2: Judgment Day (1991)', 'Raiders of the Lost Ark (Indiana Jones and the Raiders of the Lost Ark) (1981)', 'Silence of the Lambs, The (1991)', 'Matrix, The (1999)', 'American Beauty (1999)', 'Jurassic Park (1993)', 'Indiana Jones and the Last Crusade (1989)', 'Terminator, The (1984)', 'Pulp Fiction (1994)', 'Blade Runner (1982)']\n",
            "User: 20079 - Recommended: ['Star Wars: Episode VI - Return of the Jedi (1983)', 'Terminator 2: Judgment Day (1991)', 'Fight Club (1999)', 'Star Wars: Episode V - The Empire Strikes Back (1980)', 'Silence of the Lambs, The (1991)', 'Matrix, The (1999)', 'Shawshank Redemption, The (1994)', 'Star Wars: Episode IV - A New Hope (1977)', 'Braveheart (1995)', 'Pulp Fiction (1994)']\n",
            "User: 108260 - Recommended: ['Fight Club (1999)', 'Star Wars: Episode V - The Empire Strikes Back (1980)', 'Aliens (1986)', 'Léon: The Professional (a.k.a. The Professional) (Léon) (1994)', 'American Beauty (1999)', 'Princess Bride, The (1987)', 'Indiana Jones and the Last Crusade (1989)', 'Terminator, The (1984)', 'Pulp Fiction (1994)', 'Blade Runner (1982)']\n",
            "User: 95993 - Recommended: ['Star Wars: Episode VI - Return of the Jedi (1983)', 'Terminator 2: Judgment Day (1991)', 'Raiders of the Lost Ark (Indiana Jones and the Raiders of the Lost Ark) (1981)', 'Shawshank Redemption, The (1994)', 'Star Wars: Episode IV - A New Hope (1977)', 'Jurassic Park (1993)', 'Braveheart (1995)', 'Truman Show, The (1998)', \"Schindler's List (1993)\", 'Blade Runner (1982)']\n",
            "User: 63788 - Recommended: ['Lord of the Rings: The Return of the King, The (2003)', 'Terminator 2: Judgment Day (1991)', 'Fight Club (1999)', 'Godfather, The (1972)', 'Fargo (1996)', 'Saving Private Ryan (1998)', 'Groundhog Day (1993)', \"Schindler's List (1993)\", 'Pulp Fiction (1994)', 'Lord of the Rings: The Two Towers, The (2002)']\n",
            "User: 113033 - Recommended: ['Star Wars: Episode V - The Empire Strikes Back (1980)', 'Raiders of the Lost Ark (Indiana Jones and the Raiders of the Lost Ark) (1981)', 'Silence of the Lambs, The (1991)', 'Matrix, The (1999)', 'Shawshank Redemption, The (1994)', 'Star Wars: Episode IV - A New Hope (1977)', 'Forrest Gump (1994)', 'Braveheart (1995)', \"Schindler's List (1993)\", 'Pulp Fiction (1994)']\n",
            "User: 24618 - Recommended: ['Pirates of the Caribbean: The Curse of the Black Pearl (2003)', 'Léon: The Professional (a.k.a. The Professional) (Léon) (1994)', 'Silence of the Lambs, The (1991)', 'Shawshank Redemption, The (1994)', 'Saving Private Ryan (1998)', 'Princess Bride, The (1987)', 'Braveheart (1995)', 'Indiana Jones and the Last Crusade (1989)', 'Gladiator (2000)', 'Die Hard (1988)']\n",
            "User: 69381 - Recommended: ['Star Wars: Episode V - The Empire Strikes Back (1980)', 'Raiders of the Lost Ark (Indiana Jones and the Raiders of the Lost Ark) (1981)', 'Silence of the Lambs, The (1991)', 'Usual Suspects, The (1995)', 'Matrix, The (1999)', 'Shawshank Redemption, The (1994)', 'Fargo (1996)', 'Star Wars: Episode IV - A New Hope (1977)', 'American Beauty (1999)', \"Schindler's List (1993)\"]\n",
            "User: 3288 - Recommended: ['Lord of the Rings: The Return of the King, The (2003)', 'Terminator 2: Judgment Day (1991)', 'Godfather, The (1972)', 'Silence of the Lambs, The (1991)', 'Jurassic Park (1993)', 'Terminator, The (1984)', 'Die Hard (1988)', 'Pulp Fiction (1994)', 'Sixth Sense, The (1999)', 'Blade Runner (1982)']\n",
            "User: 51368 - Recommended: ['Terminator 2: Judgment Day (1991)', 'Silence of the Lambs, The (1991)', 'Matrix, The (1999)', 'Shawshank Redemption, The (1994)', 'Fargo (1996)', 'Forrest Gump (1994)', 'Braveheart (1995)', 'Toy Story (1995)', \"Schindler's List (1993)\", 'Sixth Sense, The (1999)']\n",
            "User: 129536 - Recommended: ['Star Wars: Episode VI - Return of the Jedi (1983)', 'Terminator 2: Judgment Day (1991)', 'Fight Club (1999)', 'Star Wars: Episode V - The Empire Strikes Back (1980)', 'Raiders of the Lost Ark (Indiana Jones and the Raiders of the Lost Ark) (1981)', 'Matrix, The (1999)', 'Shawshank Redemption, The (1994)', 'Saving Private Ryan (1998)', \"Schindler's List (1993)\", 'Pulp Fiction (1994)']\n",
            "User: 7601 - Recommended: ['Lord of the Rings: The Return of the King, The (2003)', 'Star Wars: Episode VI - Return of the Jedi (1983)', 'Fight Club (1999)', 'Star Wars: Episode V - The Empire Strikes Back (1980)', 'Raiders of the Lost Ark (Indiana Jones and the Raiders of the Lost Ark) (1981)', 'Star Wars: Episode IV - A New Hope (1977)', 'Jurassic Park (1993)', 'Saving Private Ryan (1998)', 'Braveheart (1995)', 'Indiana Jones and the Last Crusade (1989)']\n",
            "User: 52248 - Recommended: ['Terminator 2: Judgment Day (1991)', 'Star Wars: Episode V - The Empire Strikes Back (1980)', 'Raiders of the Lost Ark (Indiana Jones and the Raiders of the Lost Ark) (1981)', 'Silence of the Lambs, The (1991)', 'Matrix, The (1999)', 'Star Wars: Episode IV - A New Hope (1977)', 'Braveheart (1995)', \"Schindler's List (1993)\", 'Pulp Fiction (1994)', 'Sixth Sense, The (1999)']\n",
            "User: 116544 - Recommended: ['Lord of the Rings: The Return of the King, The (2003)', 'Silence of the Lambs, The (1991)', 'Star Wars: Episode IV - A New Hope (1977)', 'Jurassic Park (1993)', 'Braveheart (1995)', 'Indiana Jones and the Last Crusade (1989)', 'Gladiator (2000)', 'Die Hard (1988)', 'Pulp Fiction (1994)', 'Sixth Sense, The (1999)']\n",
            "User: 11081 - Recommended: ['Star Wars: Episode VI - Return of the Jedi (1983)', 'Terminator 2: Judgment Day (1991)', 'Raiders of the Lost Ark (Indiana Jones and the Raiders of the Lost Ark) (1981)', 'Silence of the Lambs, The (1991)', 'Shawshank Redemption, The (1994)', 'American Beauty (1999)', 'Saving Private Ryan (1998)', 'Forrest Gump (1994)', 'Braveheart (1995)', 'Sixth Sense, The (1999)']\n",
            "User: 21982 - Recommended: ['Terminator 2: Judgment Day (1991)', 'Star Wars: Episode V - The Empire Strikes Back (1980)', 'Raiders of the Lost Ark (Indiana Jones and the Raiders of the Lost Ark) (1981)', 'Silence of the Lambs, The (1991)', 'Shawshank Redemption, The (1994)', \"One Flew Over the Cuckoo's Nest (1975)\", 'Star Wars: Episode IV - A New Hope (1977)', 'Forrest Gump (1994)', 'Pulp Fiction (1994)', 'Sixth Sense, The (1999)']\n",
            "User: 51683 - Recommended: ['Silence of the Lambs, The (1991)', 'Matrix, The (1999)', 'Shawshank Redemption, The (1994)', 'Fargo (1996)', 'American Beauty (1999)', 'Forrest Gump (1994)', 'Groundhog Day (1993)', 'Pulp Fiction (1994)', 'Sixth Sense, The (1999)', 'Dr. Strangelove or: How I Learned to Stop Worrying and Love the Bomb (1964)']\n",
            "User: 34879 - Recommended: ['Terminator 2: Judgment Day (1991)', 'Star Wars: Episode V - The Empire Strikes Back (1980)', 'Matrix, The (1999)', 'Fargo (1996)', 'American Beauty (1999)', 'Forrest Gump (1994)', 'Braveheart (1995)', \"Schindler's List (1993)\", 'Pulp Fiction (1994)', 'Sixth Sense, The (1999)']\n",
            "User: 66306 - Recommended: ['Star Wars: Episode VI - Return of the Jedi (1983)', 'Terminator 2: Judgment Day (1991)', 'Fight Club (1999)', 'Star Wars: Episode V - The Empire Strikes Back (1980)', 'Raiders of the Lost Ark (Indiana Jones and the Raiders of the Lost Ark) (1981)', 'Silence of the Lambs, The (1991)', 'Star Wars: Episode IV - A New Hope (1977)', 'Jurassic Park (1993)', 'Braveheart (1995)', 'Pulp Fiction (1994)']\n",
            "User: 28786 - Recommended: ['Lord of the Rings: The Return of the King, The (2003)', 'Star Wars: Episode VI - Return of the Jedi (1983)', 'Terminator 2: Judgment Day (1991)', 'Usual Suspects, The (1995)', 'Matrix, The (1999)', 'Shawshank Redemption, The (1994)', 'Forrest Gump (1994)', 'Indiana Jones and the Last Crusade (1989)', 'Terminator, The (1984)', 'Blade Runner (1982)']\n",
            "User: 92114 - Recommended: ['Lord of the Rings: The Return of the King, The (2003)', 'Terminator 2: Judgment Day (1991)', 'Fight Club (1999)', 'Matrix, The (1999)', 'Shawshank Redemption, The (1994)', 'Jurassic Park (1993)', 'Princess Bride, The (1987)', 'Terminator, The (1984)', 'Die Hard (1988)', 'Pulp Fiction (1994)']\n",
            "User: 6739 - Recommended: ['Terminator 2: Judgment Day (1991)', 'Star Wars: Episode V - The Empire Strikes Back (1980)', 'Usual Suspects, The (1995)', 'Fargo (1996)', 'Star Wars: Episode IV - A New Hope (1977)', 'American Beauty (1999)', 'Forrest Gump (1994)', 'Braveheart (1995)', \"Schindler's List (1993)\", 'Pulp Fiction (1994)']\n",
            "User: 60827 - Recommended: ['Star Wars: Episode VI - Return of the Jedi (1983)', 'Terminator 2: Judgment Day (1991)', 'Fight Club (1999)', 'Star Wars: Episode V - The Empire Strikes Back (1980)', 'Silence of the Lambs, The (1991)', 'Matrix, The (1999)', 'Star Wars: Episode IV - A New Hope (1977)', 'American Beauty (1999)', 'Braveheart (1995)', 'Pulp Fiction (1994)']\n",
            "User: 10882 - Recommended: ['Lord of the Rings: The Return of the King, The (2003)', 'Terminator 2: Judgment Day (1991)', 'Fight Club (1999)', 'Silence of the Lambs, The (1991)', 'Matrix, The (1999)', 'Fargo (1996)', 'Jurassic Park (1993)', 'Groundhog Day (1993)', 'Pulp Fiction (1994)', 'Sixth Sense, The (1999)']\n",
            "User: 6731 - Recommended: ['Terminator 2: Judgment Day (1991)', 'Raiders of the Lost Ark (Indiana Jones and the Raiders of the Lost Ark) (1981)', 'Saving Private Ryan (1998)', 'Princess Bride, The (1987)', 'Braveheart (1995)', 'Indiana Jones and the Last Crusade (1989)', 'Terminator, The (1984)', 'Die Hard (1988)', 'Pulp Fiction (1994)', 'Blade Runner (1982)']\n",
            "User: 60805 - Recommended: ['Terminator 2: Judgment Day (1991)', 'Fight Club (1999)', 'Aliens (1986)', 'Léon: The Professional (a.k.a. The Professional) (Léon) (1994)', 'Star Wars: Episode IV - A New Hope (1977)', 'American Beauty (1999)', 'Terminator, The (1984)', \"Schindler's List (1993)\", 'Men in Black (a.k.a. MIB) (1997)', 'Blade Runner (1982)']\n",
            "User: 81604 - Recommended: ['Lord of the Rings: The Return of the King, The (2003)', 'Fight Club (1999)', 'Silence of the Lambs, The (1991)', 'Usual Suspects, The (1995)', 'Matrix, The (1999)', 'Shawshank Redemption, The (1994)', 'Star Wars: Episode IV - A New Hope (1977)', 'American Beauty (1999)', 'Groundhog Day (1993)', 'Dr. Strangelove or: How I Learned to Stop Worrying and Love the Bomb (1964)']\n",
            "User: 80128 - Recommended: ['Star Wars: Episode VI - Return of the Jedi (1983)', 'Star Wars: Episode V - The Empire Strikes Back (1980)', 'Raiders of the Lost Ark (Indiana Jones and the Raiders of the Lost Ark) (1981)', 'Silence of the Lambs, The (1991)', 'Shawshank Redemption, The (1994)', 'Star Wars: Episode IV - A New Hope (1977)', 'Jurassic Park (1993)', 'Princess Bride, The (1987)', 'Indiana Jones and the Last Crusade (1989)', 'Terminator, The (1984)']\n",
            "User: 7880 - Recommended: ['Terminator 2: Judgment Day (1991)', 'Fight Club (1999)', 'Silence of the Lambs, The (1991)', 'American Beauty (1999)', 'Jurassic Park (1993)', 'Forrest Gump (1994)', 'Braveheart (1995)', 'Toy Story (1995)', 'Groundhog Day (1993)', 'Pulp Fiction (1994)']\n",
            "User: 78845 - Recommended: ['Raiders of the Lost Ark (Indiana Jones and the Raiders of the Lost Ark) (1981)', 'Silence of the Lambs, The (1991)', 'Matrix, The (1999)', 'Shawshank Redemption, The (1994)', 'Fargo (1996)', 'Star Wars: Episode IV - A New Hope (1977)', 'American Beauty (1999)', 'Forrest Gump (1994)', \"Schindler's List (1993)\", 'Pulp Fiction (1994)']\n",
            "User: 94418 - Recommended: ['Silence of the Lambs, The (1991)', 'Matrix, The (1999)', 'Shawshank Redemption, The (1994)', \"One Flew Over the Cuckoo's Nest (1975)\", 'Fargo (1996)', 'American Beauty (1999)', 'Forrest Gump (1994)', \"Schindler's List (1993)\", 'Pulp Fiction (1994)', 'Sixth Sense, The (1999)']\n",
            "User: 2299 - Recommended: ['Star Wars: Episode V - The Empire Strikes Back (1980)', 'Raiders of the Lost Ark (Indiana Jones and the Raiders of the Lost Ark) (1981)', 'Usual Suspects, The (1995)', 'Matrix, The (1999)', 'Shawshank Redemption, The (1994)', 'Star Wars: Episode IV - A New Hope (1977)', 'Forrest Gump (1994)', 'Braveheart (1995)', \"Schindler's List (1993)\", 'Pulp Fiction (1994)']\n",
            "User: 35528 - Recommended: ['Star Wars: Episode VI - Return of the Jedi (1983)', 'Terminator 2: Judgment Day (1991)', 'Star Wars: Episode V - The Empire Strikes Back (1980)', 'Matrix, The (1999)', 'Fargo (1996)', 'Jurassic Park (1993)', 'Forrest Gump (1994)', 'Braveheart (1995)', \"Schindler's List (1993)\", 'Pulp Fiction (1994)']\n",
            "User: 118865 - Recommended: ['Star Wars: Episode VI - Return of the Jedi (1983)', 'Terminator 2: Judgment Day (1991)', 'Usual Suspects, The (1995)', 'Shawshank Redemption, The (1994)', 'Fargo (1996)', 'Jurassic Park (1993)', 'Forrest Gump (1994)', 'Braveheart (1995)', \"Schindler's List (1993)\", 'Lord of the Rings: The Two Towers, The (2002)']\n",
            "User: 135958 - Recommended: ['Shawshank Redemption, The (1994)', 'Fargo (1996)', 'American Beauty (1999)', 'Forrest Gump (1994)', 'Truman Show, The (1998)', \"Schindler's List (1993)\", 'Pulp Fiction (1994)', \"Amelie (Fabuleux destin d'Amélie Poulain, Le) (2001)\", 'Being John Malkovich (1999)', 'Dr. Strangelove or: How I Learned to Stop Worrying and Love the Bomb (1964)']\n",
            "User: 56128 - Recommended: ['Star Wars: Episode VI - Return of the Jedi (1983)', 'Terminator 2: Judgment Day (1991)', 'Star Wars: Episode V - The Empire Strikes Back (1980)', 'Raiders of the Lost Ark (Indiana Jones and the Raiders of the Lost Ark) (1981)', 'Usual Suspects, The (1995)', 'Star Wars: Episode IV - A New Hope (1977)', 'American Beauty (1999)', 'Forrest Gump (1994)', 'Braveheart (1995)', 'Sixth Sense, The (1999)']\n",
            "User: 53450 - Recommended: ['Terminator 2: Judgment Day (1991)', 'Raiders of the Lost Ark (Indiana Jones and the Raiders of the Lost Ark) (1981)', 'Silence of the Lambs, The (1991)', 'Matrix, The (1999)', 'Shawshank Redemption, The (1994)', 'American Beauty (1999)', 'Forrest Gump (1994)', 'Braveheart (1995)', \"Schindler's List (1993)\", 'Sixth Sense, The (1999)']\n",
            "User: 950 - Recommended: ['Silence of the Lambs, The (1991)', 'Usual Suspects, The (1995)', 'Matrix, The (1999)', 'Shawshank Redemption, The (1994)', \"One Flew Over the Cuckoo's Nest (1975)\", 'Star Wars: Episode IV - A New Hope (1977)', 'American Beauty (1999)', 'Forrest Gump (1994)', \"Schindler's List (1993)\", 'Pulp Fiction (1994)']\n",
            "User: 124097 - Recommended: ['Star Wars: Episode V - The Empire Strikes Back (1980)', 'Raiders of the Lost Ark (Indiana Jones and the Raiders of the Lost Ark) (1981)', 'Silence of the Lambs, The (1991)', 'Usual Suspects, The (1995)', 'Matrix, The (1999)', 'Star Wars: Episode IV - A New Hope (1977)', 'Forrest Gump (1994)', 'Braveheart (1995)', 'Pulp Fiction (1994)', 'Sixth Sense, The (1999)']\n",
            "User: 58111 - Recommended: ['Terminator 2: Judgment Day (1991)', 'Matrix, The (1999)', 'Fargo (1996)', 'Jurassic Park (1993)', 'Saving Private Ryan (1998)', 'Forrest Gump (1994)', 'Braveheart (1995)', 'Toy Story (1995)', \"Schindler's List (1993)\", 'Die Hard (1988)']\n",
            "User: 51879 - Recommended: ['Star Wars: Episode VI - Return of the Jedi (1983)', 'Fight Club (1999)', 'Star Wars: Episode V - The Empire Strikes Back (1980)', 'Raiders of the Lost Ark (Indiana Jones and the Raiders of the Lost Ark) (1981)', 'Matrix, The (1999)', 'Fargo (1996)', 'Star Wars: Episode IV - A New Hope (1977)', 'American Beauty (1999)', \"Schindler's List (1993)\", 'Sixth Sense, The (1999)']\n",
            "User: 7820 - Recommended: ['Lord of the Rings: The Return of the King, The (2003)', 'Terminator 2: Judgment Day (1991)', 'Fight Club (1999)', 'Saving Private Ryan (1998)', 'Forrest Gump (1994)', 'Braveheart (1995)', 'Terminator, The (1984)', 'Gladiator (2000)', \"Schindler's List (1993)\", 'Sixth Sense, The (1999)']\n",
            "User: 50995 - Recommended: ['Terminator 2: Judgment Day (1991)', 'Star Wars: Episode V - The Empire Strikes Back (1980)', 'Raiders of the Lost Ark (Indiana Jones and the Raiders of the Lost Ark) (1981)', 'Usual Suspects, The (1995)', 'Matrix, The (1999)', 'Star Wars: Episode IV - A New Hope (1977)', 'Forrest Gump (1994)', 'Braveheart (1995)', \"Schindler's List (1993)\", 'Pulp Fiction (1994)']\n",
            "User: 80101 - Recommended: ['Godfather, The (1972)', 'Star Wars: Episode V - The Empire Strikes Back (1980)', 'Raiders of the Lost Ark (Indiana Jones and the Raiders of the Lost Ark) (1981)', 'Matrix, The (1999)', 'Shawshank Redemption, The (1994)', \"One Flew Over the Cuckoo's Nest (1975)\", 'American Beauty (1999)', 'Forrest Gump (1994)', 'Pulp Fiction (1994)', 'Sixth Sense, The (1999)']\n",
            "User: 58498 - Recommended: ['Star Wars: Episode VI - Return of the Jedi (1983)', 'Star Wars: Episode V - The Empire Strikes Back (1980)', 'Raiders of the Lost Ark (Indiana Jones and the Raiders of the Lost Ark) (1981)', 'Silence of the Lambs, The (1991)', 'Shawshank Redemption, The (1994)', 'Star Wars: Episode IV - A New Hope (1977)', 'American Beauty (1999)', 'Jurassic Park (1993)', 'Saving Private Ryan (1998)', 'Indiana Jones and the Last Crusade (1989)']\n",
            "User: 118062 - Recommended: ['Star Wars: Episode V - The Empire Strikes Back (1980)', 'Raiders of the Lost Ark (Indiana Jones and the Raiders of the Lost Ark) (1981)', 'Silence of the Lambs, The (1991)', 'Shawshank Redemption, The (1994)', 'Fargo (1996)', 'Star Wars: Episode IV - A New Hope (1977)', 'American Beauty (1999)', 'Forrest Gump (1994)', \"Schindler's List (1993)\", 'Pulp Fiction (1994)']\n",
            "User: 103979 - Recommended: ['Star Wars: Episode V - The Empire Strikes Back (1980)', 'Raiders of the Lost Ark (Indiana Jones and the Raiders of the Lost Ark) (1981)', 'Matrix, The (1999)', 'Star Wars: Episode IV - A New Hope (1977)', 'American Beauty (1999)', 'Forrest Gump (1994)', 'Braveheart (1995)', 'Groundhog Day (1993)', \"Schindler's List (1993)\", 'Sixth Sense, The (1999)']\n",
            "User: 101211 - Recommended: ['Silence of the Lambs, The (1991)', 'Usual Suspects, The (1995)', 'Matrix, The (1999)', 'Shawshank Redemption, The (1994)', \"One Flew Over the Cuckoo's Nest (1975)\", 'Star Wars: Episode IV - A New Hope (1977)', 'Forrest Gump (1994)', 'Rain Man (1988)', 'Full Metal Jacket (1987)', 'Good Will Hunting (1997)']\n",
            "User: 3078 - Recommended: ['Star Wars: Episode VI - Return of the Jedi (1983)', 'Terminator 2: Judgment Day (1991)', 'Fight Club (1999)', 'Star Wars: Episode V - The Empire Strikes Back (1980)', 'Raiders of the Lost Ark (Indiana Jones and the Raiders of the Lost Ark) (1981)', 'Matrix, The (1999)', 'Shawshank Redemption, The (1994)', 'Star Wars: Episode IV - A New Hope (1977)', 'Braveheart (1995)', \"Schindler's List (1993)\"]\n",
            "User: 8076 - Recommended: ['Lord of the Rings: The Return of the King, The (2003)', 'Fight Club (1999)', 'Star Wars: Episode V - The Empire Strikes Back (1980)', 'Silence of the Lambs, The (1991)', 'Shawshank Redemption, The (1994)', 'American Beauty (1999)', 'Jurassic Park (1993)', 'Saving Private Ryan (1998)', 'Forrest Gump (1994)', 'Braveheart (1995)']\n",
            "User: 37838 - Recommended: ['Fight Club (1999)', 'Léon: The Professional (a.k.a. The Professional) (Léon) (1994)', 'Usual Suspects, The (1995)', 'Matrix, The (1999)', 'Shawshank Redemption, The (1994)', 'Jurassic Park (1993)', 'Saving Private Ryan (1998)', 'Princess Bride, The (1987)', 'Braveheart (1995)', 'Die Hard (1988)']\n",
            "User: 79432 - Recommended: ['Lord of the Rings: The Return of the King, The (2003)', 'Star Wars: Episode VI - Return of the Jedi (1983)', 'Pirates of the Caribbean: The Curse of the Black Pearl (2003)', 'Aliens (1986)', 'Saving Private Ryan (1998)', 'Forrest Gump (1994)', 'Braveheart (1995)', 'Toy Story (1995)', 'Terminator, The (1984)', \"Schindler's List (1993)\"]\n",
            "User: 10899 - Recommended: ['Star Wars: Episode V - The Empire Strikes Back (1980)', 'Raiders of the Lost Ark (Indiana Jones and the Raiders of the Lost Ark) (1981)', 'Silence of the Lambs, The (1991)', 'Matrix, The (1999)', 'Fargo (1996)', 'Star Wars: Episode IV - A New Hope (1977)', 'American Beauty (1999)', 'Forrest Gump (1994)', 'Groundhog Day (1993)', 'Pulp Fiction (1994)']\n",
            "User: 110710 - Recommended: ['Star Wars: Episode VI - Return of the Jedi (1983)', 'Terminator 2: Judgment Day (1991)', 'Fight Club (1999)', 'Star Wars: Episode V - The Empire Strikes Back (1980)', 'Shawshank Redemption, The (1994)', 'Jurassic Park (1993)', 'Forrest Gump (1994)', 'Groundhog Day (1993)', 'Pulp Fiction (1994)', 'Good Will Hunting (1997)']\n",
            "User: 131776 - Recommended: ['Silence of the Lambs, The (1991)', 'Shawshank Redemption, The (1994)', \"One Flew Over the Cuckoo's Nest (1975)\", 'Forrest Gump (1994)', 'Rain Man (1988)', 'Full Metal Jacket (1987)', \"Schindler's List (1993)\", 'Pulp Fiction (1994)', 'Sixth Sense, The (1999)', 'Good Will Hunting (1997)']\n",
            "User: 10416 - Recommended: ['Star Wars: Episode VI - Return of the Jedi (1983)', 'Fight Club (1999)', 'Star Wars: Episode V - The Empire Strikes Back (1980)', 'Raiders of the Lost Ark (Indiana Jones and the Raiders of the Lost Ark) (1981)', 'Silence of the Lambs, The (1991)', 'Matrix, The (1999)', 'Shawshank Redemption, The (1994)', 'Star Wars: Episode IV - A New Hope (1977)', 'Jurassic Park (1993)', \"Schindler's List (1993)\"]\n",
            "User: 128223 - Recommended: ['Silence of the Lambs, The (1991)', 'Matrix, The (1999)', 'Shawshank Redemption, The (1994)', \"One Flew Over the Cuckoo's Nest (1975)\", 'Star Wars: Episode IV - A New Hope (1977)', 'American Beauty (1999)', 'Forrest Gump (1994)', 'Pulp Fiction (1994)', 'Sixth Sense, The (1999)', 'Good Will Hunting (1997)']\n",
            "User: 82087 - Recommended: ['Lord of the Rings: The Return of the King, The (2003)', 'Fight Club (1999)', 'Star Wars: Episode V - The Empire Strikes Back (1980)', 'Raiders of the Lost Ark (Indiana Jones and the Raiders of the Lost Ark) (1981)', 'Matrix, The (1999)', 'Saving Private Ryan (1998)', 'Braveheart (1995)', 'Gladiator (2000)', 'Die Hard (1988)', 'Blade Runner (1982)']\n",
            "User: 100869 - Recommended: ['Silence of the Lambs, The (1991)', 'Matrix, The (1999)', 'Shawshank Redemption, The (1994)', 'Fargo (1996)', 'Star Wars: Episode IV - A New Hope (1977)', 'American Beauty (1999)', 'Groundhog Day (1993)', \"Schindler's List (1993)\", 'Pulp Fiction (1994)', 'Sixth Sense, The (1999)']\n",
            "User: 112828 - Recommended: ['Star Wars: Episode VI - Return of the Jedi (1983)', 'Terminator 2: Judgment Day (1991)', 'Fight Club (1999)', 'Star Wars: Episode V - The Empire Strikes Back (1980)', 'Raiders of the Lost Ark (Indiana Jones and the Raiders of the Lost Ark) (1981)', 'Silence of the Lambs, The (1991)', 'Matrix, The (1999)', 'Star Wars: Episode IV - A New Hope (1977)', 'Braveheart (1995)', 'Pulp Fiction (1994)']\n",
            "User: 54358 - Recommended: ['Star Wars: Episode VI - Return of the Jedi (1983)', 'Fight Club (1999)', 'Raiders of the Lost Ark (Indiana Jones and the Raiders of the Lost Ark) (1981)', 'Fargo (1996)', 'Star Wars: Episode IV - A New Hope (1977)', 'Saving Private Ryan (1998)', 'Braveheart (1995)', 'Indiana Jones and the Last Crusade (1989)', \"Schindler's List (1993)\", 'Pulp Fiction (1994)']\n",
            "User: 29749 - Recommended: ['Star Wars: Episode VI - Return of the Jedi (1983)', 'Fight Club (1999)', 'Star Wars: Episode V - The Empire Strikes Back (1980)', 'Raiders of the Lost Ark (Indiana Jones and the Raiders of the Lost Ark) (1981)', 'Silence of the Lambs, The (1991)', 'Matrix, The (1999)', 'American Beauty (1999)', 'Jurassic Park (1993)', \"Schindler's List (1993)\", 'Sixth Sense, The (1999)']\n",
            "User: 60780 - Recommended: ['Terminator 2: Judgment Day (1991)', 'Fight Club (1999)', 'Star Wars: Episode V - The Empire Strikes Back (1980)', 'Raiders of the Lost Ark (Indiana Jones and the Raiders of the Lost Ark) (1981)', 'Shawshank Redemption, The (1994)', 'Jurassic Park (1993)', 'Forrest Gump (1994)', 'Indiana Jones and the Last Crusade (1989)', \"Schindler's List (1993)\", 'Pulp Fiction (1994)']\n",
            "User: 5958 - Recommended: ['Star Wars: Episode VI - Return of the Jedi (1983)', 'Terminator 2: Judgment Day (1991)', 'Fight Club (1999)', 'Matrix, The (1999)', 'Star Wars: Episode IV - A New Hope (1977)', 'Jurassic Park (1993)', 'Saving Private Ryan (1998)', 'Forrest Gump (1994)', \"Schindler's List (1993)\", 'Pulp Fiction (1994)']\n",
            "User: 133489 - Recommended: ['Star Wars: Episode VI - Return of the Jedi (1983)', 'Terminator 2: Judgment Day (1991)', 'Star Wars: Episode V - The Empire Strikes Back (1980)', 'Raiders of the Lost Ark (Indiana Jones and the Raiders of the Lost Ark) (1981)', 'Matrix, The (1999)', 'Star Wars: Episode IV - A New Hope (1977)', 'Forrest Gump (1994)', 'Braveheart (1995)', 'Pulp Fiction (1994)', 'Sixth Sense, The (1999)']\n",
            "User: 132144 - Recommended: ['Lord of the Rings: The Return of the King, The (2003)', 'Star Wars: Episode VI - Return of the Jedi (1983)', 'Fight Club (1999)', 'Raiders of the Lost Ark (Indiana Jones and the Raiders of the Lost Ark) (1981)', 'Matrix, The (1999)', 'Shawshank Redemption, The (1994)', 'Saving Private Ryan (1998)', 'Braveheart (1995)', 'Indiana Jones and the Last Crusade (1989)', 'Pulp Fiction (1994)']\n",
            "User: 90099 - Recommended: ['Star Wars: Episode VI - Return of the Jedi (1983)', 'Terminator 2: Judgment Day (1991)', 'Silence of the Lambs, The (1991)', 'Matrix, The (1999)', 'Shawshank Redemption, The (1994)', 'Jurassic Park (1993)', 'Saving Private Ryan (1998)', 'Forrest Gump (1994)', 'Pulp Fiction (1994)', 'Good Will Hunting (1997)']\n",
            "User: 2120 - Recommended: ['Star Wars: Episode VI - Return of the Jedi (1983)', 'Star Wars: Episode V - The Empire Strikes Back (1980)', 'Raiders of the Lost Ark (Indiana Jones and the Raiders of the Lost Ark) (1981)', 'Silence of the Lambs, The (1991)', 'Shawshank Redemption, The (1994)', 'Star Wars: Episode IV - A New Hope (1977)', 'Jurassic Park (1993)', 'Saving Private Ryan (1998)', 'Braveheart (1995)', 'Pulp Fiction (1994)']\n",
            "User: 54449 - Recommended: ['Terminator 2: Judgment Day (1991)', 'Fight Club (1999)', 'Godfather, The (1972)', 'Raiders of the Lost Ark (Indiana Jones and the Raiders of the Lost Ark) (1981)', 'Silence of the Lambs, The (1991)', 'Matrix, The (1999)', 'Jurassic Park (1993)', 'Saving Private Ryan (1998)', 'Forrest Gump (1994)', 'Braveheart (1995)']\n",
            "User: 7835 - Recommended: ['Terminator 2: Judgment Day (1991)', 'Godfather, The (1972)', 'Star Wars: Episode V - The Empire Strikes Back (1980)', 'Raiders of the Lost Ark (Indiana Jones and the Raiders of the Lost Ark) (1981)', 'Silence of the Lambs, The (1991)', 'Matrix, The (1999)', 'Jurassic Park (1993)', 'Saving Private Ryan (1998)', 'Braveheart (1995)', 'Good Will Hunting (1997)']\n",
            "User: 74845 - Recommended: ['Terminator 2: Judgment Day (1991)', 'Fight Club (1999)', 'Star Wars: Episode V - The Empire Strikes Back (1980)', 'Raiders of the Lost Ark (Indiana Jones and the Raiders of the Lost Ark) (1981)', 'Matrix, The (1999)', 'Jurassic Park (1993)', 'Saving Private Ryan (1998)', 'Forrest Gump (1994)', 'Braveheart (1995)', 'Pulp Fiction (1994)']\n",
            "User: 129579 - Recommended: ['Star Wars: Episode VI - Return of the Jedi (1983)', 'Terminator 2: Judgment Day (1991)', 'Star Wars: Episode V - The Empire Strikes Back (1980)', 'Raiders of the Lost Ark (Indiana Jones and the Raiders of the Lost Ark) (1981)', 'Silence of the Lambs, The (1991)', 'Shawshank Redemption, The (1994)', 'Star Wars: Episode IV - A New Hope (1977)', 'Forrest Gump (1994)', 'Braveheart (1995)', \"Schindler's List (1993)\"]\n",
            "User: 133059 - Recommended: ['Star Wars: Episode VI - Return of the Jedi (1983)', 'Terminator 2: Judgment Day (1991)', 'Fight Club (1999)', 'Star Wars: Episode V - The Empire Strikes Back (1980)', 'Raiders of the Lost Ark (Indiana Jones and the Raiders of the Lost Ark) (1981)', 'Silence of the Lambs, The (1991)', 'Shawshank Redemption, The (1994)', 'Star Wars: Episode IV - A New Hope (1977)', 'Braveheart (1995)', 'Pulp Fiction (1994)']\n",
            "User: 47221 - Recommended: ['Terminator 2: Judgment Day (1991)', 'Fight Club (1999)', 'Jurassic Park (1993)', 'Saving Private Ryan (1998)', 'Princess Bride, The (1987)', 'Braveheart (1995)', 'Terminator, The (1984)', 'Gladiator (2000)', 'Pulp Fiction (1994)', 'Blade Runner (1982)']\n",
            "User: 96361 - Recommended: ['Star Wars: Episode VI - Return of the Jedi (1983)', 'Fight Club (1999)', 'Star Wars: Episode V - The Empire Strikes Back (1980)', 'Raiders of the Lost Ark (Indiana Jones and the Raiders of the Lost Ark) (1981)', 'Matrix, The (1999)', 'Shawshank Redemption, The (1994)', 'Star Wars: Episode IV - A New Hope (1977)', 'American Beauty (1999)', 'Saving Private Ryan (1998)', 'Forrest Gump (1994)']\n",
            "User: 58697 - Recommended: ['Terminator 2: Judgment Day (1991)', 'Fight Club (1999)', 'Silence of the Lambs, The (1991)', 'Shawshank Redemption, The (1994)', 'Star Wars: Episode IV - A New Hope (1977)', 'Saving Private Ryan (1998)', 'Princess Bride, The (1987)', 'Braveheart (1995)', 'Terminator, The (1984)', 'Die Hard (1988)']\n",
            "User: 79617 - Recommended: ['Silence of the Lambs, The (1991)', 'Usual Suspects, The (1995)', 'Matrix, The (1999)', 'Shawshank Redemption, The (1994)', 'Fargo (1996)', 'Star Wars: Episode IV - A New Hope (1977)', 'Forrest Gump (1994)', \"Schindler's List (1993)\", 'Pulp Fiction (1994)', 'Sixth Sense, The (1999)']\n",
            "User: 85419 - Recommended: ['Lord of the Rings: The Return of the King, The (2003)', 'Godfather, The (1972)', 'Star Wars: Episode V - The Empire Strikes Back (1980)', 'Raiders of the Lost Ark (Indiana Jones and the Raiders of the Lost Ark) (1981)', 'Matrix, The (1999)', 'Fargo (1996)', 'Princess Bride, The (1987)', 'Groundhog Day (1993)', \"Schindler's List (1993)\", 'Pulp Fiction (1994)']\n",
            "User: 41327 - Recommended: ['Silence of the Lambs, The (1991)', 'Shawshank Redemption, The (1994)', \"One Flew Over the Cuckoo's Nest (1975)\", 'American Beauty (1999)', 'Forrest Gump (1994)', 'Full Metal Jacket (1987)', \"Schindler's List (1993)\", 'Pulp Fiction (1994)', 'Sixth Sense, The (1999)', 'Good Will Hunting (1997)']\n",
            "User: 57673 - Recommended: ['Terminator 2: Judgment Day (1991)', 'Fight Club (1999)', 'Star Wars: Episode V - The Empire Strikes Back (1980)', 'Matrix, The (1999)', 'Shawshank Redemption, The (1994)', 'Fargo (1996)', 'American Beauty (1999)', 'Forrest Gump (1994)', 'Braveheart (1995)', 'Pulp Fiction (1994)']\n",
            "User: 79477 - Recommended: ['Lord of the Rings: The Return of the King, The (2003)', 'Star Wars: Episode VI - Return of the Jedi (1983)', 'Fight Club (1999)', 'Pirates of the Caribbean: The Curse of the Black Pearl (2003)', 'Léon: The Professional (a.k.a. The Professional) (Léon) (1994)', 'Silence of the Lambs, The (1991)', 'Matrix, The (1999)', 'Shawshank Redemption, The (1994)', 'Jurassic Park (1993)', 'Gladiator (2000)']\n",
            "User: 17948 - Recommended: ['Fargo (1996)', 'Clerks (1994)', 'American Beauty (1999)', 'Forrest Gump (1994)', 'Truman Show, The (1998)', 'Trainspotting (1996)', 'Pulp Fiction (1994)', \"Monty Python's Life of Brian (1979)\", 'Being John Malkovich (1999)', 'Dr. Strangelove or: How I Learned to Stop Worrying and Love the Bomb (1964)']\n",
            "User: 88047 - Recommended: ['Star Wars: Episode VI - Return of the Jedi (1983)', 'Fight Club (1999)', 'Star Wars: Episode V - The Empire Strikes Back (1980)', 'Raiders of the Lost Ark (Indiana Jones and the Raiders of the Lost Ark) (1981)', 'Matrix, The (1999)', 'Star Wars: Episode IV - A New Hope (1977)', 'American Beauty (1999)', 'Braveheart (1995)', 'Pulp Fiction (1994)', 'Sixth Sense, The (1999)']\n",
            "User: 94551 - Recommended: ['Star Wars: Episode VI - Return of the Jedi (1983)', 'Terminator 2: Judgment Day (1991)', 'Raiders of the Lost Ark (Indiana Jones and the Raiders of the Lost Ark) (1981)', 'Jurassic Park (1993)', 'Saving Private Ryan (1998)', 'Princess Bride, The (1987)', 'Braveheart (1995)', 'Indiana Jones and the Last Crusade (1989)', 'Gladiator (2000)', 'Die Hard (1988)']\n",
            "User: 36320 - Recommended: ['Terminator 2: Judgment Day (1991)', 'Star Wars: Episode V - The Empire Strikes Back (1980)', 'Raiders of the Lost Ark (Indiana Jones and the Raiders of the Lost Ark) (1981)', 'Fargo (1996)', 'Star Wars: Episode IV - A New Hope (1977)', 'Forrest Gump (1994)', 'Braveheart (1995)', \"Schindler's List (1993)\", 'Pulp Fiction (1994)', 'Sixth Sense, The (1999)']\n",
            "User: 69439 - Recommended: ['Lord of the Rings: The Return of the King, The (2003)', 'Terminator 2: Judgment Day (1991)', 'Fight Club (1999)', 'Usual Suspects, The (1995)', 'Shawshank Redemption, The (1994)', 'American Beauty (1999)', \"Schindler's List (1993)\", 'Pulp Fiction (1994)', \"Amelie (Fabuleux destin d'Amélie Poulain, Le) (2001)\", 'Being John Malkovich (1999)']\n",
            "User: 91536 - Recommended: ['Star Wars: Episode VI - Return of the Jedi (1983)', 'Terminator 2: Judgment Day (1991)', 'Star Wars: Episode V - The Empire Strikes Back (1980)', 'Raiders of the Lost Ark (Indiana Jones and the Raiders of the Lost Ark) (1981)', 'Matrix, The (1999)', 'Star Wars: Episode IV - A New Hope (1977)', 'American Beauty (1999)', 'Jurassic Park (1993)', \"Schindler's List (1993)\", 'Sixth Sense, The (1999)']\n",
            "User: 120772 - Recommended: ['Star Wars: Episode VI - Return of the Jedi (1983)', 'Terminator 2: Judgment Day (1991)', 'Fight Club (1999)', 'Matrix, The (1999)', 'Star Wars: Episode IV - A New Hope (1977)', 'Jurassic Park (1993)', 'Saving Private Ryan (1998)', 'Forrest Gump (1994)', 'Braveheart (1995)', 'Pulp Fiction (1994)']\n",
            "User: 118145 - Recommended: ['Star Wars: Episode VI - Return of the Jedi (1983)', 'Fight Club (1999)', 'Léon: The Professional (a.k.a. The Professional) (Léon) (1994)', 'Matrix, The (1999)', 'American Beauty (1999)', 'Braveheart (1995)', 'Fifth Element, The (1997)', 'Gladiator (2000)', \"Schindler's List (1993)\", 'Die Hard (1988)']\n",
            "User: 37772 - Recommended: ['Terminator 2: Judgment Day (1991)', 'Fight Club (1999)', 'Star Wars: Episode V - The Empire Strikes Back (1980)', 'Raiders of the Lost Ark (Indiana Jones and the Raiders of the Lost Ark) (1981)', 'Matrix, The (1999)', 'Shawshank Redemption, The (1994)', 'Fargo (1996)', 'American Beauty (1999)', \"Schindler's List (1993)\", 'Pulp Fiction (1994)']\n",
            "User: 79763 - Recommended: ['Star Wars: Episode VI - Return of the Jedi (1983)', 'Fight Club (1999)', 'Star Wars: Episode V - The Empire Strikes Back (1980)', 'Raiders of the Lost Ark (Indiana Jones and the Raiders of the Lost Ark) (1981)', 'Matrix, The (1999)', 'Star Wars: Episode IV - A New Hope (1977)', 'American Beauty (1999)', 'Jurassic Park (1993)', 'Pulp Fiction (1994)', 'Sixth Sense, The (1999)']\n",
            "User: 29006 - Recommended: ['Terminator 2: Judgment Day (1991)', 'Star Wars: Episode V - The Empire Strikes Back (1980)', 'Raiders of the Lost Ark (Indiana Jones and the Raiders of the Lost Ark) (1981)', 'Matrix, The (1999)', 'Star Wars: Episode IV - A New Hope (1977)', 'Forrest Gump (1994)', 'Braveheart (1995)', 'Groundhog Day (1993)', 'Sixth Sense, The (1999)', 'Dr. Strangelove or: How I Learned to Stop Worrying and Love the Bomb (1964)']\n",
            "User: 51154 - Recommended: ['Star Wars: Episode VI - Return of the Jedi (1983)', 'Godfather, The (1972)', 'Star Wars: Episode V - The Empire Strikes Back (1980)', 'Matrix, The (1999)', 'Star Wars: Episode IV - A New Hope (1977)', 'Jurassic Park (1993)', 'Princess Bride, The (1987)', 'Indiana Jones and the Last Crusade (1989)', 'Terminator, The (1984)', 'Die Hard (1988)']\n",
            "User: 123019 - Recommended: ['Star Wars: Episode VI - Return of the Jedi (1983)', 'Fight Club (1999)', 'Star Wars: Episode V - The Empire Strikes Back (1980)', 'Léon: The Professional (a.k.a. The Professional) (Léon) (1994)', 'Usual Suspects, The (1995)', \"One Flew Over the Cuckoo's Nest (1975)\", 'Saving Private Ryan (1998)', 'Princess Bride, The (1987)', 'Braveheart (1995)', 'Pulp Fiction (1994)']\n",
            "User: 15571 - Recommended: ['Terminator 2: Judgment Day (1991)', 'Godfather, The (1972)', 'Silence of the Lambs, The (1991)', 'Matrix, The (1999)', 'Shawshank Redemption, The (1994)', 'Fargo (1996)', 'Forrest Gump (1994)', 'Braveheart (1995)', 'Full Metal Jacket (1987)', 'Sixth Sense, The (1999)']\n",
            "User: 47447 - Recommended: ['Lord of the Rings: The Return of the King, The (2003)', 'Star Wars: Episode VI - Return of the Jedi (1983)', 'Terminator 2: Judgment Day (1991)', 'Fight Club (1999)', 'Star Wars: Episode V - The Empire Strikes Back (1980)', 'Shawshank Redemption, The (1994)', 'Star Wars: Episode IV - A New Hope (1977)', 'Princess Bride, The (1987)', 'Braveheart (1995)', 'Die Hard (1988)']\n",
            "User: 105614 - Recommended: ['Lord of the Rings: The Return of the King, The (2003)', 'Fight Club (1999)', 'Shawshank Redemption, The (1994)', 'Princess Bride, The (1987)', 'Indiana Jones and the Last Crusade (1989)', 'Terminator, The (1984)', 'Gladiator (2000)', \"Schindler's List (1993)\", 'Die Hard (1988)', 'Blade Runner (1982)']\n",
            "User: 112333 - Recommended: ['Star Wars: Episode VI - Return of the Jedi (1983)', 'Terminator 2: Judgment Day (1991)', 'Fight Club (1999)', 'Star Wars: Episode V - The Empire Strikes Back (1980)', 'Raiders of the Lost Ark (Indiana Jones and the Raiders of the Lost Ark) (1981)', 'Matrix, The (1999)', 'Star Wars: Episode IV - A New Hope (1977)', 'Jurassic Park (1993)', 'Saving Private Ryan (1998)', 'Braveheart (1995)']\n",
            "User: 135950 - Recommended: ['Lord of the Rings: The Return of the King, The (2003)', 'Star Wars: Episode V - The Empire Strikes Back (1980)', 'Raiders of the Lost Ark (Indiana Jones and the Raiders of the Lost Ark) (1981)', 'Shawshank Redemption, The (1994)', 'American Beauty (1999)', 'Forrest Gump (1994)', 'Terminator, The (1984)', 'Gladiator (2000)', 'Pulp Fiction (1994)', 'Blade Runner (1982)']\n",
            "User: 116598 - Recommended: ['Star Wars: Episode V - The Empire Strikes Back (1980)', 'Raiders of the Lost Ark (Indiana Jones and the Raiders of the Lost Ark) (1981)', 'Silence of the Lambs, The (1991)', 'Matrix, The (1999)', 'Fargo (1996)', 'Star Wars: Episode IV - A New Hope (1977)', 'Forrest Gump (1994)', 'Braveheart (1995)', \"Schindler's List (1993)\", 'Pulp Fiction (1994)']\n",
            "User: 25268 - Recommended: ['Star Wars: Episode V - The Empire Strikes Back (1980)', 'Raiders of the Lost Ark (Indiana Jones and the Raiders of the Lost Ark) (1981)', 'Silence of the Lambs, The (1991)', 'Matrix, The (1999)', 'Fargo (1996)', 'Forrest Gump (1994)', 'Braveheart (1995)', \"Schindler's List (1993)\", 'Pulp Fiction (1994)', 'Dr. Strangelove or: How I Learned to Stop Worrying and Love the Bomb (1964)']\n",
            "User: 62353 - Recommended: ['Star Wars: Episode V - The Empire Strikes Back (1980)', 'Raiders of the Lost Ark (Indiana Jones and the Raiders of the Lost Ark) (1981)', 'Silence of the Lambs, The (1991)', 'Matrix, The (1999)', 'Shawshank Redemption, The (1994)', 'Star Wars: Episode IV - A New Hope (1977)', 'Saving Private Ryan (1998)', 'Forrest Gump (1994)', 'Braveheart (1995)', 'Pulp Fiction (1994)']\n",
            "User: 128258 - Recommended: ['Star Wars: Episode VI - Return of the Jedi (1983)', 'Star Wars: Episode V - The Empire Strikes Back (1980)', 'Raiders of the Lost Ark (Indiana Jones and the Raiders of the Lost Ark) (1981)', 'Silence of the Lambs, The (1991)', 'Fargo (1996)', 'Braveheart (1995)', 'Full Metal Jacket (1987)', 'Groundhog Day (1993)', 'Pulp Fiction (1994)', 'Dr. Strangelove or: How I Learned to Stop Worrying and Love the Bomb (1964)']\n",
            "User: 137352 - Recommended: ['Lord of the Rings: The Return of the King, The (2003)', 'Terminator 2: Judgment Day (1991)', 'Aliens (1986)', 'Hunt for Red October, The (1990)', 'Léon: The Professional (a.k.a. The Professional) (Léon) (1994)', 'Raiders of the Lost Ark (Indiana Jones and the Raiders of the Lost Ark) (1981)', 'Usual Suspects, The (1995)', 'Fargo (1996)', 'Jurassic Park (1993)', 'Blade Runner (1982)']\n",
            "User: 128110 - Recommended: ['Silence of the Lambs, The (1991)', 'Shawshank Redemption, The (1994)', 'Fargo (1996)', 'Forrest Gump (1994)', 'Truman Show, The (1998)', 'Groundhog Day (1993)', \"Ferris Bueller's Day Off (1986)\", 'Pulp Fiction (1994)', \"Amelie (Fabuleux destin d'Amélie Poulain, Le) (2001)\", 'Dr. Strangelove or: How I Learned to Stop Worrying and Love the Bomb (1964)']\n",
            "User: 87856 - Recommended: ['Terminator 2: Judgment Day (1991)', 'Silence of the Lambs, The (1991)', 'Fargo (1996)', 'American Beauty (1999)', 'Saving Private Ryan (1998)', 'Princess Bride, The (1987)', 'Braveheart (1995)', 'Groundhog Day (1993)', \"Schindler's List (1993)\", 'Blade Runner (1982)']\n",
            "User: 40494 - Recommended: ['Terminator 2: Judgment Day (1991)', 'Fight Club (1999)', 'Godfather, The (1972)', 'Raiders of the Lost Ark (Indiana Jones and the Raiders of the Lost Ark) (1981)', \"One Flew Over the Cuckoo's Nest (1975)\", 'Fargo (1996)', 'American Beauty (1999)', 'Jurassic Park (1993)', 'Forrest Gump (1994)', 'Braveheart (1995)']\n",
            "User: 36038 - Recommended: ['Lord of the Rings: The Return of the King, The (2003)', 'Star Wars: Episode VI - Return of the Jedi (1983)', 'Star Wars: Episode V - The Empire Strikes Back (1980)', 'Silence of the Lambs, The (1991)', 'Usual Suspects, The (1995)', 'Shawshank Redemption, The (1994)', 'Star Wars: Episode IV - A New Hope (1977)', 'Princess Bride, The (1987)', 'Pulp Fiction (1994)', 'Blade Runner (1982)']\n",
            "User: 36561 - Recommended: ['Fight Club (1999)', 'Star Wars: Episode V - The Empire Strikes Back (1980)', 'American Beauty (1999)', 'Jurassic Park (1993)', 'Forrest Gump (1994)', 'Princess Bride, The (1987)', 'Braveheart (1995)', 'Gladiator (2000)', 'Pulp Fiction (1994)', 'Blade Runner (1982)']\n",
            "User: 70114 - Recommended: ['Usual Suspects, The (1995)', \"One Flew Over the Cuckoo's Nest (1975)\", 'Fargo (1996)', 'American Beauty (1999)', 'Rain Man (1988)', 'Full Metal Jacket (1987)', 'Groundhog Day (1993)', 'Pulp Fiction (1994)', 'Sixth Sense, The (1999)', 'Good Will Hunting (1997)']\n",
            "User: 34807 - Recommended: ['Lord of the Rings: The Return of the King, The (2003)', 'Star Wars: Episode VI - Return of the Jedi (1983)', 'Fight Club (1999)', 'Star Wars: Episode V - The Empire Strikes Back (1980)', 'Léon: The Professional (a.k.a. The Professional) (Léon) (1994)', 'Star Wars: Episode IV - A New Hope (1977)', 'Indiana Jones and the Last Crusade (1989)', 'Pulp Fiction (1994)', 'Sixth Sense, The (1999)', 'Dr. Strangelove or: How I Learned to Stop Worrying and Love the Bomb (1964)']\n",
            "User: 135724 - Recommended: ['Star Wars: Episode VI - Return of the Jedi (1983)', 'Terminator 2: Judgment Day (1991)', 'Fight Club (1999)', 'Star Wars: Episode V - The Empire Strikes Back (1980)', 'Raiders of the Lost Ark (Indiana Jones and the Raiders of the Lost Ark) (1981)', 'Matrix, The (1999)', 'Shawshank Redemption, The (1994)', 'Star Wars: Episode IV - A New Hope (1977)', 'Forrest Gump (1994)', 'Braveheart (1995)']\n",
            "User: 74000 - Recommended: ['Usual Suspects, The (1995)', 'Matrix, The (1999)', 'Star Wars: Episode IV - A New Hope (1977)', 'Forrest Gump (1994)', 'Rain Man (1988)', 'Full Metal Jacket (1987)', \"Schindler's List (1993)\", 'Pulp Fiction (1994)', 'Sixth Sense, The (1999)', 'Good Will Hunting (1997)']\n",
            "User: 35626 - Recommended: ['Terminator 2: Judgment Day (1991)', 'Star Wars: Episode V - The Empire Strikes Back (1980)', 'Raiders of the Lost Ark (Indiana Jones and the Raiders of the Lost Ark) (1981)', 'Silence of the Lambs, The (1991)', 'Matrix, The (1999)', \"One Flew Over the Cuckoo's Nest (1975)\", 'Fargo (1996)', 'Star Wars: Episode IV - A New Hope (1977)', 'American Beauty (1999)', 'Forrest Gump (1994)']\n",
            "User: 89388 - Recommended: ['Godfather, The (1972)', 'Star Wars: Episode V - The Empire Strikes Back (1980)', 'Raiders of the Lost Ark (Indiana Jones and the Raiders of the Lost Ark) (1981)', 'Usual Suspects, The (1995)', 'Matrix, The (1999)', 'Shawshank Redemption, The (1994)', 'Star Wars: Episode IV - A New Hope (1977)', 'American Beauty (1999)', 'Forrest Gump (1994)', 'Sixth Sense, The (1999)']\n",
            "User: 69560 - Recommended: ['Lord of the Rings: The Return of the King, The (2003)', 'Fight Club (1999)', 'Pirates of the Caribbean: The Curse of the Black Pearl (2003)', 'Star Wars: Episode V - The Empire Strikes Back (1980)', 'Shawshank Redemption, The (1994)', 'Apocalypse Now (1979)', 'Crouching Tiger, Hidden Dragon (Wo hu cang long) (2000)', 'Gladiator (2000)', 'Pulp Fiction (1994)', 'Blade Runner (1982)']\n",
            "User: 63658 - Recommended: ['Star Wars: Episode VI - Return of the Jedi (1983)', 'Terminator 2: Judgment Day (1991)', 'Fight Club (1999)', 'Star Wars: Episode V - The Empire Strikes Back (1980)', 'Silence of the Lambs, The (1991)', \"One Flew Over the Cuckoo's Nest (1975)\", 'Forrest Gump (1994)', 'Braveheart (1995)', 'Groundhog Day (1993)', 'Sixth Sense, The (1999)']\n",
            "User: 130870 - Recommended: ['Lord of the Rings: The Return of the King, The (2003)', 'Star Wars: Episode VI - Return of the Jedi (1983)', 'Fight Club (1999)', 'Pirates of the Caribbean: The Curse of the Black Pearl (2003)', 'Léon: The Professional (a.k.a. The Professional) (Léon) (1994)', 'Shawshank Redemption, The (1994)', 'Star Wars: Episode IV - A New Hope (1977)', 'Jurassic Park (1993)', 'Gladiator (2000)', 'Pulp Fiction (1994)']\n",
            "User: 5773 - Recommended: ['Godfather, The (1972)', 'Raiders of the Lost Ark (Indiana Jones and the Raiders of the Lost Ark) (1981)', 'Matrix, The (1999)', 'Jurassic Park (1993)', 'Saving Private Ryan (1998)', 'Forrest Gump (1994)', 'Braveheart (1995)', 'Indiana Jones and the Last Crusade (1989)', 'Sixth Sense, The (1999)', 'Lord of the Rings: The Two Towers, The (2002)']\n",
            "User: 42836 - Recommended: ['Terminator 2: Judgment Day (1991)', 'Usual Suspects, The (1995)', 'Matrix, The (1999)', 'Fargo (1996)', 'Star Wars: Episode IV - A New Hope (1977)', 'Jurassic Park (1993)', \"Schindler's List (1993)\", 'Pulp Fiction (1994)', \"Amelie (Fabuleux destin d'Amélie Poulain, Le) (2001)\", 'Dr. Strangelove or: How I Learned to Stop Worrying and Love the Bomb (1964)']\n",
            "User: 97398 - Recommended: ['Lord of the Rings: The Return of the King, The (2003)', 'Terminator 2: Judgment Day (1991)', 'Raiders of the Lost Ark (Indiana Jones and the Raiders of the Lost Ark) (1981)', \"One Flew Over the Cuckoo's Nest (1975)\", 'Jurassic Park (1993)', 'Forrest Gump (1994)', 'Braveheart (1995)', 'Indiana Jones and the Last Crusade (1989)', 'Toy Story (1995)', 'Sixth Sense, The (1999)']\n",
            "User: 64940 - Recommended: ['Lord of the Rings: The Return of the King, The (2003)', 'Back to the Future (1985)', 'Shakespeare in Love (1998)', 'Jurassic Park (1993)', 'Saving Private Ryan (1998)', 'Forrest Gump (1994)', 'Truman Show, The (1998)', 'Gladiator (2000)', 'Die Hard (1988)', \"Amelie (Fabuleux destin d'Amélie Poulain, Le) (2001)\"]\n",
            "User: 70509 - Recommended: ['Matrix, The (1999)', 'Shawshank Redemption, The (1994)', 'Fargo (1996)', 'Star Wars: Episode IV - A New Hope (1977)', 'Forrest Gump (1994)', 'Full Metal Jacket (1987)', 'Truman Show, The (1998)', 'Groundhog Day (1993)', 'Pulp Fiction (1994)', 'Sixth Sense, The (1999)']\n",
            "User: 15627 - Recommended: ['Star Wars: Episode VI - Return of the Jedi (1983)', 'Fight Club (1999)', 'Star Wars: Episode V - The Empire Strikes Back (1980)', 'Raiders of the Lost Ark (Indiana Jones and the Raiders of the Lost Ark) (1981)', 'Matrix, The (1999)', 'Star Wars: Episode IV - A New Hope (1977)', 'American Beauty (1999)', 'Saving Private Ryan (1998)', 'Forrest Gump (1994)', \"Schindler's List (1993)\"]\n",
            "User: 119982 - Recommended: ['Lord of the Rings: The Return of the King, The (2003)', 'Fight Club (1999)', \"One Flew Over the Cuckoo's Nest (1975)\", 'American Beauty (1999)', 'Jurassic Park (1993)', 'Saving Private Ryan (1998)', 'Gladiator (2000)', 'Die Hard (1988)', 'Lord of the Rings: The Two Towers, The (2002)', 'Blade Runner (1982)']\n",
            "User: 26464 - Recommended: ['Silence of the Lambs, The (1991)', 'Matrix, The (1999)', 'Shawshank Redemption, The (1994)', \"One Flew Over the Cuckoo's Nest (1975)\", 'Star Wars: Episode IV - A New Hope (1977)', 'Forrest Gump (1994)', \"Schindler's List (1993)\", 'Pulp Fiction (1994)', 'Sixth Sense, The (1999)', 'Good Will Hunting (1997)']\n",
            "User: 103247 - Recommended: ['Star Wars: Episode VI - Return of the Jedi (1983)', 'Terminator 2: Judgment Day (1991)', 'Fight Club (1999)', 'Star Wars: Episode V - The Empire Strikes Back (1980)', 'Raiders of the Lost Ark (Indiana Jones and the Raiders of the Lost Ark) (1981)', 'Silence of the Lambs, The (1991)', 'Matrix, The (1999)', 'Star Wars: Episode IV - A New Hope (1977)', 'Braveheart (1995)', 'Pulp Fiction (1994)']\n",
            "User: 135322 - Recommended: ['Silence of the Lambs, The (1991)', 'Matrix, The (1999)', 'Shawshank Redemption, The (1994)', 'Star Wars: Episode IV - A New Hope (1977)', 'American Beauty (1999)', 'Forrest Gump (1994)', 'Toy Story (1995)', \"Schindler's List (1993)\", 'Pulp Fiction (1994)', 'Lord of the Rings: The Two Towers, The (2002)']\n",
            "User: 4941 - Recommended: ['Shakespeare in Love (1998)', 'Clerks (1994)', 'Forrest Gump (1994)', 'Truman Show, The (1998)', \"Ferris Bueller's Day Off (1986)\", 'Trainspotting (1996)', \"Amelie (Fabuleux destin d'Amélie Poulain, Le) (2001)\", \"Monty Python's Life of Brian (1979)\", 'Being John Malkovich (1999)', 'Dr. Strangelove or: How I Learned to Stop Worrying and Love the Bomb (1964)']\n",
            "User: 16265 - Recommended: ['Star Wars: Episode VI - Return of the Jedi (1983)', 'Fight Club (1999)', 'Godfather, The (1972)', 'Matrix, The (1999)', 'Shawshank Redemption, The (1994)', 'American Beauty (1999)', 'Saving Private Ryan (1998)', 'Forrest Gump (1994)', 'Indiana Jones and the Last Crusade (1989)', 'Sixth Sense, The (1999)']\n",
            "User: 63072 - Recommended: ['Fight Club (1999)', 'Aliens (1986)', 'Hunt for Red October, The (1990)', 'Star Wars: Episode IV - A New Hope (1977)', 'American Beauty (1999)', 'Princess Bride, The (1987)', 'Braveheart (1995)', \"Schindler's List (1993)\", 'Men in Black (a.k.a. MIB) (1997)', 'Blade Runner (1982)']\n",
            "User: 132260 - Recommended: ['Lord of the Rings: The Return of the King, The (2003)', 'Terminator 2: Judgment Day (1991)', 'Star Wars: Episode V - The Empire Strikes Back (1980)', 'Star Wars: Episode IV - A New Hope (1977)', 'Jurassic Park (1993)', 'Forrest Gump (1994)', 'Princess Bride, The (1987)', 'Braveheart (1995)', 'Indiana Jones and the Last Crusade (1989)', \"Schindler's List (1993)\"]\n",
            "User: 63365 - Recommended: ['Star Wars: Episode VI - Return of the Jedi (1983)', 'Godfather, The (1972)', 'Star Wars: Episode V - The Empire Strikes Back (1980)', 'Aliens (1986)', 'Raiders of the Lost Ark (Indiana Jones and the Raiders of the Lost Ark) (1981)', 'American Beauty (1999)', 'Indiana Jones and the Last Crusade (1989)', 'Toy Story (1995)', 'Terminator, The (1984)', 'Sixth Sense, The (1999)']\n",
            "User: 31201 - Recommended: ['Lord of the Rings: The Return of the King, The (2003)', 'Star Wars: Episode VI - Return of the Jedi (1983)', 'Terminator 2: Judgment Day (1991)', 'Fight Club (1999)', 'Star Wars: Episode V - The Empire Strikes Back (1980)', 'Raiders of the Lost Ark (Indiana Jones and the Raiders of the Lost Ark) (1981)', 'Matrix, The (1999)', 'Star Wars: Episode IV - A New Hope (1977)', 'Saving Private Ryan (1998)', 'Indiana Jones and the Last Crusade (1989)']\n",
            "User: 100233 - Recommended: ['Terminator 2: Judgment Day (1991)', 'Star Wars: Episode V - The Empire Strikes Back (1980)', 'Raiders of the Lost Ark (Indiana Jones and the Raiders of the Lost Ark) (1981)', 'Matrix, The (1999)', \"One Flew Over the Cuckoo's Nest (1975)\", 'Star Wars: Episode IV - A New Hope (1977)', 'American Beauty (1999)', 'Forrest Gump (1994)', 'Pulp Fiction (1994)', 'Sixth Sense, The (1999)']\n",
            "User: 35291 - Recommended: ['Fight Club (1999)', 'Star Wars: Episode V - The Empire Strikes Back (1980)', 'Raiders of the Lost Ark (Indiana Jones and the Raiders of the Lost Ark) (1981)', 'Silence of the Lambs, The (1991)', 'Shawshank Redemption, The (1994)', 'Fargo (1996)', 'Saving Private Ryan (1998)', 'Braveheart (1995)', 'Indiana Jones and the Last Crusade (1989)', 'Pulp Fiction (1994)']\n",
            "User: 40261 - Recommended: ['Lord of the Rings: The Return of the King, The (2003)', 'Hunt for Red October, The (1990)', 'Matrix, The (1999)', 'Shawshank Redemption, The (1994)', 'American Beauty (1999)', 'Saving Private Ryan (1998)', 'Forrest Gump (1994)', 'Princess Bride, The (1987)', 'Braveheart (1995)', \"Schindler's List (1993)\"]\n",
            "User: 21454 - Recommended: ['Lord of the Rings: The Fellowship of the Ring, The (2001)', 'Silence of the Lambs, The (1991)', 'Matrix, The (1999)', 'Shawshank Redemption, The (1994)', 'Apollo 13 (1995)', 'Star Wars: Episode IV - A New Hope (1977)', 'Forrest Gump (1994)', \"Schindler's List (1993)\", 'Pulp Fiction (1994)', 'Lord of the Rings: The Two Towers, The (2002)']\n",
            "User: 71214 - Recommended: ['Star Wars: Episode VI - Return of the Jedi (1983)', 'Fight Club (1999)', 'Star Wars: Episode V - The Empire Strikes Back (1980)', 'Raiders of the Lost Ark (Indiana Jones and the Raiders of the Lost Ark) (1981)', 'Silence of the Lambs, The (1991)', 'Matrix, The (1999)', 'Star Wars: Episode IV - A New Hope (1977)', 'Saving Private Ryan (1998)', 'Forrest Gump (1994)', \"Schindler's List (1993)\"]\n",
            "User: 94880 - Recommended: ['Terminator 2: Judgment Day (1991)', 'Fight Club (1999)', 'Star Wars: Episode V - The Empire Strikes Back (1980)', 'Silence of the Lambs, The (1991)', 'Matrix, The (1999)', 'Fargo (1996)', 'American Beauty (1999)', 'Forrest Gump (1994)', 'Braveheart (1995)', 'Pulp Fiction (1994)']\n",
            "User: 22205 - Recommended: ['Aliens (1986)', 'Raiders of the Lost Ark (Indiana Jones and the Raiders of the Lost Ark) (1981)', 'Matrix, The (1999)', \"One Flew Over the Cuckoo's Nest (1975)\", 'Fargo (1996)', 'Jurassic Park (1993)', 'Princess Bride, The (1987)', 'Indiana Jones and the Last Crusade (1989)', 'Die Hard (1988)', 'Sixth Sense, The (1999)']\n",
            "User: 13757 - Recommended: ['Star Wars: Episode VI - Return of the Jedi (1983)', 'Terminator 2: Judgment Day (1991)', 'Godfather, The (1972)', 'Star Wars: Episode V - The Empire Strikes Back (1980)', 'Raiders of the Lost Ark (Indiana Jones and the Raiders of the Lost Ark) (1981)', \"One Flew Over the Cuckoo's Nest (1975)\", 'Fargo (1996)', 'Star Wars: Episode IV - A New Hope (1977)', 'Jurassic Park (1993)', 'Pulp Fiction (1994)']\n",
            "User: 2505 - Recommended: ['Star Wars: Episode V - The Empire Strikes Back (1980)', 'Raiders of the Lost Ark (Indiana Jones and the Raiders of the Lost Ark) (1981)', 'Usual Suspects, The (1995)', 'Matrix, The (1999)', 'Fargo (1996)', 'Star Wars: Episode IV - A New Hope (1977)', 'American Beauty (1999)', 'Forrest Gump (1994)', \"Schindler's List (1993)\", 'Pulp Fiction (1994)']\n",
            "User: 20592 - Recommended: ['Godfather, The (1972)', 'Star Wars: Episode V - The Empire Strikes Back (1980)', 'Silence of the Lambs, The (1991)', 'Usual Suspects, The (1995)', 'Matrix, The (1999)', 'Shawshank Redemption, The (1994)', 'Star Wars: Episode IV - A New Hope (1977)', 'Forrest Gump (1994)', \"Schindler's List (1993)\", 'Pulp Fiction (1994)']\n",
            "User: 121459 - Recommended: ['Star Wars: Episode VI - Return of the Jedi (1983)', 'Star Wars: Episode V - The Empire Strikes Back (1980)', 'Raiders of the Lost Ark (Indiana Jones and the Raiders of the Lost Ark) (1981)', 'Silence of the Lambs, The (1991)', 'Matrix, The (1999)', 'Star Wars: Episode IV - A New Hope (1977)', 'American Beauty (1999)', 'Braveheart (1995)', \"Schindler's List (1993)\", 'Sixth Sense, The (1999)']\n",
            "User: 91826 - Recommended: ['Lord of the Rings: The Return of the King, The (2003)', 'Star Wars: Episode VI - Return of the Jedi (1983)', 'Terminator 2: Judgment Day (1991)', 'Star Wars: Episode V - The Empire Strikes Back (1980)', 'Raiders of the Lost Ark (Indiana Jones and the Raiders of the Lost Ark) (1981)', 'Star Wars: Episode IV - A New Hope (1977)', 'Saving Private Ryan (1998)', 'Braveheart (1995)', 'Indiana Jones and the Last Crusade (1989)', \"Schindler's List (1993)\"]\n",
            "User: 24238 - Recommended: ['Terminator 2: Judgment Day (1991)', 'Star Wars: Episode V - The Empire Strikes Back (1980)', 'Raiders of the Lost Ark (Indiana Jones and the Raiders of the Lost Ark) (1981)', 'Usual Suspects, The (1995)', 'Shawshank Redemption, The (1994)', 'Saving Private Ryan (1998)', 'Princess Bride, The (1987)', 'Indiana Jones and the Last Crusade (1989)', 'Terminator, The (1984)', 'Blade Runner (1982)']\n",
            "User: 28044 - Recommended: ['Lord of the Rings: The Return of the King, The (2003)', 'Star Wars: Episode VI - Return of the Jedi (1983)', 'Star Wars: Episode V - The Empire Strikes Back (1980)', 'Raiders of the Lost Ark (Indiana Jones and the Raiders of the Lost Ark) (1981)', 'Usual Suspects, The (1995)', 'Star Wars: Episode IV - A New Hope (1977)', 'Indiana Jones and the Last Crusade (1989)', \"Schindler's List (1993)\", 'Pulp Fiction (1994)', 'Sixth Sense, The (1999)']\n",
            "User: 19850 - Recommended: ['Pirates of the Caribbean: The Curse of the Black Pearl (2003)', 'Léon: The Professional (a.k.a. The Professional) (Léon) (1994)', 'Raiders of the Lost Ark (Indiana Jones and the Raiders of the Lost Ark) (1981)', 'Matrix, The (1999)', 'Shawshank Redemption, The (1994)', 'Saving Private Ryan (1998)', 'Princess Bride, The (1987)', 'Terminator, The (1984)', 'Fifth Element, The (1997)', 'Blade Runner (1982)']\n",
            "User: 39090 - Recommended: ['Star Wars: Episode VI - Return of the Jedi (1983)', 'Terminator 2: Judgment Day (1991)', 'Raiders of the Lost Ark (Indiana Jones and the Raiders of the Lost Ark) (1981)', 'Jurassic Park (1993)', 'Saving Private Ryan (1998)', 'Princess Bride, The (1987)', 'Braveheart (1995)', 'Indiana Jones and the Last Crusade (1989)', 'Terminator, The (1984)', 'Die Hard (1988)']\n",
            "User: 68415 - Recommended: ['Terminator 2: Judgment Day (1991)', 'Silence of the Lambs, The (1991)', 'Shawshank Redemption, The (1994)', \"One Flew Over the Cuckoo's Nest (1975)\", 'Fargo (1996)', 'American Beauty (1999)', 'Forrest Gump (1994)', 'Braveheart (1995)', \"Schindler's List (1993)\", 'Pulp Fiction (1994)']\n",
            "User: 134646 - Recommended: ['Star Wars: Episode VI - Return of the Jedi (1983)', 'Fight Club (1999)', 'Star Wars: Episode V - The Empire Strikes Back (1980)', 'Raiders of the Lost Ark (Indiana Jones and the Raiders of the Lost Ark) (1981)', 'Matrix, The (1999)', 'Star Wars: Episode IV - A New Hope (1977)', 'Saving Private Ryan (1998)', 'Braveheart (1995)', 'Indiana Jones and the Last Crusade (1989)', 'Pulp Fiction (1994)']\n",
            "User: 85797 - Recommended: ['Lord of the Rings: The Return of the King, The (2003)', 'Terminator 2: Judgment Day (1991)', 'Shawshank Redemption, The (1994)', 'American Beauty (1999)', 'Saving Private Ryan (1998)', 'Forrest Gump (1994)', 'Braveheart (1995)', 'Indiana Jones and the Last Crusade (1989)', \"Schindler's List (1993)\", 'Pulp Fiction (1994)']\n",
            "User: 69598 - Recommended: ['Star Wars: Episode V - The Empire Strikes Back (1980)', 'Silence of the Lambs, The (1991)', 'Matrix, The (1999)', 'Fargo (1996)', 'Star Wars: Episode IV - A New Hope (1977)', 'American Beauty (1999)', 'Forrest Gump (1994)', \"Schindler's List (1993)\", 'Pulp Fiction (1994)', 'Sixth Sense, The (1999)']\n",
            "User: 29924 - Recommended: ['Lord of the Rings: The Return of the King, The (2003)', 'Fight Club (1999)', 'Raiders of the Lost Ark (Indiana Jones and the Raiders of the Lost Ark) (1981)', 'Matrix, The (1999)', 'Saving Private Ryan (1998)', 'Princess Bride, The (1987)', 'Braveheart (1995)', 'Indiana Jones and the Last Crusade (1989)', 'Gladiator (2000)', 'Die Hard (1988)']\n",
            "User: 35270 - Recommended: ['Terminator 2: Judgment Day (1991)', 'Star Wars: Episode V - The Empire Strikes Back (1980)', 'Silence of the Lambs, The (1991)', 'Matrix, The (1999)', 'Shawshank Redemption, The (1994)', 'Star Wars: Episode IV - A New Hope (1977)', 'Forrest Gump (1994)', 'Braveheart (1995)', \"Schindler's List (1993)\", 'Pulp Fiction (1994)']\n",
            "User: 110588 - Recommended: ['Lord of the Rings: The Return of the King, The (2003)', 'Star Wars: Episode VI - Return of the Jedi (1983)', 'Godfather, The (1972)', 'Star Wars: Episode V - The Empire Strikes Back (1980)', 'Usual Suspects, The (1995)', 'Star Wars: Episode IV - A New Hope (1977)', 'Jurassic Park (1993)', 'Saving Private Ryan (1998)', 'Indiana Jones and the Last Crusade (1989)', 'Sixth Sense, The (1999)']\n",
            "User: 9246 - Recommended: ['Lord of the Rings: The Return of the King, The (2003)', 'Independence Day (a.k.a. ID4) (1996)', 'Pirates of the Caribbean: The Curse of the Black Pearl (2003)', 'Raiders of the Lost Ark (Indiana Jones and the Raiders of the Lost Ark) (1981)', 'Fargo (1996)', 'Indiana Jones and the Last Crusade (1989)', 'Terminator, The (1984)', 'Gladiator (2000)', \"Schindler's List (1993)\", 'Men in Black (a.k.a. MIB) (1997)']\n",
            "User: 128136 - Recommended: ['Lord of the Rings: The Return of the King, The (2003)', 'Star Wars: Episode VI - Return of the Jedi (1983)', 'Fight Club (1999)', 'Star Wars: Episode V - The Empire Strikes Back (1980)', 'Star Wars: Episode IV - A New Hope (1977)', 'Jurassic Park (1993)', 'Saving Private Ryan (1998)', 'Princess Bride, The (1987)', 'Terminator, The (1984)', 'Die Hard (1988)']\n",
            "User: 12485 - Recommended: ['Lord of the Rings: The Return of the King, The (2003)', 'Star Wars: Episode VI - Return of the Jedi (1983)', 'Fight Club (1999)', 'Godfather, The (1972)', 'Star Wars: Episode V - The Empire Strikes Back (1980)', 'Aliens (1986)', 'American Beauty (1999)', 'Saving Private Ryan (1998)', 'Forrest Gump (1994)', \"Schindler's List (1993)\"]\n",
            "User: 108153 - Recommended: ['Léon: The Professional (a.k.a. The Professional) (Léon) (1994)', 'Raiders of the Lost Ark (Indiana Jones and the Raiders of the Lost Ark) (1981)', 'Shawshank Redemption, The (1994)', 'Jurassic Park (1993)', 'Princess Bride, The (1987)', 'Braveheart (1995)', 'Fifth Element, The (1997)', \"Schindler's List (1993)\", 'Die Hard (1988)', 'Blade Runner (1982)']\n",
            "User: 57251 - Recommended: ['Lord of the Rings: The Return of the King, The (2003)', 'Terminator 2: Judgment Day (1991)', 'Shawshank Redemption, The (1994)', 'American Beauty (1999)', 'Jurassic Park (1993)', 'Saving Private Ryan (1998)', 'Princess Bride, The (1987)', \"Schindler's List (1993)\", 'Die Hard (1988)', 'Pulp Fiction (1994)']\n",
            "User: 6916 - Recommended: ['Terminator 2: Judgment Day (1991)', 'Léon: The Professional (a.k.a. The Professional) (Léon) (1994)', 'Jurassic Park (1993)', 'Saving Private Ryan (1998)', 'Braveheart (1995)', 'Indiana Jones and the Last Crusade (1989)', 'Terminator, The (1984)', 'Gladiator (2000)', 'Die Hard (1988)', 'Blade Runner (1982)']\n",
            "User: 28815 - Recommended: ['Pirates of the Caribbean: The Curse of the Black Pearl (2003)', 'Léon: The Professional (a.k.a. The Professional) (Léon) (1994)', 'Usual Suspects, The (1995)', 'Fargo (1996)', 'American Beauty (1999)', 'Saving Private Ryan (1998)', 'Princess Bride, The (1987)', 'Fifth Element, The (1997)', \"Schindler's List (1993)\", 'Men in Black (a.k.a. MIB) (1997)']\n",
            "User: 4819 - Recommended: ['Star Wars: Episode VI - Return of the Jedi (1983)', 'Terminator 2: Judgment Day (1991)', 'Star Wars: Episode V - The Empire Strikes Back (1980)', 'Raiders of the Lost Ark (Indiana Jones and the Raiders of the Lost Ark) (1981)', 'Matrix, The (1999)', 'Shawshank Redemption, The (1994)', 'Star Wars: Episode IV - A New Hope (1977)', 'Forrest Gump (1994)', 'Braveheart (1995)', 'Pulp Fiction (1994)']\n",
            "User: 14155 - Recommended: ['Terminator 2: Judgment Day (1991)', 'Star Wars: Episode V - The Empire Strikes Back (1980)', 'Matrix, The (1999)', \"One Flew Over the Cuckoo's Nest (1975)\", 'American Beauty (1999)', 'Forrest Gump (1994)', 'Braveheart (1995)', 'Groundhog Day (1993)', \"Schindler's List (1993)\", 'Sixth Sense, The (1999)']\n",
            "User: 55152 - Recommended: ['Star Wars: Episode VI - Return of the Jedi (1983)', 'Terminator 2: Judgment Day (1991)', 'Fight Club (1999)', 'Star Wars: Episode V - The Empire Strikes Back (1980)', 'Silence of the Lambs, The (1991)', 'Matrix, The (1999)', 'Star Wars: Episode IV - A New Hope (1977)', 'Forrest Gump (1994)', 'Braveheart (1995)', 'Pulp Fiction (1994)']\n",
            "User: 34245 - Recommended: ['Star Wars: Episode VI - Return of the Jedi (1983)', 'Terminator 2: Judgment Day (1991)', 'Star Wars: Episode V - The Empire Strikes Back (1980)', 'Raiders of the Lost Ark (Indiana Jones and the Raiders of the Lost Ark) (1981)', 'Matrix, The (1999)', 'Shawshank Redemption, The (1994)', 'Star Wars: Episode IV - A New Hope (1977)', 'Forrest Gump (1994)', 'Braveheart (1995)', 'Pulp Fiction (1994)']\n",
            "User: 46081 - Recommended: ['Terminator 2: Judgment Day (1991)', 'Fight Club (1999)', 'Raiders of the Lost Ark (Indiana Jones and the Raiders of the Lost Ark) (1981)', 'Matrix, The (1999)', 'Shawshank Redemption, The (1994)', 'Star Wars: Episode IV - A New Hope (1977)', 'Jurassic Park (1993)', 'Indiana Jones and the Last Crusade (1989)', 'Pulp Fiction (1994)', 'Sixth Sense, The (1999)']\n",
            "User: 14652 - Recommended: ['Lord of the Rings: The Return of the King, The (2003)', 'Star Wars: Episode VI - Return of the Jedi (1983)', 'Terminator 2: Judgment Day (1991)', 'Fight Club (1999)', 'Raiders of the Lost Ark (Indiana Jones and the Raiders of the Lost Ark) (1981)', 'Matrix, The (1999)', 'Jurassic Park (1993)', 'Braveheart (1995)', 'Indiana Jones and the Last Crusade (1989)', 'Pulp Fiction (1994)']\n",
            "User: 72339 - Recommended: ['Terminator 2: Judgment Day (1991)', 'Star Wars: Episode V - The Empire Strikes Back (1980)', 'Raiders of the Lost Ark (Indiana Jones and the Raiders of the Lost Ark) (1981)', 'Matrix, The (1999)', 'Shawshank Redemption, The (1994)', 'Star Wars: Episode IV - A New Hope (1977)', 'Forrest Gump (1994)', 'Braveheart (1995)', \"Schindler's List (1993)\", 'Pulp Fiction (1994)']\n",
            "User: 85833 - Recommended: ['Star Wars: Episode VI - Return of the Jedi (1983)', 'Terminator 2: Judgment Day (1991)', 'Fight Club (1999)', 'Raiders of the Lost Ark (Indiana Jones and the Raiders of the Lost Ark) (1981)', 'Shawshank Redemption, The (1994)', 'Star Wars: Episode IV - A New Hope (1977)', 'Jurassic Park (1993)', 'Saving Private Ryan (1998)', 'Braveheart (1995)', 'Pulp Fiction (1994)']\n",
            "User: 45346 - Recommended: ['Star Wars: Episode V - The Empire Strikes Back (1980)', 'Raiders of the Lost Ark (Indiana Jones and the Raiders of the Lost Ark) (1981)', 'Silence of the Lambs, The (1991)', 'Matrix, The (1999)', 'Shawshank Redemption, The (1994)', 'Star Wars: Episode IV - A New Hope (1977)', 'Forrest Gump (1994)', 'Braveheart (1995)', \"Schindler's List (1993)\", 'Pulp Fiction (1994)']\n",
            "User: 63603 - Recommended: ['Star Wars: Episode VI - Return of the Jedi (1983)', 'Fight Club (1999)', 'Star Wars: Episode V - The Empire Strikes Back (1980)', 'Star Wars: Episode IV - A New Hope (1977)', 'American Beauty (1999)', 'Jurassic Park (1993)', 'Forrest Gump (1994)', 'Braveheart (1995)', \"Schindler's List (1993)\", 'Pulp Fiction (1994)']\n",
            "User: 77986 - Recommended: ['Silence of the Lambs, The (1991)', 'Matrix, The (1999)', 'Shawshank Redemption, The (1994)', 'Fargo (1996)', 'Star Wars: Episode IV - A New Hope (1977)', 'American Beauty (1999)', 'Forrest Gump (1994)', \"Schindler's List (1993)\", 'Pulp Fiction (1994)', 'Sixth Sense, The (1999)']\n",
            "User: 23178 - Recommended: ['Silence of the Lambs, The (1991)', 'Monty Python and the Holy Grail (1975)', 'Matrix, The (1999)', 'Shawshank Redemption, The (1994)', 'Saving Private Ryan (1998)', 'Forrest Gump (1994)', 'Princess Bride, The (1987)', 'Braveheart (1995)', \"Schindler's List (1993)\", 'Die Hard (1988)']\n",
            "User: 62712 - Recommended: ['Star Wars: Episode VI - Return of the Jedi (1983)', 'Fight Club (1999)', 'Star Wars: Episode V - The Empire Strikes Back (1980)', 'Raiders of the Lost Ark (Indiana Jones and the Raiders of the Lost Ark) (1981)', 'Matrix, The (1999)', 'Shawshank Redemption, The (1994)', 'Star Wars: Episode IV - A New Hope (1977)', 'Saving Private Ryan (1998)', 'Indiana Jones and the Last Crusade (1989)', 'Pulp Fiction (1994)']\n",
            "User: 55165 - Recommended: ['Silence of the Lambs, The (1991)', 'Matrix, The (1999)', 'Shawshank Redemption, The (1994)', 'Fargo (1996)', 'Star Wars: Episode IV - A New Hope (1977)', 'American Beauty (1999)', 'Forrest Gump (1994)', 'Groundhog Day (1993)', 'Pulp Fiction (1994)', 'Dr. Strangelove or: How I Learned to Stop Worrying and Love the Bomb (1964)']\n",
            "User: 135075 - Recommended: ['Terminator 2: Judgment Day (1991)', 'Star Wars: Episode V - The Empire Strikes Back (1980)', 'Raiders of the Lost Ark (Indiana Jones and the Raiders of the Lost Ark) (1981)', 'Silence of the Lambs, The (1991)', 'Shawshank Redemption, The (1994)', 'Star Wars: Episode IV - A New Hope (1977)', 'American Beauty (1999)', 'Braveheart (1995)', 'Indiana Jones and the Last Crusade (1989)', \"Schindler's List (1993)\"]\n",
            "User: 37546 - Recommended: ['Terminator 2: Judgment Day (1991)', 'Fight Club (1999)', 'Raiders of the Lost Ark (Indiana Jones and the Raiders of the Lost Ark) (1981)', 'Silence of the Lambs, The (1991)', 'Matrix, The (1999)', 'Fargo (1996)', 'American Beauty (1999)', 'Braveheart (1995)', \"Schindler's List (1993)\", 'Pulp Fiction (1994)']\n",
            "User: 8093 - Recommended: ['Lord of the Rings: The Return of the King, The (2003)', 'Fight Club (1999)', 'Star Wars: Episode V - The Empire Strikes Back (1980)', 'Shawshank Redemption, The (1994)', 'Jurassic Park (1993)', 'Saving Private Ryan (1998)', 'Princess Bride, The (1987)', 'Terminator, The (1984)', 'Die Hard (1988)', 'Blade Runner (1982)']\n",
            "User: 28522 - Recommended: ['Terminator 2: Judgment Day (1991)', 'Fight Club (1999)', 'Raiders of the Lost Ark (Indiana Jones and the Raiders of the Lost Ark) (1981)', 'Silence of the Lambs, The (1991)', 'Matrix, The (1999)', 'Shawshank Redemption, The (1994)', 'Jurassic Park (1993)', 'Saving Private Ryan (1998)', 'Forrest Gump (1994)', 'Pulp Fiction (1994)']\n",
            "User: 118432 - Recommended: ['Star Wars: Episode VI - Return of the Jedi (1983)', 'Terminator 2: Judgment Day (1991)', 'Fight Club (1999)', 'Star Wars: Episode V - The Empire Strikes Back (1980)', 'Matrix, The (1999)', 'Fargo (1996)', 'Star Wars: Episode IV - A New Hope (1977)', 'American Beauty (1999)', 'Pulp Fiction (1994)', 'Sixth Sense, The (1999)']\n",
            "User: 129548 - Recommended: ['Terminator 2: Judgment Day (1991)', 'Star Wars: Episode V - The Empire Strikes Back (1980)', 'Raiders of the Lost Ark (Indiana Jones and the Raiders of the Lost Ark) (1981)', 'Silence of the Lambs, The (1991)', 'Matrix, The (1999)', 'Shawshank Redemption, The (1994)', 'Star Wars: Episode IV - A New Hope (1977)', 'Braveheart (1995)', \"Schindler's List (1993)\", 'Pulp Fiction (1994)']\n",
            "User: 94633 - Recommended: ['Star Wars: Episode VI - Return of the Jedi (1983)', 'Terminator 2: Judgment Day (1991)', 'Fight Club (1999)', 'Silence of the Lambs, The (1991)', 'Jurassic Park (1993)', 'Saving Private Ryan (1998)', 'Forrest Gump (1994)', 'Braveheart (1995)', 'Indiana Jones and the Last Crusade (1989)', 'Pulp Fiction (1994)']\n",
            "User: 8443 - Recommended: ['Star Wars: Episode VI - Return of the Jedi (1983)', 'Terminator 2: Judgment Day (1991)', 'Fight Club (1999)', 'Star Wars: Episode V - The Empire Strikes Back (1980)', 'Silence of the Lambs, The (1991)', 'Matrix, The (1999)', 'Fargo (1996)', 'American Beauty (1999)', 'Braveheart (1995)', 'Pulp Fiction (1994)']\n",
            "User: 136267 - Recommended: ['Terminator 2: Judgment Day (1991)', 'Star Wars: Episode V - The Empire Strikes Back (1980)', 'Silence of the Lambs, The (1991)', 'Matrix, The (1999)', 'Shawshank Redemption, The (1994)', 'Star Wars: Episode IV - A New Hope (1977)', 'Braveheart (1995)', \"Schindler's List (1993)\", 'Pulp Fiction (1994)', 'Sixth Sense, The (1999)']\n",
            "User: 35241 - Recommended: ['Lord of the Rings: The Return of the King, The (2003)', 'Fight Club (1999)', 'Pirates of the Caribbean: The Curse of the Black Pearl (2003)', 'Aliens (1986)', 'Star Wars: Episode IV - A New Hope (1977)', 'Forrest Gump (1994)', 'Groundhog Day (1993)', \"Schindler's List (1993)\", 'Die Hard (1988)', 'Pulp Fiction (1994)']\n",
            "User: 74122 - Recommended: ['Star Wars: Episode VI - Return of the Jedi (1983)', 'Terminator 2: Judgment Day (1991)', 'Fight Club (1999)', 'Star Wars: Episode V - The Empire Strikes Back (1980)', 'Matrix, The (1999)', 'Fargo (1996)', 'Star Wars: Episode IV - A New Hope (1977)', 'American Beauty (1999)', 'Braveheart (1995)', \"Schindler's List (1993)\"]\n",
            "User: 77250 - Recommended: ['Silence of the Lambs, The (1991)', 'Shawshank Redemption, The (1994)', \"One Flew Over the Cuckoo's Nest (1975)\", 'Star Wars: Episode IV - A New Hope (1977)', 'American Beauty (1999)', 'Forrest Gump (1994)', \"Schindler's List (1993)\", 'Pulp Fiction (1994)', 'Sixth Sense, The (1999)', 'Good Will Hunting (1997)']\n",
            "User: 117411 - Recommended: ['Star Wars: Episode VI - Return of the Jedi (1983)', 'Terminator 2: Judgment Day (1991)', 'Star Wars: Episode V - The Empire Strikes Back (1980)', 'Raiders of the Lost Ark (Indiana Jones and the Raiders of the Lost Ark) (1981)', 'Silence of the Lambs, The (1991)', 'Shawshank Redemption, The (1994)', 'Fargo (1996)', 'Forrest Gump (1994)', 'Braveheart (1995)', \"Schindler's List (1993)\"]\n",
            "User: 53129 - Recommended: ['Terminator 2: Judgment Day (1991)', 'Godfather, The (1972)', 'Silence of the Lambs, The (1991)', 'Usual Suspects, The (1995)', 'Shawshank Redemption, The (1994)', 'Star Wars: Episode IV - A New Hope (1977)', 'Saving Private Ryan (1998)', 'Braveheart (1995)', 'Indiana Jones and the Last Crusade (1989)', \"Schindler's List (1993)\"]\n",
            "User: 8326 - Recommended: ['Lord of the Rings: The Return of the King, The (2003)', 'Star Wars: Episode VI - Return of the Jedi (1983)', 'Terminator 2: Judgment Day (1991)', 'Fight Club (1999)', 'Star Wars: Episode V - The Empire Strikes Back (1980)', 'Raiders of the Lost Ark (Indiana Jones and the Raiders of the Lost Ark) (1981)', 'Matrix, The (1999)', 'Star Wars: Episode IV - A New Hope (1977)', 'Saving Private Ryan (1998)', 'Indiana Jones and the Last Crusade (1989)']\n",
            "User: 83298 - Recommended: ['Silence of the Lambs, The (1991)', 'Usual Suspects, The (1995)', 'Matrix, The (1999)', 'Shawshank Redemption, The (1994)', 'Fargo (1996)', 'Star Wars: Episode IV - A New Hope (1977)', 'Groundhog Day (1993)', 'Pulp Fiction (1994)', 'Sixth Sense, The (1999)', 'Dr. Strangelove or: How I Learned to Stop Worrying and Love the Bomb (1964)']\n",
            "User: 48588 - Recommended: ['Star Wars: Episode VI - Return of the Jedi (1983)', 'Terminator 2: Judgment Day (1991)', 'Fight Club (1999)', 'Matrix, The (1999)', 'Shawshank Redemption, The (1994)', 'Fargo (1996)', 'Star Wars: Episode IV - A New Hope (1977)', 'Forrest Gump (1994)', 'Terminator, The (1984)', \"Schindler's List (1993)\"]\n",
            "User: 111281 - Recommended: ['Silence of the Lambs, The (1991)', 'Usual Suspects, The (1995)', 'Matrix, The (1999)', 'Shawshank Redemption, The (1994)', 'Fargo (1996)', 'Star Wars: Episode IV - A New Hope (1977)', 'American Beauty (1999)', 'Forrest Gump (1994)', \"Schindler's List (1993)\", 'Pulp Fiction (1994)']\n",
            "User: 23289 - Recommended: ['Lord of the Rings: The Return of the King, The (2003)', 'Star Wars: Episode VI - Return of the Jedi (1983)', 'Terminator 2: Judgment Day (1991)', 'Star Wars: Episode V - The Empire Strikes Back (1980)', 'Fargo (1996)', 'Star Wars: Episode IV - A New Hope (1977)', 'Jurassic Park (1993)', 'Saving Private Ryan (1998)', 'Princess Bride, The (1987)', 'Terminator, The (1984)']\n",
            "User: 11204 - Recommended: ['Star Wars: Episode VI - Return of the Jedi (1983)', 'Terminator 2: Judgment Day (1991)', 'Fight Club (1999)', 'Star Wars: Episode V - The Empire Strikes Back (1980)', 'Matrix, The (1999)', 'Shawshank Redemption, The (1994)', 'Star Wars: Episode IV - A New Hope (1977)', 'Saving Private Ryan (1998)', 'Braveheart (1995)', 'Pulp Fiction (1994)']\n",
            "User: 9834 - Recommended: ['Star Wars: Episode VI - Return of the Jedi (1983)', 'Fight Club (1999)', 'Star Wars: Episode V - The Empire Strikes Back (1980)', 'Raiders of the Lost Ark (Indiana Jones and the Raiders of the Lost Ark) (1981)', 'Star Wars: Episode IV - A New Hope (1977)', 'Jurassic Park (1993)', 'Saving Private Ryan (1998)', 'Braveheart (1995)', 'Indiana Jones and the Last Crusade (1989)', 'Blade Runner (1982)']\n",
            "User: 107468 - Recommended: ['Silence of the Lambs, The (1991)', 'Shawshank Redemption, The (1994)', 'Fargo (1996)', 'Star Wars: Episode IV - A New Hope (1977)', 'Forrest Gump (1994)', 'Rain Man (1988)', 'Full Metal Jacket (1987)', 'Groundhog Day (1993)', 'Sixth Sense, The (1999)', 'Good Will Hunting (1997)']\n",
            "User: 15443 - Recommended: ['Matrix, The (1999)', 'Shawshank Redemption, The (1994)', \"One Flew Over the Cuckoo's Nest (1975)\", 'Star Wars: Episode IV - A New Hope (1977)', 'American Beauty (1999)', 'Full Metal Jacket (1987)', \"Schindler's List (1993)\", 'Pulp Fiction (1994)', 'Sixth Sense, The (1999)', 'Good Will Hunting (1997)']\n",
            "User: 75293 - Recommended: ['Star Wars: Episode VI - Return of the Jedi (1983)', 'Terminator 2: Judgment Day (1991)', 'Godfather, The (1972)', 'Star Wars: Episode V - The Empire Strikes Back (1980)', 'Silence of the Lambs, The (1991)', 'Matrix, The (1999)', 'Shawshank Redemption, The (1994)', 'Star Wars: Episode IV - A New Hope (1977)', 'American Beauty (1999)', 'Sixth Sense, The (1999)']\n",
            "User: 91956 - Recommended: ['Star Wars: Episode VI - Return of the Jedi (1983)', 'Fight Club (1999)', 'Shawshank Redemption, The (1994)', 'Jurassic Park (1993)', 'Saving Private Ryan (1998)', 'Princess Bride, The (1987)', 'Braveheart (1995)', 'Indiana Jones and the Last Crusade (1989)', \"Schindler's List (1993)\", 'Pulp Fiction (1994)']\n",
            "User: 41325 - Recommended: ['Shakespeare in Love (1998)', 'Fargo (1996)', 'Forrest Gump (1994)', 'Truman Show, The (1998)', \"Ferris Bueller's Day Off (1986)\", 'Trainspotting (1996)', 'Pulp Fiction (1994)', \"Amelie (Fabuleux destin d'Amélie Poulain, Le) (2001)\", \"Monty Python's Life of Brian (1979)\", 'Dr. Strangelove or: How I Learned to Stop Worrying and Love the Bomb (1964)']\n",
            "User: 37348 - Recommended: ['Lord of the Rings: The Return of the King, The (2003)', 'Fight Club (1999)', 'Léon: The Professional (a.k.a. The Professional) (Léon) (1994)', 'Matrix, The (1999)', 'American Beauty (1999)', 'Jurassic Park (1993)', 'Saving Private Ryan (1998)', 'Forrest Gump (1994)', \"Schindler's List (1993)\", 'Blade Runner (1982)']\n",
            "User: 33024 - Recommended: ['Star Wars: Episode V - The Empire Strikes Back (1980)', 'Raiders of the Lost Ark (Indiana Jones and the Raiders of the Lost Ark) (1981)', 'Silence of the Lambs, The (1991)', 'Matrix, The (1999)', 'Fargo (1996)', 'Star Wars: Episode IV - A New Hope (1977)', 'American Beauty (1999)', 'Forrest Gump (1994)', 'Braveheart (1995)', 'Pulp Fiction (1994)']\n",
            "User: 41860 - Recommended: ['Star Wars: Episode VI - Return of the Jedi (1983)', 'Terminator 2: Judgment Day (1991)', 'Fight Club (1999)', 'Star Wars: Episode V - The Empire Strikes Back (1980)', 'Raiders of the Lost Ark (Indiana Jones and the Raiders of the Lost Ark) (1981)', 'Matrix, The (1999)', 'Star Wars: Episode IV - A New Hope (1977)', 'Jurassic Park (1993)', 'Braveheart (1995)', 'Pulp Fiction (1994)']\n",
            "User: 56155 - Recommended: ['Lord of the Rings: The Return of the King, The (2003)', 'Terminator 2: Judgment Day (1991)', 'Star Wars: Episode V - The Empire Strikes Back (1980)', 'Silence of the Lambs, The (1991)', 'Shawshank Redemption, The (1994)', 'Jurassic Park (1993)', 'Princess Bride, The (1987)', 'Braveheart (1995)', 'Die Hard (1988)', 'Pulp Fiction (1994)']\n",
            "User: 73526 - Recommended: ['Star Wars: Episode VI - Return of the Jedi (1983)', 'Terminator 2: Judgment Day (1991)', 'Star Wars: Episode V - The Empire Strikes Back (1980)', 'Raiders of the Lost Ark (Indiana Jones and the Raiders of the Lost Ark) (1981)', 'Silence of the Lambs, The (1991)', 'Matrix, The (1999)', 'Star Wars: Episode IV - A New Hope (1977)', 'Jurassic Park (1993)', 'Saving Private Ryan (1998)', 'Princess Bride, The (1987)']\n",
            "User: 4524 - Recommended: ['Terminator 2: Judgment Day (1991)', 'Fight Club (1999)', 'Raiders of the Lost Ark (Indiana Jones and the Raiders of the Lost Ark) (1981)', 'Silence of the Lambs, The (1991)', 'Usual Suspects, The (1995)', 'Matrix, The (1999)', 'Star Wars: Episode IV - A New Hope (1977)', 'Braveheart (1995)', 'Groundhog Day (1993)', \"Schindler's List (1993)\"]\n",
            "User: 112356 - Recommended: ['Godfather, The (1972)', 'Star Wars: Episode V - The Empire Strikes Back (1980)', 'Usual Suspects, The (1995)', 'Matrix, The (1999)', 'Jurassic Park (1993)', 'Forrest Gump (1994)', 'Braveheart (1995)', 'Indiana Jones and the Last Crusade (1989)', 'Pulp Fiction (1994)', 'Sixth Sense, The (1999)']\n",
            "User: 33866 - Recommended: ['Lord of the Rings: The Return of the King, The (2003)', 'Star Wars: Episode VI - Return of the Jedi (1983)', 'Fight Club (1999)', 'Star Wars: Episode V - The Empire Strikes Back (1980)', 'Matrix, The (1999)', 'Jurassic Park (1993)', 'Saving Private Ryan (1998)', 'Princess Bride, The (1987)', 'Braveheart (1995)', 'Gladiator (2000)']\n",
            "User: 119762 - Recommended: ['Terminator 2: Judgment Day (1991)', 'Star Wars: Episode V - The Empire Strikes Back (1980)', 'Raiders of the Lost Ark (Indiana Jones and the Raiders of the Lost Ark) (1981)', 'Silence of the Lambs, The (1991)', 'Matrix, The (1999)', 'Star Wars: Episode IV - A New Hope (1977)', 'Forrest Gump (1994)', \"Schindler's List (1993)\", 'Pulp Fiction (1994)', 'Sixth Sense, The (1999)']\n",
            "User: 92189 - Recommended: ['Silence of the Lambs, The (1991)', 'Matrix, The (1999)', \"One Flew Over the Cuckoo's Nest (1975)\", 'Fargo (1996)', 'Star Wars: Episode IV - A New Hope (1977)', 'Forrest Gump (1994)', 'Rain Man (1988)', 'Full Metal Jacket (1987)', 'Pulp Fiction (1994)', 'Good Will Hunting (1997)']\n",
            "User: 71192 - Recommended: ['Fight Club (1999)', 'Pirates of the Caribbean: The Curse of the Black Pearl (2003)', 'Aliens (1986)', 'Raiders of the Lost Ark (Indiana Jones and the Raiders of the Lost Ark) (1981)', 'Silence of the Lambs, The (1991)', 'Braveheart (1995)', 'Indiana Jones and the Last Crusade (1989)', 'Gladiator (2000)', 'Die Hard (1988)', 'Blade Runner (1982)']\n",
            "User: 27199 - Recommended: ['Fight Club (1999)', 'Star Wars: Episode V - The Empire Strikes Back (1980)', 'Matrix, The (1999)', 'Shawshank Redemption, The (1994)', 'Jurassic Park (1993)', 'Saving Private Ryan (1998)', 'Forrest Gump (1994)', 'Indiana Jones and the Last Crusade (1989)', \"Schindler's List (1993)\", 'Pulp Fiction (1994)']\n",
            "User: 86900 - Recommended: ['Shakespeare in Love (1998)', 'Shawshank Redemption, The (1994)', 'Fargo (1996)', 'Star Wars: Episode IV - A New Hope (1977)', 'Forrest Gump (1994)', 'Truman Show, The (1998)', \"Ferris Bueller's Day Off (1986)\", \"Amelie (Fabuleux destin d'Amélie Poulain, Le) (2001)\", \"Monty Python's Life of Brian (1979)\", 'Dr. Strangelove or: How I Learned to Stop Worrying and Love the Bomb (1964)']\n",
            "User: 30206 - Recommended: ['Silence of the Lambs, The (1991)', 'Matrix, The (1999)', 'Shakespeare in Love (1998)', 'Forrest Gump (1994)', 'Groundhog Day (1993)', \"Ferris Bueller's Day Off (1986)\", \"Amelie (Fabuleux destin d'Amélie Poulain, Le) (2001)\", 'Sixth Sense, The (1999)', \"Monty Python's Life of Brian (1979)\", 'Being John Malkovich (1999)']\n",
            "User: 97044 - Recommended: ['Star Wars: Episode V - The Empire Strikes Back (1980)', 'Silence of the Lambs, The (1991)', 'Shawshank Redemption, The (1994)', 'Fargo (1996)', 'Star Wars: Episode IV - A New Hope (1977)', 'American Beauty (1999)', 'Forrest Gump (1994)', 'Braveheart (1995)', 'Toy Story (1995)', 'Pulp Fiction (1994)']\n",
            "User: 35822 - Recommended: ['Lord of the Rings: The Return of the King, The (2003)', 'Terminator 2: Judgment Day (1991)', 'Fight Club (1999)', 'Shawshank Redemption, The (1994)', 'Jurassic Park (1993)', 'Saving Private Ryan (1998)', 'Forrest Gump (1994)', 'Braveheart (1995)', 'Indiana Jones and the Last Crusade (1989)', 'Pulp Fiction (1994)']\n",
            "User: 16689 - Recommended: ['Terminator 2: Judgment Day (1991)', 'Fight Club (1999)', 'Raiders of the Lost Ark (Indiana Jones and the Raiders of the Lost Ark) (1981)', 'Silence of the Lambs, The (1991)', 'Matrix, The (1999)', 'American Beauty (1999)', 'Saving Private Ryan (1998)', 'Groundhog Day (1993)', \"Schindler's List (1993)\", 'Sixth Sense, The (1999)']\n",
            "User: 44092 - Recommended: ['Star Wars: Episode VI - Return of the Jedi (1983)', 'Terminator 2: Judgment Day (1991)', 'Star Wars: Episode V - The Empire Strikes Back (1980)', 'Raiders of the Lost Ark (Indiana Jones and the Raiders of the Lost Ark) (1981)', 'Silence of the Lambs, The (1991)', 'Usual Suspects, The (1995)', 'Matrix, The (1999)', 'Jurassic Park (1993)', 'Forrest Gump (1994)', 'Braveheart (1995)']\n",
            "User: 135593 - Recommended: ['Terminator 2: Judgment Day (1991)', 'Fight Club (1999)', 'Star Wars: Episode V - The Empire Strikes Back (1980)', 'Silence of the Lambs, The (1991)', 'Usual Suspects, The (1995)', 'Star Wars: Episode IV - A New Hope (1977)', 'Jurassic Park (1993)', 'Braveheart (1995)', \"Schindler's List (1993)\", 'Sixth Sense, The (1999)']\n",
            "User: 13934 - Recommended: ['Terminator 2: Judgment Day (1991)', 'Star Wars: Episode V - The Empire Strikes Back (1980)', 'Raiders of the Lost Ark (Indiana Jones and the Raiders of the Lost Ark) (1981)', 'Matrix, The (1999)', 'Shawshank Redemption, The (1994)', 'Fargo (1996)', 'Star Wars: Episode IV - A New Hope (1977)', 'American Beauty (1999)', 'Braveheart (1995)', 'Sixth Sense, The (1999)']\n",
            "User: 41760 - Recommended: ['Star Wars: Episode VI - Return of the Jedi (1983)', 'Terminator 2: Judgment Day (1991)', 'Fight Club (1999)', 'Star Wars: Episode V - The Empire Strikes Back (1980)', 'Raiders of the Lost Ark (Indiana Jones and the Raiders of the Lost Ark) (1981)', 'Matrix, The (1999)', 'Shawshank Redemption, The (1994)', 'Star Wars: Episode IV - A New Hope (1977)', \"Schindler's List (1993)\", 'Pulp Fiction (1994)']\n",
            "User: 74789 - Recommended: ['Fargo (1996)', 'Forrest Gump (1994)', 'Truman Show, The (1998)', 'Groundhog Day (1993)', \"Ferris Bueller's Day Off (1986)\", 'Pulp Fiction (1994)', \"Amelie (Fabuleux destin d'Amélie Poulain, Le) (2001)\", \"Monty Python's Life of Brian (1979)\", 'Being John Malkovich (1999)', 'Dr. Strangelove or: How I Learned to Stop Worrying and Love the Bomb (1964)']\n",
            "User: 115146 - Recommended: ['Lord of the Rings: The Return of the King, The (2003)', 'Star Wars: Episode VI - Return of the Jedi (1983)', 'Star Wars: Episode V - The Empire Strikes Back (1980)', 'Raiders of the Lost Ark (Indiana Jones and the Raiders of the Lost Ark) (1981)', 'Shawshank Redemption, The (1994)', 'Star Wars: Episode IV - A New Hope (1977)', 'Princess Bride, The (1987)', 'Indiana Jones and the Last Crusade (1989)', 'Die Hard (1988)', 'Blade Runner (1982)']\n",
            "User: 123764 - Recommended: ['Godfather, The (1972)', 'Star Wars: Episode V - The Empire Strikes Back (1980)', 'Raiders of the Lost Ark (Indiana Jones and the Raiders of the Lost Ark) (1981)', 'Silence of the Lambs, The (1991)', 'Matrix, The (1999)', 'Shawshank Redemption, The (1994)', \"One Flew Over the Cuckoo's Nest (1975)\", 'Star Wars: Episode IV - A New Hope (1977)', 'Forrest Gump (1994)', 'Sixth Sense, The (1999)']\n",
            "User: 88540 - Recommended: ['Back to the Future (1985)', 'Shrek (2001)', 'Lord of the Rings: The Fellowship of the Ring, The (2001)', 'Monty Python and the Holy Grail (1975)', 'Shawshank Redemption, The (1994)', 'Apollo 13 (1995)', 'Aladdin (1992)', 'Toy Story (1995)', 'Lord of the Rings: The Two Towers, The (2002)', 'Dances with Wolves (1990)']\n",
            "User: 38944 - Recommended: ['Silence of the Lambs, The (1991)', 'Usual Suspects, The (1995)', \"One Flew Over the Cuckoo's Nest (1975)\", 'Fargo (1996)', 'Star Wars: Episode IV - A New Hope (1977)', 'American Beauty (1999)', 'Forrest Gump (1994)', \"Schindler's List (1993)\", 'Pulp Fiction (1994)', 'Sixth Sense, The (1999)']\n",
            "User: 123211 - Recommended: ['Lord of the Rings: The Return of the King, The (2003)', 'Fight Club (1999)', 'Star Wars: Episode V - The Empire Strikes Back (1980)', 'Matrix, The (1999)', 'Fargo (1996)', 'American Beauty (1999)', 'Indiana Jones and the Last Crusade (1989)', 'Gladiator (2000)', \"Schindler's List (1993)\", 'Die Hard (1988)']\n",
            "User: 120773 - Recommended: ['Lord of the Rings: The Return of the King, The (2003)', 'Star Wars: Episode VI - Return of the Jedi (1983)', 'Star Wars: Episode V - The Empire Strikes Back (1980)', 'Raiders of the Lost Ark (Indiana Jones and the Raiders of the Lost Ark) (1981)', 'Silence of the Lambs, The (1991)', 'Matrix, The (1999)', 'Star Wars: Episode IV - A New Hope (1977)', 'Jurassic Park (1993)', 'Forrest Gump (1994)', 'Braveheart (1995)']\n",
            "User: 50399 - Recommended: ['Star Wars: Episode VI - Return of the Jedi (1983)', 'Star Wars: Episode V - The Empire Strikes Back (1980)', 'Raiders of the Lost Ark (Indiana Jones and the Raiders of the Lost Ark) (1981)', 'Silence of the Lambs, The (1991)', 'Shawshank Redemption, The (1994)', 'Star Wars: Episode IV - A New Hope (1977)', 'Jurassic Park (1993)', 'Princess Bride, The (1987)', 'Indiana Jones and the Last Crusade (1989)', \"Schindler's List (1993)\"]\n",
            "User: 105402 - Recommended: ['Star Wars: Episode VI - Return of the Jedi (1983)', 'Terminator 2: Judgment Day (1991)', 'Star Wars: Episode V - The Empire Strikes Back (1980)', 'Matrix, The (1999)', 'Fargo (1996)', 'Star Wars: Episode IV - A New Hope (1977)', 'American Beauty (1999)', 'Jurassic Park (1993)', 'Forrest Gump (1994)', 'Braveheart (1995)']\n",
            "User: 93975 - Recommended: ['Star Wars: Episode VI - Return of the Jedi (1983)', 'Fight Club (1999)', 'Star Wars: Episode V - The Empire Strikes Back (1980)', 'Raiders of the Lost Ark (Indiana Jones and the Raiders of the Lost Ark) (1981)', 'Matrix, The (1999)', 'Star Wars: Episode IV - A New Hope (1977)', 'Jurassic Park (1993)', 'Saving Private Ryan (1998)', 'Indiana Jones and the Last Crusade (1989)', 'Pulp Fiction (1994)']\n",
            "User: 10040 - Recommended: ['Star Wars: Episode VI - Return of the Jedi (1983)', 'Terminator 2: Judgment Day (1991)', 'Fight Club (1999)', 'Raiders of the Lost Ark (Indiana Jones and the Raiders of the Lost Ark) (1981)', 'Star Wars: Episode IV - A New Hope (1977)', 'Jurassic Park (1993)', 'Saving Private Ryan (1998)', 'Braveheart (1995)', 'Indiana Jones and the Last Crusade (1989)', 'Pulp Fiction (1994)']\n",
            "User: 116123 - Recommended: ['Terminator 2: Judgment Day (1991)', 'Star Wars: Episode V - The Empire Strikes Back (1980)', 'Raiders of the Lost Ark (Indiana Jones and the Raiders of the Lost Ark) (1981)', 'Silence of the Lambs, The (1991)', 'Matrix, The (1999)', 'Star Wars: Episode IV - A New Hope (1977)', 'Forrest Gump (1994)', 'Toy Story (1995)', \"Schindler's List (1993)\", 'Pulp Fiction (1994)']\n",
            "User: 30036 - Recommended: ['Silence of the Lambs, The (1991)', 'Matrix, The (1999)', 'Shawshank Redemption, The (1994)', \"One Flew Over the Cuckoo's Nest (1975)\", 'American Beauty (1999)', 'Forrest Gump (1994)', 'Groundhog Day (1993)', \"Schindler's List (1993)\", 'Pulp Fiction (1994)', 'Sixth Sense, The (1999)']\n",
            "User: 120416 - Recommended: ['Star Wars: Episode VI - Return of the Jedi (1983)', 'Fight Club (1999)', 'Star Wars: Episode V - The Empire Strikes Back (1980)', 'Raiders of the Lost Ark (Indiana Jones and the Raiders of the Lost Ark) (1981)', 'Silence of the Lambs, The (1991)', 'Usual Suspects, The (1995)', 'Star Wars: Episode IV - A New Hope (1977)', 'American Beauty (1999)', 'Jurassic Park (1993)', 'Saving Private Ryan (1998)']\n",
            "User: 40399 - Recommended: ['Star Wars: Episode VI - Return of the Jedi (1983)', 'Terminator 2: Judgment Day (1991)', 'Star Wars: Episode V - The Empire Strikes Back (1980)', 'Saving Private Ryan (1998)', 'Forrest Gump (1994)', 'Princess Bride, The (1987)', 'Terminator, The (1984)', 'Gladiator (2000)', 'Die Hard (1988)', 'Blade Runner (1982)']\n",
            "User: 99254 - Recommended: ['Star Wars: Episode V - The Empire Strikes Back (1980)', 'Léon: The Professional (a.k.a. The Professional) (Léon) (1994)', 'Usual Suspects, The (1995)', 'Matrix, The (1999)', 'Shawshank Redemption, The (1994)', \"One Flew Over the Cuckoo's Nest (1975)\", 'Princess Bride, The (1987)', 'Braveheart (1995)', 'Toy Story (1995)', 'Good Will Hunting (1997)']\n",
            "User: 49219 - Recommended: ['Terminator 2: Judgment Day (1991)', 'Raiders of the Lost Ark (Indiana Jones and the Raiders of the Lost Ark) (1981)', 'Silence of the Lambs, The (1991)', 'Jurassic Park (1993)', 'Forrest Gump (1994)', 'Princess Bride, The (1987)', 'Indiana Jones and the Last Crusade (1989)', 'Terminator, The (1984)', 'Die Hard (1988)', 'Blade Runner (1982)']\n",
            "User: 23638 - Recommended: ['Lord of the Rings: The Return of the King, The (2003)', 'Star Wars: Episode VI - Return of the Jedi (1983)', 'Godfather, The (1972)', 'Star Wars: Episode V - The Empire Strikes Back (1980)', 'Silence of the Lambs, The (1991)', 'Fargo (1996)', 'Star Wars: Episode IV - A New Hope (1977)', 'Jurassic Park (1993)', 'Princess Bride, The (1987)', 'Groundhog Day (1993)']\n",
            "User: 41882 - Recommended: ['Star Wars: Episode V - The Empire Strikes Back (1980)', 'Raiders of the Lost Ark (Indiana Jones and the Raiders of the Lost Ark) (1981)', 'Usual Suspects, The (1995)', 'Matrix, The (1999)', 'Shawshank Redemption, The (1994)', 'Star Wars: Episode IV - A New Hope (1977)', 'Forrest Gump (1994)', 'Braveheart (1995)', \"Schindler's List (1993)\", 'Pulp Fiction (1994)']\n",
            "User: 61215 - Recommended: ['Star Wars: Episode V - The Empire Strikes Back (1980)', 'Raiders of the Lost Ark (Indiana Jones and the Raiders of the Lost Ark) (1981)', 'Usual Suspects, The (1995)', \"One Flew Over the Cuckoo's Nest (1975)\", 'Star Wars: Episode IV - A New Hope (1977)', 'Forrest Gump (1994)', 'Braveheart (1995)', \"Schindler's List (1993)\", 'Pulp Fiction (1994)', 'Sixth Sense, The (1999)']\n",
            "User: 25496 - Recommended: ['Star Wars: Episode VI - Return of the Jedi (1983)', 'Fight Club (1999)', 'Godfather, The (1972)', 'Star Wars: Episode V - The Empire Strikes Back (1980)', 'Raiders of the Lost Ark (Indiana Jones and the Raiders of the Lost Ark) (1981)', 'Matrix, The (1999)', 'American Beauty (1999)', 'Forrest Gump (1994)', 'Groundhog Day (1993)', 'Sixth Sense, The (1999)']\n",
            "User: 77078 - Recommended: ['Terminator 2: Judgment Day (1991)', 'Star Wars: Episode V - The Empire Strikes Back (1980)', 'Raiders of the Lost Ark (Indiana Jones and the Raiders of the Lost Ark) (1981)', 'Usual Suspects, The (1995)', 'Fargo (1996)', 'Star Wars: Episode IV - A New Hope (1977)', 'American Beauty (1999)', 'Braveheart (1995)', 'Truman Show, The (1998)', 'Pulp Fiction (1994)']\n",
            "User: 91669 - Recommended: ['Star Wars: Episode VI - Return of the Jedi (1983)', 'Terminator 2: Judgment Day (1991)', 'Star Wars: Episode V - The Empire Strikes Back (1980)', 'Raiders of the Lost Ark (Indiana Jones and the Raiders of the Lost Ark) (1981)', 'Matrix, The (1999)', 'Star Wars: Episode IV - A New Hope (1977)', 'Forrest Gump (1994)', \"Schindler's List (1993)\", 'Pulp Fiction (1994)', 'Sixth Sense, The (1999)']\n",
            "User: 126133 - Recommended: ['Star Wars: Episode V - The Empire Strikes Back (1980)', 'Raiders of the Lost Ark (Indiana Jones and the Raiders of the Lost Ark) (1981)', 'Usual Suspects, The (1995)', 'Matrix, The (1999)', 'Shawshank Redemption, The (1994)', \"One Flew Over the Cuckoo's Nest (1975)\", 'Star Wars: Episode IV - A New Hope (1977)', 'American Beauty (1999)', 'Forrest Gump (1994)', 'Good Will Hunting (1997)']\n",
            "User: 126182 - Recommended: ['Lord of the Rings: The Return of the King, The (2003)', 'Fight Club (1999)', 'Matrix, The (1999)', 'Star Wars: Episode IV - A New Hope (1977)', 'American Beauty (1999)', 'Saving Private Ryan (1998)', 'Princess Bride, The (1987)', 'Gladiator (2000)', \"Schindler's List (1993)\", 'Blade Runner (1982)']\n",
            "User: 76329 - Recommended: ['Star Wars: Episode VI - Return of the Jedi (1983)', 'Terminator 2: Judgment Day (1991)', 'Fight Club (1999)', 'Star Wars: Episode V - The Empire Strikes Back (1980)', 'Raiders of the Lost Ark (Indiana Jones and the Raiders of the Lost Ark) (1981)', 'Usual Suspects, The (1995)', \"One Flew Over the Cuckoo's Nest (1975)\", 'Forrest Gump (1994)', 'Braveheart (1995)', \"Schindler's List (1993)\"]\n",
            "User: 32653 - Recommended: ['Lord of the Rings: The Return of the King, The (2003)', 'Terminator 2: Judgment Day (1991)', 'Fight Club (1999)', 'Usual Suspects, The (1995)', 'Shawshank Redemption, The (1994)', 'Forrest Gump (1994)', 'Terminator, The (1984)', 'Gladiator (2000)', 'Pulp Fiction (1994)', 'Sixth Sense, The (1999)']\n",
            "User: 95172 - Recommended: ['Star Wars: Episode VI - Return of the Jedi (1983)', 'Terminator 2: Judgment Day (1991)', 'Fight Club (1999)', 'Raiders of the Lost Ark (Indiana Jones and the Raiders of the Lost Ark) (1981)', 'Matrix, The (1999)', 'Jurassic Park (1993)', 'Saving Private Ryan (1998)', 'Princess Bride, The (1987)', 'Braveheart (1995)', 'Die Hard (1988)']\n",
            "User: 121720 - Recommended: ['Terminator 2: Judgment Day (1991)', 'Usual Suspects, The (1995)', 'Matrix, The (1999)', 'Jurassic Park (1993)', 'Terminator, The (1984)', 'Gladiator (2000)', \"Schindler's List (1993)\", 'Die Hard (1988)', 'Pulp Fiction (1994)', 'Blade Runner (1982)']\n",
            "User: 17681 - Recommended: ['Lord of the Rings: The Return of the King, The (2003)', 'Fight Club (1999)', 'Raiders of the Lost Ark (Indiana Jones and the Raiders of the Lost Ark) (1981)', 'Usual Suspects, The (1995)', \"One Flew Over the Cuckoo's Nest (1975)\", 'Jurassic Park (1993)', 'Forrest Gump (1994)', 'Indiana Jones and the Last Crusade (1989)', \"Schindler's List (1993)\", 'Pulp Fiction (1994)']\n",
            "User: 77398 - Recommended: ['Terminator 2: Judgment Day (1991)', 'Fight Club (1999)', 'Raiders of the Lost Ark (Indiana Jones and the Raiders of the Lost Ark) (1981)', 'Usual Suspects, The (1995)', 'Matrix, The (1999)', 'Fargo (1996)', 'Star Wars: Episode IV - A New Hope (1977)', 'Forrest Gump (1994)', 'Braveheart (1995)', 'Pulp Fiction (1994)']\n",
            "User: 123642 - Recommended: ['Lord of the Rings: The Return of the King, The (2003)', 'Star Wars: Episode VI - Return of the Jedi (1983)', 'Terminator 2: Judgment Day (1991)', 'Fight Club (1999)', 'Matrix, The (1999)', 'Saving Private Ryan (1998)', 'Forrest Gump (1994)', 'Princess Bride, The (1987)', 'Braveheart (1995)', 'Pulp Fiction (1994)']\n",
            "User: 32386 - Recommended: ['Star Wars: Episode VI - Return of the Jedi (1983)', 'Terminator 2: Judgment Day (1991)', 'Star Wars: Episode V - The Empire Strikes Back (1980)', 'Shawshank Redemption, The (1994)', 'Fargo (1996)', 'Star Wars: Episode IV - A New Hope (1977)', 'American Beauty (1999)', 'Forrest Gump (1994)', 'Full Metal Jacket (1987)', 'Good Will Hunting (1997)']\n",
            "User: 25215 - Recommended: ['Matrix, The (1999)', \"One Flew Over the Cuckoo's Nest (1975)\", 'Fargo (1996)', 'Star Wars: Episode IV - A New Hope (1977)', 'American Beauty (1999)', 'Forrest Gump (1994)', 'Rain Man (1988)', 'Full Metal Jacket (1987)', 'Sixth Sense, The (1999)', 'Good Will Hunting (1997)']\n",
            "User: 2514 - Recommended: ['Fargo (1996)', 'Star Wars: Episode IV - A New Hope (1977)', 'Truman Show, The (1998)', 'Groundhog Day (1993)', \"Ferris Bueller's Day Off (1986)\", \"Schindler's List (1993)\", 'Pulp Fiction (1994)', \"Amelie (Fabuleux destin d'Amélie Poulain, Le) (2001)\", \"Monty Python's Life of Brian (1979)\", 'Dr. Strangelove or: How I Learned to Stop Worrying and Love the Bomb (1964)']\n",
            "User: 86308 - Recommended: ['Terminator 2: Judgment Day (1991)', 'Star Wars: Episode V - The Empire Strikes Back (1980)', 'Raiders of the Lost Ark (Indiana Jones and the Raiders of the Lost Ark) (1981)', 'Usual Suspects, The (1995)', 'Matrix, The (1999)', 'Star Wars: Episode IV - A New Hope (1977)', 'Forrest Gump (1994)', 'Braveheart (1995)', \"Schindler's List (1993)\", 'Pulp Fiction (1994)']\n",
            "User: 132583 - Recommended: ['Star Wars: Episode VI - Return of the Jedi (1983)', 'Fight Club (1999)', 'Silence of the Lambs, The (1991)', 'Usual Suspects, The (1995)', 'Matrix, The (1999)', 'Fargo (1996)', 'Star Wars: Episode IV - A New Hope (1977)', 'American Beauty (1999)', 'Jurassic Park (1993)', 'Pulp Fiction (1994)']\n",
            "User: 94537 - Recommended: ['Lord of the Rings: The Return of the King, The (2003)', 'Fight Club (1999)', 'Star Wars: Episode V - The Empire Strikes Back (1980)', 'Hunt for Red October, The (1990)', 'Matrix, The (1999)', 'Princess Bride, The (1987)', 'Braveheart (1995)', 'Indiana Jones and the Last Crusade (1989)', 'Fifth Element, The (1997)', 'Men in Black (a.k.a. MIB) (1997)']\n",
            "User: 45158 - Recommended: ['Star Wars: Episode VI - Return of the Jedi (1983)', 'Terminator 2: Judgment Day (1991)', 'Silence of the Lambs, The (1991)', 'Matrix, The (1999)', 'Star Wars: Episode IV - A New Hope (1977)', 'Forrest Gump (1994)', 'Braveheart (1995)', 'Sixth Sense, The (1999)', 'Being John Malkovich (1999)', 'Dr. Strangelove or: How I Learned to Stop Worrying and Love the Bomb (1964)']\n",
            "User: 63941 - Recommended: ['Fight Club (1999)', 'Independence Day (a.k.a. ID4) (1996)', 'Hunt for Red October, The (1990)', 'Léon: The Professional (a.k.a. The Professional) (Léon) (1994)', 'Star Wars: Episode IV - A New Hope (1977)', 'Saving Private Ryan (1998)', 'Princess Bride, The (1987)', 'Fifth Element, The (1997)', 'Die Hard (1988)', 'Men in Black (a.k.a. MIB) (1997)']\n",
            "User: 113060 - Recommended: ['Terminator 2: Judgment Day (1991)', 'Star Wars: Episode V - The Empire Strikes Back (1980)', 'Raiders of the Lost Ark (Indiana Jones and the Raiders of the Lost Ark) (1981)', 'Silence of the Lambs, The (1991)', 'Matrix, The (1999)', 'Shawshank Redemption, The (1994)', 'Star Wars: Episode IV - A New Hope (1977)', 'American Beauty (1999)', 'Toy Story (1995)', 'Pulp Fiction (1994)']\n",
            "User: 35366 - Recommended: ['Lord of the Rings: The Return of the King, The (2003)', 'Terminator 2: Judgment Day (1991)', 'Fight Club (1999)', 'Raiders of the Lost Ark (Indiana Jones and the Raiders of the Lost Ark) (1981)', 'Matrix, The (1999)', 'Fargo (1996)', 'American Beauty (1999)', 'Jurassic Park (1993)', 'Saving Private Ryan (1998)', 'Indiana Jones and the Last Crusade (1989)']\n",
            "User: 29526 - Recommended: ['Lord of the Rings: The Return of the King, The (2003)', 'Star Wars: Episode VI - Return of the Jedi (1983)', 'Fight Club (1999)', 'Star Wars: Episode V - The Empire Strikes Back (1980)', 'Raiders of the Lost Ark (Indiana Jones and the Raiders of the Lost Ark) (1981)', 'Matrix, The (1999)', 'Star Wars: Episode IV - A New Hope (1977)', 'Saving Private Ryan (1998)', 'Braveheart (1995)', 'Indiana Jones and the Last Crusade (1989)']\n",
            "User: 18419 - Recommended: ['Star Wars: Episode VI - Return of the Jedi (1983)', 'Terminator 2: Judgment Day (1991)', 'Star Wars: Episode V - The Empire Strikes Back (1980)', 'Silence of the Lambs, The (1991)', 'Usual Suspects, The (1995)', 'Matrix, The (1999)', 'Star Wars: Episode IV - A New Hope (1977)', 'Jurassic Park (1993)', 'Braveheart (1995)', 'Pulp Fiction (1994)']\n",
            "User: 5967 - Recommended: ['Star Wars: Episode VI - Return of the Jedi (1983)', 'Monty Python and the Holy Grail (1975)', \"One Flew Over the Cuckoo's Nest (1975)\", 'Princess Bride, The (1987)', 'Braveheart (1995)', 'Terminator, The (1984)', 'Full Metal Jacket (1987)', 'Groundhog Day (1993)', \"Amelie (Fabuleux destin d'Amélie Poulain, Le) (2001)\", 'Blade Runner (1982)']\n",
            "User: 964 - Recommended: ['Star Wars: Episode VI - Return of the Jedi (1983)', 'Aliens (1986)', 'Léon: The Professional (a.k.a. The Professional) (Léon) (1994)', 'Raiders of the Lost Ark (Indiana Jones and the Raiders of the Lost Ark) (1981)', 'Jurassic Park (1993)', 'Saving Private Ryan (1998)', 'Braveheart (1995)', 'Fifth Element, The (1997)', 'Gladiator (2000)', 'Blade Runner (1982)']\n",
            "User: 26237 - Recommended: ['Silence of the Lambs, The (1991)', 'Usual Suspects, The (1995)', 'Matrix, The (1999)', 'Shawshank Redemption, The (1994)', \"One Flew Over the Cuckoo's Nest (1975)\", 'Star Wars: Episode IV - A New Hope (1977)', 'American Beauty (1999)', 'Forrest Gump (1994)', 'Pulp Fiction (1994)', 'Sixth Sense, The (1999)']\n",
            "User: 45948 - Recommended: ['Star Wars: Episode V - The Empire Strikes Back (1980)', 'Silence of the Lambs, The (1991)', 'Matrix, The (1999)', 'Fargo (1996)', 'Star Wars: Episode IV - A New Hope (1977)', 'American Beauty (1999)', 'Braveheart (1995)', 'Truman Show, The (1998)', \"Amelie (Fabuleux destin d'Amélie Poulain, Le) (2001)\", 'Dr. Strangelove or: How I Learned to Stop Worrying and Love the Bomb (1964)']\n",
            "User: 109152 - Recommended: ['Raiders of the Lost Ark (Indiana Jones and the Raiders of the Lost Ark) (1981)', \"One Flew Over the Cuckoo's Nest (1975)\", 'Star Wars: Episode IV - A New Hope (1977)', 'Saving Private Ryan (1998)', 'Forrest Gump (1994)', 'Princess Bride, The (1987)', 'Braveheart (1995)', 'Terminator, The (1984)', 'Gladiator (2000)', 'Sixth Sense, The (1999)']\n",
            "User: 30472 - Recommended: ['Raiders of the Lost Ark (Indiana Jones and the Raiders of the Lost Ark) (1981)', 'Silence of the Lambs, The (1991)', 'Matrix, The (1999)', 'Shawshank Redemption, The (1994)', 'Fargo (1996)', 'Forrest Gump (1994)', 'Truman Show, The (1998)', 'Pulp Fiction (1994)', 'Being John Malkovich (1999)', 'Dr. Strangelove or: How I Learned to Stop Worrying and Love the Bomb (1964)']\n",
            "User: 67355 - Recommended: ['Star Wars: Episode VI - Return of the Jedi (1983)', 'Terminator 2: Judgment Day (1991)', 'Star Wars: Episode V - The Empire Strikes Back (1980)', 'Raiders of the Lost Ark (Indiana Jones and the Raiders of the Lost Ark) (1981)', 'Silence of the Lambs, The (1991)', 'Matrix, The (1999)', 'Fargo (1996)', 'Star Wars: Episode IV - A New Hope (1977)', 'Braveheart (1995)', 'Sixth Sense, The (1999)']\n",
            "User: 18309 - Recommended: ['Star Wars: Episode VI - Return of the Jedi (1983)', 'Terminator 2: Judgment Day (1991)', 'Fight Club (1999)', 'Shawshank Redemption, The (1994)', 'Star Wars: Episode IV - A New Hope (1977)', 'Jurassic Park (1993)', 'Forrest Gump (1994)', 'Gladiator (2000)', 'Die Hard (1988)', 'Pulp Fiction (1994)']\n",
            "User: 74890 - Recommended: ['Terminator 2: Judgment Day (1991)', 'Star Wars: Episode V - The Empire Strikes Back (1980)', 'Raiders of the Lost Ark (Indiana Jones and the Raiders of the Lost Ark) (1981)', 'Silence of the Lambs, The (1991)', 'Usual Suspects, The (1995)', 'Shawshank Redemption, The (1994)', \"One Flew Over the Cuckoo's Nest (1975)\", 'Forrest Gump (1994)', 'Braveheart (1995)', \"Schindler's List (1993)\"]\n",
            "User: 55659 - Recommended: ['Lord of the Rings: The Return of the King, The (2003)', 'Fight Club (1999)', 'Silence of the Lambs, The (1991)', 'Shawshank Redemption, The (1994)', 'Fargo (1996)', 'Jurassic Park (1993)', 'Braveheart (1995)', \"Schindler's List (1993)\", 'Pulp Fiction (1994)', 'Dr. Strangelove or: How I Learned to Stop Worrying and Love the Bomb (1964)']\n",
            "User: 121521 - Recommended: ['Lord of the Rings: The Return of the King, The (2003)', 'Silence of the Lambs, The (1991)', 'Shawshank Redemption, The (1994)', 'Star Wars: Episode IV - A New Hope (1977)', 'Jurassic Park (1993)', 'Saving Private Ryan (1998)', 'Forrest Gump (1994)', 'Braveheart (1995)', 'Die Hard (1988)', 'Blade Runner (1982)']\n",
            "User: 7504 - Recommended: ['Terminator 2: Judgment Day (1991)', 'Star Wars: Episode V - The Empire Strikes Back (1980)', 'Raiders of the Lost Ark (Indiana Jones and the Raiders of the Lost Ark) (1981)', 'Matrix, The (1999)', 'Shawshank Redemption, The (1994)', 'Fargo (1996)', 'Star Wars: Episode IV - A New Hope (1977)', 'Groundhog Day (1993)', \"Schindler's List (1993)\", 'Pulp Fiction (1994)']\n",
            "User: 22776 - Recommended: ['Terminator 2: Judgment Day (1991)', 'Fight Club (1999)', 'Pirates of the Caribbean: The Curse of the Black Pearl (2003)', 'Aliens (1986)', 'Hunt for Red October, The (1990)', 'Saving Private Ryan (1998)', 'Forrest Gump (1994)', 'Princess Bride, The (1987)', \"Schindler's List (1993)\", 'Die Hard (1988)']\n",
            "User: 53558 - Recommended: ['Godfather, The (1972)', 'Usual Suspects, The (1995)', 'Matrix, The (1999)', 'Shawshank Redemption, The (1994)', 'Star Wars: Episode IV - A New Hope (1977)', 'Forrest Gump (1994)', 'Groundhog Day (1993)', \"Schindler's List (1993)\", 'Pulp Fiction (1994)', 'Dr. Strangelove or: How I Learned to Stop Worrying and Love the Bomb (1964)']\n",
            "User: 132499 - Recommended: ['Star Wars: Episode VI - Return of the Jedi (1983)', 'Terminator 2: Judgment Day (1991)', 'Star Wars: Episode V - The Empire Strikes Back (1980)', 'Raiders of the Lost Ark (Indiana Jones and the Raiders of the Lost Ark) (1981)', 'Silence of the Lambs, The (1991)', 'Matrix, The (1999)', 'Star Wars: Episode IV - A New Hope (1977)', 'Forrest Gump (1994)', \"Schindler's List (1993)\", 'Sixth Sense, The (1999)']\n",
            "User: 47889 - Recommended: ['Silence of the Lambs, The (1991)', 'Matrix, The (1999)', 'Shawshank Redemption, The (1994)', 'Fargo (1996)', 'Star Wars: Episode IV - A New Hope (1977)', 'American Beauty (1999)', 'Forrest Gump (1994)', \"Schindler's List (1993)\", 'Pulp Fiction (1994)', 'Sixth Sense, The (1999)']\n",
            "User: 18996 - Recommended: ['Terminator 2: Judgment Day (1991)', 'Fight Club (1999)', 'Raiders of the Lost Ark (Indiana Jones and the Raiders of the Lost Ark) (1981)', 'Silence of the Lambs, The (1991)', 'Shawshank Redemption, The (1994)', 'Fargo (1996)', 'Forrest Gump (1994)', 'Braveheart (1995)', \"Schindler's List (1993)\", 'Pulp Fiction (1994)']\n",
            "User: 99163 - Recommended: ['Raiders of the Lost Ark (Indiana Jones and the Raiders of the Lost Ark) (1981)', 'Silence of the Lambs, The (1991)', 'Matrix, The (1999)', 'Jurassic Park (1993)', 'Saving Private Ryan (1998)', 'Forrest Gump (1994)', 'Braveheart (1995)', 'Indiana Jones and the Last Crusade (1989)', \"Schindler's List (1993)\", 'Pulp Fiction (1994)']\n",
            "User: 94270 - Recommended: ['Star Wars: Episode V - The Empire Strikes Back (1980)', 'Raiders of the Lost Ark (Indiana Jones and the Raiders of the Lost Ark) (1981)', 'Matrix, The (1999)', 'Shawshank Redemption, The (1994)', 'Fargo (1996)', 'Star Wars: Episode IV - A New Hope (1977)', 'American Beauty (1999)', 'Braveheart (1995)', 'Pulp Fiction (1994)', 'Sixth Sense, The (1999)']\n",
            "User: 50117 - Recommended: ['Terminator 2: Judgment Day (1991)', 'Fight Club (1999)', 'Raiders of the Lost Ark (Indiana Jones and the Raiders of the Lost Ark) (1981)', 'Silence of the Lambs, The (1991)', 'Shawshank Redemption, The (1994)', 'Star Wars: Episode IV - A New Hope (1977)', 'American Beauty (1999)', 'Jurassic Park (1993)', \"Schindler's List (1993)\", 'Pulp Fiction (1994)']\n",
            "User: 121882 - Recommended: ['Silence of the Lambs, The (1991)', 'Usual Suspects, The (1995)', 'Matrix, The (1999)', 'Shawshank Redemption, The (1994)', \"One Flew Over the Cuckoo's Nest (1975)\", 'Star Wars: Episode IV - A New Hope (1977)', 'Forrest Gump (1994)', \"Schindler's List (1993)\", 'Pulp Fiction (1994)', 'Sixth Sense, The (1999)']\n",
            "User: 48570 - Recommended: ['Star Wars: Episode V - The Empire Strikes Back (1980)', 'Raiders of the Lost Ark (Indiana Jones and the Raiders of the Lost Ark) (1981)', 'Silence of the Lambs, The (1991)', 'Matrix, The (1999)', 'Fargo (1996)', 'Star Wars: Episode IV - A New Hope (1977)', 'American Beauty (1999)', \"Schindler's List (1993)\", 'Pulp Fiction (1994)', 'Sixth Sense, The (1999)']\n",
            "User: 130062 - Recommended: ['Lord of the Rings: The Return of the King, The (2003)', 'Star Wars: Episode VI - Return of the Jedi (1983)', 'Fight Club (1999)', 'Star Wars: Episode V - The Empire Strikes Back (1980)', 'Raiders of the Lost Ark (Indiana Jones and the Raiders of the Lost Ark) (1981)', 'Jurassic Park (1993)', 'Saving Private Ryan (1998)', 'Princess Bride, The (1987)', 'Braveheart (1995)', 'Indiana Jones and the Last Crusade (1989)']\n",
            "User: 46998 - Recommended: ['Star Wars: Episode VI - Return of the Jedi (1983)', 'Terminator 2: Judgment Day (1991)', 'Fight Club (1999)', 'Star Wars: Episode V - The Empire Strikes Back (1980)', 'Raiders of the Lost Ark (Indiana Jones and the Raiders of the Lost Ark) (1981)', 'Silence of the Lambs, The (1991)', 'American Beauty (1999)', 'Braveheart (1995)', \"Schindler's List (1993)\", 'Pulp Fiction (1994)']\n",
            "User: 72610 - Recommended: ['Terminator 2: Judgment Day (1991)', 'Star Wars: Episode V - The Empire Strikes Back (1980)', 'Raiders of the Lost Ark (Indiana Jones and the Raiders of the Lost Ark) (1981)', 'Shawshank Redemption, The (1994)', 'Fargo (1996)', 'Star Wars: Episode IV - A New Hope (1977)', 'Forrest Gump (1994)', 'Braveheart (1995)', 'Groundhog Day (1993)', 'Dr. Strangelove or: How I Learned to Stop Worrying and Love the Bomb (1964)']\n",
            "User: 55604 - Recommended: ['Star Wars: Episode VI - Return of the Jedi (1983)', 'Fight Club (1999)', 'Star Wars: Episode V - The Empire Strikes Back (1980)', 'Raiders of the Lost Ark (Indiana Jones and the Raiders of the Lost Ark) (1981)', 'Matrix, The (1999)', 'Star Wars: Episode IV - A New Hope (1977)', 'Saving Private Ryan (1998)', 'Forrest Gump (1994)', 'Indiana Jones and the Last Crusade (1989)', 'Pulp Fiction (1994)']\n",
            "User: 24615 - Recommended: ['Star Wars: Episode VI - Return of the Jedi (1983)', 'Fight Club (1999)', 'Star Wars: Episode V - The Empire Strikes Back (1980)', 'Raiders of the Lost Ark (Indiana Jones and the Raiders of the Lost Ark) (1981)', 'Matrix, The (1999)', 'Shawshank Redemption, The (1994)', 'Star Wars: Episode IV - A New Hope (1977)', 'Jurassic Park (1993)', 'Saving Private Ryan (1998)', 'Pulp Fiction (1994)']\n",
            "User: 119205 - Recommended: ['Star Wars: Episode VI - Return of the Jedi (1983)', 'Terminator 2: Judgment Day (1991)', 'Star Wars: Episode V - The Empire Strikes Back (1980)', 'Raiders of the Lost Ark (Indiana Jones and the Raiders of the Lost Ark) (1981)', 'Silence of the Lambs, The (1991)', 'Star Wars: Episode IV - A New Hope (1977)', 'Jurassic Park (1993)', 'Saving Private Ryan (1998)', 'Braveheart (1995)', 'Pulp Fiction (1994)']\n",
            "User: 81935 - Recommended: ['Star Wars: Episode VI - Return of the Jedi (1983)', 'Terminator 2: Judgment Day (1991)', 'Star Wars: Episode V - The Empire Strikes Back (1980)', 'Raiders of the Lost Ark (Indiana Jones and the Raiders of the Lost Ark) (1981)', 'Silence of the Lambs, The (1991)', 'Star Wars: Episode IV - A New Hope (1977)', 'Jurassic Park (1993)', 'Saving Private Ryan (1998)', 'Forrest Gump (1994)', \"Schindler's List (1993)\"]\n",
            "User: 67112 - Recommended: ['Lord of the Rings: The Return of the King, The (2003)', 'Fight Club (1999)', 'Silence of the Lambs, The (1991)', 'Usual Suspects, The (1995)', 'American Beauty (1999)', 'Jurassic Park (1993)', 'Princess Bride, The (1987)', 'Braveheart (1995)', 'Terminator, The (1984)', 'Die Hard (1988)']\n",
            "User: 84572 - Recommended: ['Star Wars: Episode VI - Return of the Jedi (1983)', 'Star Wars: Episode V - The Empire Strikes Back (1980)', 'Raiders of the Lost Ark (Indiana Jones and the Raiders of the Lost Ark) (1981)', 'Matrix, The (1999)', 'Shawshank Redemption, The (1994)', 'Star Wars: Episode IV - A New Hope (1977)', 'Jurassic Park (1993)', 'Saving Private Ryan (1998)', 'Braveheart (1995)', 'Indiana Jones and the Last Crusade (1989)']\n",
            "User: 84884 - Recommended: ['Silence of the Lambs, The (1991)', 'Matrix, The (1999)', 'Shawshank Redemption, The (1994)', 'Fargo (1996)', 'Star Wars: Episode IV - A New Hope (1977)', 'American Beauty (1999)', 'Groundhog Day (1993)', \"Schindler's List (1993)\", 'Pulp Fiction (1994)', 'Sixth Sense, The (1999)']\n",
            "User: 134949 - Recommended: ['Lord of the Rings: The Return of the King, The (2003)', 'Star Wars: Episode VI - Return of the Jedi (1983)', 'Fight Club (1999)', 'Star Wars: Episode V - The Empire Strikes Back (1980)', 'Raiders of the Lost Ark (Indiana Jones and the Raiders of the Lost Ark) (1981)', 'Saving Private Ryan (1998)', 'Princess Bride, The (1987)', 'Indiana Jones and the Last Crusade (1989)', 'Die Hard (1988)', 'Blade Runner (1982)']\n",
            "User: 135285 - Recommended: ['Star Wars: Episode V - The Empire Strikes Back (1980)', 'Raiders of the Lost Ark (Indiana Jones and the Raiders of the Lost Ark) (1981)', 'Matrix, The (1999)', 'Shawshank Redemption, The (1994)', 'Fargo (1996)', 'Star Wars: Episode IV - A New Hope (1977)', 'Forrest Gump (1994)', \"Schindler's List (1993)\", 'Pulp Fiction (1994)', 'Sixth Sense, The (1999)']\n",
            "User: 49521 - Recommended: ['Star Wars: Episode VI - Return of the Jedi (1983)', 'Terminator 2: Judgment Day (1991)', 'Aliens (1986)', 'Shawshank Redemption, The (1994)', 'Saving Private Ryan (1998)', 'Indiana Jones and the Last Crusade (1989)', 'Gladiator (2000)', \"Schindler's List (1993)\", 'Die Hard (1988)', 'Blade Runner (1982)']\n",
            "User: 43032 - Recommended: ['Lord of the Rings: The Return of the King, The (2003)', 'Star Wars: Episode VI - Return of the Jedi (1983)', 'Terminator 2: Judgment Day (1991)', 'Raiders of the Lost Ark (Indiana Jones and the Raiders of the Lost Ark) (1981)', 'Usual Suspects, The (1995)', 'Fargo (1996)', 'Saving Private Ryan (1998)', 'Forrest Gump (1994)', 'Braveheart (1995)', 'Toy Story (1995)']\n",
            "User: 104754 - Recommended: ['Silence of the Lambs, The (1991)', 'Matrix, The (1999)', 'Shawshank Redemption, The (1994)', \"One Flew Over the Cuckoo's Nest (1975)\", 'Fargo (1996)', 'Star Wars: Episode IV - A New Hope (1977)', 'Groundhog Day (1993)', 'Pulp Fiction (1994)', 'Being John Malkovich (1999)', 'Dr. Strangelove or: How I Learned to Stop Worrying and Love the Bomb (1964)']\n",
            "User: 78131 - Recommended: ['Terminator 2: Judgment Day (1991)', 'Silence of the Lambs, The (1991)', 'Matrix, The (1999)', 'Saving Private Ryan (1998)', 'Princess Bride, The (1987)', 'Braveheart (1995)', 'Indiana Jones and the Last Crusade (1989)', \"Schindler's List (1993)\", 'Die Hard (1988)', 'Pulp Fiction (1994)']\n",
            "User: 16281 - Recommended: ['Fargo (1996)', 'American Beauty (1999)', 'Forrest Gump (1994)', 'Truman Show, The (1998)', 'Groundhog Day (1993)', \"Ferris Bueller's Day Off (1986)\", 'Pulp Fiction (1994)', \"Amelie (Fabuleux destin d'Amélie Poulain, Le) (2001)\", 'Being John Malkovich (1999)', 'Dr. Strangelove or: How I Learned to Stop Worrying and Love the Bomb (1964)']\n",
            "User: 99928 - Recommended: ['Terminator 2: Judgment Day (1991)', 'Fight Club (1999)', 'Raiders of the Lost Ark (Indiana Jones and the Raiders of the Lost Ark) (1981)', 'Silence of the Lambs, The (1991)', 'American Beauty (1999)', 'Princess Bride, The (1987)', 'Braveheart (1995)', 'Terminator, The (1984)', \"Schindler's List (1993)\", 'Blade Runner (1982)']\n",
            "User: 2035 - Recommended: ['Star Wars: Episode VI - Return of the Jedi (1983)', 'Terminator 2: Judgment Day (1991)', 'Fight Club (1999)', 'Star Wars: Episode V - The Empire Strikes Back (1980)', 'Raiders of the Lost Ark (Indiana Jones and the Raiders of the Lost Ark) (1981)', 'Usual Suspects, The (1995)', 'Star Wars: Episode IV - A New Hope (1977)', 'Braveheart (1995)', 'Toy Story (1995)', 'Pulp Fiction (1994)']\n",
            "User: 18572 - Recommended: ['Terminator 2: Judgment Day (1991)', 'Raiders of the Lost Ark (Indiana Jones and the Raiders of the Lost Ark) (1981)', 'Silence of the Lambs, The (1991)', 'Shawshank Redemption, The (1994)', 'American Beauty (1999)', 'Jurassic Park (1993)', 'Saving Private Ryan (1998)', 'Princess Bride, The (1987)', 'Braveheart (1995)', 'Indiana Jones and the Last Crusade (1989)']\n",
            "User: 104095 - Recommended: ['Terminator 2: Judgment Day (1991)', 'Star Wars: Episode V - The Empire Strikes Back (1980)', 'Raiders of the Lost Ark (Indiana Jones and the Raiders of the Lost Ark) (1981)', 'Silence of the Lambs, The (1991)', 'Fargo (1996)', 'Star Wars: Episode IV - A New Hope (1977)', 'Forrest Gump (1994)', 'Braveheart (1995)', \"Schindler's List (1993)\", 'Pulp Fiction (1994)']\n",
            "User: 66815 - Recommended: ['Terminator 2: Judgment Day (1991)', 'Usual Suspects, The (1995)', 'Matrix, The (1999)', 'Shawshank Redemption, The (1994)', 'Fargo (1996)', 'American Beauty (1999)', 'Jurassic Park (1993)', 'Forrest Gump (1994)', 'Braveheart (1995)', 'Groundhog Day (1993)']\n",
            "User: 10926 - Recommended: ['Star Wars: Episode VI - Return of the Jedi (1983)', 'Terminator 2: Judgment Day (1991)', 'Fight Club (1999)', 'Star Wars: Episode V - The Empire Strikes Back (1980)', 'Raiders of the Lost Ark (Indiana Jones and the Raiders of the Lost Ark) (1981)', 'Silence of the Lambs, The (1991)', 'Matrix, The (1999)', 'Shawshank Redemption, The (1994)', 'Star Wars: Episode IV - A New Hope (1977)', 'Braveheart (1995)']\n",
            "User: 117590 - Recommended: ['Star Wars: Episode VI - Return of the Jedi (1983)', 'Star Wars: Episode V - The Empire Strikes Back (1980)', 'Raiders of the Lost Ark (Indiana Jones and the Raiders of the Lost Ark) (1981)', 'Star Wars: Episode IV - A New Hope (1977)', 'Jurassic Park (1993)', 'Saving Private Ryan (1998)', 'Forrest Gump (1994)', 'Braveheart (1995)', 'Indiana Jones and the Last Crusade (1989)', \"Schindler's List (1993)\"]\n",
            "User: 46424 - Recommended: ['Lord of the Rings: The Return of the King, The (2003)', 'Silence of the Lambs, The (1991)', 'Jurassic Park (1993)', 'Rain Man (1988)', 'Indiana Jones and the Last Crusade (1989)', 'Toy Story (1995)', 'Terminator, The (1984)', 'Sixth Sense, The (1999)', 'Good Will Hunting (1997)', 'Dr. Strangelove or: How I Learned to Stop Worrying and Love the Bomb (1964)']\n",
            "User: 7463 - Recommended: ['Star Wars: Episode VI - Return of the Jedi (1983)', 'Star Wars: Episode V - The Empire Strikes Back (1980)', 'Raiders of the Lost Ark (Indiana Jones and the Raiders of the Lost Ark) (1981)', 'Matrix, The (1999)', 'Shawshank Redemption, The (1994)', 'Star Wars: Episode IV - A New Hope (1977)', 'American Beauty (1999)', 'Forrest Gump (1994)', 'Braveheart (1995)', 'Pulp Fiction (1994)']\n",
            "User: 51344 - Recommended: ['Fight Club (1999)', 'Star Wars: Episode V - The Empire Strikes Back (1980)', 'Usual Suspects, The (1995)', 'Matrix, The (1999)', 'Fargo (1996)', 'American Beauty (1999)', 'Forrest Gump (1994)', 'Braveheart (1995)', 'Pulp Fiction (1994)', 'Blade Runner (1982)']\n",
            "User: 54977 - Recommended: ['Fight Club (1999)', 'Star Wars: Episode V - The Empire Strikes Back (1980)', 'Fargo (1996)', 'American Beauty (1999)', 'Saving Private Ryan (1998)', 'Forrest Gump (1994)', 'Braveheart (1995)', 'Indiana Jones and the Last Crusade (1989)', \"Schindler's List (1993)\", 'Pulp Fiction (1994)']\n",
            "User: 61060 - Recommended: ['Star Wars: Episode VI - Return of the Jedi (1983)', 'Terminator 2: Judgment Day (1991)', 'Raiders of the Lost Ark (Indiana Jones and the Raiders of the Lost Ark) (1981)', 'Silence of the Lambs, The (1991)', 'Shawshank Redemption, The (1994)', 'Star Wars: Episode IV - A New Hope (1977)', 'Jurassic Park (1993)', 'Saving Private Ryan (1998)', 'Braveheart (1995)', 'Pulp Fiction (1994)']\n",
            "User: 21672 - Recommended: ['Star Wars: Episode VI - Return of the Jedi (1983)', 'Terminator 2: Judgment Day (1991)', 'Star Wars: Episode V - The Empire Strikes Back (1980)', 'Raiders of the Lost Ark (Indiana Jones and the Raiders of the Lost Ark) (1981)', 'Matrix, The (1999)', 'Shawshank Redemption, The (1994)', 'Star Wars: Episode IV - A New Hope (1977)', 'Jurassic Park (1993)', 'Saving Private Ryan (1998)', 'Braveheart (1995)']\n",
            "User: 77940 - Recommended: ['Star Wars: Episode VI - Return of the Jedi (1983)', 'Terminator 2: Judgment Day (1991)', 'Fight Club (1999)', 'Star Wars: Episode V - The Empire Strikes Back (1980)', 'Raiders of the Lost Ark (Indiana Jones and the Raiders of the Lost Ark) (1981)', 'Silence of the Lambs, The (1991)', 'Matrix, The (1999)', 'Shawshank Redemption, The (1994)', 'Jurassic Park (1993)', 'Braveheart (1995)']\n",
            "User: 111756 - Recommended: ['Star Wars: Episode VI - Return of the Jedi (1983)', 'Fight Club (1999)', 'Star Wars: Episode V - The Empire Strikes Back (1980)', 'Raiders of the Lost Ark (Indiana Jones and the Raiders of the Lost Ark) (1981)', 'Silence of the Lambs, The (1991)', 'Shawshank Redemption, The (1994)', 'Star Wars: Episode IV - A New Hope (1977)', 'Jurassic Park (1993)', 'Saving Private Ryan (1998)', 'Braveheart (1995)']\n",
            "User: 70349 - Recommended: ['Godfather, The (1972)', 'Silence of the Lambs, The (1991)', 'Usual Suspects, The (1995)', 'Matrix, The (1999)', 'Fargo (1996)', 'Star Wars: Episode IV - A New Hope (1977)', 'Forrest Gump (1994)', 'Groundhog Day (1993)', \"Schindler's List (1993)\", 'Dr. Strangelove or: How I Learned to Stop Worrying and Love the Bomb (1964)']\n",
            "User: 36315 - Recommended: ['Star Wars: Episode VI - Return of the Jedi (1983)', 'Terminator 2: Judgment Day (1991)', 'Star Wars: Episode V - The Empire Strikes Back (1980)', 'Raiders of the Lost Ark (Indiana Jones and the Raiders of the Lost Ark) (1981)', 'Star Wars: Episode IV - A New Hope (1977)', 'American Beauty (1999)', 'Forrest Gump (1994)', 'Braveheart (1995)', \"Schindler's List (1993)\", 'Pulp Fiction (1994)']\n",
            "User: 2175 - Recommended: ['Terminator 2: Judgment Day (1991)', 'Star Wars: Episode V - The Empire Strikes Back (1980)', 'Raiders of the Lost Ark (Indiana Jones and the Raiders of the Lost Ark) (1981)', 'Silence of the Lambs, The (1991)', 'Matrix, The (1999)', 'Shawshank Redemption, The (1994)', 'Braveheart (1995)', 'Toy Story (1995)', \"Schindler's List (1993)\", 'Sixth Sense, The (1999)']\n",
            "User: 16387 - Recommended: ['Terminator 2: Judgment Day (1991)', 'Star Wars: Episode V - The Empire Strikes Back (1980)', 'Raiders of the Lost Ark (Indiana Jones and the Raiders of the Lost Ark) (1981)', 'Matrix, The (1999)', 'Shawshank Redemption, The (1994)', 'Star Wars: Episode IV - A New Hope (1977)', 'Forrest Gump (1994)', 'Braveheart (1995)', \"Schindler's List (1993)\", 'Pulp Fiction (1994)']\n",
            "User: 62702 - Recommended: ['Terminator 2: Judgment Day (1991)', 'Star Wars: Episode V - The Empire Strikes Back (1980)', 'Raiders of the Lost Ark (Indiana Jones and the Raiders of the Lost Ark) (1981)', 'Matrix, The (1999)', 'Fargo (1996)', 'Star Wars: Episode IV - A New Hope (1977)', 'American Beauty (1999)', \"Schindler's List (1993)\", 'Pulp Fiction (1994)', 'Sixth Sense, The (1999)']\n",
            "User: 25720 - Recommended: ['Raiders of the Lost Ark (Indiana Jones and the Raiders of the Lost Ark) (1981)', 'Silence of the Lambs, The (1991)', 'Matrix, The (1999)', 'Shawshank Redemption, The (1994)', 'Fargo (1996)', 'American Beauty (1999)', 'Forrest Gump (1994)', 'Toy Story (1995)', 'Pulp Fiction (1994)', 'Sixth Sense, The (1999)']\n",
            "User: 134855 - Recommended: ['Star Wars: Episode V - The Empire Strikes Back (1980)', 'Silence of the Lambs, The (1991)', 'Usual Suspects, The (1995)', 'Matrix, The (1999)', 'Shawshank Redemption, The (1994)', 'Star Wars: Episode IV - A New Hope (1977)', 'Forrest Gump (1994)', \"Schindler's List (1993)\", 'Pulp Fiction (1994)', 'Sixth Sense, The (1999)']\n",
            "User: 79826 - Recommended: ['Terminator 2: Judgment Day (1991)', 'Fight Club (1999)', 'Matrix, The (1999)', 'Shawshank Redemption, The (1994)', 'Fargo (1996)', 'Star Wars: Episode IV - A New Hope (1977)', 'American Beauty (1999)', 'Jurassic Park (1993)', 'Braveheart (1995)', 'Pulp Fiction (1994)']\n",
            "User: 131443 - Recommended: ['Pirates of the Caribbean: The Curse of the Black Pearl (2003)', 'Aliens (1986)', 'Raiders of the Lost Ark (Indiana Jones and the Raiders of the Lost Ark) (1981)', 'Fargo (1996)', 'Princess Bride, The (1987)', 'Indiana Jones and the Last Crusade (1989)', 'Toy Story (1995)', 'Terminator, The (1984)', 'Die Hard (1988)', 'Sixth Sense, The (1999)']\n",
            "User: 106048 - Recommended: ['Back to the Future (1985)', 'Lord of the Rings: The Fellowship of the Ring, The (2001)', 'Silence of the Lambs, The (1991)', 'Monty Python and the Holy Grail (1975)', 'Matrix, The (1999)', 'Shawshank Redemption, The (1994)', 'Star Wars: Episode IV - A New Hope (1977)', 'Forrest Gump (1994)', 'Pulp Fiction (1994)', 'Lord of the Rings: The Two Towers, The (2002)']\n",
            "User: 100194 - Recommended: ['Star Wars: Episode VI - Return of the Jedi (1983)', 'Terminator 2: Judgment Day (1991)', 'Fight Club (1999)', 'Silence of the Lambs, The (1991)', 'Matrix, The (1999)', 'Star Wars: Episode IV - A New Hope (1977)', 'Jurassic Park (1993)', 'Forrest Gump (1994)', 'Braveheart (1995)', 'Pulp Fiction (1994)']\n",
            "User: 74270 - Recommended: ['Star Wars: Episode VI - Return of the Jedi (1983)', 'Terminator 2: Judgment Day (1991)', 'Fight Club (1999)', 'Shawshank Redemption, The (1994)', 'Jurassic Park (1993)', 'Saving Private Ryan (1998)', 'Forrest Gump (1994)', 'Braveheart (1995)', 'Indiana Jones and the Last Crusade (1989)', 'Pulp Fiction (1994)']\n",
            "User: 27408 - Recommended: ['Star Wars: Episode VI - Return of the Jedi (1983)', 'Terminator 2: Judgment Day (1991)', 'Fight Club (1999)', 'Star Wars: Episode V - The Empire Strikes Back (1980)', 'Raiders of the Lost Ark (Indiana Jones and the Raiders of the Lost Ark) (1981)', 'Usual Suspects, The (1995)', 'Shawshank Redemption, The (1994)', 'Star Wars: Episode IV - A New Hope (1977)', 'Jurassic Park (1993)', 'Braveheart (1995)']\n",
            "User: 89397 - Recommended: ['Silence of the Lambs, The (1991)', 'Matrix, The (1999)', 'Shawshank Redemption, The (1994)', 'Fargo (1996)', 'Star Wars: Episode IV - A New Hope (1977)', 'American Beauty (1999)', 'Forrest Gump (1994)', \"Schindler's List (1993)\", 'Pulp Fiction (1994)', 'Sixth Sense, The (1999)']\n",
            "User: 134927 - Recommended: ['Star Wars: Episode V - The Empire Strikes Back (1980)', 'Raiders of the Lost Ark (Indiana Jones and the Raiders of the Lost Ark) (1981)', 'Silence of the Lambs, The (1991)', 'Matrix, The (1999)', 'Shawshank Redemption, The (1994)', 'Fargo (1996)', 'Star Wars: Episode IV - A New Hope (1977)', 'Forrest Gump (1994)', 'Groundhog Day (1993)', \"Schindler's List (1993)\"]\n",
            "User: 40387 - Recommended: ['Terminator 2: Judgment Day (1991)', 'Raiders of the Lost Ark (Indiana Jones and the Raiders of the Lost Ark) (1981)', 'Usual Suspects, The (1995)', 'Shawshank Redemption, The (1994)', 'Jurassic Park (1993)', 'Forrest Gump (1994)', 'Braveheart (1995)', 'Rain Man (1988)', 'Indiana Jones and the Last Crusade (1989)', 'Full Metal Jacket (1987)']\n",
            "User: 93776 - Recommended: ['Lord of the Rings: The Return of the King, The (2003)', 'Star Wars: Episode VI - Return of the Jedi (1983)', 'Terminator 2: Judgment Day (1991)', 'Silence of the Lambs, The (1991)', 'Star Wars: Episode IV - A New Hope (1977)', 'Princess Bride, The (1987)', 'Terminator, The (1984)', \"Schindler's List (1993)\", 'Die Hard (1988)', 'Blade Runner (1982)']\n",
            "User: 13696 - Recommended: ['Lord of the Rings: The Return of the King, The (2003)', 'Terminator 2: Judgment Day (1991)', 'Fight Club (1999)', 'Raiders of the Lost Ark (Indiana Jones and the Raiders of the Lost Ark) (1981)', 'Shawshank Redemption, The (1994)', 'Star Wars: Episode IV - A New Hope (1977)', 'Princess Bride, The (1987)', 'Indiana Jones and the Last Crusade (1989)', 'Gladiator (2000)', 'Blade Runner (1982)']\n",
            "User: 576 - Recommended: ['Godfather, The (1972)', 'Matrix, The (1999)', 'Shawshank Redemption, The (1994)', \"One Flew Over the Cuckoo's Nest (1975)\", 'Fargo (1996)', 'Forrest Gump (1994)', 'Groundhog Day (1993)', \"Schindler's List (1993)\", 'Pulp Fiction (1994)', 'Sixth Sense, The (1999)']\n",
            "User: 88965 - Recommended: ['Silence of the Lambs, The (1991)', 'Matrix, The (1999)', \"One Flew Over the Cuckoo's Nest (1975)\", 'Fargo (1996)', 'American Beauty (1999)', 'Forrest Gump (1994)', 'Groundhog Day (1993)', \"Schindler's List (1993)\", 'Pulp Fiction (1994)', 'Sixth Sense, The (1999)']\n",
            "User: 128900 - Recommended: ['Usual Suspects, The (1995)', 'Matrix, The (1999)', 'Shawshank Redemption, The (1994)', 'Fargo (1996)', 'Star Wars: Episode IV - A New Hope (1977)', 'American Beauty (1999)', 'Forrest Gump (1994)', 'Toy Story (1995)', 'Pulp Fiction (1994)', 'Sixth Sense, The (1999)']\n",
            "User: 137471 - Recommended: ['Star Wars: Episode VI - Return of the Jedi (1983)', 'Terminator 2: Judgment Day (1991)', 'Star Wars: Episode V - The Empire Strikes Back (1980)', 'Raiders of the Lost Ark (Indiana Jones and the Raiders of the Lost Ark) (1981)', 'Matrix, The (1999)', 'Shawshank Redemption, The (1994)', 'Fargo (1996)', 'Star Wars: Episode IV - A New Hope (1977)', 'Braveheart (1995)', 'Pulp Fiction (1994)']\n",
            "User: 78096 - Recommended: ['Star Wars: Episode VI - Return of the Jedi (1983)', 'Fight Club (1999)', 'Star Wars: Episode V - The Empire Strikes Back (1980)', 'Raiders of the Lost Ark (Indiana Jones and the Raiders of the Lost Ark) (1981)', 'Matrix, The (1999)', 'Fargo (1996)', 'Star Wars: Episode IV - A New Hope (1977)', 'American Beauty (1999)', 'Jurassic Park (1993)', 'Pulp Fiction (1994)']\n",
            "User: 42456 - Recommended: ['Star Wars: Episode VI - Return of the Jedi (1983)', 'Star Wars: Episode V - The Empire Strikes Back (1980)', 'Raiders of the Lost Ark (Indiana Jones and the Raiders of the Lost Ark) (1981)', 'Star Wars: Episode IV - A New Hope (1977)', 'Jurassic Park (1993)', 'Saving Private Ryan (1998)', 'Forrest Gump (1994)', 'Braveheart (1995)', \"Schindler's List (1993)\", 'Pulp Fiction (1994)']\n",
            "User: 124478 - Recommended: ['Lord of the Rings: The Return of the King, The (2003)', 'Terminator 2: Judgment Day (1991)', 'Fight Club (1999)', 'Star Wars: Episode V - The Empire Strikes Back (1980)', 'Raiders of the Lost Ark (Indiana Jones and the Raiders of the Lost Ark) (1981)', 'Matrix, The (1999)', 'Jurassic Park (1993)', 'Saving Private Ryan (1998)', 'Princess Bride, The (1987)', 'Braveheart (1995)']\n",
            "User: 79707 - Recommended: ['Star Wars: Episode V - The Empire Strikes Back (1980)', 'Usual Suspects, The (1995)', 'Matrix, The (1999)', 'Shawshank Redemption, The (1994)', 'Star Wars: Episode IV - A New Hope (1977)', 'American Beauty (1999)', 'Forrest Gump (1994)', 'Braveheart (1995)', 'Toy Story (1995)', 'Sixth Sense, The (1999)']\n",
            "User: 99804 - Recommended: ['Godfather, The (1972)', 'Silence of the Lambs, The (1991)', 'Usual Suspects, The (1995)', 'Matrix, The (1999)', 'Star Wars: Episode IV - A New Hope (1977)', 'American Beauty (1999)', 'Forrest Gump (1994)', 'Groundhog Day (1993)', 'Pulp Fiction (1994)', 'Sixth Sense, The (1999)']\n",
            "User: 89256 - Recommended: ['Star Wars: Episode VI - Return of the Jedi (1983)', 'Terminator 2: Judgment Day (1991)', 'Star Wars: Episode V - The Empire Strikes Back (1980)', 'Silence of the Lambs, The (1991)', 'Usual Suspects, The (1995)', 'Matrix, The (1999)', 'Star Wars: Episode IV - A New Hope (1977)', 'Forrest Gump (1994)', 'Braveheart (1995)', \"Schindler's List (1993)\"]\n",
            "User: 7629 - Recommended: ['Lord of the Rings: The Return of the King, The (2003)', 'Star Wars: Episode VI - Return of the Jedi (1983)', 'Fight Club (1999)', 'Matrix, The (1999)', 'Shawshank Redemption, The (1994)', 'Saving Private Ryan (1998)', 'Princess Bride, The (1987)', 'Terminator, The (1984)', 'Gladiator (2000)', 'Die Hard (1988)']\n",
            "User: 95603 - Recommended: ['Terminator 2: Judgment Day (1991)', 'Star Wars: Episode V - The Empire Strikes Back (1980)', 'Raiders of the Lost Ark (Indiana Jones and the Raiders of the Lost Ark) (1981)', 'Silence of the Lambs, The (1991)', 'Matrix, The (1999)', 'Shawshank Redemption, The (1994)', 'Star Wars: Episode IV - A New Hope (1977)', 'Forrest Gump (1994)', 'Braveheart (1995)', 'Pulp Fiction (1994)']\n",
            "User: 46724 - Recommended: ['Star Wars: Episode V - The Empire Strikes Back (1980)', 'Raiders of the Lost Ark (Indiana Jones and the Raiders of the Lost Ark) (1981)', 'Usual Suspects, The (1995)', 'Matrix, The (1999)', 'Fargo (1996)', 'American Beauty (1999)', 'Forrest Gump (1994)', 'Braveheart (1995)', 'Groundhog Day (1993)', \"Schindler's List (1993)\"]\n",
            "User: 50366 - Recommended: ['Star Wars: Episode VI - Return of the Jedi (1983)', 'Fight Club (1999)', 'Star Wars: Episode V - The Empire Strikes Back (1980)', 'Raiders of the Lost Ark (Indiana Jones and the Raiders of the Lost Ark) (1981)', 'Matrix, The (1999)', 'Shawshank Redemption, The (1994)', 'Star Wars: Episode IV - A New Hope (1977)', 'Saving Private Ryan (1998)', 'Braveheart (1995)', 'Indiana Jones and the Last Crusade (1989)']\n",
            "User: 45869 - Recommended: ['Star Wars: Episode VI - Return of the Jedi (1983)', 'Terminator 2: Judgment Day (1991)', 'Fight Club (1999)', 'Star Wars: Episode V - The Empire Strikes Back (1980)', 'Raiders of the Lost Ark (Indiana Jones and the Raiders of the Lost Ark) (1981)', 'Silence of the Lambs, The (1991)', 'Matrix, The (1999)', 'Star Wars: Episode IV - A New Hope (1977)', 'Saving Private Ryan (1998)', 'Pulp Fiction (1994)']\n",
            "User: 4394 - Recommended: ['Terminator 2: Judgment Day (1991)', 'Star Wars: Episode V - The Empire Strikes Back (1980)', 'Silence of the Lambs, The (1991)', 'Matrix, The (1999)', 'Shawshank Redemption, The (1994)', 'Star Wars: Episode IV - A New Hope (1977)', 'American Beauty (1999)', 'Forrest Gump (1994)', 'Braveheart (1995)', 'Pulp Fiction (1994)']\n",
            "User: 80827 - Recommended: ['Star Wars: Episode V - The Empire Strikes Back (1980)', 'Shawshank Redemption, The (1994)', 'Fargo (1996)', 'Star Wars: Episode IV - A New Hope (1977)', 'American Beauty (1999)', 'Forrest Gump (1994)', 'Toy Story (1995)', 'Groundhog Day (1993)', \"Schindler's List (1993)\", 'Pulp Fiction (1994)']\n",
            "User: 99121 - Recommended: ['Terminator 2: Judgment Day (1991)', 'Star Wars: Episode V - The Empire Strikes Back (1980)', 'Raiders of the Lost Ark (Indiana Jones and the Raiders of the Lost Ark) (1981)', 'Silence of the Lambs, The (1991)', 'Matrix, The (1999)', 'Fargo (1996)', 'American Beauty (1999)', 'Braveheart (1995)', 'Pulp Fiction (1994)', 'Sixth Sense, The (1999)']\n",
            "User: 84004 - Recommended: ['Terminator 2: Judgment Day (1991)', 'Star Wars: Episode V - The Empire Strikes Back (1980)', 'Raiders of the Lost Ark (Indiana Jones and the Raiders of the Lost Ark) (1981)', 'Matrix, The (1999)', 'Shawshank Redemption, The (1994)', 'Star Wars: Episode IV - A New Hope (1977)', 'Forrest Gump (1994)', 'Braveheart (1995)', \"Schindler's List (1993)\", 'Pulp Fiction (1994)']\n",
            "User: 116856 - Recommended: ['Lord of the Rings: The Return of the King, The (2003)', 'Terminator 2: Judgment Day (1991)', 'Fight Club (1999)', 'Star Wars: Episode V - The Empire Strikes Back (1980)', 'Raiders of the Lost Ark (Indiana Jones and the Raiders of the Lost Ark) (1981)', 'Matrix, The (1999)', 'Shawshank Redemption, The (1994)', 'Saving Private Ryan (1998)', 'Braveheart (1995)', 'Indiana Jones and the Last Crusade (1989)']\n",
            "User: 105396 - Recommended: ['Lord of the Rings: The Return of the King, The (2003)', 'Star Wars: Episode VI - Return of the Jedi (1983)', 'Terminator 2: Judgment Day (1991)', 'Star Wars: Episode V - The Empire Strikes Back (1980)', 'Raiders of the Lost Ark (Indiana Jones and the Raiders of the Lost Ark) (1981)', 'Star Wars: Episode IV - A New Hope (1977)', 'Saving Private Ryan (1998)', 'Princess Bride, The (1987)', 'Braveheart (1995)', 'Indiana Jones and the Last Crusade (1989)']\n",
            "User: 47138 - Recommended: ['Star Wars: Episode V - The Empire Strikes Back (1980)', 'Silence of the Lambs, The (1991)', 'Usual Suspects, The (1995)', 'Matrix, The (1999)', 'Shawshank Redemption, The (1994)', 'Fargo (1996)', 'Star Wars: Episode IV - A New Hope (1977)', 'American Beauty (1999)', 'Forrest Gump (1994)', 'Groundhog Day (1993)']\n",
            "User: 9919 - Recommended: ['Terminator 2: Judgment Day (1991)', 'Silence of the Lambs, The (1991)', 'Shawshank Redemption, The (1994)', 'Saving Private Ryan (1998)', 'Princess Bride, The (1987)', 'Indiana Jones and the Last Crusade (1989)', 'Terminator, The (1984)', \"Schindler's List (1993)\", 'Die Hard (1988)', 'Blade Runner (1982)']\n",
            "User: 26751 - Recommended: ['Star Wars: Episode VI - Return of the Jedi (1983)', 'Terminator 2: Judgment Day (1991)', 'Star Wars: Episode V - The Empire Strikes Back (1980)', 'Matrix, The (1999)', 'Jurassic Park (1993)', 'Saving Private Ryan (1998)', 'Forrest Gump (1994)', 'Braveheart (1995)', 'Indiana Jones and the Last Crusade (1989)', 'Pulp Fiction (1994)']\n",
            "User: 78447 - Recommended: ['Fight Club (1999)', 'Star Wars: Episode V - The Empire Strikes Back (1980)', 'Shawshank Redemption, The (1994)', 'Fargo (1996)', 'American Beauty (1999)', 'Jurassic Park (1993)', 'Saving Private Ryan (1998)', 'Braveheart (1995)', \"Schindler's List (1993)\", 'Pulp Fiction (1994)']\n",
            "User: 30630 - Recommended: ['Lord of the Rings: The Return of the King, The (2003)', 'Star Wars: Episode VI - Return of the Jedi (1983)', 'Terminator 2: Judgment Day (1991)', 'Silence of the Lambs, The (1991)', \"One Flew Over the Cuckoo's Nest (1975)\", 'American Beauty (1999)', 'Jurassic Park (1993)', 'Saving Private Ryan (1998)', 'Princess Bride, The (1987)', 'Braveheart (1995)']\n",
            "User: 9178 - Recommended: ['Lord of the Rings: The Return of the King, The (2003)', 'Fight Club (1999)', 'Independence Day (a.k.a. ID4) (1996)', 'Pirates of the Caribbean: The Curse of the Black Pearl (2003)', 'Léon: The Professional (a.k.a. The Professional) (Léon) (1994)', 'Raiders of the Lost Ark (Indiana Jones and the Raiders of the Lost Ark) (1981)', 'Jurassic Park (1993)', 'Indiana Jones and the Last Crusade (1989)', 'Fifth Element, The (1997)', 'Men in Black (a.k.a. MIB) (1997)']\n",
            "User: 114971 - Recommended: ['Silence of the Lambs, The (1991)', 'Matrix, The (1999)', 'Shawshank Redemption, The (1994)', \"One Flew Over the Cuckoo's Nest (1975)\", 'Fargo (1996)', 'Star Wars: Episode IV - A New Hope (1977)', 'American Beauty (1999)', 'Forrest Gump (1994)', 'Pulp Fiction (1994)', 'Sixth Sense, The (1999)']\n",
            "User: 61531 - Recommended: ['Shawshank Redemption, The (1994)', 'Fargo (1996)', 'American Beauty (1999)', 'Forrest Gump (1994)', 'Truman Show, The (1998)', 'Groundhog Day (1993)', 'Pulp Fiction (1994)', \"Amelie (Fabuleux destin d'Amélie Poulain, Le) (2001)\", 'Being John Malkovich (1999)', 'Dr. Strangelove or: How I Learned to Stop Worrying and Love the Bomb (1964)']\n",
            "User: 121382 - Recommended: ['Star Wars: Episode VI - Return of the Jedi (1983)', 'Terminator 2: Judgment Day (1991)', 'Aliens (1986)', 'Matrix, The (1999)', 'Shawshank Redemption, The (1994)', 'Saving Private Ryan (1998)', 'Princess Bride, The (1987)', 'Gladiator (2000)', 'Die Hard (1988)', 'Blade Runner (1982)']\n",
            "User: 110419 - Recommended: ['Star Wars: Episode VI - Return of the Jedi (1983)', 'Terminator 2: Judgment Day (1991)', 'Star Wars: Episode V - The Empire Strikes Back (1980)', 'Raiders of the Lost Ark (Indiana Jones and the Raiders of the Lost Ark) (1981)', 'Usual Suspects, The (1995)', 'Shawshank Redemption, The (1994)', 'Star Wars: Episode IV - A New Hope (1977)', 'Jurassic Park (1993)', \"Schindler's List (1993)\", 'Pulp Fiction (1994)']\n",
            "User: 55694 - Recommended: ['Star Wars: Episode V - The Empire Strikes Back (1980)', 'Silence of the Lambs, The (1991)', 'Matrix, The (1999)', 'Shawshank Redemption, The (1994)', 'Fargo (1996)', 'American Beauty (1999)', 'Braveheart (1995)', 'Groundhog Day (1993)', 'Pulp Fiction (1994)', 'Dr. Strangelove or: How I Learned to Stop Worrying and Love the Bomb (1964)']\n",
            "User: 124522 - Recommended: ['Lord of the Rings: The Return of the King, The (2003)', 'Fight Club (1999)', 'Raiders of the Lost Ark (Indiana Jones and the Raiders of the Lost Ark) (1981)', 'Shawshank Redemption, The (1994)', 'Jurassic Park (1993)', 'Saving Private Ryan (1998)', 'Forrest Gump (1994)', 'Braveheart (1995)', 'Indiana Jones and the Last Crusade (1989)', 'Pulp Fiction (1994)']\n",
            "User: 51376 - Recommended: ['Star Wars: Episode VI - Return of the Jedi (1983)', 'Terminator 2: Judgment Day (1991)', 'Fight Club (1999)', 'Star Wars: Episode V - The Empire Strikes Back (1980)', 'Raiders of the Lost Ark (Indiana Jones and the Raiders of the Lost Ark) (1981)', 'Matrix, The (1999)', 'American Beauty (1999)', 'Saving Private Ryan (1998)', \"Schindler's List (1993)\", 'Pulp Fiction (1994)']\n",
            "User: 51003 - Recommended: ['Terminator 2: Judgment Day (1991)', 'Star Wars: Episode V - The Empire Strikes Back (1980)', 'Raiders of the Lost Ark (Indiana Jones and the Raiders of the Lost Ark) (1981)', 'Matrix, The (1999)', 'Shawshank Redemption, The (1994)', 'Fargo (1996)', 'Star Wars: Episode IV - A New Hope (1977)', 'American Beauty (1999)', 'Groundhog Day (1993)', 'Sixth Sense, The (1999)']\n",
            "User: 54875 - Recommended: ['Terminator 2: Judgment Day (1991)', 'Star Wars: Episode V - The Empire Strikes Back (1980)', 'Raiders of the Lost Ark (Indiana Jones and the Raiders of the Lost Ark) (1981)', 'Silence of the Lambs, The (1991)', 'Matrix, The (1999)', 'Shawshank Redemption, The (1994)', 'Star Wars: Episode IV - A New Hope (1977)', 'Braveheart (1995)', \"Schindler's List (1993)\", 'Pulp Fiction (1994)']\n",
            "User: 52609 - Recommended: ['Star Wars: Episode VI - Return of the Jedi (1983)', 'Fight Club (1999)', 'Star Wars: Episode V - The Empire Strikes Back (1980)', 'Raiders of the Lost Ark (Indiana Jones and the Raiders of the Lost Ark) (1981)', 'Silence of the Lambs, The (1991)', 'Matrix, The (1999)', 'Shawshank Redemption, The (1994)', 'Star Wars: Episode IV - A New Hope (1977)', \"Schindler's List (1993)\", 'Pulp Fiction (1994)']\n",
            "User: 75744 - Recommended: ['Lord of the Rings: The Return of the King, The (2003)', 'Fight Club (1999)', 'Star Wars: Episode V - The Empire Strikes Back (1980)', 'Raiders of the Lost Ark (Indiana Jones and the Raiders of the Lost Ark) (1981)', 'Matrix, The (1999)', 'American Beauty (1999)', 'Jurassic Park (1993)', 'Forrest Gump (1994)', 'Indiana Jones and the Last Crusade (1989)', 'Sixth Sense, The (1999)']\n",
            "User: 116993 - Recommended: ['Star Wars: Episode VI - Return of the Jedi (1983)', 'Terminator 2: Judgment Day (1991)', 'Fight Club (1999)', 'Star Wars: Episode V - The Empire Strikes Back (1980)', 'Silence of the Lambs, The (1991)', 'Matrix, The (1999)', 'Star Wars: Episode IV - A New Hope (1977)', 'Jurassic Park (1993)', 'Saving Private Ryan (1998)', 'Braveheart (1995)']\n",
            "User: 13925 - Recommended: ['Terminator 2: Judgment Day (1991)', 'Fight Club (1999)', 'Raiders of the Lost Ark (Indiana Jones and the Raiders of the Lost Ark) (1981)', 'Usual Suspects, The (1995)', 'Fargo (1996)', 'Jurassic Park (1993)', 'Saving Private Ryan (1998)', 'Indiana Jones and the Last Crusade (1989)', 'Groundhog Day (1993)', \"Schindler's List (1993)\"]\n",
            "User: 103725 - Recommended: ['Raiders of the Lost Ark (Indiana Jones and the Raiders of the Lost Ark) (1981)', 'Silence of the Lambs, The (1991)', 'Usual Suspects, The (1995)', 'Shawshank Redemption, The (1994)', 'Fargo (1996)', 'American Beauty (1999)', 'Forrest Gump (1994)', 'Groundhog Day (1993)', \"Schindler's List (1993)\", 'Pulp Fiction (1994)']\n",
            "User: 34051 - Recommended: ['Terminator 2: Judgment Day (1991)', 'Godfather, The (1972)', 'Star Wars: Episode V - The Empire Strikes Back (1980)', 'Raiders of the Lost Ark (Indiana Jones and the Raiders of the Lost Ark) (1981)', 'Silence of the Lambs, The (1991)', 'Star Wars: Episode IV - A New Hope (1977)', 'Forrest Gump (1994)', 'Braveheart (1995)', \"Schindler's List (1993)\", 'Sixth Sense, The (1999)']\n",
            "User: 61695 - Recommended: ['Star Wars: Episode VI - Return of the Jedi (1983)', 'Fight Club (1999)', 'Star Wars: Episode V - The Empire Strikes Back (1980)', 'Raiders of the Lost Ark (Indiana Jones and the Raiders of the Lost Ark) (1981)', 'Matrix, The (1999)', 'Star Wars: Episode IV - A New Hope (1977)', 'Saving Private Ryan (1998)', 'Forrest Gump (1994)', 'Indiana Jones and the Last Crusade (1989)', 'Pulp Fiction (1994)']\n",
            "User: 23078 - Recommended: ['Lord of the Rings: The Return of the King, The (2003)', 'Fight Club (1999)', 'Silence of the Lambs, The (1991)', 'American Beauty (1999)', 'Saving Private Ryan (1998)', 'Forrest Gump (1994)', 'Braveheart (1995)', 'Indiana Jones and the Last Crusade (1989)', \"Schindler's List (1993)\", 'Pulp Fiction (1994)']\n",
            "User: 40862 - Recommended: ['Star Wars: Episode VI - Return of the Jedi (1983)', 'Fight Club (1999)', 'Jurassic Park (1993)', 'Saving Private Ryan (1998)', 'Forrest Gump (1994)', 'Princess Bride, The (1987)', 'Braveheart (1995)', 'Indiana Jones and the Last Crusade (1989)', \"Schindler's List (1993)\", 'Pulp Fiction (1994)']\n",
            "User: 128019 - Recommended: ['Star Wars: Episode VI - Return of the Jedi (1983)', 'Fight Club (1999)', 'Star Wars: Episode V - The Empire Strikes Back (1980)', 'Raiders of the Lost Ark (Indiana Jones and the Raiders of the Lost Ark) (1981)', 'Matrix, The (1999)', 'Shawshank Redemption, The (1994)', 'Fargo (1996)', 'Star Wars: Episode IV - A New Hope (1977)', 'American Beauty (1999)', 'Braveheart (1995)']\n",
            "User: 86188 - Recommended: ['Lord of the Rings: The Return of the King, The (2003)', 'Star Wars: Episode VI - Return of the Jedi (1983)', 'Fight Club (1999)', 'Independence Day (a.k.a. ID4) (1996)', 'Pirates of the Caribbean: The Curse of the Black Pearl (2003)', 'Aliens (1986)', 'Léon: The Professional (a.k.a. The Professional) (Léon) (1994)', 'Princess Bride, The (1987)', 'Gladiator (2000)', 'Blade Runner (1982)']\n",
            "User: 75509 - Recommended: ['Star Wars: Episode V - The Empire Strikes Back (1980)', 'Aliens (1986)', 'Shawshank Redemption, The (1994)', 'Star Wars: Episode IV - A New Hope (1977)', 'Jurassic Park (1993)', 'Saving Private Ryan (1998)', 'Princess Bride, The (1987)', 'Braveheart (1995)', 'Indiana Jones and the Last Crusade (1989)', 'Blade Runner (1982)']\n",
            "User: 11315 - Recommended: ['Star Wars: Episode V - The Empire Strikes Back (1980)', 'Raiders of the Lost Ark (Indiana Jones and the Raiders of the Lost Ark) (1981)', 'Silence of the Lambs, The (1991)', 'Matrix, The (1999)', 'Shawshank Redemption, The (1994)', 'American Beauty (1999)', 'Forrest Gump (1994)', 'Braveheart (1995)', \"Schindler's List (1993)\", 'Pulp Fiction (1994)']\n",
            "User: 16233 - Recommended: ['Star Wars: Episode V - The Empire Strikes Back (1980)', 'Raiders of the Lost Ark (Indiana Jones and the Raiders of the Lost Ark) (1981)', 'Silence of the Lambs, The (1991)', 'Matrix, The (1999)', 'Shawshank Redemption, The (1994)', 'Fargo (1996)', 'Star Wars: Episode IV - A New Hope (1977)', 'American Beauty (1999)', 'Toy Story (1995)', 'Pulp Fiction (1994)']\n",
            "User: 59866 - Recommended: ['Star Wars: Episode VI - Return of the Jedi (1983)', 'Terminator 2: Judgment Day (1991)', 'Star Wars: Episode V - The Empire Strikes Back (1980)', 'Silence of the Lambs, The (1991)', 'Matrix, The (1999)', 'Fargo (1996)', 'Star Wars: Episode IV - A New Hope (1977)', 'Jurassic Park (1993)', \"Schindler's List (1993)\", 'Pulp Fiction (1994)']\n",
            "User: 123444 - Recommended: ['Star Wars: Episode VI - Return of the Jedi (1983)', 'Terminator 2: Judgment Day (1991)', 'Fight Club (1999)', 'Star Wars: Episode V - The Empire Strikes Back (1980)', 'Raiders of the Lost Ark (Indiana Jones and the Raiders of the Lost Ark) (1981)', 'Silence of the Lambs, The (1991)', 'Matrix, The (1999)', 'Shawshank Redemption, The (1994)', 'Star Wars: Episode IV - A New Hope (1977)', 'Pulp Fiction (1994)']\n",
            "User: 31692 - Recommended: ['Star Wars: Episode V - The Empire Strikes Back (1980)', 'Silence of the Lambs, The (1991)', 'Shawshank Redemption, The (1994)', \"One Flew Over the Cuckoo's Nest (1975)\", 'Fargo (1996)', 'Star Wars: Episode IV - A New Hope (1977)', 'Forrest Gump (1994)', 'Full Metal Jacket (1987)', \"Schindler's List (1993)\", 'Pulp Fiction (1994)']\n",
            "User: 115093 - Recommended: ['Terminator 2: Judgment Day (1991)', 'Raiders of the Lost Ark (Indiana Jones and the Raiders of the Lost Ark) (1981)', 'Jurassic Park (1993)', 'Forrest Gump (1994)', 'Indiana Jones and the Last Crusade (1989)', 'Terminator, The (1984)', \"Schindler's List (1993)\", 'Die Hard (1988)', 'Pulp Fiction (1994)', 'Blade Runner (1982)']\n",
            "User: 26211 - Recommended: ['Terminator 2: Judgment Day (1991)', 'Fight Club (1999)', 'Godfather, The (1972)', 'Raiders of the Lost Ark (Indiana Jones and the Raiders of the Lost Ark) (1981)', 'Fargo (1996)', 'Jurassic Park (1993)', 'Saving Private Ryan (1998)', 'Toy Story (1995)', 'Groundhog Day (1993)', \"Schindler's List (1993)\"]\n",
            "User: 2166 - Recommended: ['Star Wars: Episode V - The Empire Strikes Back (1980)', 'Raiders of the Lost Ark (Indiana Jones and the Raiders of the Lost Ark) (1981)', 'Usual Suspects, The (1995)', 'Matrix, The (1999)', 'Fargo (1996)', 'Star Wars: Episode IV - A New Hope (1977)', 'Toy Story (1995)', 'Groundhog Day (1993)', \"Schindler's List (1993)\", 'Pulp Fiction (1994)']\n",
            "User: 126343 - Recommended: ['Fight Club (1999)', 'Raiders of the Lost Ark (Indiana Jones and the Raiders of the Lost Ark) (1981)', 'Silence of the Lambs, The (1991)', 'American Beauty (1999)', 'Saving Private Ryan (1998)', 'Forrest Gump (1994)', 'Braveheart (1995)', 'Indiana Jones and the Last Crusade (1989)', 'Terminator, The (1984)', 'Die Hard (1988)']\n",
            "User: 94444 - Recommended: ['Terminator 2: Judgment Day (1991)', 'Star Wars: Episode V - The Empire Strikes Back (1980)', 'Silence of the Lambs, The (1991)', 'Usual Suspects, The (1995)', 'Matrix, The (1999)', 'Star Wars: Episode IV - A New Hope (1977)', 'American Beauty (1999)', 'Forrest Gump (1994)', 'Braveheart (1995)', \"Schindler's List (1993)\"]\n",
            "User: 37393 - Recommended: ['Lord of the Rings: The Return of the King, The (2003)', 'Star Wars: Episode VI - Return of the Jedi (1983)', 'Fight Club (1999)', 'Star Wars: Episode V - The Empire Strikes Back (1980)', 'Léon: The Professional (a.k.a. The Professional) (Léon) (1994)', 'Star Wars: Episode IV - A New Hope (1977)', 'Saving Private Ryan (1998)', 'Braveheart (1995)', 'Die Hard (1988)', 'Blade Runner (1982)']\n",
            "User: 99230 - Recommended: ['Lord of the Rings: The Return of the King, The (2003)', 'Star Wars: Episode VI - Return of the Jedi (1983)', 'Fight Club (1999)', 'Pirates of the Caribbean: The Curse of the Black Pearl (2003)', 'Léon: The Professional (a.k.a. The Professional) (Léon) (1994)', 'Matrix, The (1999)', 'Jurassic Park (1993)', 'Gladiator (2000)', 'Men in Black (a.k.a. MIB) (1997)', 'Blade Runner (1982)']\n",
            "User: 67675 - Recommended: ['Lord of the Rings: The Return of the King, The (2003)', 'Fight Club (1999)', 'Star Wars: Episode V - The Empire Strikes Back (1980)', 'Raiders of the Lost Ark (Indiana Jones and the Raiders of the Lost Ark) (1981)', 'Star Wars: Episode IV - A New Hope (1977)', 'Saving Private Ryan (1998)', 'Princess Bride, The (1987)', 'Braveheart (1995)', 'Indiana Jones and the Last Crusade (1989)', 'Die Hard (1988)']\n",
            "User: 132753 - Recommended: ['Star Wars: Episode V - The Empire Strikes Back (1980)', 'Raiders of the Lost Ark (Indiana Jones and the Raiders of the Lost Ark) (1981)', 'Silence of the Lambs, The (1991)', 'Matrix, The (1999)', 'Shawshank Redemption, The (1994)', 'Fargo (1996)', 'American Beauty (1999)', 'Forrest Gump (1994)', 'Toy Story (1995)', 'Groundhog Day (1993)']\n",
            "User: 47844 - Recommended: ['Silence of the Lambs, The (1991)', 'Usual Suspects, The (1995)', 'Matrix, The (1999)', 'Shawshank Redemption, The (1994)', 'Star Wars: Episode IV - A New Hope (1977)', 'American Beauty (1999)', 'Forrest Gump (1994)', \"Schindler's List (1993)\", 'Pulp Fiction (1994)', 'Sixth Sense, The (1999)']\n",
            "User: 20121 - Recommended: ['Star Wars: Episode VI - Return of the Jedi (1983)', 'Terminator 2: Judgment Day (1991)', 'Fight Club (1999)', 'Star Wars: Episode V - The Empire Strikes Back (1980)', 'Raiders of the Lost Ark (Indiana Jones and the Raiders of the Lost Ark) (1981)', 'Matrix, The (1999)', 'Shawshank Redemption, The (1994)', \"One Flew Over the Cuckoo's Nest (1975)\", 'Forrest Gump (1994)', 'Braveheart (1995)']\n",
            "User: 52592 - Recommended: ['Terminator 2: Judgment Day (1991)', 'Fight Club (1999)', 'Raiders of the Lost Ark (Indiana Jones and the Raiders of the Lost Ark) (1981)', 'Matrix, The (1999)', 'Jurassic Park (1993)', 'Saving Private Ryan (1998)', 'Forrest Gump (1994)', 'Braveheart (1995)', \"Schindler's List (1993)\", 'Pulp Fiction (1994)']\n",
            "User: 92195 - Recommended: ['Star Wars: Episode V - The Empire Strikes Back (1980)', 'Raiders of the Lost Ark (Indiana Jones and the Raiders of the Lost Ark) (1981)', 'Usual Suspects, The (1995)', 'Matrix, The (1999)', \"One Flew Over the Cuckoo's Nest (1975)\", 'Fargo (1996)', 'Star Wars: Episode IV - A New Hope (1977)', 'American Beauty (1999)', 'Braveheart (1995)', 'Pulp Fiction (1994)']\n",
            "User: 124773 - Recommended: ['Star Wars: Episode VI - Return of the Jedi (1983)', 'Terminator 2: Judgment Day (1991)', 'Fight Club (1999)', 'Star Wars: Episode V - The Empire Strikes Back (1980)', 'Raiders of the Lost Ark (Indiana Jones and the Raiders of the Lost Ark) (1981)', 'Silence of the Lambs, The (1991)', 'Matrix, The (1999)', 'Star Wars: Episode IV - A New Hope (1977)', 'Saving Private Ryan (1998)', 'Indiana Jones and the Last Crusade (1989)']\n",
            "User: 90970 - Recommended: ['Star Wars: Episode VI - Return of the Jedi (1983)', 'Fight Club (1999)', 'Raiders of the Lost Ark (Indiana Jones and the Raiders of the Lost Ark) (1981)', 'Shawshank Redemption, The (1994)', 'Star Wars: Episode IV - A New Hope (1977)', 'Jurassic Park (1993)', 'Forrest Gump (1994)', 'Braveheart (1995)', \"Schindler's List (1993)\", 'Pulp Fiction (1994)']\n",
            "User: 111503 - Recommended: ['Silence of the Lambs, The (1991)', 'Shawshank Redemption, The (1994)', 'Fargo (1996)', 'American Beauty (1999)', 'Truman Show, The (1998)', 'Groundhog Day (1993)', \"Schindler's List (1993)\", 'Pulp Fiction (1994)', 'Being John Malkovich (1999)', 'Dr. Strangelove or: How I Learned to Stop Worrying and Love the Bomb (1964)']\n",
            "User: 42154 - Recommended: ['Terminator 2: Judgment Day (1991)', 'Fight Club (1999)', 'Raiders of the Lost Ark (Indiana Jones and the Raiders of the Lost Ark) (1981)', 'Shawshank Redemption, The (1994)', 'Jurassic Park (1993)', 'Saving Private Ryan (1998)', 'Princess Bride, The (1987)', 'Braveheart (1995)', 'Indiana Jones and the Last Crusade (1989)', 'Pulp Fiction (1994)']\n",
            "User: 107754 - Recommended: ['Star Wars: Episode VI - Return of the Jedi (1983)', 'Terminator 2: Judgment Day (1991)', 'Godfather, The (1972)', 'Usual Suspects, The (1995)', 'Matrix, The (1999)', 'Fargo (1996)', 'American Beauty (1999)', 'Forrest Gump (1994)', 'Braveheart (1995)', 'Sixth Sense, The (1999)']\n",
            "User: 32049 - Recommended: ['Silence of the Lambs, The (1991)', 'Matrix, The (1999)', 'Shawshank Redemption, The (1994)', \"One Flew Over the Cuckoo's Nest (1975)\", 'Fargo (1996)', 'American Beauty (1999)', 'Forrest Gump (1994)', \"Schindler's List (1993)\", 'Pulp Fiction (1994)', 'Sixth Sense, The (1999)']\n",
            "User: 40550 - Recommended: ['Star Wars: Episode VI - Return of the Jedi (1983)', 'Star Wars: Episode V - The Empire Strikes Back (1980)', 'Raiders of the Lost Ark (Indiana Jones and the Raiders of the Lost Ark) (1981)', 'Silence of the Lambs, The (1991)', 'Usual Suspects, The (1995)', 'Matrix, The (1999)', 'Shawshank Redemption, The (1994)', 'Fargo (1996)', 'Star Wars: Episode IV - A New Hope (1977)', \"Schindler's List (1993)\"]\n",
            "User: 127405 - Recommended: ['Star Wars: Episode VI - Return of the Jedi (1983)', 'Terminator 2: Judgment Day (1991)', 'Raiders of the Lost Ark (Indiana Jones and the Raiders of the Lost Ark) (1981)', 'Matrix, The (1999)', 'Shawshank Redemption, The (1994)', 'Fargo (1996)', 'Star Wars: Episode IV - A New Hope (1977)', 'American Beauty (1999)', 'Braveheart (1995)', \"Schindler's List (1993)\"]\n",
            "User: 48371 - Recommended: ['Fight Club (1999)', 'Star Wars: Episode V - The Empire Strikes Back (1980)', 'Raiders of the Lost Ark (Indiana Jones and the Raiders of the Lost Ark) (1981)', 'Matrix, The (1999)', 'Fargo (1996)', 'Star Wars: Episode IV - A New Hope (1977)', 'American Beauty (1999)', 'Saving Private Ryan (1998)', 'Braveheart (1995)', \"Schindler's List (1993)\"]\n",
            "User: 27599 - Recommended: ['Fight Club (1999)', 'Back to the Future (1985)', 'Silence of the Lambs, The (1991)', 'Usual Suspects, The (1995)', 'Monty Python and the Holy Grail (1975)', 'Fargo (1996)', 'Star Wars: Episode IV - A New Hope (1977)', 'Jurassic Park (1993)', 'Die Hard (1988)', 'Pulp Fiction (1994)']\n",
            "User: 46592 - Recommended: ['Star Wars: Episode VI - Return of the Jedi (1983)', 'Terminator 2: Judgment Day (1991)', 'Fight Club (1999)', 'Star Wars: Episode V - The Empire Strikes Back (1980)', 'Raiders of the Lost Ark (Indiana Jones and the Raiders of the Lost Ark) (1981)', 'Silence of the Lambs, The (1991)', 'Usual Suspects, The (1995)', 'Star Wars: Episode IV - A New Hope (1977)', 'Jurassic Park (1993)', 'Braveheart (1995)']\n",
            "User: 33492 - Recommended: ['Star Wars: Episode VI - Return of the Jedi (1983)', 'Terminator 2: Judgment Day (1991)', 'Star Wars: Episode V - The Empire Strikes Back (1980)', 'Raiders of the Lost Ark (Indiana Jones and the Raiders of the Lost Ark) (1981)', 'Shawshank Redemption, The (1994)', 'Star Wars: Episode IV - A New Hope (1977)', 'Jurassic Park (1993)', 'Saving Private Ryan (1998)', 'Princess Bride, The (1987)', 'Pulp Fiction (1994)']\n",
            "User: 67140 - Recommended: ['Godfather, The (1972)', 'Star Wars: Episode V - The Empire Strikes Back (1980)', 'Raiders of the Lost Ark (Indiana Jones and the Raiders of the Lost Ark) (1981)', 'Silence of the Lambs, The (1991)', 'Usual Suspects, The (1995)', 'Matrix, The (1999)', 'Star Wars: Episode IV - A New Hope (1977)', 'Braveheart (1995)', 'Pulp Fiction (1994)', 'Sixth Sense, The (1999)']\n",
            "User: 110775 - Recommended: ['Star Wars: Episode VI - Return of the Jedi (1983)', 'Terminator 2: Judgment Day (1991)', 'Fight Club (1999)', 'Silence of the Lambs, The (1991)', 'Matrix, The (1999)', 'Shawshank Redemption, The (1994)', 'Jurassic Park (1993)', 'Saving Private Ryan (1998)', 'Forrest Gump (1994)', 'Braveheart (1995)']\n",
            "User: 45591 - Recommended: ['Lord of the Rings: The Return of the King, The (2003)', 'Terminator 2: Judgment Day (1991)', 'Fight Club (1999)', 'Raiders of the Lost Ark (Indiana Jones and the Raiders of the Lost Ark) (1981)', 'Matrix, The (1999)', 'Star Wars: Episode IV - A New Hope (1977)', 'Saving Private Ryan (1998)', 'Braveheart (1995)', 'Terminator, The (1984)', 'Pulp Fiction (1994)']\n",
            "User: 38982 - Recommended: ['Lord of the Rings: The Return of the King, The (2003)', 'American Beauty (1999)', 'Jurassic Park (1993)', 'Forrest Gump (1994)', 'Rain Man (1988)', 'Indiana Jones and the Last Crusade (1989)', 'Gladiator (2000)', 'Die Hard (1988)', 'Casablanca (1942)', 'Sixth Sense, The (1999)']\n",
            "User: 130812 - Recommended: ['Star Wars: Episode VI - Return of the Jedi (1983)', 'Terminator 2: Judgment Day (1991)', 'Raiders of the Lost Ark (Indiana Jones and the Raiders of the Lost Ark) (1981)', 'Shawshank Redemption, The (1994)', 'Star Wars: Episode IV - A New Hope (1977)', 'Forrest Gump (1994)', 'Braveheart (1995)', \"Schindler's List (1993)\", 'Pulp Fiction (1994)', 'Sixth Sense, The (1999)']\n",
            "User: 57364 - Recommended: ['Silence of the Lambs, The (1991)', 'Matrix, The (1999)', 'Shawshank Redemption, The (1994)', 'Fargo (1996)', 'Star Wars: Episode IV - A New Hope (1977)', 'American Beauty (1999)', 'Forrest Gump (1994)', \"Schindler's List (1993)\", 'Pulp Fiction (1994)', 'Sixth Sense, The (1999)']\n",
            "User: 91547 - Recommended: ['Terminator 2: Judgment Day (1991)', 'Star Wars: Episode V - The Empire Strikes Back (1980)', 'Raiders of the Lost Ark (Indiana Jones and the Raiders of the Lost Ark) (1981)', 'Matrix, The (1999)', 'Shawshank Redemption, The (1994)', 'Star Wars: Episode IV - A New Hope (1977)', 'American Beauty (1999)', 'Forrest Gump (1994)', 'Braveheart (1995)', \"Schindler's List (1993)\"]\n",
            "User: 89151 - Recommended: ['Raiders of the Lost Ark (Indiana Jones and the Raiders of the Lost Ark) (1981)', 'Silence of the Lambs, The (1991)', 'Matrix, The (1999)', 'Shawshank Redemption, The (1994)', 'Fargo (1996)', 'Star Wars: Episode IV - A New Hope (1977)', 'Forrest Gump (1994)', 'Braveheart (1995)', \"Schindler's List (1993)\", 'Pulp Fiction (1994)']\n",
            "User: 108271 - Recommended: ['Star Wars: Episode VI - Return of the Jedi (1983)', 'Fight Club (1999)', 'Raiders of the Lost Ark (Indiana Jones and the Raiders of the Lost Ark) (1981)', 'Silence of the Lambs, The (1991)', 'Matrix, The (1999)', 'Shawshank Redemption, The (1994)', 'Jurassic Park (1993)', 'Saving Private Ryan (1998)', 'Braveheart (1995)', 'Pulp Fiction (1994)']\n",
            "User: 55298 - Recommended: ['Star Wars: Episode VI - Return of the Jedi (1983)', 'Terminator 2: Judgment Day (1991)', 'Star Wars: Episode V - The Empire Strikes Back (1980)', 'Usual Suspects, The (1995)', 'Matrix, The (1999)', 'Shawshank Redemption, The (1994)', \"One Flew Over the Cuckoo's Nest (1975)\", 'Star Wars: Episode IV - A New Hope (1977)', 'Jurassic Park (1993)', 'Forrest Gump (1994)']\n",
            "User: 129718 - Recommended: ['Star Wars: Episode VI - Return of the Jedi (1983)', 'Terminator 2: Judgment Day (1991)', 'Star Wars: Episode V - The Empire Strikes Back (1980)', 'Raiders of the Lost Ark (Indiana Jones and the Raiders of the Lost Ark) (1981)', 'Silence of the Lambs, The (1991)', 'Shawshank Redemption, The (1994)', 'Star Wars: Episode IV - A New Hope (1977)', 'Saving Private Ryan (1998)', 'Braveheart (1995)', 'Pulp Fiction (1994)']\n"
          ]
        },
        {
          "output_type": "error",
          "ename": "KeyboardInterrupt",
          "evalue": "",
          "traceback": [
            "\u001b[0;31m---------------------------------------------------------------------------\u001b[0m",
            "\u001b[0;31mKeyboardInterrupt\u001b[0m                         Traceback (most recent call last)",
            "\u001b[0;32m<ipython-input-63-dd51355acb57>\u001b[0m in \u001b[0;36m<cell line: 1>\u001b[0;34m()\u001b[0m\n\u001b[0;32m----> 1\u001b[0;31m \u001b[0mmetric_results_hybrid\u001b[0m \u001b[0;34m=\u001b[0m \u001b[0mhybrid_metrics\u001b[0m\u001b[0;34m(\u001b[0m\u001b[0mdata_movie_test\u001b[0m\u001b[0;34m,\u001b[0m \u001b[0mdata_movie_train\u001b[0m\u001b[0;34m,\u001b[0m \u001b[0;36m10\u001b[0m\u001b[0;34m,\u001b[0m \u001b[0;36m5\u001b[0m\u001b[0;34m,\u001b[0m \u001b[0malpha_hybrid\u001b[0m\u001b[0;34m=\u001b[0m\u001b[0;36m0.5\u001b[0m\u001b[0;34m,\u001b[0m \u001b[0mbeta_lt\u001b[0m\u001b[0;34m=\u001b[0m\u001b[0;36m0.4\u001b[0m\u001b[0;34m,\u001b[0m \u001b[0mlambda_ips\u001b[0m\u001b[0;34m=\u001b[0m\u001b[0;36m0.5\u001b[0m\u001b[0;34m)\u001b[0m\u001b[0;34m\u001b[0m\u001b[0;34m\u001b[0m\u001b[0m\n\u001b[0m\u001b[1;32m      2\u001b[0m \u001b[0mprint\u001b[0m\u001b[0;34m(\u001b[0m\u001b[0;34mf\"MAP: {metric_results_hybrid['MAP']}\"\u001b[0m\u001b[0;34m)\u001b[0m\u001b[0;34m\u001b[0m\u001b[0;34m\u001b[0m\u001b[0m\n\u001b[1;32m      3\u001b[0m \u001b[0mprint\u001b[0m\u001b[0;34m(\u001b[0m\u001b[0;34mf\"nDCG: {metric_results_hybrid['nDCG']}\"\u001b[0m\u001b[0;34m)\u001b[0m\u001b[0;34m\u001b[0m\u001b[0;34m\u001b[0m\u001b[0m\n\u001b[1;32m      4\u001b[0m \u001b[0mprint\u001b[0m\u001b[0;34m(\u001b[0m\u001b[0;34mf\"Precision: {metric_results_hybrid['Precision']}\"\u001b[0m\u001b[0;34m)\u001b[0m\u001b[0;34m\u001b[0m\u001b[0;34m\u001b[0m\u001b[0m\n\u001b[1;32m      5\u001b[0m \u001b[0mprint\u001b[0m\u001b[0;34m(\u001b[0m\u001b[0;34mf\"Recall: {metric_results_hybrid['Recall']}\"\u001b[0m\u001b[0;34m)\u001b[0m\u001b[0;34m\u001b[0m\u001b[0;34m\u001b[0m\u001b[0m\n",
            "\u001b[0;32m<ipython-input-62-8384ffed966b>\u001b[0m in \u001b[0;36mhybrid_metrics\u001b[0;34m(test_data, train_data, top_n, k, alpha_hybrid, beta_lt, lambda_ips)\u001b[0m\n\u001b[1;32m     16\u001b[0m   \u001b[0;32mfor\u001b[0m \u001b[0muserid\u001b[0m \u001b[0;32min\u001b[0m \u001b[0mtest_data\u001b[0m\u001b[0;34m[\u001b[0m\u001b[0;34m'userId'\u001b[0m\u001b[0;34m]\u001b[0m\u001b[0;34m.\u001b[0m\u001b[0munique\u001b[0m\u001b[0;34m(\u001b[0m\u001b[0;34m)\u001b[0m\u001b[0;34m:\u001b[0m\u001b[0;34m\u001b[0m\u001b[0;34m\u001b[0m\u001b[0m\n\u001b[1;32m     17\u001b[0m \u001b[0;34m\u001b[0m\u001b[0m\n\u001b[0;32m---> 18\u001b[0;31m     \u001b[0mrecommend_list\u001b[0m \u001b[0;34m=\u001b[0m \u001b[0mrecommend_hybrid\u001b[0m\u001b[0;34m(\u001b[0m\u001b[0muserid\u001b[0m\u001b[0;34m,\u001b[0m \u001b[0mtrain_data\u001b[0m\u001b[0;34m,\u001b[0m \u001b[0mtop_n\u001b[0m\u001b[0;34m,\u001b[0m \u001b[0malpha_hybrid\u001b[0m\u001b[0;34m)\u001b[0m\u001b[0;34m\u001b[0m\u001b[0;34m\u001b[0m\u001b[0m\n\u001b[0m\u001b[1;32m     19\u001b[0m \u001b[0;34m\u001b[0m\u001b[0m\n\u001b[1;32m     20\u001b[0m     \u001b[0mprint\u001b[0m\u001b[0;34m(\u001b[0m\u001b[0;34mf\"User: {userid} - Recommended: {recommend_list}\"\u001b[0m\u001b[0;34m)\u001b[0m\u001b[0;34m\u001b[0m\u001b[0;34m\u001b[0m\u001b[0m\n",
            "\u001b[0;32m<ipython-input-40-49f7436b9b2a>\u001b[0m in \u001b[0;36mrecommend_hybrid\u001b[0;34m(user, data_train, k, alpha)\u001b[0m\n\u001b[1;32m     30\u001b[0m \u001b[0;34m\u001b[0m\u001b[0m\n\u001b[1;32m     31\u001b[0m         \u001b[0;31m# Score de género\u001b[0m\u001b[0;34m\u001b[0m\u001b[0;34m\u001b[0m\u001b[0m\n\u001b[0;32m---> 32\u001b[0;31m         \u001b[0mmovie_genre\u001b[0m \u001b[0;34m=\u001b[0m \u001b[0mdata_train\u001b[0m\u001b[0;34m[\u001b[0m\u001b[0mdata_train\u001b[0m\u001b[0;34m[\u001b[0m\u001b[0;34m'movieId'\u001b[0m\u001b[0;34m]\u001b[0m \u001b[0;34m==\u001b[0m \u001b[0mmovie\u001b[0m\u001b[0;34m]\u001b[0m\u001b[0;34m[\u001b[0m\u001b[0;34m'relevant_genre'\u001b[0m\u001b[0;34m]\u001b[0m\u001b[0;34m.\u001b[0m\u001b[0miloc\u001b[0m\u001b[0;34m[\u001b[0m\u001b[0;36m0\u001b[0m\u001b[0;34m]\u001b[0m\u001b[0;34m\u001b[0m\u001b[0;34m\u001b[0m\u001b[0m\n\u001b[0m\u001b[1;32m     33\u001b[0m         \u001b[0mgenre_score\u001b[0m \u001b[0;34m=\u001b[0m \u001b[0mpreferred_user_genres\u001b[0m\u001b[0;34m.\u001b[0m\u001b[0mget\u001b[0m\u001b[0;34m(\u001b[0m\u001b[0mmovie_genre\u001b[0m\u001b[0;34m,\u001b[0m \u001b[0;36m0\u001b[0m\u001b[0;34m)\u001b[0m\u001b[0;34m\u001b[0m\u001b[0;34m\u001b[0m\u001b[0m\n\u001b[1;32m     34\u001b[0m \u001b[0;34m\u001b[0m\u001b[0m\n",
            "\u001b[0;32m/usr/local/lib/python3.10/dist-packages/pandas/core/frame.py\u001b[0m in \u001b[0;36m__getitem__\u001b[0;34m(self, key)\u001b[0m\n\u001b[1;32m   4076\u001b[0m                 \u001b[0;32mor\u001b[0m \u001b[0mkey\u001b[0m \u001b[0;32min\u001b[0m \u001b[0mself\u001b[0m\u001b[0;34m.\u001b[0m\u001b[0mcolumns\u001b[0m\u001b[0;34m.\u001b[0m\u001b[0mdrop_duplicates\u001b[0m\u001b[0;34m(\u001b[0m\u001b[0mkeep\u001b[0m\u001b[0;34m=\u001b[0m\u001b[0;32mFalse\u001b[0m\u001b[0;34m)\u001b[0m\u001b[0;34m\u001b[0m\u001b[0;34m\u001b[0m\u001b[0m\n\u001b[1;32m   4077\u001b[0m             ):\n\u001b[0;32m-> 4078\u001b[0;31m                 \u001b[0;32mreturn\u001b[0m \u001b[0mself\u001b[0m\u001b[0;34m.\u001b[0m\u001b[0m_get_item_cache\u001b[0m\u001b[0;34m(\u001b[0m\u001b[0mkey\u001b[0m\u001b[0;34m)\u001b[0m\u001b[0;34m\u001b[0m\u001b[0;34m\u001b[0m\u001b[0m\n\u001b[0m\u001b[1;32m   4079\u001b[0m \u001b[0;34m\u001b[0m\u001b[0m\n\u001b[1;32m   4080\u001b[0m             \u001b[0;32melif\u001b[0m \u001b[0mis_mi\u001b[0m \u001b[0;32mand\u001b[0m \u001b[0mself\u001b[0m\u001b[0;34m.\u001b[0m\u001b[0mcolumns\u001b[0m\u001b[0;34m.\u001b[0m\u001b[0mis_unique\u001b[0m \u001b[0;32mand\u001b[0m \u001b[0mkey\u001b[0m \u001b[0;32min\u001b[0m \u001b[0mself\u001b[0m\u001b[0;34m.\u001b[0m\u001b[0mcolumns\u001b[0m\u001b[0;34m:\u001b[0m\u001b[0;34m\u001b[0m\u001b[0;34m\u001b[0m\u001b[0m\n",
            "\u001b[0;32m/usr/local/lib/python3.10/dist-packages/pandas/core/frame.py\u001b[0m in \u001b[0;36m_get_item_cache\u001b[0;34m(self, item)\u001b[0m\n\u001b[1;32m   4626\u001b[0m     \u001b[0;32mdef\u001b[0m \u001b[0m_get_item_cache\u001b[0m\u001b[0;34m(\u001b[0m\u001b[0mself\u001b[0m\u001b[0;34m,\u001b[0m \u001b[0mitem\u001b[0m\u001b[0;34m:\u001b[0m \u001b[0mHashable\u001b[0m\u001b[0;34m)\u001b[0m \u001b[0;34m->\u001b[0m \u001b[0mSeries\u001b[0m\u001b[0;34m:\u001b[0m\u001b[0;34m\u001b[0m\u001b[0;34m\u001b[0m\u001b[0m\n\u001b[1;32m   4627\u001b[0m         \u001b[0;34m\"\"\"Return the cached item, item represents a label indexer.\"\"\"\u001b[0m\u001b[0;34m\u001b[0m\u001b[0;34m\u001b[0m\u001b[0m\n\u001b[0;32m-> 4628\u001b[0;31m         \u001b[0;32mif\u001b[0m \u001b[0musing_copy_on_write\u001b[0m\u001b[0;34m(\u001b[0m\u001b[0;34m)\u001b[0m \u001b[0;32mor\u001b[0m \u001b[0mwarn_copy_on_write\u001b[0m\u001b[0;34m(\u001b[0m\u001b[0;34m)\u001b[0m\u001b[0;34m:\u001b[0m\u001b[0;34m\u001b[0m\u001b[0;34m\u001b[0m\u001b[0m\n\u001b[0m\u001b[1;32m   4629\u001b[0m             \u001b[0mloc\u001b[0m \u001b[0;34m=\u001b[0m \u001b[0mself\u001b[0m\u001b[0;34m.\u001b[0m\u001b[0mcolumns\u001b[0m\u001b[0;34m.\u001b[0m\u001b[0mget_loc\u001b[0m\u001b[0;34m(\u001b[0m\u001b[0mitem\u001b[0m\u001b[0;34m)\u001b[0m\u001b[0;34m\u001b[0m\u001b[0;34m\u001b[0m\u001b[0m\n\u001b[1;32m   4630\u001b[0m             \u001b[0;32mreturn\u001b[0m \u001b[0mself\u001b[0m\u001b[0;34m.\u001b[0m\u001b[0m_ixs\u001b[0m\u001b[0;34m(\u001b[0m\u001b[0mloc\u001b[0m\u001b[0;34m,\u001b[0m \u001b[0maxis\u001b[0m\u001b[0;34m=\u001b[0m\u001b[0;36m1\u001b[0m\u001b[0;34m)\u001b[0m\u001b[0;34m\u001b[0m\u001b[0;34m\u001b[0m\u001b[0m\n",
            "\u001b[0;32m/usr/local/lib/python3.10/dist-packages/pandas/_config/__init__.py\u001b[0m in \u001b[0;36musing_copy_on_write\u001b[0;34m()\u001b[0m\n\u001b[1;32m     32\u001b[0m \u001b[0;34m\u001b[0m\u001b[0m\n\u001b[1;32m     33\u001b[0m \u001b[0;34m\u001b[0m\u001b[0m\n\u001b[0;32m---> 34\u001b[0;31m \u001b[0;32mdef\u001b[0m \u001b[0musing_copy_on_write\u001b[0m\u001b[0;34m(\u001b[0m\u001b[0;34m)\u001b[0m \u001b[0;34m->\u001b[0m \u001b[0mbool\u001b[0m\u001b[0;34m:\u001b[0m\u001b[0;34m\u001b[0m\u001b[0;34m\u001b[0m\u001b[0m\n\u001b[0m\u001b[1;32m     35\u001b[0m     \u001b[0m_mode_options\u001b[0m \u001b[0;34m=\u001b[0m \u001b[0m_global_config\u001b[0m\u001b[0;34m[\u001b[0m\u001b[0;34m\"mode\"\u001b[0m\u001b[0;34m]\u001b[0m\u001b[0;34m\u001b[0m\u001b[0;34m\u001b[0m\u001b[0m\n\u001b[1;32m     36\u001b[0m     return (\n",
            "\u001b[0;31mKeyboardInterrupt\u001b[0m: "
          ]
        }
      ],
      "source": [
        "metric_results_hybrid = hybrid_metrics(data_movie_test, data_movie_train, 10, 5, alpha_hybrid=0.5, beta_lt=0.4, lambda_ips=0.5)\n",
        "print(f\"MAP: {metric_results_hybrid['MAP']}\")\n",
        "print(f\"nDCG: {metric_results_hybrid['nDCG']}\")\n",
        "print(f\"Precision: {metric_results_hybrid['Precision']}\")\n",
        "print(f\"Recall: {metric_results_hybrid['Recall']}\")\n",
        "print(f\"User_Diversity: {metric_results_hybrid['User_Diversity']}\")\n",
        "print(f\"Long_Tail: {metric_results_hybrid['Long_Tail']}\")\n",
        "print(f\"Shannon_Entropy: {metric_results_hybrid['Shannon_Entropy']}\")\n",
        "print(f\"Intra_List_Diversity: {metric_results_hybrid['Intra_List_Diversity']}\")\n",
        "print(f\"Diversity_Coverage: {metric_results_hybrid['Diversity_Coverage']}\")\n",
        "print(f\"Inverse_Propensity_Score: {metric_results_hybrid['Inverse_Propensity_Score']}\")"
      ]
    },
    {
      "cell_type": "markdown",
      "metadata": {
        "id": "gXG_QtaQGLBg"
      },
      "source": [
        "# Ejecución Global de Métodos"
      ]
    },
    {
      "cell_type": "code",
      "execution_count": null,
      "metadata": {
        "id": "SLOqxW5XFtEn"
      },
      "outputs": [],
      "source": [
        "def global_metrics(test_data, train_data, top_n, k, alpha_hybrid=0.5, beta_lt=0.4, lambda_ips=0.5):\n",
        "  model_iknn = MovieIKNN(k=20)\n",
        "  model_iknn.fit(train_data)\n",
        "\n",
        "  # Arreglo para almacenar los resultados de cada metodo\n",
        "  records = []\n",
        "\n",
        "  # Obtenemos las top k categorias\n",
        "  top_k_categories_data = get_top_k_categories(test_data, k)\n",
        "\n",
        "  for userid in test_data['user_id'].unique():\n",
        "    # Genero recomendaciones para cada modelo\n",
        "    recommendations = {\n",
        "        'most_popular': recommend_most_popular(userid, train_data, top_n),\n",
        "        'random': recommend_random(userid, train_data, top_n),\n",
        "        'iknn': model_iknn.recommend(userid, train_data, top_n),\n",
        "        'fastfm': recommend_fastfm(userid, train_data, top_n),\n",
        "        'deepfm': recommend_deepfm(userid, train_data, top_n),\n",
        "        'hybrid': recommend_hybrid(userid, train_data, top_n, alpha_hybrid)\n",
        "    }\n",
        "\n",
        "    # Calcular Metricas para cada modelo\n",
        "    for model, recommend_list in recommendations.items():\n",
        "      record = {\n",
        "        'user_id': userid,\n",
        "        'model': model,\n",
        "          # Metricas de precision\n",
        "        'MAP': calculate_map(test_data, recommend_list, userid),\n",
        "        'nDCG': calculate_ndcg(test_data, recommend_list, userid),\n",
        "        'Precision': calculate_precision_at_k(test_data, recommend_list, userid),\n",
        "        'Recall': calculate_recall_at_k(test_data, recommend_list, userid),\n",
        "          # Metricas de diversidad\n",
        "        'User_Diversity': calculate_user_diversity(top_k_categories_data, recommend_list, userid),\n",
        "        'Long_Tail': calculate_long_tail(test_data, recommend_list, userid, beta_lt),\n",
        "        'Shannon_Entropy': calculate_shannon_entropy(test_data, recommend_list, userid),\n",
        "        'Intra_List_Diversity': calculate_intra_list_diversity(test_data, recommend_list, userid),\n",
        "        'Diversity_Coverage': calculate_diversity_coverage(test_data, recommend_list, userid),\n",
        "        'Inverse_Propensity_Score': calculate_inverse_propensity_score(test_data, recommend_list, userid, lambda_ips)\n",
        "      }\n",
        "      records.append(record)\n",
        "\n",
        "  # Promedio de métricas\n",
        "  results_df = pd.DataFrame(records)\n",
        "  #print(results_df.head())\n",
        "\n",
        "  return results_df\n"
      ]
    },
    {
      "cell_type": "code",
      "execution_count": null,
      "metadata": {
        "id": "3I7-QL9RlFOA"
      },
      "outputs": [],
      "source": [
        "results_df = global_metrics(data_movie_test, data_movie_train, 10, 5, alpha_hybrid=0.5, beta_lt=0.4, lambda_ips=0.5)\n",
        "results_df.head()"
      ]
    },
    {
      "cell_type": "markdown",
      "metadata": {
        "id": "UV6yMeEWJTnz"
      },
      "source": [
        "## Analisis Global de Metricas\n",
        "Analiza y visualiza los resultados de las métricas globales usando el Dataframe"
      ]
    },
    {
      "cell_type": "markdown",
      "metadata": {
        "id": "s60mg3IVLBaz"
      },
      "source": [
        "### Generar visualizaciones comparativas entre los modelos\n",
        "Creamos 3 tipos de gráficos para las visualizaciones:\n",
        "1. Gráfico de cajas para cada métrica mostrando su distribución.\n",
        "2. Heatmap de correlaciones entre métricas.\n",
        "3. Gráfico de radar para comparar modelos."
      ]
    },
    {
      "cell_type": "code",
      "execution_count": null,
      "metadata": {
        "id": "1vUA1EbSK0UL"
      },
      "outputs": [],
      "source": [
        "import seaborn as sns\n",
        "import matplotlib.pyplot as plt\n",
        "\n",
        "def visualize_global_metrics(results_df):\n",
        "  metrics = ['MAP', 'nDCG', 'Precision', 'Recall' , 'User_Diversity', 'Long_Tail', 'Shannon_Entropy', 'Intra_List_Diversity', 'Diversity_Coverage', 'Inverse_Propensity_Score']\n",
        "\n",
        "  # Configurar el estilo usando seaborn\n",
        "  sns.set_style\n",
        "\n",
        "  # Crear el gráfico de cajas para cada metrica\n",
        "  fig, axes = plt.subplots(3, 4, figsize=(20, 10))\n",
        "  fig.suptitle('Distribución de Métricas por Modelo', fontsize=16)\n",
        "\n",
        "  for i, metric in enumerate(metrics):\n",
        "    row = i // 4\n",
        "    col = i % 4\n",
        "    ax = axes[row, col]\n",
        "    sns.boxplot(x='model', y=metric, data=results_df, ax=axes[row, col])\n",
        "    axes[row, col].set_xticklabels(axes[row, col].get_xticklabels(), rotation=45)\n",
        "    ax.set_title(metric)\n",
        "    ax.set_xlabel('Modelo')\n",
        "    ax.set_ylabel(metric)\n",
        "\n",
        "  plt.tight_layout()\n",
        "  plt.show()\n",
        "\n",
        "  # Generar heatmap de correlaciones entre métricas\n",
        "  correlation_matrix = results_df[metrics].corr()\n",
        "  plt.figure(figsize=(12, 8))\n",
        "  sns.heatmap(correlation_matrix, annot=True, cmap='coolwarm', center=0)\n",
        "  plt.title('Correlación entre Métricas')\n",
        "  plt.tight_layout()\n",
        "  plt.show()\n",
        "\n",
        "  # Grafico de radar para comparar modelos\n",
        "    # Calcular promedios de las metricas normalizados\n",
        "  avg_metrics = results_df.groupby('model')[metrics].mean()\n",
        "  normalized_metrics = (avg_metrics - avg_metrics.min()) / (avg_metrics.max() - avg_metrics.min())\n",
        "\n",
        "    # Configuramos grafico de radar: https://plotly.com/python/radar-chart/\n",
        "  fig, ax = plt.subplots(figsize=(10, 10), subplot_kw=dict(polar=True))\n",
        "  angles = np.linspace(0, 2 * np.pi, len(metrics), endpoint=False)\n",
        "  angles = np.concatenate((angles, [angles[0]]))\n",
        "\n",
        "    # Graficamos las metricas\n",
        "  for model in normalized_metrics.index:\n",
        "    values = np.concatenate((normalized_metrics.loc[model], [normalized_metrics.loc[model][0]]))\n",
        "    ax.plot(angles, values, 'o-', linewidth=2, label=model)\n",
        "    ax.fill(angles, values, alpha=0.25)\n",
        "\n",
        "    # Configuramos etiquetas\n",
        "  ax.set_xticks(angles[:-1], metrics)\n",
        "  ax.set_ylim(0, 1)\n",
        "  plt.legend(loc='best', bbox_to_anchor=(0.5, -0.05))\n",
        "  plt.title('Comparación de Métodos según Métricas Normalizadas')\n",
        "  # plt.tight_layout()\n",
        "  plt.show()"
      ]
    },
    {
      "cell_type": "markdown",
      "metadata": {
        "id": "LKEERnLFOiKx"
      },
      "source": [
        "### Generar Análisis Estadístico de Significancia\n",
        "Realiza un análisis estadístico de las diferencias entre modelos, incluyendo:\n",
        "1. Media y desviación estándar por modelo.\n",
        "2. Test ANOVA para evaluar la significancia estadística\n",
        "3. Correlaciones entre las métricas\n"
      ]
    },
    {
      "cell_type": "code",
      "execution_count": null,
      "metadata": {
        "id": "IKD6N9-KO6ZR"
      },
      "outputs": [],
      "source": [
        "from scipy import stats\n",
        "\n",
        "def analyze_significance(results_df):\n",
        "  metrics = ['MAP', 'nDCG', 'Precision', 'Recall', 'User_Diversity', 'Long_Tail', 'Shannon_Entropy', 'Intra_List_Diversity', 'Diversity_Coverage', 'Inverse_Propensity_Score']\n",
        "  # Calcular promedios de las metricas\n",
        "  avg_metrics = results_df.groupby('model').mean()\n",
        "  print(\"Promedios de Métricas por modelo:\")\n",
        "  print(avg_metrics.round(4))\n",
        "\n",
        "  # Calcular desviaciones estandar\n",
        "  std_metrics = results_df.groupby('model').std()\n",
        "  print(\"Desviaciones estandar de Métricas por modelo:\")\n",
        "  print(std_metrics.round(4))\n",
        "\n",
        "  # Calcular Test de ANOVA\n",
        "  # Generamos grupos de comparacion segun modelos\n",
        "  anova_results = {}\n",
        "  for metric in metrics:\n",
        "    groups = [group for _, group in results_df.groupby('model')[metric]]\n",
        "    f_value, p_value = stats.f_oneway(*groups)\n",
        "    anova_results[metric] = {'Estadistico-F': f_value, 'Valor-P': p_value}\n",
        "\n",
        "  # Creo un dataframe con los resultados\n",
        "  anova_df = pd.DataFrame(anova_results).T\n",
        "  print(\"Resultados ANOVA:\")\n",
        "  print(anova_df.round(4))\n"
      ]
    },
    {
      "cell_type": "markdown",
      "metadata": {
        "id": "4fKTMoDKKySz"
      },
      "source": [
        "## Generar Resultados Finales"
      ]
    },
    {
      "cell_type": "code",
      "execution_count": null,
      "metadata": {
        "id": "QriJxcsrJaPW"
      },
      "outputs": [],
      "source": [
        "def analyze_global_metrics(results_df):\n",
        "  # Preparar e imprimir las visualizaciones usando nuestra funcion\n",
        "  visualize_global_metrics(results_df)\n",
        "\n",
        "  # Analisis estadistico usando nuestra funcion\n",
        "  analyze_significance(results_df)"
      ]
    },
    {
      "cell_type": "markdown",
      "metadata": {
        "id": "jB8s_k35QMed"
      },
      "source": [
        "### **FALTA POR IMPLEMENTAR**: Testeo de Parámetros para Ejecución Global\n",
        "Queda ejecutado con parámetros:\n",
        "- top_n = 10\n",
        "- k = 5\n",
        "- alpha_hybrid=0.5\n",
        "- beta_lt=0.4\n",
        "- lambda_ips=0.5\n"
      ]
    },
    {
      "cell_type": "code",
      "execution_count": null,
      "metadata": {
        "id": "GbDirXKWRmat"
      },
      "outputs": [],
      "source": [
        "# Obtener dataframe de resultados\n",
        "results_df = global_metrics(data_movie_test, data_movie_train, 10, 5, alpha_hybrid=0.5, beta_lt=0.4, lambda_ips=0.5)\n",
        "\n",
        "# Analisis estadistico usando nuestra funcion\n",
        "analyze_global_metrics(results_df)\n",
        "\n",
        "# Guardar dataframe de resultados\n",
        "results_df.to_csv('global_metrics_results.csv', index=False)\n",
        "print(\"DataFrame de resultados guardado en 'global_metrics_results.csv'\")"
      ]
    },
    {
      "cell_type": "markdown",
      "metadata": {
        "id": "DCcyp5g0fQeL"
      },
      "source": [
        "Graficar ahora con distintos `top_n`para ver como se comportan las metricas de los distintos modelos."
      ]
    },
    {
      "cell_type": "code",
      "execution_count": null,
      "metadata": {
        "id": "leb3IjW-orbg"
      },
      "outputs": [],
      "source": [
        "# Actualización de los modelos\n",
        "models = ['most_popular', 'iknn', 'hybrid', 'random']\n",
        "metrics = ['MAP', 'nDCG', 'Precision', 'Recall', 'User_Diversity', 'Long_Tail', 'Shannon_Entropy',\n",
        "           'Intra_List_Diversity', 'Diversity_Coverage', 'Inverse_Propensity_Score']\n",
        "top_n_list = [5, 10, 15, 20, 25]\n",
        "k_category_list = [3, 5, 7]\n",
        "\n",
        "# Crear datos simulados nuevamente para incluir los modelos actualizados\n",
        "data = []\n",
        "for model in models:\n",
        "    for k in k_category_list:\n",
        "        for top_n in top_n_list:\n",
        "            values = np.random.rand(len(metrics))\n",
        "            data.append([model, k, top_n] + list(values))\n",
        "\n",
        "# Crear DataFrame actualizado\n",
        "columns = ['model', 'k', 'top_n'] + metrics\n",
        "df = pd.DataFrame(data, columns=columns)\n",
        "\n",
        "# Crear figura con filas como k y columnas como métricas\n",
        "fig, axes = plt.subplots(len(k_category_list), len(metrics), figsize=(40, 12), sharex=True, sharey=False)\n",
        "fig.suptitle(\"Metrics across Top N values for different k\", fontsize=16)\n",
        "\n",
        "for i, k in enumerate(k_category_list):\n",
        "    df_k = df[df['k'] == k]  # Filtrar por k\n",
        "\n",
        "    for j, metric in enumerate(metrics):\n",
        "        ax = axes[i, j]\n",
        "        for model in models:\n",
        "            df_model = df_k[df_k['model'] == model]\n",
        "            ax.plot(df_model['top_n'], df_model[metric], label=model, marker='o')\n",
        "\n",
        "        if i == 0:  # Títulos de las columnas (métricas)\n",
        "            ax.set_title(metric)\n",
        "\n",
        "        if j == 0:  # Etiquetas para cada fila (k)\n",
        "            ax.set_ylabel(f\"k={k}\")\n",
        "\n",
        "        ax.grid(True)\n",
        "        if i == len(k_category_list) - 1:  # Etiqueta del eje X solo en la última fila\n",
        "            ax.set_xlabel(\"Top N\")\n",
        "\n",
        "        if i == 0 and j == len(metrics) - 1:  # Solo una vez, agregar leyenda\n",
        "            ax.legend(loc='upper right', fontsize=8)\n",
        "\n",
        "plt.tight_layout()\n",
        "plt.show()\n"
      ]
    },
    {
      "cell_type": "code",
      "source": [
        "# Cálculo de diversity_scores\n",
        "diversity_scores = {}\n",
        "\n",
        "# Lista de top_n a evaluar\n",
        "top_n_list = [5, 10, 20]\n",
        "\n",
        "# Obtener todos los modelos únicos\n",
        "models = ['most_popular', 'iknn', 'deepfm', 'fastfm', 'hybrid', 'random']\n",
        "\n",
        "for model in models:\n",
        "    scores = []\n",
        "    for top_n in top_n_list:\n",
        "        # Recalcular resultados para este top_n específico\n",
        "        results = global_metrics(data_music_test, data_music_train, top_n, k=5)\n",
        "        score = results[results['model'] == model]['User_Diversity'].mean()\n",
        "        scores.append(score)\n",
        "    diversity_scores[model] = scores\n"
      ],
      "metadata": {
        "id": "LN8dbSiHqgrG"
      },
      "execution_count": null,
      "outputs": []
    },
    {
      "cell_type": "code",
      "source": [
        "import matplotlib.pyplot as plt\n",
        "import numpy as np\n",
        "\n",
        "# Configurar el tamaño de la figura\n",
        "plt.figure(figsize=(15, 8))\n",
        "\n",
        "# Definir colores para cada modelo\n",
        "colors = {\n",
        "    'hybrid': '#2355a2',       # Azul oscuro\n",
        "    'iknn': '#4ba3c7',         # Verde azulado\n",
        "    'deepfm': '#a9cce3',       # Celeste claro\n",
        "    'fastfm': '#7491bd',       # Azul grisáceo\n",
        "    'most_popular': '#f8b195', # Naranja pastel\n",
        "    'random': '#ff9aa2'        # Coral suave\n",
        "}\n",
        "\n",
        "# Configurar las posiciones de las barras\n",
        "bar_width = 0.15\n",
        "r = np.arange(len(top_n_list))\n",
        "\n",
        "# Crear barras para cada modelo\n",
        "for i, model in enumerate(models):\n",
        "    # Obtener los valores precalculados de diversity_scores\n",
        "    scores = diversity_scores[model]\n",
        "\n",
        "    # Posición de las barras para este modelo\n",
        "    bar_positions = r + bar_width * i\n",
        "\n",
        "    # Crear las barras\n",
        "    bars = plt.bar(bar_positions, scores,\n",
        "                   width=bar_width,\n",
        "                   color=colors.get(model, '#CCCCCC'),\n",
        "                   label=model)\n",
        "\n",
        "    # Añadir valores sobre las barras\n",
        "    for idx, bar in enumerate(bars):\n",
        "        height = bar.get_height()\n",
        "        plt.text(bar.get_x() + bar_width/2., height + 0.01,\n",
        "                 f'{height:.2f}',\n",
        "                 ha='center', va='bottom',\n",
        "                 rotation=90)\n",
        "\n",
        "# Personalizar el gráfico\n",
        "plt.title('Comparación de User Diversity entre Modelos para diferentes Top N en la Música', fontsize=14, pad=20)\n",
        "plt.xlabel('Top N', fontsize=12)\n",
        "plt.ylabel('User Diversity Score', fontsize=12)\n",
        "plt.grid(True, linestyle='--', alpha=0.7, axis='y')\n",
        "\n",
        "# Ajustar las etiquetas del eje x\n",
        "plt.xticks(r + bar_width * (len(models) - 1) / 2, top_n_list)\n",
        "\n",
        "# Añadir leyenda\n",
        "plt.legend(title='Modelos', bbox_to_anchor=(1.05, 1), loc='upper left')\n",
        "\n",
        "# Ajustar los márgenes\n",
        "plt.tight_layout()\n",
        "\n",
        "plt.show()"
      ],
      "metadata": {
        "id": "N7wg69cFqccO"
      },
      "execution_count": null,
      "outputs": []
    },
    {
      "cell_type": "code",
      "source": [
        "# Inicializar una lista para almacenar resultados de deepfm\n",
        "results_deepfm = []\n",
        "\n",
        "# Valores de N para evaluar\n",
        "top_n_values = [5, 10, 15, 20, 25, 30]\n",
        "\n",
        "# Recolectar métricas para cada valor de N\n",
        "for n in top_n_values:\n",
        "    metric_results_deepfm = deepfm_metrics(\n",
        "        data_movie_test,\n",
        "        data_movie_train,\n",
        "        n, 5,\n",
        "        beta_lt=0.4,\n",
        "        lambda_ips=0.5\n",
        "    )\n",
        "    metric_results_deepfm['N'] = n  # Agregar el valor de N\n",
        "    results_deepfm.append(metric_results_deepfm)\n",
        "\n",
        "# Convertir los resultados en un DataFrame para facilitar la visualización\n",
        "results_deepfm_df = pd.DataFrame(results_deepfm)"
      ],
      "metadata": {
        "id": "7OuY_-JSqmfQ"
      },
      "execution_count": null,
      "outputs": []
    },
    {
      "cell_type": "code",
      "source": [
        "# Métricas de diversidad a graficar para deepfm\n",
        "metrics_to_plot = [\n",
        "    \"User_Diversity\", \"Long_Tail\", \"Shannon_Entropy\",\n",
        "    \"Intra_List_Diversity\", \"Diversity_Coverage\", \"MAP\",\n",
        "    \"nDCG\", \"Precision\", \"Recall\"\n",
        "]\n",
        "\n",
        "# Configurar el gráfico\n",
        "plt.figure(figsize=(10, 6))\n",
        "\n",
        "# Graficar cada métrica\n",
        "for metric in metrics_to_plot:\n",
        "    plt.plot(results_deepfm_df['N'], results_deepfm_df[metric], label=metric)\n",
        "\n",
        "# Configurar título, etiquetas y leyenda\n",
        "plt.title(\"Métricas de Diversidad del Modelo DeepFM en la Música\")\n",
        "plt.xlabel(\"N (Top-N Recomendaciones)\")\n",
        "plt.ylabel(\"Valor de la Métrica\")\n",
        "plt.legend(\n",
        "    loc=\"upper left\",            # Posición base dentro del gráfico\n",
        "    bbox_to_anchor=(1.05, 1),    # Ajuste para colocarla fuera, en la esquina superior derecha\n",
        "    fontsize=10,                 # Tamaño de la fuente\n",
        "    borderaxespad=0              # Reducir espacio entre la leyenda y el gráfico\n",
        ")\n",
        "plt.grid()\n",
        "plt.show()"
      ],
      "metadata": {
        "id": "7qrOPEmZqqxu"
      },
      "execution_count": null,
      "outputs": []
    },
    {
      "cell_type": "code",
      "source": [
        "# Inicializar una lista para almacenar resultados de iknn\n",
        "results_iknn = []\n",
        "\n",
        "# Valores de N para evaluar\n",
        "top_n_values = [5, 10, 15, 20, 25, 30]\n",
        "\n",
        "# Recolectar métricas para cada valor de N\n",
        "for n in top_n_values:\n",
        "    metric_results_iknn = IKNN_metrics(\n",
        "        data_movie_test,\n",
        "        data_movie_train,\n",
        "        n, 5,\n",
        "        beta_lt=0.4,\n",
        "        lambda_ips=0.5\n",
        "    )\n",
        "    metric_results_iknn['N'] = n  # Agregar el valor de N\n",
        "    results_iknn.append(metric_results_iknn)\n",
        "\n",
        "# Convertir los resultados en un DataFrame para facilitar la visualización\n",
        "results_iknn_df = pd.DataFrame(results_iknn)"
      ],
      "metadata": {
        "id": "xfZwbVwBeEjP"
      },
      "execution_count": 64,
      "outputs": []
    },
    {
      "cell_type": "code",
      "source": [
        "import matplotlib.pyplot as plt\n",
        "\n",
        "# Métricas de diversidad a graficar para iknn\n",
        "metrics_to_plot = [\n",
        "    \"User_Diversity\", \"Long_Tail\", \"Shannon_Entropy\",\n",
        "    \"Intra_List_Diversity\", \"Diversity_Coverage\", \"MAP\",\n",
        "    \"nDCG\", \"Precision\", \"Recall\"\n",
        "]\n",
        "\n",
        "# Configurar el gráfico\n",
        "plt.figure(figsize=(10, 6))\n",
        "\n",
        "# Graficar cada métrica\n",
        "for metric in metrics_to_plot:\n",
        "    plt.plot(results_iknn_df['N'], results_iknn_df[metric], label=metric)\n",
        "\n",
        "# Configurar título, etiquetas y leyenda\n",
        "plt.title(\"Métricas de Diversidad del Modelo IKNN en la Música\")\n",
        "plt.xlabel(\"N (Top-N Recomendaciones)\")\n",
        "plt.ylabel(\"Valor de la Métrica\")\n",
        "plt.legend(\n",
        "    loc=\"upper left\",            # Posición base dentro del gráfico\n",
        "    bbox_to_anchor=(1.05, 1),    # Ajuste para colocarla fuera, en la esquina superior derecha\n",
        "    fontsize=10,                 # Tamaño de la fuente\n",
        "    borderaxespad=0              # Reducir espacio entre la leyenda y el gráfico\n",
        ")\n",
        "plt.grid()\n",
        "plt.show()"
      ],
      "metadata": {
        "colab": {
          "base_uri": "https://localhost:8080/",
          "height": 481
        },
        "id": "sbBwm7vWeYlO",
        "outputId": "dc3c5414-97aa-42e0-d3d8-234019609560"
      },
      "execution_count": 66,
      "outputs": [
        {
          "output_type": "display_data",
          "data": {
            "text/plain": [
              "<Figure size 1000x600 with 1 Axes>"
            ],
            "image/png": "[encoded data removed]"
          },
          "metadata": {}
        }
      ]
    },
    {
      "cell_type": "code",
      "source": [
        "import matplotlib.pyplot as plt\n",
        "\n",
        "# Métricas de diversidad a graficar para iknn\n",
        "metrics_to_plot = [\n",
        "    \"User_Diversity\", \"Long_Tail\", \"Shannon_Entropy\",\n",
        "    \"Intra_List_Diversity\", \"Diversity_Coverage\"\n",
        "]\n",
        "\n",
        "# Configurar el gráfico\n",
        "plt.figure(figsize=(10, 6))\n",
        "\n",
        "# Graficar cada métrica\n",
        "for metric in metrics_to_plot:\n",
        "    plt.plot(results_iknn_df['N'], results_iknn_df[metric], label=metric)\n",
        "\n",
        "# Configurar título, etiquetas y leyenda\n",
        "plt.title(\"Métricas de Diversidad del Modelo IKNN en la Música\")\n",
        "plt.xlabel(\"N (Top-N Recomendaciones)\")\n",
        "plt.ylabel(\"Valor de la Métrica\")\n",
        "plt.legend(\n",
        "    loc=\"upper left\",            # Posición base dentro del gráfico\n",
        "    bbox_to_anchor=(1.05, 1),    # Ajuste para colocarla fuera, en la esquina superior derecha\n",
        "    fontsize=10,                 # Tamaño de la fuente\n",
        "    borderaxespad=0              # Reducir espacio entre la leyenda y el gráfico\n",
        ")\n",
        "plt.grid()\n",
        "plt.show()"
      ],
      "metadata": {
        "id": "Ot8Wf-PfhS_i",
        "outputId": "6cb20ca3-a226-476c-c1f9-e40d6d3b965a",
        "colab": {
          "base_uri": "https://localhost:8080/",
          "height": 481
        }
      },
      "execution_count": 67,
      "outputs": [
        {
          "output_type": "display_data",
          "data": {
            "text/plain": [
              "<Figure size 1000x600 with 1 Axes>"
            ],
            "image/png": "[encoded data removed]"
          },
          "metadata": {}
        }
      ]
    }
  ],
  "metadata": {
    "colab": {
      "provenance": [],
      "include_colab_link": true
    },
    "kernelspec": {
      "display_name": "Python 3",
      "name": "python3"
    },
    "language_info": {
      "codemirror_mode": {
        "name": "ipython",
        "version": 3
      },
      "file_extension": ".py",
      "mimetype": "text/x-python",
      "name": "python",
      "nbconvert_exporter": "python",
      "pygments_lexer": "ipython3",
      "version": "3.13.0"
    }
  },
  "nbformat": 4,
  "nbformat_minor": 0
}