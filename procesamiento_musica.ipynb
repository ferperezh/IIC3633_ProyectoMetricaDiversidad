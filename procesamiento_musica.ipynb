{
  "nbformat": 4,
  "nbformat_minor": 0,
  "metadata": {
    "colab": {
      "provenance": [],
      "authorship_tag": "ABX9TyOblBeGJ/pG+dCiYevg2K/z",
      "include_colab_link": true
    },
    "kernelspec": {
      "name": "python3",
      "display_name": "Python 3"
    },
    "language_info": {
      "name": "python"
    }
  },
  "cells": [
    {
      "cell_type": "markdown",
      "metadata": {
        "id": "view-in-github",
        "colab_type": "text"
      },
      "source": [
        "<a href=\"https://colab.research.google.com/github/ferperezh/IIC3633_ProyectoMetricaDiversidad/blob/main/procesamiento_musica.ipynb\" target=\"_parent\"><img src=\"https://colab.research.google.com/assets/colab-badge.svg\" alt=\"Open In Colab\"/></a>"
      ]
    },
    {
      "cell_type": "code",
      "source": [
        "# Crear el directorio .kaggle en Colab\n",
        "!mkdir -p ~/.kaggle\n",
        "\n",
        "# Mover el archivo kaggle.json al directorio .kaggle\n",
        "!cp kaggle.json ~/.kaggle/\n",
        "\n",
        "# Cambiar los permisos del archivo kaggle.json para asegurar privacidad\n",
        "!chmod 600 ~/.kaggle/kaggle.json\n"
      ],
      "metadata": {
        "id": "8q2wqXxVZmcz"
      },
      "execution_count": 2,
      "outputs": []
    },
    {
      "cell_type": "code",
      "source": [
        "!pip install kaggle"
      ],
      "metadata": {
        "colab": {
          "base_uri": "https://localhost:8080/"
        },
        "id": "M3dUC6p0ZpJ8",
        "outputId": "7963490e-30b7-41cc-9c48-e828f3897672"
      },
      "execution_count": 3,
      "outputs": [
        {
          "output_type": "stream",
          "name": "stdout",
          "text": [
            "Requirement already satisfied: kaggle in /usr/local/lib/python3.10/dist-packages (1.6.17)\n",
            "Requirement already satisfied: six>=1.10 in /usr/local/lib/python3.10/dist-packages (from kaggle) (1.16.0)\n",
            "Requirement already satisfied: certifi>=2023.7.22 in /usr/local/lib/python3.10/dist-packages (from kaggle) (2024.8.30)\n",
            "Requirement already satisfied: python-dateutil in /usr/local/lib/python3.10/dist-packages (from kaggle) (2.8.2)\n",
            "Requirement already satisfied: requests in /usr/local/lib/python3.10/dist-packages (from kaggle) (2.32.3)\n",
            "Requirement already satisfied: tqdm in /usr/local/lib/python3.10/dist-packages (from kaggle) (4.66.6)\n",
            "Requirement already satisfied: python-slugify in /usr/local/lib/python3.10/dist-packages (from kaggle) (8.0.4)\n",
            "Requirement already satisfied: urllib3 in /usr/local/lib/python3.10/dist-packages (from kaggle) (2.2.3)\n",
            "Requirement already satisfied: bleach in /usr/local/lib/python3.10/dist-packages (from kaggle) (6.2.0)\n",
            "Requirement already satisfied: webencodings in /usr/local/lib/python3.10/dist-packages (from bleach->kaggle) (0.5.1)\n",
            "Requirement already satisfied: text-unidecode>=1.3 in /usr/local/lib/python3.10/dist-packages (from python-slugify->kaggle) (1.3)\n",
            "Requirement already satisfied: charset-normalizer<4,>=2 in /usr/local/lib/python3.10/dist-packages (from requests->kaggle) (3.4.0)\n",
            "Requirement already satisfied: idna<4,>=2.5 in /usr/local/lib/python3.10/dist-packages (from requests->kaggle) (3.10)\n"
          ]
        }
      ]
    },
    {
      "cell_type": "code",
      "source": [
        "# Descargar el dataset\n",
        "!kaggle datasets download -d saurabhshahane/music-dataset-1950-to-2019\n",
        "\n",
        "# Descomprimir el archivo zip descargado\n",
        "import zipfile\n",
        "with zipfile.ZipFile(\"music-dataset-1950-to-2019.zip\", 'r') as zip_ref:\n",
        "    zip_ref.extractall(\"music_dataset\")\n",
        "\n",
        "print(\"Path to dataset files: music_dataset\")\n"
      ],
      "metadata": {
        "colab": {
          "base_uri": "https://localhost:8080/"
        },
        "id": "reLebjuPZw1q",
        "outputId": "98cfe736-ccb5-4992-e4ec-dbf11d7a40ce"
      },
      "execution_count": 4,
      "outputs": [
        {
          "output_type": "stream",
          "name": "stdout",
          "text": [
            "Dataset URL: https://www.kaggle.com/datasets/saurabhshahane/music-dataset-1950-to-2019\n",
            "License(s): Attribution 4.0 International (CC BY 4.0)\n",
            "Downloading music-dataset-1950-to-2019.zip to /content\n",
            " 82% 8.00M/9.73M [00:01<00:00, 12.7MB/s]\n",
            "100% 9.73M/9.73M [00:01<00:00, 8.95MB/s]\n",
            "Path to dataset files: music_dataset\n"
          ]
        }
      ]
    },
    {
      "cell_type": "code",
      "source": [
        "# Verificar archivos en el directorio\n",
        "!ls music_dataset\n"
      ],
      "metadata": {
        "colab": {
          "base_uri": "https://localhost:8080/"
        },
        "id": "lGCR4FmUZ1ib",
        "outputId": "b4c76c33-7bce-465c-d629-0b90ebea669f"
      },
      "execution_count": 5,
      "outputs": [
        {
          "output_type": "stream",
          "name": "stdout",
          "text": [
            "tcc_ceds_music.csv\n"
          ]
        }
      ]
    },
    {
      "cell_type": "code",
      "source": [
        "# Descargar el dataset de Last.fm\n",
        "!kaggle datasets download -d harshal19t/lastfm-dataset\n",
        "\n",
        "# Descomprimir el archivo zip descargado\n",
        "import zipfile\n",
        "with zipfile.ZipFile(\"lastfm-dataset.zip\", 'r') as zip_ref:\n",
        "    zip_ref.extractall(\"lastfm_dataset\")\n",
        "\n",
        "print(\"Path to dataset files: lastfm_dataset\")\n"
      ],
      "metadata": {
        "colab": {
          "base_uri": "https://localhost:8080/"
        },
        "id": "2Xcto8WbakLk",
        "outputId": "64c45f16-2d06-4676-f819-d088fcef7546"
      },
      "execution_count": 6,
      "outputs": [
        {
          "output_type": "stream",
          "name": "stdout",
          "text": [
            "Dataset URL: https://www.kaggle.com/datasets/harshal19t/lastfm-dataset\n",
            "License(s): copyright-authors\n",
            "Downloading lastfm-dataset.zip to /content\n",
            "100% 3.93M/3.93M [00:00<00:00, 5.91MB/s]\n",
            "100% 3.93M/3.93M [00:00<00:00, 4.33MB/s]\n",
            "Path to dataset files: lastfm_dataset\n"
          ]
        }
      ]
    },
    {
      "cell_type": "code",
      "source": [
        "!ls lastfm_dataset\n"
      ],
      "metadata": {
        "colab": {
          "base_uri": "https://localhost:8080/"
        },
        "id": "Bomes_aoap_b",
        "outputId": "0b977b43-fc9d-45a9-c6ab-732b90017a39"
      },
      "execution_count": 7,
      "outputs": [
        {
          "output_type": "stream",
          "name": "stdout",
          "text": [
            "Last.fm_data.csv\n"
          ]
        }
      ]
    }
  ]
}